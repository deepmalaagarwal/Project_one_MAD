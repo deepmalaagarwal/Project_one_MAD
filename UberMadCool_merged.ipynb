{
 "cells": [
  {
   "cell_type": "code",
   "execution_count": 2,
   "metadata": {},
   "outputs": [
    {
     "ename": "ModuleNotFoundError",
     "evalue": "No module named 'citipy'",
     "output_type": "error",
     "traceback": [
      "\u001b[0;31m---------------------------------------------------------------------------\u001b[0m",
      "\u001b[0;31mModuleNotFoundError\u001b[0m                       Traceback (most recent call last)",
      "\u001b[0;32m<ipython-input-2-8517d6868523>\u001b[0m in \u001b[0;36m<module>\u001b[0;34m\u001b[0m\n\u001b[1;32m     11\u001b[0m \u001b[0;32mfrom\u001b[0m \u001b[0msklearn\u001b[0m \u001b[0;32mimport\u001b[0m \u001b[0mdatasets\u001b[0m\u001b[0;34m\u001b[0m\u001b[0;34m\u001b[0m\u001b[0m\n\u001b[1;32m     12\u001b[0m \u001b[0;32mfrom\u001b[0m \u001b[0mscipy\u001b[0m\u001b[0;34m.\u001b[0m\u001b[0mstats\u001b[0m \u001b[0;32mimport\u001b[0m \u001b[0mlinregress\u001b[0m\u001b[0;34m\u001b[0m\u001b[0;34m\u001b[0m\u001b[0m\n\u001b[0;32m---> 13\u001b[0;31m \u001b[0;32mfrom\u001b[0m \u001b[0mcitipy\u001b[0m \u001b[0;32mimport\u001b[0m \u001b[0mcitipy\u001b[0m\u001b[0;34m\u001b[0m\u001b[0;34m\u001b[0m\u001b[0m\n\u001b[0m\u001b[1;32m     14\u001b[0m \u001b[0;34m\u001b[0m\u001b[0m\n\u001b[1;32m     15\u001b[0m \u001b[0;34m\u001b[0m\u001b[0m\n",
      "\u001b[0;31mModuleNotFoundError\u001b[0m: No module named 'citipy'"
     ]
    }
   ],
   "source": [
    "# Import dependencies\n",
    "import pandas as pd\n",
    "import numpy as np # linear algebra\n",
    "\n",
    "import matplotlib.pyplot as plt\n",
    "from builtins import list\n",
    "import matplotlib\n",
    "matplotlib.style.use('ggplot')\n",
    "import scipy.stats as st\n",
    "import datetime\n",
    "from sklearn import datasets\n",
    "from scipy.stats import linregress\n",
    "from citipy import citipy\n",
    "\n",
    "\n",
    "%matplotlib inline"
   ]
  },
  {
   "cell_type": "code",
   "execution_count": 3,
   "metadata": {},
   "outputs": [
    {
     "data": {
      "text/html": [
       "<div>\n",
       "<style scoped>\n",
       "    .dataframe tbody tr th:only-of-type {\n",
       "        vertical-align: middle;\n",
       "    }\n",
       "\n",
       "    .dataframe tbody tr th {\n",
       "        vertical-align: top;\n",
       "    }\n",
       "\n",
       "    .dataframe thead th {\n",
       "        text-align: right;\n",
       "    }\n",
       "</style>\n",
       "<table border=\"1\" class=\"dataframe\">\n",
       "  <thead>\n",
       "    <tr style=\"text-align: right;\">\n",
       "      <th></th>\n",
       "      <th>trip_completed_at</th>\n",
       "      <th>trip_status</th>\n",
       "      <th>ride_hailing_app</th>\n",
       "      <th>trip_uid</th>\n",
       "      <th>driver_uid</th>\n",
       "      <th>rider_uid</th>\n",
       "      <th>customer</th>\n",
       "      <th>trip_start_time</th>\n",
       "      <th>trip_end_time</th>\n",
       "      <th>trip_time</th>\n",
       "      <th>...</th>\n",
       "      <th>distance_kms</th>\n",
       "      <th>temperature_time</th>\n",
       "      <th>temperature_value</th>\n",
       "      <th>feels_like</th>\n",
       "      <th>humidity</th>\n",
       "      <th>wind_speed</th>\n",
       "      <th>cloudness</th>\n",
       "      <th>weather_main</th>\n",
       "      <th>weather_desc</th>\n",
       "      <th>precipitation</th>\n",
       "    </tr>\n",
       "  </thead>\n",
       "  <tbody>\n",
       "    <tr>\n",
       "      <th>0</th>\n",
       "      <td>May 11, 2015 at 6:55PM</td>\n",
       "      <td>Completed</td>\n",
       "      <td>Uber</td>\n",
       "      <td>ee89076fd9da9bddf5f096b0ca42f8d5</td>\n",
       "      <td>05cfeb269e606247fe9d2b6082942c59</td>\n",
       "      <td>3ffa4a71a5aa791a8bc3409f5b15b936</td>\n",
       "      <td>stantyan</td>\n",
       "      <td>2015-05-11 17:26:00</td>\n",
       "      <td>2015-05-11 17:55:00</td>\n",
       "      <td>00:21:33</td>\n",
       "      <td>...</td>\n",
       "      <td>9.29</td>\n",
       "      <td>2015-05-11T17:26:00</td>\n",
       "      <td>12</td>\n",
       "      <td>12</td>\n",
       "      <td>0.69</td>\n",
       "      <td>4.81</td>\n",
       "      <td>0.78</td>\n",
       "      <td>partly-cloudy-day</td>\n",
       "      <td>Mostly Cloudy</td>\n",
       "      <td>none</td>\n",
       "    </tr>\n",
       "    <tr>\n",
       "      <th>1</th>\n",
       "      <td>May 11, 2015 at 8:12PM</td>\n",
       "      <td>Completed</td>\n",
       "      <td>Uber</td>\n",
       "      <td>518be51d403944a03c47e8d1f2c87311</td>\n",
       "      <td>4a4e248742f9d5ff517c5bbbb48d0e54</td>\n",
       "      <td>3ffa4a71a5aa791a8bc3409f5b15b936</td>\n",
       "      <td>stantyan</td>\n",
       "      <td>2015-05-11 18:46:00</td>\n",
       "      <td>2015-05-11 19:12:00</td>\n",
       "      <td>00:19:27</td>\n",
       "      <td>...</td>\n",
       "      <td>9.93</td>\n",
       "      <td>2015-05-11T18:46:00</td>\n",
       "      <td>10</td>\n",
       "      <td>10</td>\n",
       "      <td>0.70</td>\n",
       "      <td>6.53</td>\n",
       "      <td>0.66</td>\n",
       "      <td>partly-cloudy-day</td>\n",
       "      <td>Mostly Cloudy</td>\n",
       "      <td>none</td>\n",
       "    </tr>\n",
       "    <tr>\n",
       "      <th>2</th>\n",
       "      <td>May 13, 2015 at 11:38AM</td>\n",
       "      <td>Completed</td>\n",
       "      <td>Uber</td>\n",
       "      <td>6e460cc8a12c3c6568d0d4a67ac58393</td>\n",
       "      <td>cb249a2bd807ca78697b4ed0348c37da</td>\n",
       "      <td>3ffa4a71a5aa791a8bc3409f5b15b936</td>\n",
       "      <td>stantyan</td>\n",
       "      <td>2015-05-13 09:15:00</td>\n",
       "      <td>2015-05-13 10:38:00</td>\n",
       "      <td>01:06:53</td>\n",
       "      <td>...</td>\n",
       "      <td>18.01</td>\n",
       "      <td>2015-05-13T09:15:00</td>\n",
       "      <td>14</td>\n",
       "      <td>14</td>\n",
       "      <td>0.61</td>\n",
       "      <td>5.25</td>\n",
       "      <td>0.86</td>\n",
       "      <td>partly-cloudy-day</td>\n",
       "      <td>Mostly Cloudy</td>\n",
       "      <td>none</td>\n",
       "    </tr>\n",
       "    <tr>\n",
       "      <th>3</th>\n",
       "      <td>May 16, 2015 at 1:44AM</td>\n",
       "      <td>Completed</td>\n",
       "      <td>Uber</td>\n",
       "      <td>49613a86a04e6c15d72b51d1a2935d81</td>\n",
       "      <td>d3f73f8151c2e8c34b541f961db7f5fa</td>\n",
       "      <td>3ffa4a71a5aa791a8bc3409f5b15b936</td>\n",
       "      <td>stantyan</td>\n",
       "      <td>2015-05-16 00:24:00</td>\n",
       "      <td>2015-05-16 00:44:00</td>\n",
       "      <td>00:13:37</td>\n",
       "      <td>...</td>\n",
       "      <td>5.10</td>\n",
       "      <td>2015-05-16T00:24:00</td>\n",
       "      <td>3</td>\n",
       "      <td>3</td>\n",
       "      <td>0.84</td>\n",
       "      <td>0.87</td>\n",
       "      <td>0.56</td>\n",
       "      <td>partly-cloudy-night</td>\n",
       "      <td>Partly Cloudy</td>\n",
       "      <td>none</td>\n",
       "    </tr>\n",
       "    <tr>\n",
       "      <th>4</th>\n",
       "      <td>May 16, 2015 at 3:18AM</td>\n",
       "      <td>Completed</td>\n",
       "      <td>Uber</td>\n",
       "      <td>9896148fdecdb4c5d977a8691510bdb6</td>\n",
       "      <td>1287d21e6455ee40d4861f6b91c680f4</td>\n",
       "      <td>3ffa4a71a5aa791a8bc3409f5b15b936</td>\n",
       "      <td>stantyan</td>\n",
       "      <td>2015-05-16 01:29:00</td>\n",
       "      <td>2015-05-16 02:18:00</td>\n",
       "      <td>00:38:54</td>\n",
       "      <td>...</td>\n",
       "      <td>21.92</td>\n",
       "      <td>2015-05-16T01:29:00</td>\n",
       "      <td>3</td>\n",
       "      <td>1</td>\n",
       "      <td>0.90</td>\n",
       "      <td>1.61</td>\n",
       "      <td>0.31</td>\n",
       "      <td>partly-cloudy-night</td>\n",
       "      <td>Partly Cloudy</td>\n",
       "      <td>none</td>\n",
       "    </tr>\n",
       "  </tbody>\n",
       "</table>\n",
       "<p>5 rows × 45 columns</p>\n",
       "</div>"
      ],
      "text/plain": [
       "         trip_completed_at trip_status ride_hailing_app  \\\n",
       "0   May 11, 2015 at 6:55PM   Completed             Uber   \n",
       "1   May 11, 2015 at 8:12PM   Completed             Uber   \n",
       "2  May 13, 2015 at 11:38AM   Completed             Uber   \n",
       "3   May 16, 2015 at 1:44AM   Completed             Uber   \n",
       "4   May 16, 2015 at 3:18AM   Completed             Uber   \n",
       "\n",
       "                           trip_uid                        driver_uid  \\\n",
       "0  ee89076fd9da9bddf5f096b0ca42f8d5  05cfeb269e606247fe9d2b6082942c59   \n",
       "1  518be51d403944a03c47e8d1f2c87311  4a4e248742f9d5ff517c5bbbb48d0e54   \n",
       "2  6e460cc8a12c3c6568d0d4a67ac58393  cb249a2bd807ca78697b4ed0348c37da   \n",
       "3  49613a86a04e6c15d72b51d1a2935d81  d3f73f8151c2e8c34b541f961db7f5fa   \n",
       "4  9896148fdecdb4c5d977a8691510bdb6  1287d21e6455ee40d4861f6b91c680f4   \n",
       "\n",
       "                          rider_uid  customer      trip_start_time  \\\n",
       "0  3ffa4a71a5aa791a8bc3409f5b15b936  stantyan  2015-05-11 17:26:00   \n",
       "1  3ffa4a71a5aa791a8bc3409f5b15b936  stantyan  2015-05-11 18:46:00   \n",
       "2  3ffa4a71a5aa791a8bc3409f5b15b936  stantyan  2015-05-13 09:15:00   \n",
       "3  3ffa4a71a5aa791a8bc3409f5b15b936  stantyan  2015-05-16 00:24:00   \n",
       "4  3ffa4a71a5aa791a8bc3409f5b15b936  stantyan  2015-05-16 01:29:00   \n",
       "\n",
       "         trip_end_time trip_time  ... distance_kms     temperature_time  \\\n",
       "0  2015-05-11 17:55:00  00:21:33  ...         9.29  2015-05-11T17:26:00   \n",
       "1  2015-05-11 19:12:00  00:19:27  ...         9.93  2015-05-11T18:46:00   \n",
       "2  2015-05-13 10:38:00  01:06:53  ...        18.01  2015-05-13T09:15:00   \n",
       "3  2015-05-16 00:44:00  00:13:37  ...         5.10  2015-05-16T00:24:00   \n",
       "4  2015-05-16 02:18:00  00:38:54  ...        21.92  2015-05-16T01:29:00   \n",
       "\n",
       "  temperature_value  feels_like humidity wind_speed cloudness  \\\n",
       "0                12          12     0.69       4.81      0.78   \n",
       "1                10          10     0.70       6.53      0.66   \n",
       "2                14          14     0.61       5.25      0.86   \n",
       "3                 3           3     0.84       0.87      0.56   \n",
       "4                 3           1     0.90       1.61      0.31   \n",
       "\n",
       "          weather_main   weather_desc precipitation  \n",
       "0    partly-cloudy-day  Mostly Cloudy          none  \n",
       "1    partly-cloudy-day  Mostly Cloudy          none  \n",
       "2    partly-cloudy-day  Mostly Cloudy          none  \n",
       "3  partly-cloudy-night  Partly Cloudy          none  \n",
       "4  partly-cloudy-night  Partly Cloudy          none  \n",
       "\n",
       "[5 rows x 45 columns]"
      ]
     },
     "execution_count": 3,
     "metadata": {},
     "output_type": "execute_result"
    }
   ],
   "source": [
    "uber_csv = \"Resources/uber-rides-dataset.csv\"\n",
    "uber_df = pd.read_csv(uber_csv)\n",
    "uber_df.head()"
   ]
  },
  {
   "cell_type": "code",
   "execution_count": 4,
   "metadata": {},
   "outputs": [
    {
     "data": {
      "text/plain": [
       "Index(['trip_completed_at', 'trip_status', 'ride_hailing_app', 'trip_uid',\n",
       "       'driver_uid', 'rider_uid', 'customer', 'trip_start_time',\n",
       "       'trip_end_time', 'trip_time', 'total_time', 'wait_time', 'trip_type',\n",
       "       'surge_multiplier', 'vehicle_make_model', 'vehicle_license_plate',\n",
       "       'driver_name_en', 'vehicle_make', 'vehicle_model', 'driver_gender',\n",
       "       'driver_photo_url', 'driver_phone_number', 'pickup_lat', 'pickup_long',\n",
       "       'dropoff_lat', 'dropoff_long', 'trip_map_image_url',\n",
       "       'trip_path_image_url', 'city', 'country', 'trip_start_address',\n",
       "       'trip_end_address', 'rub_usd_exchange_rate', 'price_rub', 'price_usd',\n",
       "       'distance_kms', 'temperature_time', 'temperature_value', 'feels_like',\n",
       "       'humidity', 'wind_speed', 'cloudness', 'weather_main', 'weather_desc',\n",
       "       'precipitation'],\n",
       "      dtype='object')"
      ]
     },
     "execution_count": 4,
     "metadata": {},
     "output_type": "execute_result"
    }
   ],
   "source": [
    "uber_df.columns"
   ]
  },
  {
   "cell_type": "code",
   "execution_count": 5,
   "metadata": {},
   "outputs": [],
   "source": [
    "# Select the Columns we need\n",
    "distance_type = uber_df.loc[:, [\"distance_kms\", \"price_usd\"]]"
   ]
  },
  {
   "cell_type": "code",
   "execution_count": 6,
   "metadata": {},
   "outputs": [],
   "source": [
    "# Create the bins in which the distances will be held\n",
    "bins = [0, 5, 10, 15, 20, 47]\n",
    "#Create the names for the 5 bins\n",
    "distance_names = [\"Very Short Trip\", \"Short Trip\", \"Medium Trip\", \"Long trip\", \"Very Long Trip\"]"
   ]
  },
  {
   "cell_type": "code",
   "execution_count": 7,
   "metadata": {},
   "outputs": [
    {
     "data": {
      "text/html": [
       "<div>\n",
       "<style scoped>\n",
       "    .dataframe tbody tr th:only-of-type {\n",
       "        vertical-align: middle;\n",
       "    }\n",
       "\n",
       "    .dataframe tbody tr th {\n",
       "        vertical-align: top;\n",
       "    }\n",
       "\n",
       "    .dataframe thead th {\n",
       "        text-align: right;\n",
       "    }\n",
       "</style>\n",
       "<table border=\"1\" class=\"dataframe\">\n",
       "  <thead>\n",
       "    <tr style=\"text-align: right;\">\n",
       "      <th></th>\n",
       "      <th>distance_kms</th>\n",
       "      <th>price_usd</th>\n",
       "      <th>Type of Distance</th>\n",
       "    </tr>\n",
       "  </thead>\n",
       "  <tbody>\n",
       "    <tr>\n",
       "      <th>0</th>\n",
       "      <td>9.29</td>\n",
       "      <td>5.17</td>\n",
       "      <td>Short Trip</td>\n",
       "    </tr>\n",
       "    <tr>\n",
       "      <th>1</th>\n",
       "      <td>9.93</td>\n",
       "      <td>4.97</td>\n",
       "      <td>Short Trip</td>\n",
       "    </tr>\n",
       "    <tr>\n",
       "      <th>2</th>\n",
       "      <td>18.01</td>\n",
       "      <td>13.01</td>\n",
       "      <td>Long trip</td>\n",
       "    </tr>\n",
       "    <tr>\n",
       "      <th>3</th>\n",
       "      <td>5.10</td>\n",
       "      <td>25.99</td>\n",
       "      <td>Short Trip</td>\n",
       "    </tr>\n",
       "    <tr>\n",
       "      <th>4</th>\n",
       "      <td>21.92</td>\n",
       "      <td>13.43</td>\n",
       "      <td>Very Long Trip</td>\n",
       "    </tr>\n",
       "  </tbody>\n",
       "</table>\n",
       "</div>"
      ],
      "text/plain": [
       "   distance_kms  price_usd Type of Distance\n",
       "0          9.29       5.17       Short Trip\n",
       "1          9.93       4.97       Short Trip\n",
       "2         18.01      13.01        Long trip\n",
       "3          5.10      25.99       Short Trip\n",
       "4         21.92      13.43   Very Long Trip"
      ]
     },
     "execution_count": 7,
     "metadata": {},
     "output_type": "execute_result"
    }
   ],
   "source": [
    "# Assign the values to the bins\n",
    "distance_type[\"Type of Distance\"] = pd.cut(distance_type[\"distance_kms\"], bins, labels=distance_names)\n",
    "distance_type.head()"
   ]
  },
  {
   "cell_type": "code",
   "execution_count": 8,
   "metadata": {},
   "outputs": [
    {
     "data": {
      "text/plain": [
       "Type of Distance\n",
       "Very Short Trip     2.616343\n",
       "Short Trip          3.871375\n",
       "Medium Trip         5.554462\n",
       "Long trip           8.565556\n",
       "Very Long Trip     13.265588\n",
       "Name: price_usd, dtype: float64"
      ]
     },
     "execution_count": 8,
     "metadata": {},
     "output_type": "execute_result"
    }
   ],
   "source": [
    "# Calculate average price per distance bin\n",
    "avg_price = distance_type.groupby(['Type of Distance'])[\"price_usd\"].mean()\n",
    "avg_price"
   ]
  },
  {
   "cell_type": "code",
   "execution_count": 9,
   "metadata": {},
   "outputs": [
    {
     "data": {
      "text/html": [
       "<div>\n",
       "<style scoped>\n",
       "    .dataframe tbody tr th:only-of-type {\n",
       "        vertical-align: middle;\n",
       "    }\n",
       "\n",
       "    .dataframe tbody tr th {\n",
       "        vertical-align: top;\n",
       "    }\n",
       "\n",
       "    .dataframe thead th {\n",
       "        text-align: right;\n",
       "    }\n",
       "</style>\n",
       "<table border=\"1\" class=\"dataframe\">\n",
       "  <thead>\n",
       "    <tr style=\"text-align: right;\">\n",
       "      <th></th>\n",
       "      <th>distance_kms</th>\n",
       "      <th>price_usd</th>\n",
       "    </tr>\n",
       "    <tr>\n",
       "      <th>Type of Distance</th>\n",
       "      <th></th>\n",
       "      <th></th>\n",
       "    </tr>\n",
       "  </thead>\n",
       "  <tbody>\n",
       "    <tr>\n",
       "      <th>Very Short Trip</th>\n",
       "      <td>175</td>\n",
       "      <td>175</td>\n",
       "    </tr>\n",
       "    <tr>\n",
       "      <th>Short Trip</th>\n",
       "      <td>269</td>\n",
       "      <td>269</td>\n",
       "    </tr>\n",
       "    <tr>\n",
       "      <th>Medium Trip</th>\n",
       "      <td>130</td>\n",
       "      <td>130</td>\n",
       "    </tr>\n",
       "    <tr>\n",
       "      <th>Long trip</th>\n",
       "      <td>36</td>\n",
       "      <td>36</td>\n",
       "    </tr>\n",
       "    <tr>\n",
       "      <th>Very Long Trip</th>\n",
       "      <td>68</td>\n",
       "      <td>68</td>\n",
       "    </tr>\n",
       "  </tbody>\n",
       "</table>\n",
       "</div>"
      ],
      "text/plain": [
       "                  distance_kms  price_usd\n",
       "Type of Distance                         \n",
       "Very Short Trip            175        175\n",
       "Short Trip                 269        269\n",
       "Medium Trip                130        130\n",
       "Long trip                   36         36\n",
       "Very Long Trip              68         68"
      ]
     },
     "execution_count": 9,
     "metadata": {},
     "output_type": "execute_result"
    }
   ],
   "source": [
    "# Calculate the count per distance bin\n",
    "count = distance_type.groupby(['Type of Distance']).count()\n",
    "count"
   ]
  },
  {
   "cell_type": "code",
   "execution_count": 10,
   "metadata": {},
   "outputs": [
    {
     "data": {
      "image/png": "[encoded data removed]",
      "text/plain": [
       "<Figure size 720x432 with 1 Axes>"
      ]
     },
     "metadata": {},
     "output_type": "display_data"
    }
   ],
   "source": [
    "# Columns into arrays\n",
    "colors = [\"#1f77b4\", \"#ff7f0e\", \"#2ca02c\", \"#d62728\", \"#8c564b\"]\n",
    "explode = (0, 0.1, 0, 0, 0)\n",
    "plt.figure(figsize=(10,6))\n",
    "plt.pie(count.distance_kms, labels=distance_names, explode=explode, colors=colors,\n",
    "autopct='%1.1f%%', shadow=True, startangle=140)\n",
    "plt.title(\"Distribution of distances\")\n",
    "plt.savefig('Images/counttypesoftrip.png')\n",
    "plt.show()"
   ]
  },
  {
   "cell_type": "markdown",
   "metadata": {},
   "source": [
    "The above pie chart shows that majority of UBER trips done by the Russian customer is of short distance (5-9Km)"
   ]
  },
  {
   "cell_type": "code",
   "execution_count": 11,
   "metadata": {},
   "outputs": [
    {
     "data": {
      "image/png": "[encoded data removed]",
      "text/plain": [
       "<Figure size 720x432 with 1 Axes>"
      ]
     },
     "metadata": {},
     "output_type": "display_data"
    }
   ],
   "source": [
    "# Plot number of trips for each weather description\n",
    "x = uber_df['weather_desc'].value_counts().plot(kind='bar', figsize = (10,6))\n",
    "plt.tight_layout()\n",
    "plt.savefig('Images/weathercount.png')"
   ]
  },
  {
   "cell_type": "markdown",
   "metadata": {},
   "source": [
    "The above bar chart shows the trip count for each type of weather. We can see that majority of trips were taken during mostly cloudy days."
   ]
  },
  {
   "cell_type": "code",
   "execution_count": 12,
   "metadata": {},
   "outputs": [
    {
     "name": "stdout",
     "output_type": "stream",
     "text": [
      "The correlation between both factors is 0.08\n",
      "The r-squared is: 0.07841863329131452\n"
     ]
    },
    {
     "data": {
      "image/png": "[encoded data removed]",
      "text/plain": [
       "<Figure size 432x288 with 1 Axes>"
      ]
     },
     "metadata": {},
     "output_type": "display_data"
    }
   ],
   "source": [
    "# Let's see if there is a correlation between temperature value and distance in kms. \n",
    "x_values = uber_df['temperature_value']\n",
    "y_values = uber_df['distance_kms']\n",
    "correlation = st.pearsonr(x_values, y_values)\n",
    "print(f\"The correlation between both factors is {round(correlation[0],2)}\")\n",
    "(slope, intercept, rvalue, pvalue, stderr) = linregress(x_values, y_values)\n",
    "regress_values = x_values * slope + intercept\n",
    "line_eq = \"y = \" + str(round(slope,2)) + \"x + \" + str(round(intercept,2))\n",
    "plt.scatter(x_values,y_values)\n",
    "plt.plot(x_values,regress_values,\"r-\")\n",
    "plt.annotate(line_eq,(6,10),fontsize=15,color=\"black\")\n",
    "plt.xlabel('Temperature')\n",
    "plt.ylabel('Distance(kms)')\n",
    "print(f\"The r-squared is: {rvalue}\")\n",
    "plt.savefig('Images/tempdistancecorr.png')\n",
    "plt.show()"
   ]
  },
  {
   "cell_type": "markdown",
   "metadata": {},
   "source": [
    "Based on the above graph there is no correlation between the temperature value and the distance in kms of Uber trips\n",
    "since the correlation is only 0.08, very close to 0. The r-squared is also near 0 which means that only 7.8% of the\n",
    "variance for the Distance (kms) can be explained by the temperature."
   ]
  },
  {
   "cell_type": "code",
   "execution_count": 13,
   "metadata": {},
   "outputs": [],
   "source": [
    "# sorting the sata by weather_desc\n",
    "uber_df = uber_df.sort_values(by='weather_desc', ascending=True)"
   ]
  },
  {
   "cell_type": "code",
   "execution_count": 14,
   "metadata": {},
   "outputs": [
    {
     "data": {
      "text/plain": [
       "weather_desc\n",
       "Breezy                        2\n",
       "Breezy and Mostly Cloudy     10\n",
       "Breezy and Overcast           1\n",
       "Breezy and Partly Cloudy      2\n",
       "Clear                        69\n",
       "Drizzle                       6\n",
       "Flurries                      8\n",
       "Foggy                        11\n",
       "Light Rain                    8\n",
       "Light Snow                    3\n",
       "Mostly Cloudy               259\n",
       "Overcast                    170\n",
       "Partly Cloudy               129\n",
       "dtype: int64"
      ]
     },
     "execution_count": 14,
     "metadata": {},
     "output_type": "execute_result"
    }
   ],
   "source": [
    "# Value counts for weather description\n",
    "weather_count = uber_df.groupby(['weather_desc']).size()\n",
    "weather_count"
   ]
  },
  {
   "cell_type": "code",
   "execution_count": 15,
   "metadata": {},
   "outputs": [
    {
     "data": {
      "text/plain": [
       "weather_desc\n",
       "Breezy                      12.500000\n",
       "Breezy and Mostly Cloudy    12.300000\n",
       "Breezy and Overcast         -2.000000\n",
       "Breezy and Partly Cloudy    18.000000\n",
       "Clear                       11.579710\n",
       "Drizzle                      9.333333\n",
       "Flurries                    -3.125000\n",
       "Foggy                        0.000000\n",
       "Light Rain                  11.750000\n",
       "Light Snow                  -7.666667\n",
       "Mostly Cloudy                5.471042\n",
       "Overcast                     0.658824\n",
       "Partly Cloudy                7.751938\n",
       "Name: temperature_value, dtype: float64"
      ]
     },
     "execution_count": 15,
     "metadata": {},
     "output_type": "execute_result"
    }
   ],
   "source": [
    "avg_temp = uber_df.groupby(['weather_desc'])[\"temperature_value\"].mean()\n",
    "avg_temp"
   ]
  },
  {
   "cell_type": "code",
   "execution_count": 16,
   "metadata": {},
   "outputs": [
    {
     "name": "stdout",
     "output_type": "stream",
     "text": [
      "The correlation between both factors is -0.05\n",
      "The r-squared is: -0.04999108723490653\n"
     ]
    },
    {
     "data": {
      "image/png": "[encoded data removed]",
      "text/plain": [
       "<Figure size 432x288 with 1 Axes>"
      ]
     },
     "metadata": {},
     "output_type": "display_data"
    }
   ],
   "source": [
    "# let's then calculate the correlation between the trip frequency and the average temperature value\n",
    "x_values = avg_temp\n",
    "y_values = weather_count\n",
    "correlation = st.pearsonr(x_values, y_values)\n",
    "print(f\"The correlation between both factors is {round(correlation[0],2)}\")\n",
    "(slope, intercept, rvalue, pvalue, stderr) = linregress(x_values, y_values)\n",
    "regress_values = x_values * slope + intercept\n",
    "line_eq = \"y = \" + str(round(slope,2)) + \"x + \" + str(round(intercept,2))\n",
    "plt.scatter(x_values,y_values)\n",
    "plt.plot(x_values,regress_values,\"r-\")\n",
    "plt.annotate(line_eq,(6,10),fontsize=15,color=\"black\")\n",
    "plt.xlabel('Average temperature/type of weather')\n",
    "plt.ylabel('Number of trips/type of weather')\n",
    "print(f\"The r-squared is: {rvalue}\")\n",
    "plt.savefig('Images/avgtempweathercorr.png')\n",
    "plt.show()"
   ]
  },
  {
   "cell_type": "markdown",
   "metadata": {},
   "source": [
    "Based on the above graph there is no correlation between the trip frequency and the average temperature value\n",
    "since the correlation is only -0.05, very close to 0. The r-squared is also near 0 which means that only 5% of the\n",
    "variance for the trip frequency can be explained by the temperature."
   ]
  },
  {
   "cell_type": "code",
   "execution_count": 17,
   "metadata": {},
   "outputs": [
    {
     "name": "stdout",
     "output_type": "stream",
     "text": [
      "The correlation between both factors is 0.73\n",
      "The r-squared is: 0.7256684388953664\n"
     ]
    },
    {
     "data": {
      "image/png": "[encoded data removed]",
      "text/plain": [
       "<Figure size 432x288 with 1 Axes>"
      ]
     },
     "metadata": {},
     "output_type": "display_data"
    }
   ],
   "source": [
    "# Let's see if there is a correlation between distance and pricing. \n",
    "x_values = uber_df['distance_kms']\n",
    "y_values = uber_df['price_usd']\n",
    "correlation = st.pearsonr(x_values, y_values)\n",
    "print(f\"The correlation between both factors is {round(correlation[0],2)}\")\n",
    "(slope, intercept, rvalue, pvalue, stderr) = linregress(x_values, y_values)\n",
    "regress_values = x_values * slope + intercept\n",
    "line_eq = \"y = \" + str(round(slope,2)) + \"x + \" + str(round(intercept,2))\n",
    "plt.scatter(x_values,y_values)\n",
    "plt.plot(x_values,regress_values,\"r-\")\n",
    "plt.annotate(line_eq,(6,10),fontsize=15,color=\"black\")\n",
    "plt.xlabel('Distance (kms)')\n",
    "plt.ylabel('Trip Price')\n",
    "print(f\"The r-squared is: {rvalue}\")\n",
    "plt.savefig('Images/distanceprice.png')\n",
    "plt.show()"
   ]
  },
  {
   "cell_type": "markdown",
   "metadata": {},
   "source": [
    "Based on the above scatter plot there is a moderate correlation between the distance in kms and the trip fare since the correlation number is 0.73, closer to 1. The r-squared is also near 1 which means that 72.6% of the\n",
    "variance for the trip fare can be explained by the distance in kms. The linear equation shows a positive linear regression line between the 2 variables, which means that an increase in the distance in kms corresponds to an increase in the trip fare."
   ]
  },
  {
   "cell_type": "code",
   "execution_count": 18,
   "metadata": {},
   "outputs": [
    {
     "data": {
      "text/html": [
       "<div>\n",
       "<style scoped>\n",
       "    .dataframe tbody tr th:only-of-type {\n",
       "        vertical-align: middle;\n",
       "    }\n",
       "\n",
       "    .dataframe tbody tr th {\n",
       "        vertical-align: top;\n",
       "    }\n",
       "\n",
       "    .dataframe thead th {\n",
       "        text-align: right;\n",
       "    }\n",
       "</style>\n",
       "<table border=\"1\" class=\"dataframe\">\n",
       "  <thead>\n",
       "    <tr style=\"text-align: right;\">\n",
       "      <th></th>\n",
       "      <th>vehicle_make_model</th>\n",
       "      <th>trip_completed_at</th>\n",
       "      <th>trip_status</th>\n",
       "      <th>ride_hailing_app</th>\n",
       "      <th>trip_uid</th>\n",
       "      <th>driver_uid</th>\n",
       "      <th>rider_uid</th>\n",
       "      <th>customer</th>\n",
       "      <th>trip_start_time</th>\n",
       "      <th>trip_end_time</th>\n",
       "      <th>...</th>\n",
       "      <th>distance_kms</th>\n",
       "      <th>temperature_time</th>\n",
       "      <th>temperature_value</th>\n",
       "      <th>feels_like</th>\n",
       "      <th>humidity</th>\n",
       "      <th>wind_speed</th>\n",
       "      <th>cloudness</th>\n",
       "      <th>weather_main</th>\n",
       "      <th>weather_desc</th>\n",
       "      <th>precipitation</th>\n",
       "    </tr>\n",
       "  </thead>\n",
       "  <tbody>\n",
       "    <tr>\n",
       "      <th>0</th>\n",
       "      <td>Audi A3</td>\n",
       "      <td>2</td>\n",
       "      <td>2</td>\n",
       "      <td>2</td>\n",
       "      <td>2</td>\n",
       "      <td>2</td>\n",
       "      <td>2</td>\n",
       "      <td>2</td>\n",
       "      <td>2</td>\n",
       "      <td>2</td>\n",
       "      <td>...</td>\n",
       "      <td>2</td>\n",
       "      <td>2</td>\n",
       "      <td>2</td>\n",
       "      <td>2</td>\n",
       "      <td>2</td>\n",
       "      <td>2</td>\n",
       "      <td>2</td>\n",
       "      <td>2</td>\n",
       "      <td>2</td>\n",
       "      <td>2</td>\n",
       "    </tr>\n",
       "    <tr>\n",
       "      <th>1</th>\n",
       "      <td>Audi A6</td>\n",
       "      <td>4</td>\n",
       "      <td>4</td>\n",
       "      <td>4</td>\n",
       "      <td>4</td>\n",
       "      <td>4</td>\n",
       "      <td>4</td>\n",
       "      <td>4</td>\n",
       "      <td>4</td>\n",
       "      <td>4</td>\n",
       "      <td>...</td>\n",
       "      <td>4</td>\n",
       "      <td>4</td>\n",
       "      <td>4</td>\n",
       "      <td>4</td>\n",
       "      <td>4</td>\n",
       "      <td>4</td>\n",
       "      <td>4</td>\n",
       "      <td>4</td>\n",
       "      <td>4</td>\n",
       "      <td>4</td>\n",
       "    </tr>\n",
       "    <tr>\n",
       "      <th>2</th>\n",
       "      <td>Audi A7</td>\n",
       "      <td>2</td>\n",
       "      <td>2</td>\n",
       "      <td>2</td>\n",
       "      <td>2</td>\n",
       "      <td>2</td>\n",
       "      <td>2</td>\n",
       "      <td>2</td>\n",
       "      <td>2</td>\n",
       "      <td>2</td>\n",
       "      <td>...</td>\n",
       "      <td>2</td>\n",
       "      <td>2</td>\n",
       "      <td>2</td>\n",
       "      <td>2</td>\n",
       "      <td>2</td>\n",
       "      <td>2</td>\n",
       "      <td>2</td>\n",
       "      <td>2</td>\n",
       "      <td>2</td>\n",
       "      <td>2</td>\n",
       "    </tr>\n",
       "    <tr>\n",
       "      <th>3</th>\n",
       "      <td>Audi Q3</td>\n",
       "      <td>2</td>\n",
       "      <td>2</td>\n",
       "      <td>2</td>\n",
       "      <td>2</td>\n",
       "      <td>2</td>\n",
       "      <td>2</td>\n",
       "      <td>2</td>\n",
       "      <td>2</td>\n",
       "      <td>2</td>\n",
       "      <td>...</td>\n",
       "      <td>2</td>\n",
       "      <td>2</td>\n",
       "      <td>2</td>\n",
       "      <td>2</td>\n",
       "      <td>2</td>\n",
       "      <td>2</td>\n",
       "      <td>2</td>\n",
       "      <td>2</td>\n",
       "      <td>2</td>\n",
       "      <td>2</td>\n",
       "    </tr>\n",
       "    <tr>\n",
       "      <th>4</th>\n",
       "      <td>BMW 5-series</td>\n",
       "      <td>4</td>\n",
       "      <td>4</td>\n",
       "      <td>4</td>\n",
       "      <td>4</td>\n",
       "      <td>4</td>\n",
       "      <td>4</td>\n",
       "      <td>4</td>\n",
       "      <td>4</td>\n",
       "      <td>4</td>\n",
       "      <td>...</td>\n",
       "      <td>4</td>\n",
       "      <td>4</td>\n",
       "      <td>4</td>\n",
       "      <td>4</td>\n",
       "      <td>4</td>\n",
       "      <td>4</td>\n",
       "      <td>4</td>\n",
       "      <td>4</td>\n",
       "      <td>4</td>\n",
       "      <td>4</td>\n",
       "    </tr>\n",
       "  </tbody>\n",
       "</table>\n",
       "<p>5 rows × 45 columns</p>\n",
       "</div>"
      ],
      "text/plain": [
       "  vehicle_make_model  trip_completed_at  trip_status  ride_hailing_app  \\\n",
       "0            Audi A3                  2            2                 2   \n",
       "1            Audi A6                  4            4                 4   \n",
       "2            Audi A7                  2            2                 2   \n",
       "3            Audi Q3                  2            2                 2   \n",
       "4       BMW 5-series                  4            4                 4   \n",
       "\n",
       "   trip_uid  driver_uid  rider_uid  customer  trip_start_time  trip_end_time  \\\n",
       "0         2           2          2         2                2              2   \n",
       "1         4           4          4         4                4              4   \n",
       "2         2           2          2         2                2              2   \n",
       "3         2           2          2         2                2              2   \n",
       "4         4           4          4         4                4              4   \n",
       "\n",
       "   ...  distance_kms  temperature_time  temperature_value  feels_like  \\\n",
       "0  ...             2                 2                  2           2   \n",
       "1  ...             4                 4                  4           4   \n",
       "2  ...             2                 2                  2           2   \n",
       "3  ...             2                 2                  2           2   \n",
       "4  ...             4                 4                  4           4   \n",
       "\n",
       "   humidity  wind_speed  cloudness  weather_main  weather_desc  precipitation  \n",
       "0         2           2          2             2             2              2  \n",
       "1         4           4          4             4             4              4  \n",
       "2         2           2          2             2             2              2  \n",
       "3         2           2          2             2             2              2  \n",
       "4         4           4          4             4             4              4  \n",
       "\n",
       "[5 rows x 45 columns]"
      ]
     },
     "execution_count": 18,
     "metadata": {},
     "output_type": "execute_result"
    }
   ],
   "source": [
    "# Create pie plot for the vehicle make model\n",
    "vehicle_count = pd.DataFrame(uber_df.groupby([\"vehicle_make_model\"]).count()).reset_index()\n",
    "vehicle_count.head()"
   ]
  },
  {
   "cell_type": "code",
   "execution_count": 19,
   "metadata": {},
   "outputs": [
    {
     "data": {
      "text/html": [
       "<div>\n",
       "<style scoped>\n",
       "    .dataframe tbody tr th:only-of-type {\n",
       "        vertical-align: middle;\n",
       "    }\n",
       "\n",
       "    .dataframe tbody tr th {\n",
       "        vertical-align: top;\n",
       "    }\n",
       "\n",
       "    .dataframe thead th {\n",
       "        text-align: right;\n",
       "    }\n",
       "</style>\n",
       "<table border=\"1\" class=\"dataframe\">\n",
       "  <thead>\n",
       "    <tr style=\"text-align: right;\">\n",
       "      <th></th>\n",
       "      <th>vehicle_make_model</th>\n",
       "      <th>Count</th>\n",
       "    </tr>\n",
       "  </thead>\n",
       "  <tbody>\n",
       "    <tr>\n",
       "      <th>0</th>\n",
       "      <td>Audi A3</td>\n",
       "      <td>2</td>\n",
       "    </tr>\n",
       "    <tr>\n",
       "      <th>1</th>\n",
       "      <td>Audi A6</td>\n",
       "      <td>4</td>\n",
       "    </tr>\n",
       "    <tr>\n",
       "      <th>2</th>\n",
       "      <td>Audi A7</td>\n",
       "      <td>2</td>\n",
       "    </tr>\n",
       "    <tr>\n",
       "      <th>3</th>\n",
       "      <td>Audi Q3</td>\n",
       "      <td>2</td>\n",
       "    </tr>\n",
       "    <tr>\n",
       "      <th>4</th>\n",
       "      <td>BMW 5-series</td>\n",
       "      <td>4</td>\n",
       "    </tr>\n",
       "  </tbody>\n",
       "</table>\n",
       "</div>"
      ],
      "text/plain": [
       "  vehicle_make_model  Count\n",
       "0            Audi A3      2\n",
       "1            Audi A6      4\n",
       "2            Audi A7      2\n",
       "3            Audi Q3      2\n",
       "4       BMW 5-series      4"
      ]
     },
     "execution_count": 19,
     "metadata": {},
     "output_type": "execute_result"
    }
   ],
   "source": [
    "# Filter the DataFrame down only to those columns to chart\n",
    "vehicle_count = vehicle_count[[\"vehicle_make_model\",\"driver_uid\"]]\n",
    "vehicle_count = vehicle_count.rename(columns={\"driver_uid\": \"Count\"})\n",
    "vehicle_count.head()"
   ]
  },
  {
   "cell_type": "code",
   "execution_count": 20,
   "metadata": {},
   "outputs": [],
   "source": [
    "# Sort data in descending order\n",
    "vehicle_count = vehicle_count.sort_values('Count', ascending=False)\n"
   ]
  },
  {
   "cell_type": "code",
   "execution_count": 21,
   "metadata": {},
   "outputs": [
    {
     "data": {
      "text/html": [
       "<div>\n",
       "<style scoped>\n",
       "    .dataframe tbody tr th:only-of-type {\n",
       "        vertical-align: middle;\n",
       "    }\n",
       "\n",
       "    .dataframe tbody tr th {\n",
       "        vertical-align: top;\n",
       "    }\n",
       "\n",
       "    .dataframe thead th {\n",
       "        text-align: right;\n",
       "    }\n",
       "</style>\n",
       "<table border=\"1\" class=\"dataframe\">\n",
       "  <thead>\n",
       "    <tr style=\"text-align: right;\">\n",
       "      <th></th>\n",
       "      <th>vehicle_make_model</th>\n",
       "      <th>Count</th>\n",
       "    </tr>\n",
       "  </thead>\n",
       "  <tbody>\n",
       "    <tr>\n",
       "      <th>40</th>\n",
       "      <td>Hyundai Solaris</td>\n",
       "      <td>104</td>\n",
       "    </tr>\n",
       "    <tr>\n",
       "      <th>115</th>\n",
       "      <td>Volkswagen Polo</td>\n",
       "      <td>61</td>\n",
       "    </tr>\n",
       "    <tr>\n",
       "      <th>49</th>\n",
       "      <td>Kia Rio</td>\n",
       "      <td>43</td>\n",
       "    </tr>\n",
       "    <tr>\n",
       "      <th>25</th>\n",
       "      <td>Ford Focus</td>\n",
       "      <td>35</td>\n",
       "    </tr>\n",
       "    <tr>\n",
       "      <th>67</th>\n",
       "      <td>Nissan Almera</td>\n",
       "      <td>33</td>\n",
       "    </tr>\n",
       "  </tbody>\n",
       "</table>\n",
       "</div>"
      ],
      "text/plain": [
       "    vehicle_make_model  Count\n",
       "40     Hyundai Solaris    104\n",
       "115    Volkswagen Polo     61\n",
       "49             Kia Rio     43\n",
       "25          Ford Focus     35\n",
       "67       Nissan Almera     33"
      ]
     },
     "execution_count": 21,
     "metadata": {},
     "output_type": "execute_result"
    }
   ],
   "source": [
    "# the top 5\n",
    "top_five = vehicle_count[:5].copy()\n",
    "top_five"
   ]
  },
  {
   "cell_type": "code",
   "execution_count": 22,
   "metadata": {},
   "outputs": [
    {
     "data": {
      "text/html": [
       "<div>\n",
       "<style scoped>\n",
       "    .dataframe tbody tr th:only-of-type {\n",
       "        vertical-align: middle;\n",
       "    }\n",
       "\n",
       "    .dataframe tbody tr th {\n",
       "        vertical-align: top;\n",
       "    }\n",
       "\n",
       "    .dataframe thead th {\n",
       "        text-align: right;\n",
       "    }\n",
       "</style>\n",
       "<table border=\"1\" class=\"dataframe\">\n",
       "  <thead>\n",
       "    <tr style=\"text-align: right;\">\n",
       "      <th></th>\n",
       "      <th>vehicle_make_model</th>\n",
       "      <th>Count</th>\n",
       "    </tr>\n",
       "  </thead>\n",
       "  <tbody>\n",
       "    <tr>\n",
       "      <th>0</th>\n",
       "      <td>others</td>\n",
       "      <td>402</td>\n",
       "    </tr>\n",
       "  </tbody>\n",
       "</table>\n",
       "</div>"
      ],
      "text/plain": [
       "  vehicle_make_model  Count\n",
       "0             others    402"
      ]
     },
     "execution_count": 22,
     "metadata": {},
     "output_type": "execute_result"
    }
   ],
   "source": [
    "# Other vehicles\n",
    "other_vehicles = pd.DataFrame(data = {\n",
    "    'vehicle_make_model' : ['others'],\n",
    "    'Count' : [vehicle_count['Count'][5:].sum()]\n",
    "})\n",
    "other_vehicles"
   ]
  },
  {
   "cell_type": "code",
   "execution_count": 23,
   "metadata": {},
   "outputs": [
    {
     "data": {
      "text/html": [
       "<div>\n",
       "<style scoped>\n",
       "    .dataframe tbody tr th:only-of-type {\n",
       "        vertical-align: middle;\n",
       "    }\n",
       "\n",
       "    .dataframe tbody tr th {\n",
       "        vertical-align: top;\n",
       "    }\n",
       "\n",
       "    .dataframe thead th {\n",
       "        text-align: right;\n",
       "    }\n",
       "</style>\n",
       "<table border=\"1\" class=\"dataframe\">\n",
       "  <thead>\n",
       "    <tr style=\"text-align: right;\">\n",
       "      <th></th>\n",
       "      <th>vehicle_make_model</th>\n",
       "      <th>Count</th>\n",
       "    </tr>\n",
       "  </thead>\n",
       "  <tbody>\n",
       "    <tr>\n",
       "      <th>40</th>\n",
       "      <td>Hyundai Solaris</td>\n",
       "      <td>104</td>\n",
       "    </tr>\n",
       "    <tr>\n",
       "      <th>115</th>\n",
       "      <td>Volkswagen Polo</td>\n",
       "      <td>61</td>\n",
       "    </tr>\n",
       "    <tr>\n",
       "      <th>49</th>\n",
       "      <td>Kia Rio</td>\n",
       "      <td>43</td>\n",
       "    </tr>\n",
       "    <tr>\n",
       "      <th>25</th>\n",
       "      <td>Ford Focus</td>\n",
       "      <td>35</td>\n",
       "    </tr>\n",
       "    <tr>\n",
       "      <th>67</th>\n",
       "      <td>Nissan Almera</td>\n",
       "      <td>33</td>\n",
       "    </tr>\n",
       "    <tr>\n",
       "      <th>0</th>\n",
       "      <td>others</td>\n",
       "      <td>402</td>\n",
       "    </tr>\n",
       "  </tbody>\n",
       "</table>\n",
       "</div>"
      ],
      "text/plain": [
       "    vehicle_make_model  Count\n",
       "40     Hyundai Solaris    104\n",
       "115    Volkswagen Polo     61\n",
       "49             Kia Rio     43\n",
       "25          Ford Focus     35\n",
       "67       Nissan Almera     33\n",
       "0               others    402"
      ]
     },
     "execution_count": 23,
     "metadata": {},
     "output_type": "execute_result"
    }
   ],
   "source": [
    "# Combining top 5 with others\n",
    "top_five_others = pd.concat([top_five, other_vehicles])\n",
    "top_five_others"
   ]
  },
  {
   "cell_type": "code",
   "execution_count": 24,
   "metadata": {
    "scrolled": true
   },
   "outputs": [
    {
     "data": {
      "image/png": "[encoded data removed]",
      "text/plain": [
       "<Figure size 1008x720 with 1 Axes>"
      ]
     },
     "metadata": {},
     "output_type": "display_data"
    }
   ],
   "source": [
    "#plotting the 5 top vehicles with the others\n",
    "plt.figure(figsize=(14,10))\n",
    "ax1 = plt.subplot(121, aspect='equal')\n",
    "top_five_others.plot(kind='pie', y = \"Count\", ax=ax1, autopct='%1.1f%%', \n",
    " startangle=200, shadow=False, labels=top_five_others['vehicle_make_model'], legend = False, fontsize=16)\n",
    "plt.savefig('Images/vehicletop5.png')"
   ]
  },
  {
   "cell_type": "markdown",
   "metadata": {},
   "source": [
    "The above pie chart shows the top 5 vehicle make models used by UBER drivers in Russia. \n",
    "The 1st one is the Hyunday Solaris, a south Korean car, which is sold as Hyundai Accent in the USA. For the Russian market it is assembled by the TagAZ plant in Taganrog.\n",
    "The 2nd one is the Volkswagen Polo, a car produced by the German manufacturer Volkswagen since 1975.\n",
    "The 3rd one is Kia Rio, another South Korean car."
   ]
  },
  {
   "cell_type": "code",
   "execution_count": 25,
   "metadata": {},
   "outputs": [],
   "source": [
    "# Set Index to vehicle make model\n",
    "top_five = top_five.set_index(\"vehicle_make_model\")\n"
   ]
  },
  {
   "cell_type": "code",
   "execution_count": 26,
   "metadata": {},
   "outputs": [
    {
     "data": {
      "image/png": "[encoded data removed]",
      "text/plain": [
       "<Figure size 720x216 with 1 Axes>"
      ]
     },
     "metadata": {},
     "output_type": "display_data"
    }
   ],
   "source": [
    "# Plot a bar chart with the same information\n",
    "top_five.plot(kind=\"bar\", figsize=(10,3))\n",
    "\n",
    "# Set a title for the chart\n",
    "plt.title(\"Count per Top 5 Vehicle Make Model\")\n",
    "\n",
    "plt.tight_layout()\n",
    "plt.savefig('Images/vehiclecount.png')\n",
    "plt.show()"
   ]
  },
  {
   "cell_type": "code",
   "execution_count": 27,
   "metadata": {},
   "outputs": [
    {
     "data": {
      "text/html": [
       "<div>\n",
       "<style scoped>\n",
       "    .dataframe tbody tr th:only-of-type {\n",
       "        vertical-align: middle;\n",
       "    }\n",
       "\n",
       "    .dataframe tbody tr th {\n",
       "        vertical-align: top;\n",
       "    }\n",
       "\n",
       "    .dataframe thead th {\n",
       "        text-align: right;\n",
       "    }\n",
       "</style>\n",
       "<table border=\"1\" class=\"dataframe\">\n",
       "  <thead>\n",
       "    <tr style=\"text-align: right;\">\n",
       "      <th></th>\n",
       "      <th>city</th>\n",
       "      <th>price_usd</th>\n",
       "      <th>distance_kms</th>\n",
       "      <th>price/km</th>\n",
       "    </tr>\n",
       "  </thead>\n",
       "  <tbody>\n",
       "    <tr>\n",
       "      <th>238</th>\n",
       "      <td>Saint Petersburg</td>\n",
       "      <td>3.12</td>\n",
       "      <td>6.12</td>\n",
       "      <td>0.509804</td>\n",
       "    </tr>\n",
       "    <tr>\n",
       "      <th>213</th>\n",
       "      <td>Saint Petersburg</td>\n",
       "      <td>2.16</td>\n",
       "      <td>3.22</td>\n",
       "      <td>0.670807</td>\n",
       "    </tr>\n",
       "    <tr>\n",
       "      <th>37</th>\n",
       "      <td>Saint Petersburg</td>\n",
       "      <td>2.59</td>\n",
       "      <td>3.07</td>\n",
       "      <td>0.843648</td>\n",
       "    </tr>\n",
       "    <tr>\n",
       "      <th>36</th>\n",
       "      <td>Saint Petersburg</td>\n",
       "      <td>3.65</td>\n",
       "      <td>3.35</td>\n",
       "      <td>1.089552</td>\n",
       "    </tr>\n",
       "    <tr>\n",
       "      <th>389</th>\n",
       "      <td>Saint Petersburg</td>\n",
       "      <td>10.84</td>\n",
       "      <td>34.13</td>\n",
       "      <td>0.317609</td>\n",
       "    </tr>\n",
       "  </tbody>\n",
       "</table>\n",
       "</div>"
      ],
      "text/plain": [
       "                 city  price_usd  distance_kms  price/km\n",
       "238  Saint Petersburg       3.12          6.12  0.509804\n",
       "213  Saint Petersburg       2.16          3.22  0.670807\n",
       "37   Saint Petersburg       2.59          3.07  0.843648\n",
       "36   Saint Petersburg       3.65          3.35  1.089552\n",
       "389  Saint Petersburg      10.84         34.13  0.317609"
      ]
     },
     "execution_count": 27,
     "metadata": {},
     "output_type": "execute_result"
    }
   ],
   "source": [
    "# Select the columns needed\n",
    "prices_box = uber_df.loc[:, [\"city\", \"price_usd\", \"distance_kms\"]]\n",
    "prices_box[\"price/km\"] = prices_box[\"price_usd\"]/prices_box[\"distance_kms\"]\n",
    "prices_box.head()"
   ]
  },
  {
   "cell_type": "code",
   "execution_count": 28,
   "metadata": {},
   "outputs": [],
   "source": [
    "# Sort data by city\n",
    "df = prices_box.sort_values(['city','price/km'],ascending=True).groupby('city').head().reset_index()"
   ]
  },
  {
   "cell_type": "code",
   "execution_count": 29,
   "metadata": {},
   "outputs": [
    {
     "data": {
      "text/plain": [
       "<bound method NDFrame.describe of     index              city  price_usd  distance_kms  price/km\n",
       "0      53      Ekaterinburg       5.91         23.44  0.252133\n",
       "1      15      Ekaterinburg       2.21          8.40  0.263095\n",
       "2     123      Ekaterinburg       5.54         20.58  0.269193\n",
       "3      64      Ekaterinburg       5.90         17.77  0.332020\n",
       "4      54      Ekaterinburg       5.91         16.38  0.360806\n",
       "5     362            Moscow       4.98         13.33  0.373593\n",
       "6     600            Moscow      14.71         35.79  0.411009\n",
       "7     601            Moscow      20.59         43.15  0.477173\n",
       "8     356            Moscow       7.68         14.18  0.541608\n",
       "9     361            Moscow       3.00          4.73  0.634249\n",
       "10    199  Saint Petersburg       2.63         23.70  0.110970\n",
       "11    339  Saint Petersburg       9.93         44.90  0.221158\n",
       "12     48  Saint Petersburg      10.84         44.22  0.245138\n",
       "13    206  Saint Petersburg       9.38         37.16  0.252422\n",
       "14    175  Saint Petersburg       5.74         20.68  0.277563>"
      ]
     },
     "execution_count": 29,
     "metadata": {},
     "output_type": "execute_result"
    }
   ],
   "source": [
    "df.describe"
   ]
  },
  {
   "cell_type": "code",
   "execution_count": 30,
   "metadata": {},
   "outputs": [
    {
     "data": {
      "image/png": "[encoded data removed]",
      "text/plain": [
       "<Figure size 1440x720 with 1 Axes>"
      ]
     },
     "metadata": {},
     "output_type": "display_data"
    }
   ],
   "source": [
    "# Create a boxplot to compare prices in the 3 Russian cities\n",
    "df.boxplot(\"price/km\", by=\"city\", figsize=(20, 10))\n",
    "plt.savefig('Images/boxplots.png')"
   ]
  },
  {
   "cell_type": "markdown",
   "metadata": {},
   "source": [
    "The 3 above boxplots show 3 different distributions of prices/km in the 3 Russian cities.\n",
    "The box plot representing the distribution of prices/km in Saint Petersburg is very short comparted to the other 2, which shows less variability in the data while the boxplot representing prices/km in Moscow shows the highest variability.\n",
    "While the Moscow boxplot shows a symmetric/normal distribution as the median falls in the middle of the Interquartile range, the other 2 boxplots show a very skewed distribution: the Ekaterinburg boxplot is skewed to the right and the Saint Peterburg is skewed to the left.\n",
    "The length of the whiskers indicate data's minimum and maximum.\n",
    "The Saint Petersburg boxplot shows a low outlier."
   ]
  },
  {
   "cell_type": "code",
   "execution_count": 31,
   "metadata": {},
   "outputs": [],
   "source": [
    "# Extract individual groups\n",
    "group1 = prices_box[prices_box[\"city\"] == \"Saint Petersburg\"][\"price_usd\"]\n",
    "group2 = prices_box[prices_box[\"city\"] == \"Moscow\"][\"price_usd\"]\n",
    "group3 = prices_box[prices_box[\"city\"] == \"Ekaterinburg\"][\"price_usd\"]"
   ]
  },
  {
   "cell_type": "code",
   "execution_count": 32,
   "metadata": {},
   "outputs": [
    {
     "data": {
      "text/plain": [
       "F_onewayResult(statistic=4.256612398815152, pvalue=0.014552486743234457)"
      ]
     },
     "execution_count": 32,
     "metadata": {},
     "output_type": "execute_result"
    }
   ],
   "source": [
    "\n",
    "import scipy.stats as stats\n",
    "# Perform the ANOVA\n",
    "stats.f_oneway(group1, group2, group3)"
   ]
  },
  {
   "cell_type": "markdown",
   "metadata": {},
   "source": [
    "Since the p-value is less than 0.05, there is a significant difference between the mean prices of UBER rides in the 3 Russian cities."
   ]
  },
  {
   "cell_type": "code",
   "execution_count": 33,
   "metadata": {},
   "outputs": [
    {
     "name": "stdout",
     "output_type": "stream",
     "text": [
      "The lower quartile of prices is: 2.78\n",
      "The upper quartile of prices is: 5.620000000000001\n",
      "The interquartile range of prices is: 2.840000000000001\n",
      "The the median of prices is: 3.75 \n",
      "Values below -1.4800000000000018 could be outliers.\n",
      "Values above 9.880000000000003 could be outliers.\n"
     ]
    }
   ],
   "source": [
    "# Calculate IQR of prices in Saint Petersburg\n",
    "quartiles = group1.quantile([.25,.5,.75])\n",
    "lowerq = quartiles[0.25]\n",
    "upperq = quartiles[0.75]\n",
    "iqr = upperq-lowerq\n",
    "\n",
    "print(f\"The lower quartile of prices is: {lowerq}\")\n",
    "print(f\"The upper quartile of prices is: {upperq}\")\n",
    "print(f\"The interquartile range of prices is: {iqr}\")\n",
    "print(f\"The the median of prices is: {quartiles[0.5]} \")\n",
    "\n",
    "lower_bound = lowerq - (1.5*iqr)\n",
    "upper_bound = upperq + (1.5*iqr)\n",
    "print(f\"Values below {lower_bound} could be outliers.\")\n",
    "print(f\"Values above {upper_bound} could be outliers.\")"
   ]
  },
  {
   "cell_type": "code",
   "execution_count": 34,
   "metadata": {},
   "outputs": [
    {
     "name": "stdout",
     "output_type": "stream",
     "text": [
      "The lower quartile of prices is: 4.1775\n",
      "The upper quartile of prices is: 9.555\n",
      "The interquartile range of prices is: 5.3774999999999995\n",
      "The the median of prices is: 6.665 \n",
      "Values below -3.88875 could be outliers.\n",
      "Values above 17.62125 could be outliers.\n"
     ]
    }
   ],
   "source": [
    "# Calculate IQR of prices in Moscow\n",
    "quartiles = group2.quantile([.25,.5,.75])\n",
    "lowerq = quartiles[0.25]\n",
    "upperq = quartiles[0.75]\n",
    "iqr = upperq-lowerq\n",
    "\n",
    "print(f\"The lower quartile of prices is: {lowerq}\")\n",
    "print(f\"The upper quartile of prices is: {upperq}\")\n",
    "print(f\"The interquartile range of prices is: {iqr}\")\n",
    "print(f\"The the median of prices is: {quartiles[0.5]} \")\n",
    "\n",
    "lower_bound = lowerq - (1.5*iqr)\n",
    "upper_bound = upperq + (1.5*iqr)\n",
    "print(f\"Values below {lower_bound} could be outliers.\")\n",
    "print(f\"Values above {upper_bound} could be outliers.\")"
   ]
  },
  {
   "cell_type": "code",
   "execution_count": 35,
   "metadata": {},
   "outputs": [
    {
     "name": "stdout",
     "output_type": "stream",
     "text": [
      "The lower quartile of prices is: 2.1875\n",
      "The upper quartile of prices is: 5.630000000000001\n",
      "The interquartile range of prices is: 3.442500000000001\n",
      "The the median of prices is: 2.665 \n",
      "Values below -2.976250000000001 could be outliers.\n",
      "Values above 10.793750000000003 could be outliers.\n"
     ]
    }
   ],
   "source": [
    "# Calculate IQR of prices in Ekaterinburg\n",
    "quartiles = group3.quantile([.25,.5,.75])\n",
    "lowerq = quartiles[0.25]\n",
    "upperq = quartiles[0.75]\n",
    "iqr = upperq-lowerq\n",
    "\n",
    "print(f\"The lower quartile of prices is: {lowerq}\")\n",
    "print(f\"The upper quartile of prices is: {upperq}\")\n",
    "print(f\"The interquartile range of prices is: {iqr}\")\n",
    "print(f\"The the median of prices is: {quartiles[0.5]} \")\n",
    "\n",
    "lower_bound = lowerq - (1.5*iqr)\n",
    "upper_bound = upperq + (1.5*iqr)\n",
    "print(f\"Values below {lower_bound} could be outliers.\")\n",
    "print(f\"Values above {upper_bound} could be outliers.\")"
   ]
  },
  {
   "cell_type": "markdown",
   "metadata": {},
   "source": [
    "# DRIVER GENDER 'driver_gender'"
   ]
  },
  {
   "cell_type": "code",
   "execution_count": 36,
   "metadata": {},
   "outputs": [
    {
     "data": {
      "text/html": [
       "<div>\n",
       "<style scoped>\n",
       "    .dataframe tbody tr th:only-of-type {\n",
       "        vertical-align: middle;\n",
       "    }\n",
       "\n",
       "    .dataframe tbody tr th {\n",
       "        vertical-align: top;\n",
       "    }\n",
       "\n",
       "    .dataframe thead th {\n",
       "        text-align: right;\n",
       "    }\n",
       "</style>\n",
       "<table border=\"1\" class=\"dataframe\">\n",
       "  <thead>\n",
       "    <tr style=\"text-align: right;\">\n",
       "      <th></th>\n",
       "      <th>Gender Count</th>\n",
       "      <th>Gender Percentage</th>\n",
       "    </tr>\n",
       "  </thead>\n",
       "  <tbody>\n",
       "    <tr>\n",
       "      <th>Male</th>\n",
       "      <td>659</td>\n",
       "      <td>97.2</td>\n",
       "    </tr>\n",
       "    <tr>\n",
       "      <th>Female</th>\n",
       "      <td>19</td>\n",
       "      <td>2.8</td>\n",
       "    </tr>\n",
       "  </tbody>\n",
       "</table>\n",
       "</div>"
      ],
      "text/plain": [
       "        Gender Count  Gender Percentage\n",
       "Male             659               97.2\n",
       "Female            19                2.8"
      ]
     },
     "execution_count": 36,
     "metadata": {},
     "output_type": "execute_result"
    }
   ],
   "source": [
    "# Calculate the number of male and female drivers\n",
    "gender_count = uber_df[\"driver_gender\"].value_counts()\n",
    "\n",
    "# Calculate the percentage of male and female drivers\n",
    "percent_count = round((gender_count)/len(uber_df['driver_gender'])*100,2)\n",
    "\n",
    "# Create a summary table for genders\n",
    "gender_table = pd.DataFrame({\"Gender Count\": gender_count, \"Gender Percentage\":percent_count})\n",
    "gender_table"
   ]
  },
  {
   "cell_type": "code",
   "execution_count": 37,
   "metadata": {},
   "outputs": [
    {
     "data": {
      "image/png": "[encoded data removed]",
      "text/plain": [
       "<Figure size 432x288 with 1 Axes>"
      ]
     },
     "metadata": {},
     "output_type": "display_data"
    }
   ],
   "source": [
    "# Create a pie chart for genders\n",
    "labels = 'Male', 'Female'\n",
    "sizes = percent_count\n",
    "colors = [\"lightblue\", \"red\"]\n",
    "\n",
    "plt.pie(sizes, labels=labels, colors=colors, shadow=True, autopct='%1.1f%%', startangle=140)\n",
    "plt.title(\"Percentage of Male and Female drivers\")\n",
    "\n",
    "plt.savefig(\"Images/percent_gender_pie_chart.png\")\n",
    "plt.show()"
   ]
  },
  {
   "cell_type": "code",
   "execution_count": 38,
   "metadata": {},
   "outputs": [
    {
     "data": {
      "image/png": "[encoded data removed]",
      "text/plain": [
       "<Figure size 432x288 with 1 Axes>"
      ]
     },
     "metadata": {},
     "output_type": "display_data"
    }
   ],
   "source": [
    "# Calculate the number of trips\n",
    "trip_status = uber_df[\"trip_status\"].value_counts()\n",
    "\n",
    "# Calculate the percentage\n",
    "trip_percent_count = round((trip_status)/len(uber_df['trip_status'])*100,2)\n",
    "\n",
    "# Create a summary table for trip status\n",
    "trip_table = pd.DataFrame({\"Trip Status\": trip_status, \"Trip Percent\":trip_percent_count})\n",
    "trip_table\n",
    "\n",
    "# Create a pie chart for trip status\n",
    "labels = 'Completed','Cancelled'\n",
    "sizes = trip_percent_count\n",
    "colors = [\"lightgreen\", \"purple\"]\n",
    "\n",
    "plt.pie(sizes, labels=labels, colors=colors, shadow=True, autopct='%1.1f%%', startangle=140)\n",
    "plt.title(\"Trips Status\")\n",
    "\n",
    "\n",
    "plt.savefig(\"percent_status_pie_chart.png\")\n",
    "plt.show()"
   ]
  },
  {
   "cell_type": "markdown",
   "metadata": {},
   "source": [
    "# DRIVER FIRST NAME 'driver_name_en'"
   ]
  },
  {
   "cell_type": "code",
   "execution_count": 39,
   "metadata": {},
   "outputs": [
    {
     "data": {
      "text/html": [
       "<div>\n",
       "<style scoped>\n",
       "    .dataframe tbody tr th:only-of-type {\n",
       "        vertical-align: middle;\n",
       "    }\n",
       "\n",
       "    .dataframe tbody tr th {\n",
       "        vertical-align: top;\n",
       "    }\n",
       "\n",
       "    .dataframe thead th {\n",
       "        text-align: right;\n",
       "    }\n",
       "</style>\n",
       "<table border=\"1\" class=\"dataframe\">\n",
       "  <thead>\n",
       "    <tr style=\"text-align: right;\">\n",
       "      <th></th>\n",
       "      <th>First Name</th>\n",
       "      <th>Name Count</th>\n",
       "    </tr>\n",
       "  </thead>\n",
       "  <tbody>\n",
       "    <tr>\n",
       "      <th>0</th>\n",
       "      <td>Abbos</td>\n",
       "      <td>1</td>\n",
       "    </tr>\n",
       "    <tr>\n",
       "      <th>1</th>\n",
       "      <td>Abdula</td>\n",
       "      <td>1</td>\n",
       "    </tr>\n",
       "    <tr>\n",
       "      <th>2</th>\n",
       "      <td>Abdullo</td>\n",
       "      <td>1</td>\n",
       "    </tr>\n",
       "    <tr>\n",
       "      <th>3</th>\n",
       "      <td>Abuzar</td>\n",
       "      <td>1</td>\n",
       "    </tr>\n",
       "    <tr>\n",
       "      <th>4</th>\n",
       "      <td>Ahmad</td>\n",
       "      <td>1</td>\n",
       "    </tr>\n",
       "  </tbody>\n",
       "</table>\n",
       "</div>"
      ],
      "text/plain": [
       "  First Name  Name Count\n",
       "0      Abbos           1\n",
       "1     Abdula           1\n",
       "2    Abdullo           1\n",
       "3     Abuzar           1\n",
       "4      Ahmad           1"
      ]
     },
     "execution_count": 39,
     "metadata": {},
     "output_type": "execute_result"
    }
   ],
   "source": [
    "# Find drivers first name\n",
    "drivers_names = pd.DataFrame(uber_df['driver_name_en'])\n",
    "\n",
    "# Show duplicates first names\n",
    "drivers_names = drivers_names.groupby(drivers_names.columns.tolist()).size()\n",
    "names_df = pd.DataFrame(drivers_names).reset_index()\n",
    "\n",
    "first_name = names_df['driver_name_en']\n",
    "name_count = names_df[0]\n",
    "\n",
    "# Show table with all the first names\n",
    "names_table = pd.DataFrame({\"First Name\": first_name, \"Name Count\": name_count})\n",
    "names_table.head()"
   ]
  },
  {
   "cell_type": "code",
   "execution_count": 40,
   "metadata": {},
   "outputs": [
    {
     "data": {
      "text/html": [
       "<div>\n",
       "<style scoped>\n",
       "    .dataframe tbody tr th:only-of-type {\n",
       "        vertical-align: middle;\n",
       "    }\n",
       "\n",
       "    .dataframe tbody tr th {\n",
       "        vertical-align: top;\n",
       "    }\n",
       "\n",
       "    .dataframe thead th {\n",
       "        text-align: right;\n",
       "    }\n",
       "</style>\n",
       "<table border=\"1\" class=\"dataframe\">\n",
       "  <thead>\n",
       "    <tr style=\"text-align: right;\">\n",
       "      <th></th>\n",
       "      <th>First Name</th>\n",
       "      <th>Name Count</th>\n",
       "    </tr>\n",
       "  </thead>\n",
       "  <tbody>\n",
       "    <tr>\n",
       "      <th>10</th>\n",
       "      <td>Aleksandr</td>\n",
       "      <td>54</td>\n",
       "    </tr>\n",
       "    <tr>\n",
       "      <th>143</th>\n",
       "      <td>Sergey</td>\n",
       "      <td>40</td>\n",
       "    </tr>\n",
       "    <tr>\n",
       "      <th>11</th>\n",
       "      <td>Aleksey</td>\n",
       "      <td>38</td>\n",
       "    </tr>\n",
       "    <tr>\n",
       "      <th>18</th>\n",
       "      <td>Andrey</td>\n",
       "      <td>37</td>\n",
       "    </tr>\n",
       "    <tr>\n",
       "      <th>51</th>\n",
       "      <td>Dmitriy</td>\n",
       "      <td>29</td>\n",
       "    </tr>\n",
       "  </tbody>\n",
       "</table>\n",
       "</div>"
      ],
      "text/plain": [
       "    First Name  Name Count\n",
       "10   Aleksandr          54\n",
       "143     Sergey          40\n",
       "11     Aleksey          38\n",
       "18      Andrey          37\n",
       "51     Dmitriy          29"
      ]
     },
     "execution_count": 40,
     "metadata": {},
     "output_type": "execute_result"
    }
   ],
   "source": [
    "# Create a table with the 15 most popular first names among Uber drivers \n",
    "top_names = names_table.nlargest(15,['Name Count']) \n",
    "top_names.head()"
   ]
  },
  {
   "cell_type": "code",
   "execution_count": 41,
   "metadata": {},
   "outputs": [
    {
     "data": {
      "image/png": "[encoded data removed]",
      "text/plain": [
       "<Figure size 432x288 with 1 Axes>"
      ]
     },
     "metadata": {},
     "output_type": "display_data"
    }
   ],
   "source": [
    "# Create a bar chart with the 15 most popular drivers first name\n",
    "first_names1 = top_names['First Name']\n",
    "total_names1 = np.arange(len(first_names1))\n",
    "popularity1 = top_names['Name Count']\n",
    "\n",
    "plt.bar(total_names1, popularity1, align='center', alpha=0.5, color='green')\n",
    "plt.xticks(total_names1, first_names1)\n",
    "plt.ylabel('Popularity')\n",
    "plt.xlabel('Drivers First Name')\n",
    "plt.title(\"Most popular drivers' first name\")\n",
    "plt.xticks(rotation='vertical')\n",
    "plt.savefig(\"Images/popular_names_bar_chart.png\")\n",
    "plt.tight_layout()\n",
    "plt.show()\n"
   ]
  },
  {
   "cell_type": "markdown",
   "metadata": {},
   "source": [
    "# WAIT TIME 'wait_time'"
   ]
  },
  {
   "cell_type": "code",
   "execution_count": 42,
   "metadata": {},
   "outputs": [
    {
     "data": {
      "text/html": [
       "<div>\n",
       "<style scoped>\n",
       "    .dataframe tbody tr th:only-of-type {\n",
       "        vertical-align: middle;\n",
       "    }\n",
       "\n",
       "    .dataframe tbody tr th {\n",
       "        vertical-align: top;\n",
       "    }\n",
       "\n",
       "    .dataframe thead th {\n",
       "        text-align: right;\n",
       "    }\n",
       "</style>\n",
       "<table border=\"1\" class=\"dataframe\">\n",
       "  <thead>\n",
       "    <tr style=\"text-align: right;\">\n",
       "      <th></th>\n",
       "      <th>wait_time</th>\n",
       "    </tr>\n",
       "  </thead>\n",
       "  <tbody>\n",
       "    <tr>\n",
       "      <th>238</th>\n",
       "      <td>2019-10-03 00:07:32</td>\n",
       "    </tr>\n",
       "    <tr>\n",
       "      <th>213</th>\n",
       "      <td>2019-10-03 00:07:21</td>\n",
       "    </tr>\n",
       "    <tr>\n",
       "      <th>37</th>\n",
       "      <td>2019-10-03 00:01:17</td>\n",
       "    </tr>\n",
       "    <tr>\n",
       "      <th>36</th>\n",
       "      <td>2019-10-03 00:15:29</td>\n",
       "    </tr>\n",
       "    <tr>\n",
       "      <th>389</th>\n",
       "      <td>2019-10-03 00:09:16</td>\n",
       "    </tr>\n",
       "  </tbody>\n",
       "</table>\n",
       "</div>"
      ],
      "text/plain": [
       "              wait_time\n",
       "238 2019-10-03 00:07:32\n",
       "213 2019-10-03 00:07:21\n",
       "37  2019-10-03 00:01:17\n",
       "36  2019-10-03 00:15:29\n",
       "389 2019-10-03 00:09:16"
      ]
     },
     "execution_count": 42,
     "metadata": {},
     "output_type": "execute_result"
    }
   ],
   "source": [
    "# Show wait time and convert to time format \n",
    "wait_df = uber_df['wait_time']\n",
    "wait_df = pd.to_datetime(uber_df['wait_time'])\n",
    "pd.DataFrame(wait_df).head()"
   ]
  },
  {
   "cell_type": "code",
   "execution_count": 43,
   "metadata": {},
   "outputs": [
    {
     "data": {
      "text/html": [
       "<div>\n",
       "<style scoped>\n",
       "    .dataframe tbody tr th:only-of-type {\n",
       "        vertical-align: middle;\n",
       "    }\n",
       "\n",
       "    .dataframe tbody tr th {\n",
       "        vertical-align: top;\n",
       "    }\n",
       "\n",
       "    .dataframe thead th {\n",
       "        text-align: right;\n",
       "    }\n",
       "</style>\n",
       "<table border=\"1\" class=\"dataframe\">\n",
       "  <thead>\n",
       "    <tr style=\"text-align: right;\">\n",
       "      <th></th>\n",
       "      <th>Trip Number</th>\n",
       "      <th>Trip Date</th>\n",
       "    </tr>\n",
       "  </thead>\n",
       "  <tbody>\n",
       "    <tr>\n",
       "      <th>0</th>\n",
       "      <td>238</td>\n",
       "      <td>2016-10-08 13:41:00</td>\n",
       "    </tr>\n",
       "    <tr>\n",
       "      <th>1</th>\n",
       "      <td>213</td>\n",
       "      <td>2016-09-12 15:44:00</td>\n",
       "    </tr>\n",
       "    <tr>\n",
       "      <th>2</th>\n",
       "      <td>37</td>\n",
       "      <td>2015-06-16 11:10:00</td>\n",
       "    </tr>\n",
       "    <tr>\n",
       "      <th>3</th>\n",
       "      <td>36</td>\n",
       "      <td>2015-06-16 10:35:00</td>\n",
       "    </tr>\n",
       "    <tr>\n",
       "      <th>4</th>\n",
       "      <td>389</td>\n",
       "      <td>2017-08-07 10:26:00</td>\n",
       "    </tr>\n",
       "  </tbody>\n",
       "</table>\n",
       "</div>"
      ],
      "text/plain": [
       "   Trip Number           Trip Date\n",
       "0          238 2016-10-08 13:41:00\n",
       "1          213 2016-09-12 15:44:00\n",
       "2           37 2015-06-16 11:10:00\n",
       "3           36 2015-06-16 10:35:00\n",
       "4          389 2017-08-07 10:26:00"
      ]
     },
     "execution_count": 43,
     "metadata": {},
     "output_type": "execute_result"
    }
   ],
   "source": [
    "# Find all the trips dates \n",
    "start_df = uber_df['trip_start_time']\n",
    "start_df = pd.to_datetime(start_df).reset_index()\n",
    "start_df\n",
    "\n",
    "trip_number = start_df['index']\n",
    "trip_date = start_df['trip_start_time']\n",
    "\n",
    "# Show table with all the trips and dates\n",
    "trip_dates_df = pd.DataFrame({\"Trip Number\": trip_number, \"Trip Date\": trip_date})\n",
    "trip_dates_df.head()"
   ]
  },
  {
   "cell_type": "code",
   "execution_count": 44,
   "metadata": {},
   "outputs": [
    {
     "data": {
      "text/html": [
       "<div>\n",
       "<style scoped>\n",
       "    .dataframe tbody tr th:only-of-type {\n",
       "        vertical-align: middle;\n",
       "    }\n",
       "\n",
       "    .dataframe tbody tr th {\n",
       "        vertical-align: top;\n",
       "    }\n",
       "\n",
       "    .dataframe thead th {\n",
       "        text-align: right;\n",
       "    }\n",
       "</style>\n",
       "<table border=\"1\" class=\"dataframe\">\n",
       "  <thead>\n",
       "    <tr style=\"text-align: right;\">\n",
       "      <th></th>\n",
       "      <th>Trip Number</th>\n",
       "      <th>Trip Date</th>\n",
       "      <th>Month</th>\n",
       "      <th>Year</th>\n",
       "      <th>Wait Time by Minutes</th>\n",
       "    </tr>\n",
       "  </thead>\n",
       "  <tbody>\n",
       "    <tr>\n",
       "      <th>0</th>\n",
       "      <td>238</td>\n",
       "      <td>2016-10-08 13:41:00</td>\n",
       "      <td>10</td>\n",
       "      <td>2016</td>\n",
       "      <td>7</td>\n",
       "    </tr>\n",
       "    <tr>\n",
       "      <th>1</th>\n",
       "      <td>213</td>\n",
       "      <td>2016-09-12 15:44:00</td>\n",
       "      <td>9</td>\n",
       "      <td>2016</td>\n",
       "      <td>6</td>\n",
       "    </tr>\n",
       "    <tr>\n",
       "      <th>2</th>\n",
       "      <td>37</td>\n",
       "      <td>2015-06-16 11:10:00</td>\n",
       "      <td>6</td>\n",
       "      <td>2015</td>\n",
       "      <td>16</td>\n",
       "    </tr>\n",
       "    <tr>\n",
       "      <th>3</th>\n",
       "      <td>36</td>\n",
       "      <td>2015-06-16 10:35:00</td>\n",
       "      <td>6</td>\n",
       "      <td>2015</td>\n",
       "      <td>6</td>\n",
       "    </tr>\n",
       "    <tr>\n",
       "      <th>4</th>\n",
       "      <td>389</td>\n",
       "      <td>2017-08-07 10:26:00</td>\n",
       "      <td>8</td>\n",
       "      <td>2017</td>\n",
       "      <td>10</td>\n",
       "    </tr>\n",
       "  </tbody>\n",
       "</table>\n",
       "</div>"
      ],
      "text/plain": [
       "   Trip Number           Trip Date Month  Year  Wait Time by Minutes\n",
       "0          238 2016-10-08 13:41:00    10  2016                     7\n",
       "1          213 2016-09-12 15:44:00     9  2016                     6\n",
       "2           37 2015-06-16 11:10:00     6  2015                    16\n",
       "3           36 2015-06-16 10:35:00     6  2015                     6\n",
       "4          389 2017-08-07 10:26:00     8  2017                    10"
      ]
     },
     "execution_count": 44,
     "metadata": {},
     "output_type": "execute_result"
    }
   ],
   "source": [
    "# Show the year and month for each trip \n",
    "trip_dates_df['Year'] = trip_dates_df['Trip Date'].apply(lambda line:  str(line.year))\n",
    "trip_dates_df['Month'] = trip_dates_df['Trip Date'].apply(lambda line:  str(line.month))\n",
    "\n",
    "new_trip_table = pd.DataFrame({\"Trip Number\": trip_number, \n",
    "                               \"Trip Date\": trip_date, \n",
    "                               \"Month\": (trip_dates_df['Month']), \n",
    "                               \"Year\": (trip_dates_df['Year']), \n",
    "                               \"Wait Time by Minutes\": (wait_df.dt.minute)})\n",
    "\n",
    "new_trip_table.head()\n"
   ]
  },
  {
   "cell_type": "code",
   "execution_count": 45,
   "metadata": {},
   "outputs": [
    {
     "data": {
      "text/html": [
       "<div>\n",
       "<style scoped>\n",
       "    .dataframe tbody tr th:only-of-type {\n",
       "        vertical-align: middle;\n",
       "    }\n",
       "\n",
       "    .dataframe tbody tr th {\n",
       "        vertical-align: top;\n",
       "    }\n",
       "\n",
       "    .dataframe thead th {\n",
       "        text-align: right;\n",
       "    }\n",
       "</style>\n",
       "<table border=\"1\" class=\"dataframe\">\n",
       "  <thead>\n",
       "    <tr style=\"text-align: right;\">\n",
       "      <th></th>\n",
       "      <th></th>\n",
       "      <th>Wait Time by Minutes</th>\n",
       "    </tr>\n",
       "    <tr>\n",
       "      <th>Year</th>\n",
       "      <th>Month</th>\n",
       "      <th></th>\n",
       "    </tr>\n",
       "  </thead>\n",
       "  <tbody>\n",
       "    <tr>\n",
       "      <th rowspan=\"5\" valign=\"top\">2015</th>\n",
       "      <th>10</th>\n",
       "      <td>8.166667</td>\n",
       "    </tr>\n",
       "    <tr>\n",
       "      <th>11</th>\n",
       "      <td>8.800000</td>\n",
       "    </tr>\n",
       "    <tr>\n",
       "      <th>12</th>\n",
       "      <td>10.571429</td>\n",
       "    </tr>\n",
       "    <tr>\n",
       "      <th>5</th>\n",
       "      <td>8.333333</td>\n",
       "    </tr>\n",
       "    <tr>\n",
       "      <th>6</th>\n",
       "      <td>6.342857</td>\n",
       "    </tr>\n",
       "  </tbody>\n",
       "</table>\n",
       "</div>"
      ],
      "text/plain": [
       "            Wait Time by Minutes\n",
       "Year Month                      \n",
       "2015 10                 8.166667\n",
       "     11                 8.800000\n",
       "     12                10.571429\n",
       "     5                  8.333333\n",
       "     6                  6.342857"
      ]
     },
     "execution_count": 45,
     "metadata": {},
     "output_type": "execute_result"
    }
   ],
   "source": [
    "# Find the average wait time per month\n",
    "wait_df_mean = new_trip_table.groupby(['Year','Month'])[\"Wait Time by Minutes\"].mean()\n",
    "pd.DataFrame(wait_df_mean).head()"
   ]
  },
  {
   "cell_type": "code",
   "execution_count": 46,
   "metadata": {},
   "outputs": [
    {
     "data": {
      "text/html": [
       "<div>\n",
       "<style scoped>\n",
       "    .dataframe tbody tr th:only-of-type {\n",
       "        vertical-align: middle;\n",
       "    }\n",
       "\n",
       "    .dataframe tbody tr th {\n",
       "        vertical-align: top;\n",
       "    }\n",
       "\n",
       "    .dataframe thead th {\n",
       "        text-align: right;\n",
       "    }\n",
       "</style>\n",
       "<table border=\"1\" class=\"dataframe\">\n",
       "  <thead>\n",
       "    <tr style=\"text-align: right;\">\n",
       "      <th></th>\n",
       "      <th></th>\n",
       "      <th>Wait Time by Minutes</th>\n",
       "    </tr>\n",
       "    <tr>\n",
       "      <th>Year</th>\n",
       "      <th>Month</th>\n",
       "      <th></th>\n",
       "    </tr>\n",
       "  </thead>\n",
       "  <tbody>\n",
       "    <tr>\n",
       "      <th rowspan=\"5\" valign=\"top\">2015</th>\n",
       "      <th>10</th>\n",
       "      <td>13</td>\n",
       "    </tr>\n",
       "    <tr>\n",
       "      <th>11</th>\n",
       "      <td>16</td>\n",
       "    </tr>\n",
       "    <tr>\n",
       "      <th>12</th>\n",
       "      <td>17</td>\n",
       "    </tr>\n",
       "    <tr>\n",
       "      <th>5</th>\n",
       "      <td>15</td>\n",
       "    </tr>\n",
       "    <tr>\n",
       "      <th>6</th>\n",
       "      <td>18</td>\n",
       "    </tr>\n",
       "  </tbody>\n",
       "</table>\n",
       "</div>"
      ],
      "text/plain": [
       "            Wait Time by Minutes\n",
       "Year Month                      \n",
       "2015 10                       13\n",
       "     11                       16\n",
       "     12                       17\n",
       "     5                        15\n",
       "     6                        18"
      ]
     },
     "execution_count": 46,
     "metadata": {},
     "output_type": "execute_result"
    }
   ],
   "source": [
    "# Find the maximum wait time per month\n",
    "wait_df_by_max = new_trip_table.groupby(['Year','Month'])[\"Wait Time by Minutes\"].max()\n",
    "pd.DataFrame(wait_df_by_max).head()"
   ]
  },
  {
   "cell_type": "code",
   "execution_count": 47,
   "metadata": {},
   "outputs": [
    {
     "data": {
      "text/html": [
       "<div>\n",
       "<style scoped>\n",
       "    .dataframe tbody tr th:only-of-type {\n",
       "        vertical-align: middle;\n",
       "    }\n",
       "\n",
       "    .dataframe tbody tr th {\n",
       "        vertical-align: top;\n",
       "    }\n",
       "\n",
       "    .dataframe thead th {\n",
       "        text-align: right;\n",
       "    }\n",
       "</style>\n",
       "<table border=\"1\" class=\"dataframe\">\n",
       "  <thead>\n",
       "    <tr style=\"text-align: right;\">\n",
       "      <th></th>\n",
       "      <th></th>\n",
       "      <th>Wait Time by Minutes</th>\n",
       "    </tr>\n",
       "    <tr>\n",
       "      <th>Year</th>\n",
       "      <th>Month</th>\n",
       "      <th></th>\n",
       "    </tr>\n",
       "  </thead>\n",
       "  <tbody>\n",
       "    <tr>\n",
       "      <th rowspan=\"5\" valign=\"top\">2015</th>\n",
       "      <th>10</th>\n",
       "      <td>3</td>\n",
       "    </tr>\n",
       "    <tr>\n",
       "      <th>11</th>\n",
       "      <td>2</td>\n",
       "    </tr>\n",
       "    <tr>\n",
       "      <th>12</th>\n",
       "      <td>1</td>\n",
       "    </tr>\n",
       "    <tr>\n",
       "      <th>5</th>\n",
       "      <td>2</td>\n",
       "    </tr>\n",
       "    <tr>\n",
       "      <th>6</th>\n",
       "      <td>0</td>\n",
       "    </tr>\n",
       "  </tbody>\n",
       "</table>\n",
       "</div>"
      ],
      "text/plain": [
       "            Wait Time by Minutes\n",
       "Year Month                      \n",
       "2015 10                        3\n",
       "     11                        2\n",
       "     12                        1\n",
       "     5                         2\n",
       "     6                         0"
      ]
     },
     "execution_count": 47,
     "metadata": {},
     "output_type": "execute_result"
    }
   ],
   "source": [
    "# Find the minimum wait time per month\n",
    "wait_df_by_min = new_trip_table.groupby(['Year','Month'])[\"Wait Time by Minutes\"].min()\n",
    "pd.DataFrame(wait_df_by_min).head()"
   ]
  },
  {
   "cell_type": "code",
   "execution_count": 48,
   "metadata": {},
   "outputs": [
    {
     "data": {
      "text/html": [
       "<div>\n",
       "<style scoped>\n",
       "    .dataframe tbody tr th:only-of-type {\n",
       "        vertical-align: middle;\n",
       "    }\n",
       "\n",
       "    .dataframe tbody tr th {\n",
       "        vertical-align: top;\n",
       "    }\n",
       "\n",
       "    .dataframe thead th {\n",
       "        text-align: right;\n",
       "    }\n",
       "</style>\n",
       "<table border=\"1\" class=\"dataframe\">\n",
       "  <thead>\n",
       "    <tr style=\"text-align: right;\">\n",
       "      <th></th>\n",
       "      <th></th>\n",
       "      <th>Maximum Wait</th>\n",
       "      <th>Average Wait</th>\n",
       "      <th>Minimum Wait</th>\n",
       "    </tr>\n",
       "    <tr>\n",
       "      <th>Year</th>\n",
       "      <th>Month</th>\n",
       "      <th></th>\n",
       "      <th></th>\n",
       "      <th></th>\n",
       "    </tr>\n",
       "  </thead>\n",
       "  <tbody>\n",
       "    <tr>\n",
       "      <th rowspan=\"5\" valign=\"top\">2015</th>\n",
       "      <th>10</th>\n",
       "      <td>13</td>\n",
       "      <td>8.166667</td>\n",
       "      <td>3</td>\n",
       "    </tr>\n",
       "    <tr>\n",
       "      <th>11</th>\n",
       "      <td>16</td>\n",
       "      <td>8.800000</td>\n",
       "      <td>2</td>\n",
       "    </tr>\n",
       "    <tr>\n",
       "      <th>12</th>\n",
       "      <td>17</td>\n",
       "      <td>10.571429</td>\n",
       "      <td>1</td>\n",
       "    </tr>\n",
       "    <tr>\n",
       "      <th>5</th>\n",
       "      <td>15</td>\n",
       "      <td>8.333333</td>\n",
       "      <td>2</td>\n",
       "    </tr>\n",
       "    <tr>\n",
       "      <th>6</th>\n",
       "      <td>18</td>\n",
       "      <td>6.342857</td>\n",
       "      <td>0</td>\n",
       "    </tr>\n",
       "  </tbody>\n",
       "</table>\n",
       "</div>"
      ],
      "text/plain": [
       "            Maximum Wait  Average Wait  Minimum Wait\n",
       "Year Month                                          \n",
       "2015 10               13      8.166667             3\n",
       "     11               16      8.800000             2\n",
       "     12               17     10.571429             1\n",
       "     5                15      8.333333             2\n",
       "     6                18      6.342857             0"
      ]
     },
     "execution_count": 48,
     "metadata": {},
     "output_type": "execute_result"
    }
   ],
   "source": [
    "all_wait_df = pd.DataFrame({\"Maximum Wait\": (wait_df_by_max), \n",
    "                          \"Average Wait\": (wait_df_mean), \n",
    "                            \"Minimum Wait\": (wait_df_by_min)})\n",
    "pd.DataFrame(all_wait_df).head()"
   ]
  },
  {
   "cell_type": "code",
   "execution_count": 49,
   "metadata": {},
   "outputs": [
    {
     "data": {
      "image/png": "[encoded data removed]",
      "text/plain": [
       "<Figure size 1080x432 with 1 Axes>"
      ]
     },
     "metadata": {},
     "output_type": "display_data"
    }
   ],
   "source": [
    "# Create a line graph showing the average, minimum and maximum wait time for each month\n",
    "all_wait_df.plot(style='-', color =('tab:red', 'orange', 'tab:blue'),figsize=(15,6))\n",
    "\n",
    "plt.xlabel(\"Years (by month)\")\n",
    "plt.ylabel(\"Wait Time (in minutes)\")\n",
    "plt.legend(loc=\"best\")\n",
    "plt.title(\"Evolution of Waiting Time over the Years\")\n",
    "plt.grid(axis='y')\n",
    "plt.xticks(rotation=45)\n",
    "plt.savefig(\"Images/wait_time_line_chart.png\")\n",
    "plt.tight_layout()\n",
    "plt.show()\n"
   ]
  },
  {
   "cell_type": "code",
   "execution_count": 52,
   "metadata": {},
   "outputs": [
    {
     "data": {
      "image/png": "[encoded data removed]",
      "text/plain": [
       "<Figure size 432x288 with 1 Axes>"
      ]
     },
     "metadata": {},
     "output_type": "display_data"
    }
   ],
   "source": [
    "# Same, grouped by city\n",
    "new_trip_table2 = pd.DataFrame({\"Wait Time by Minutes\": (wait_df.dt.minute), \"City\": (uber_df['city'])})\n",
    "new_trip_table2\n",
    "\n",
    "new_trip_table2 = new_trip_table2.groupby(['City'])['Wait Time by Minutes'].mean().reset_index()\n",
    "pd.DataFrame(new_trip_table2).head()\n",
    "\n",
    "new_trip_table2['City']\n",
    "\n",
    "# create a bar chart grouped by city \n",
    "first_names12 = new_trip_table2['City']\n",
    "total_names12 = np.arange(len(first_names12))\n",
    "popularity12 = new_trip_table2['Wait Time by Minutes']\n",
    "\n",
    "plt.bar(total_names12, popularity12, align='center', alpha=0.5, color='green')\n",
    "plt.xticks(total_names12, first_names12)\n",
    "plt.ylabel('Wait Time')\n",
    "plt.xlabel('City')\n",
    "plt.title(\"Wait time per city\")\n",
    "\n",
    "\n",
    "plt.savefig(\"wait_time_bar.png\")\n",
    "plt.show()\n"
   ]
  },
  {
   "cell_type": "code",
   "execution_count": 53,
   "metadata": {},
   "outputs": [
    {
     "data": {
      "text/plain": [
       "'02:18:23'"
      ]
     },
     "execution_count": 53,
     "metadata": {},
     "output_type": "execute_result"
    }
   ],
   "source": [
    "all_wait_df['Average Wait'].mean()\n",
    "all_wait_df['Minimum Wait'].mean()\n",
    "all_wait_df['Maximum Wait'].mean()\n",
    "uber_df['wait_time'].max()"
   ]
  },
  {
   "cell_type": "code",
   "execution_count": 54,
   "metadata": {},
   "outputs": [
    {
     "name": "stdout",
     "output_type": "stream",
     "text": [
      "The first trip recorded was on: 2016-10-08 13:41:00 and the last trip was on: 2017-08-18 00:18:00\n"
     ]
    }
   ],
   "source": [
    "#Find the first trip date\n",
    "first_trip = trip_dates_df['Trip Date'][trip_dates_df.index[0]]\n",
    "\n",
    "# Find the last trip date\n",
    "last_trip = trip_dates_df['Trip Date'][trip_dates_df.index[-1]]\n",
    "\n",
    "print (\"The first trip recorded was on:\", first_trip, \"and the last trip was on:\", last_trip)"
   ]
  },
  {
   "cell_type": "code",
   "execution_count": 57,
   "metadata": {},
   "outputs": [
    {
     "data": {
      "text/plain": [
       "238    50.000000\n",
       "213    77.777778\n",
       "37     11.111111\n",
       "36     88.235294\n",
       "389    32.142857\n",
       "dtype: float64"
      ]
     },
     "execution_count": 57,
     "metadata": {},
     "output_type": "execute_result"
    }
   ],
   "source": [
    "# Find percentage of wait time in total trip time \n",
    "\n",
    "ride_duration = uber_df['trip_time']\n",
    "ride_duration = pd.to_datetime(ride_duration)\n",
    "\n",
    "wait_duration = uber_df['wait_time']\n",
    "wait_duration = pd.to_datetime(wait_duration)\n",
    "\n",
    "\n",
    "\n",
    "percent_wait_of_total = (((wait_duration.dt.minute)*100) / ride_duration.dt.minute)\n",
    "percent_wait_of_total.head()"
   ]
  },
  {
   "cell_type": "code",
   "execution_count": 58,
   "metadata": {},
   "outputs": [
    {
     "data": {
      "text/html": [
       "<div>\n",
       "<style scoped>\n",
       "    .dataframe tbody tr th:only-of-type {\n",
       "        vertical-align: middle;\n",
       "    }\n",
       "\n",
       "    .dataframe tbody tr th {\n",
       "        vertical-align: top;\n",
       "    }\n",
       "\n",
       "    .dataframe thead th {\n",
       "        text-align: right;\n",
       "    }\n",
       "</style>\n",
       "<table border=\"1\" class=\"dataframe\">\n",
       "  <thead>\n",
       "    <tr style=\"text-align: right;\">\n",
       "      <th></th>\n",
       "      <th>Date/Time</th>\n",
       "      <th>lat</th>\n",
       "      <th>long</th>\n",
       "      <th>wait_time</th>\n",
       "    </tr>\n",
       "  </thead>\n",
       "  <tbody>\n",
       "    <tr>\n",
       "      <th>238</th>\n",
       "      <td>2016-10-08 13:41:00</td>\n",
       "      <td>59.940730</td>\n",
       "      <td>30.420205</td>\n",
       "      <td>00:07:32</td>\n",
       "    </tr>\n",
       "    <tr>\n",
       "      <th>213</th>\n",
       "      <td>2016-09-12 15:44:00</td>\n",
       "      <td>59.931748</td>\n",
       "      <td>30.356268</td>\n",
       "      <td>00:07:21</td>\n",
       "    </tr>\n",
       "    <tr>\n",
       "      <th>37</th>\n",
       "      <td>2015-06-16 11:10:00</td>\n",
       "      <td>59.931435</td>\n",
       "      <td>30.322819</td>\n",
       "      <td>00:01:17</td>\n",
       "    </tr>\n",
       "    <tr>\n",
       "      <th>36</th>\n",
       "      <td>2015-06-16 10:35:00</td>\n",
       "      <td>59.918865</td>\n",
       "      <td>30.286253</td>\n",
       "      <td>00:15:29</td>\n",
       "    </tr>\n",
       "    <tr>\n",
       "      <th>389</th>\n",
       "      <td>2017-08-07 10:26:00</td>\n",
       "      <td>59.799698</td>\n",
       "      <td>30.274180</td>\n",
       "      <td>00:09:16</td>\n",
       "    </tr>\n",
       "  </tbody>\n",
       "</table>\n",
       "</div>"
      ],
      "text/plain": [
       "               Date/Time        lat       long wait_time\n",
       "238  2016-10-08 13:41:00  59.940730  30.420205  00:07:32\n",
       "213  2016-09-12 15:44:00  59.931748  30.356268  00:07:21\n",
       "37   2015-06-16 11:10:00  59.931435  30.322819  00:01:17\n",
       "36   2015-06-16 10:35:00  59.918865  30.286253  00:15:29\n",
       "389  2017-08-07 10:26:00  59.799698  30.274180  00:09:16"
      ]
     },
     "execution_count": 58,
     "metadata": {},
     "output_type": "execute_result"
    }
   ],
   "source": [
    "uber_data = pd.DataFrame(uber_df, columns= [\"trip_start_time\",\"pickup_lat\",\"pickup_long\",\"wait_time\"])\n",
    "\n",
    "uber_data = uber_data.rename(columns={\"trip_start_time\": \"Date/Time\", \"pickup_lat\": \"lat\",\"pickup_long\": \"long\" })\n",
    "uber_data.head()"
   ]
  },
  {
   "cell_type": "code",
   "execution_count": 59,
   "metadata": {},
   "outputs": [
    {
     "data": {
      "text/html": [
       "<div>\n",
       "<style scoped>\n",
       "    .dataframe tbody tr th:only-of-type {\n",
       "        vertical-align: middle;\n",
       "    }\n",
       "\n",
       "    .dataframe tbody tr th {\n",
       "        vertical-align: top;\n",
       "    }\n",
       "\n",
       "    .dataframe thead th {\n",
       "        text-align: right;\n",
       "    }\n",
       "</style>\n",
       "<table border=\"1\" class=\"dataframe\">\n",
       "  <thead>\n",
       "    <tr style=\"text-align: right;\">\n",
       "      <th></th>\n",
       "      <th>Date/Time</th>\n",
       "      <th>lat</th>\n",
       "      <th>long</th>\n",
       "      <th>wait_time</th>\n",
       "      <th>Times</th>\n",
       "      <th>Hour</th>\n",
       "      <th>Date</th>\n",
       "      <th>WaitTimeInMinutes</th>\n",
       "      <th>Year</th>\n",
       "    </tr>\n",
       "  </thead>\n",
       "  <tbody>\n",
       "    <tr>\n",
       "      <th>238</th>\n",
       "      <td>2016-10-08 13:41:00</td>\n",
       "      <td>59.940730</td>\n",
       "      <td>30.420205</td>\n",
       "      <td>00:07:32</td>\n",
       "      <td>13:41:00</td>\n",
       "      <td>13</td>\n",
       "      <td>2016-10-08</td>\n",
       "      <td>7</td>\n",
       "      <td>2016</td>\n",
       "    </tr>\n",
       "    <tr>\n",
       "      <th>213</th>\n",
       "      <td>2016-09-12 15:44:00</td>\n",
       "      <td>59.931748</td>\n",
       "      <td>30.356268</td>\n",
       "      <td>00:07:21</td>\n",
       "      <td>15:44:00</td>\n",
       "      <td>15</td>\n",
       "      <td>2016-09-12</td>\n",
       "      <td>7</td>\n",
       "      <td>2016</td>\n",
       "    </tr>\n",
       "    <tr>\n",
       "      <th>37</th>\n",
       "      <td>2015-06-16 11:10:00</td>\n",
       "      <td>59.931435</td>\n",
       "      <td>30.322819</td>\n",
       "      <td>00:01:17</td>\n",
       "      <td>11:10:00</td>\n",
       "      <td>11</td>\n",
       "      <td>2015-06-16</td>\n",
       "      <td>1</td>\n",
       "      <td>2015</td>\n",
       "    </tr>\n",
       "    <tr>\n",
       "      <th>36</th>\n",
       "      <td>2015-06-16 10:35:00</td>\n",
       "      <td>59.918865</td>\n",
       "      <td>30.286253</td>\n",
       "      <td>00:15:29</td>\n",
       "      <td>10:35:00</td>\n",
       "      <td>10</td>\n",
       "      <td>2015-06-16</td>\n",
       "      <td>15</td>\n",
       "      <td>2015</td>\n",
       "    </tr>\n",
       "    <tr>\n",
       "      <th>389</th>\n",
       "      <td>2017-08-07 10:26:00</td>\n",
       "      <td>59.799698</td>\n",
       "      <td>30.274180</td>\n",
       "      <td>00:09:16</td>\n",
       "      <td>10:26:00</td>\n",
       "      <td>10</td>\n",
       "      <td>2017-08-07</td>\n",
       "      <td>9</td>\n",
       "      <td>2017</td>\n",
       "    </tr>\n",
       "  </tbody>\n",
       "</table>\n",
       "</div>"
      ],
      "text/plain": [
       "               Date/Time        lat       long wait_time     Times  Hour  \\\n",
       "238  2016-10-08 13:41:00  59.940730  30.420205  00:07:32  13:41:00    13   \n",
       "213  2016-09-12 15:44:00  59.931748  30.356268  00:07:21  15:44:00    15   \n",
       "37   2015-06-16 11:10:00  59.931435  30.322819  00:01:17  11:10:00    11   \n",
       "36   2015-06-16 10:35:00  59.918865  30.286253  00:15:29  10:35:00    10   \n",
       "389  2017-08-07 10:26:00  59.799698  30.274180  00:09:16  10:26:00    10   \n",
       "\n",
       "           Date  WaitTimeInMinutes  Year  \n",
       "238  2016-10-08                  7  2016  \n",
       "213  2016-09-12                  7  2016  \n",
       "37   2015-06-16                  1  2015  \n",
       "36   2015-06-16                 15  2015  \n",
       "389  2017-08-07                  9  2017  "
      ]
     },
     "execution_count": 59,
     "metadata": {},
     "output_type": "execute_result"
    }
   ],
   "source": [
    "#Convert The Date time column into Date, Time and Hour Column for detailed analysis\n",
    "uber_data[\"Times\"] = \"\"\n",
    "tripDate = pd.to_datetime(uber_data[\"Date/Time\"])\n",
    "uber_data = uber_data.assign(Times = tripDate)\n",
    "uber_data[\"Hour\"] = uber_data.Times.dt.hour # Split of Hour from Datetime Stamp\n",
    "uber_data[\"Date\"] = uber_data.Times.dt.date # Split of Date from Datetime Stamp\n",
    "uber_data[\"Times\"] = uber_data.Times.dt.time # Split of Time from Datetime Stamp\n",
    "uber_data[\"WaitTimeInMinutes\"] = pd.DatetimeIndex(uber_data[\"wait_time\"]).minute # Split of Time from Datetime Stamp\n",
    "uber_data[\"Year\"] = pd.DatetimeIndex(uber_data[\"Date\"]).year\n",
    "uber_data.head()"
   ]
  },
  {
   "cell_type": "code",
   "execution_count": 60,
   "metadata": {},
   "outputs": [
    {
     "ename": "NameError",
     "evalue": "name 'citipy' is not defined",
     "output_type": "error",
     "traceback": [
      "\u001b[0;31m---------------------------------------------------------------------------\u001b[0m",
      "\u001b[0;31mNameError\u001b[0m                                 Traceback (most recent call last)",
      "\u001b[0;32m<ipython-input-60-d9ffbb532273>\u001b[0m in \u001b[0;36m<module>\u001b[0;34m\u001b[0m\n\u001b[1;32m      3\u001b[0m \u001b[0muber_data\u001b[0m\u001b[0;34m[\u001b[0m\u001b[0;34m\"CityName\"\u001b[0m\u001b[0;34m]\u001b[0m \u001b[0;34m=\u001b[0m \u001b[0;34m\"\"\u001b[0m\u001b[0;34m\u001b[0m\u001b[0;34m\u001b[0m\u001b[0m\n\u001b[1;32m      4\u001b[0m \u001b[0;32mfor\u001b[0m \u001b[0mrow\u001b[0m \u001b[0;32min\u001b[0m \u001b[0muber_data\u001b[0m\u001b[0;34m.\u001b[0m\u001b[0mitertuples\u001b[0m\u001b[0;34m(\u001b[0m\u001b[0;34m)\u001b[0m\u001b[0;34m:\u001b[0m\u001b[0;34m\u001b[0m\u001b[0;34m\u001b[0m\u001b[0m\n\u001b[0;32m----> 5\u001b[0;31m      \u001b[0muber_data\u001b[0m\u001b[0;34m[\u001b[0m\u001b[0;34m\"CityName\"\u001b[0m\u001b[0;34m]\u001b[0m\u001b[0;34m[\u001b[0m\u001b[0mrow\u001b[0m\u001b[0;34m.\u001b[0m\u001b[0mIndex\u001b[0m\u001b[0;34m]\u001b[0m \u001b[0;34m=\u001b[0m \u001b[0mcitipy\u001b[0m\u001b[0;34m.\u001b[0m\u001b[0mnearest_city\u001b[0m\u001b[0;34m(\u001b[0m\u001b[0mrow\u001b[0m\u001b[0;34m.\u001b[0m\u001b[0mlat\u001b[0m\u001b[0;34m,\u001b[0m\u001b[0mrow\u001b[0m\u001b[0;34m.\u001b[0m\u001b[0mlong\u001b[0m\u001b[0;34m)\u001b[0m\u001b[0;34m.\u001b[0m\u001b[0mcity_name\u001b[0m\u001b[0;34m\u001b[0m\u001b[0;34m\u001b[0m\u001b[0m\n\u001b[0m\u001b[1;32m      6\u001b[0m \u001b[0;34m\u001b[0m\u001b[0m\n\u001b[1;32m      7\u001b[0m \u001b[0muber_data\u001b[0m\u001b[0;34m.\u001b[0m\u001b[0mhead\u001b[0m\u001b[0;34m(\u001b[0m\u001b[0;34m)\u001b[0m\u001b[0;34m\u001b[0m\u001b[0;34m\u001b[0m\u001b[0m\n",
      "\u001b[0;31mNameError\u001b[0m: name 'citipy' is not defined"
     ]
    }
   ],
   "source": [
    "# Calculating the City Name using the latitude and Longitude using CitiPy package\n",
    "# Performance optimisation was perfromed to process 1mn records faster\n",
    "uber_data[\"CityName\"] = \"\"\n",
    "for row in uber_data.itertuples():     \n",
    "     uber_data[\"CityName\"][row.Index] = citipy.nearest_city(row.lat,row.long).city_name    \n",
    "\n",
    "uber_data.head()"
   ]
  },
  {
   "cell_type": "code",
   "execution_count": 61,
   "metadata": {},
   "outputs": [
    {
     "data": {
      "image/png": "[encoded data removed]",
      "text/plain": [
       "<Figure size 720x432 with 1 Axes>"
      ]
     },
     "metadata": {},
     "output_type": "display_data"
    }
   ],
   "source": [
    "#Bar Plotting for Top 10 City for Rush City Analysis by count of trips in the city\n",
    "uberTripsByCity = uber_data.groupby([\"CityName\"])[\"CityName\"].count()\n",
    "uberSummaryTrips2DF = pd.DataFrame({ \"Trip Count\": uberTripsByCity })\n",
    "uberSummaryTrips2DF = uberSummaryTrips2DF.sort_values(by=[\"Trip Count\"], ascending = False)\n",
    "uberSummaryTrips2DF = uberSummaryTrips2DF.reset_index()\n",
    "uberSummaryTrips2DF = uberSummaryTrips2DF.head(10)\n",
    "uberSummaryTrips2DF.plot(\"CityName\", \"Trip Count\",kind=\"bar\",figsize=(10,6))\n",
    "plt.savefig('Images/Top 10 City for Rush City Analysis.png')\n",
    "plt.show()"
   ]
  },
  {
   "cell_type": "code",
   "execution_count": 62,
   "metadata": {},
   "outputs": [
    {
     "data": {
      "text/html": [
       "<div>\n",
       "<style scoped>\n",
       "    .dataframe tbody tr th:only-of-type {\n",
       "        vertical-align: middle;\n",
       "    }\n",
       "\n",
       "    .dataframe tbody tr th {\n",
       "        vertical-align: top;\n",
       "    }\n",
       "\n",
       "    .dataframe thead th {\n",
       "        text-align: right;\n",
       "    }\n",
       "</style>\n",
       "<table border=\"1\" class=\"dataframe\">\n",
       "  <thead>\n",
       "    <tr style=\"text-align: right;\">\n",
       "      <th></th>\n",
       "      <th>Hour</th>\n",
       "      <th>Trip Count</th>\n",
       "    </tr>\n",
       "  </thead>\n",
       "  <tbody>\n",
       "    <tr>\n",
       "      <th>0</th>\n",
       "      <td>0</td>\n",
       "      <td>9</td>\n",
       "    </tr>\n",
       "    <tr>\n",
       "      <th>1</th>\n",
       "      <td>1</td>\n",
       "      <td>3</td>\n",
       "    </tr>\n",
       "    <tr>\n",
       "      <th>2</th>\n",
       "      <td>3</td>\n",
       "      <td>4</td>\n",
       "    </tr>\n",
       "    <tr>\n",
       "      <th>3</th>\n",
       "      <td>4</td>\n",
       "      <td>3</td>\n",
       "    </tr>\n",
       "    <tr>\n",
       "      <th>4</th>\n",
       "      <td>5</td>\n",
       "      <td>9</td>\n",
       "    </tr>\n",
       "    <tr>\n",
       "      <th>5</th>\n",
       "      <td>7</td>\n",
       "      <td>13</td>\n",
       "    </tr>\n",
       "    <tr>\n",
       "      <th>6</th>\n",
       "      <td>8</td>\n",
       "      <td>16</td>\n",
       "    </tr>\n",
       "    <tr>\n",
       "      <th>7</th>\n",
       "      <td>9</td>\n",
       "      <td>37</td>\n",
       "    </tr>\n",
       "    <tr>\n",
       "      <th>8</th>\n",
       "      <td>10</td>\n",
       "      <td>61</td>\n",
       "    </tr>\n",
       "    <tr>\n",
       "      <th>9</th>\n",
       "      <td>11</td>\n",
       "      <td>58</td>\n",
       "    </tr>\n",
       "  </tbody>\n",
       "</table>\n",
       "</div>"
      ],
      "text/plain": [
       "   Hour  Trip Count\n",
       "0     0           9\n",
       "1     1           3\n",
       "2     3           4\n",
       "3     4           3\n",
       "4     5           9\n",
       "5     7          13\n",
       "6     8          16\n",
       "7     9          37\n",
       "8    10          61\n",
       "9    11          58"
      ]
     },
     "execution_count": 62,
     "metadata": {},
     "output_type": "execute_result"
    }
   ],
   "source": [
    "#This code is to derive trip analysis for all cities of UBER Data processed \n",
    "\n",
    "uberTripsByTime = uber_data.groupby(\"Hour\")[\"Hour\"].count()\n",
    "rush_hour_df = pd.DataFrame({ \"Trip Count\": uberTripsByTime })\n",
    "#rush_hour_df = rush_hour_df.sort_values(by=[\"Trip Count\"], ascending = False)\n",
    "rush_hour_df = rush_hour_df.reset_index()\n",
    "rush_hour_df.head(10)"
   ]
  },
  {
   "cell_type": "code",
   "execution_count": 63,
   "metadata": {},
   "outputs": [
    {
     "data": {
      "image/png": "[encoded data removed]",
      "text/plain": [
       "<Figure size 1440x432 with 1 Axes>"
      ]
     },
     "metadata": {},
     "output_type": "display_data"
    }
   ],
   "source": [
    "# Generate a bar plot showing number of data points for each Hour of Day using pandas to perfrom Rush Hour Analysis\n",
    "rush_hour_df.plot(\"Hour\", \"Trip Count\",kind=\"line\",figsize=(20,6))\n",
    "# Set a title for the chart\n",
    "plt.title(f\"Rush Hour Anlysis\")\n",
    "plt.xlabel(\"Time of Trip\")\n",
    "plt.ylabel(\"Count of Trips\")\n",
    "plt.tight_layout()\n",
    "plt.savefig('Images/Rush_hourAnalysis.png')\n",
    "plt.show()"
   ]
  },
  {
   "cell_type": "code",
   "execution_count": 64,
   "metadata": {},
   "outputs": [
    {
     "data": {
      "image/png": "[encoded data removed]",
      "text/plain": [
       "<Figure size 1440x432 with 1 Axes>"
      ]
     },
     "metadata": {},
     "output_type": "display_data"
    }
   ],
   "source": [
    "# Generate a bar plot to show Peak Rush Hour to Lowest Rush Hour using pandas\n",
    "rush_hour_df.plot(\"Hour\", \"Trip Count\",kind=\"bar\",figsize=(20,6))\n",
    "# Set a title for the chart\n",
    "plt.title(f\"Rush Hour Anlysis over 24Hr Daytime\")\n",
    "plt.xlabel(\"Hour of the Day\")\n",
    "plt.ylabel(\"Count of Trips\")\n",
    "plt.tight_layout()\n",
    "plt.savefig('Images/Rush_hourAnalysis_bar.png')\n",
    "plt.show()"
   ]
  },
  {
   "cell_type": "code",
   "execution_count": 65,
   "metadata": {},
   "outputs": [
    {
     "data": {
      "image/png": "[encoded data removed]",
      "text/plain": [
       "<Figure size 1440x432 with 1 Axes>"
      ]
     },
     "metadata": {},
     "output_type": "display_data"
    }
   ],
   "source": [
    "#Bar Plotting for Rush Hour Analysis based on wait time in each Hour of Day \n",
    "uberTripsByCity = uber_data.groupby(\"Hour\")[\"WaitTimeInMinutes\"].mean()\n",
    "uberTripsByCity = uberTripsByCity.reset_index()\n",
    "uberSummaryTrips2DF = pd.DataFrame(uberTripsByCity,columns=[\"Hour\",\"WaitTimeInMinutes\"])\n",
    "#uberSummaryTrips2DF = uberSummaryTrips2DF.reset_index()\n",
    "# uberSummaryTrips2DF = uberSummaryTrips2DF.head(10)\n",
    "uberSummaryTrips2DF.plot(\"Hour\",\"WaitTimeInMinutes\",kind=\"bar\",figsize=(20,6))\n",
    "plt.savefig('Images/waittime_in_Rush_Hour.png')\n",
    "plt.tight_layout()\n",
    "plt.show()"
   ]
  },
  {
   "cell_type": "code",
   "execution_count": 66,
   "metadata": {},
   "outputs": [
    {
     "data": {
      "image/png": "[encoded data removed]",
      "text/plain": [
       "<Figure size 432x288 with 1 Axes>"
      ]
     },
     "metadata": {},
     "output_type": "display_data"
    }
   ],
   "source": [
    "# Generate a scatter plot to show count of trips over 24 hour window\n",
    "\n",
    "plt.scatter(rush_hour_df['Hour'],rush_hour_df['Trip Count'])\n",
    "plt.xlabel('Hour of Time')\n",
    "plt.ylabel('Count of Trips')\n",
    "plt.show()"
   ]
  },
  {
   "cell_type": "code",
   "execution_count": 67,
   "metadata": {},
   "outputs": [
    {
     "name": "stdout",
     "output_type": "stream",
     "text": [
      "The correlation coefficient between both factors is 0.42\n",
      "The regression values for each hour of the day as part of linear regression model is:\n",
      "0     15.929897\n",
      "1     17.152069\n",
      "2     19.596415\n",
      "3     20.818587\n",
      "4     22.040760\n",
      "5     24.485105\n",
      "6     25.707278\n",
      "7     26.929451\n",
      "8     28.151623\n",
      "9     29.373796\n",
      "10    30.595969\n",
      "11    31.818141\n",
      "12    33.040314\n",
      "13    34.262487\n",
      "14    35.484659\n",
      "15    36.706832\n",
      "16    37.929005\n",
      "17    39.151177\n",
      "18    40.373350\n",
      "19    41.595523\n",
      "20    42.817695\n",
      "21    44.039868\n",
      "Name: Hour, dtype: float64\n",
      "The r-squared is: 0.42057648646894996\n"
     ]
    },
    {
     "data": {
      "image/png": "[encoded data removed]",
      "text/plain": [
       "<Figure size 432x288 with 1 Axes>"
      ]
     },
     "metadata": {},
     "output_type": "display_data"
    }
   ],
   "source": [
    "# Calculate the correlation coefficient and linear regression model for Hour of day time \n",
    "# and Trip Count for the UBER Data\n",
    "# Coorelation was identified to be pretty good with 0.8 coorelation coefficient.\n",
    "\n",
    "Hour_Time = rush_hour_df['Hour']\n",
    "Trip_Count = rush_hour_df['Trip Count']\n",
    "correlation = st.pearsonr(Hour_Time,Trip_Count)\n",
    "print(f\"The correlation coefficient between both factors is {round(correlation[0],2)}\")\n",
    "\n",
    "# Calculate the linear regression model for for Hour of day time and Trip Count for the UBER Data\n",
    "x_values = rush_hour_df['Hour']\n",
    "y_values = rush_hour_df['Trip Count']\n",
    "(slope, intercept, rvalue, pvalue, stderr) = linregress(x_values, y_values)\n",
    "regress_values = x_values * slope + intercept\n",
    "print(\"The regression values for each hour of the day as part of linear regression model is:\")\n",
    "print(regress_values)\n",
    "\n",
    "# Plot the linear regression model on top of the previous scatter plot.\n",
    "    \n",
    "line_eq = \"y = \" + str(round(slope,2)) + \"x + \" + str(round(intercept,2))\n",
    "plt.scatter(x_values,y_values)\n",
    "plt.plot(x_values,regress_values,\"r-\")\n",
    "plt.annotate(line_eq,(6,10),fontsize=15,color=\"red\")\n",
    "plt.xlabel('Time in Hour')\n",
    "plt.ylabel('Count of Trips')\n",
    "print(f\"The r-squared is: {rvalue}\")\n",
    "plt.show()"
   ]
  },
  {
   "cell_type": "code",
   "execution_count": 68,
   "metadata": {},
   "outputs": [
    {
     "data": {
      "text/html": [
       "<div>\n",
       "<style scoped>\n",
       "    .dataframe tbody tr th:only-of-type {\n",
       "        vertical-align: middle;\n",
       "    }\n",
       "\n",
       "    .dataframe tbody tr th {\n",
       "        vertical-align: top;\n",
       "    }\n",
       "\n",
       "    .dataframe thead th {\n",
       "        text-align: right;\n",
       "    }\n",
       "</style>\n",
       "<table border=\"1\" class=\"dataframe\">\n",
       "  <thead>\n",
       "    <tr style=\"text-align: right;\">\n",
       "      <th></th>\n",
       "      <th>Date/Time</th>\n",
       "      <th>Lat</th>\n",
       "      <th>Lon</th>\n",
       "    </tr>\n",
       "  </thead>\n",
       "  <tbody>\n",
       "    <tr>\n",
       "      <th>0</th>\n",
       "      <td>9/1/2014 0:01:00</td>\n",
       "      <td>40.2201</td>\n",
       "      <td>-74.0021</td>\n",
       "    </tr>\n",
       "    <tr>\n",
       "      <th>1</th>\n",
       "      <td>9/1/2014 0:01:00</td>\n",
       "      <td>40.7500</td>\n",
       "      <td>-74.0027</td>\n",
       "    </tr>\n",
       "    <tr>\n",
       "      <th>2</th>\n",
       "      <td>9/1/2014 0:03:00</td>\n",
       "      <td>40.7559</td>\n",
       "      <td>-73.9864</td>\n",
       "    </tr>\n",
       "    <tr>\n",
       "      <th>3</th>\n",
       "      <td>9/1/2014 0:06:00</td>\n",
       "      <td>40.7450</td>\n",
       "      <td>-73.9889</td>\n",
       "    </tr>\n",
       "    <tr>\n",
       "      <th>4</th>\n",
       "      <td>9/1/2014 0:11:00</td>\n",
       "      <td>40.8145</td>\n",
       "      <td>-73.9444</td>\n",
       "    </tr>\n",
       "  </tbody>\n",
       "</table>\n",
       "</div>"
      ],
      "text/plain": [
       "          Date/Time      Lat      Lon\n",
       "0  9/1/2014 0:01:00  40.2201 -74.0021\n",
       "1  9/1/2014 0:01:00  40.7500 -74.0027\n",
       "2  9/1/2014 0:03:00  40.7559 -73.9864\n",
       "3  9/1/2014 0:06:00  40.7450 -73.9889\n",
       "4  9/1/2014 0:11:00  40.8145 -73.9444"
      ]
     },
     "execution_count": 68,
     "metadata": {},
     "output_type": "execute_result"
    }
   ],
   "source": [
    "# File to Load Uber Raw Data from Sep 2014 (1 million records) and Create a dictionary of raw data\n",
    "file_to_load = \"Resources/uber-raw-data-sep14.csv\"\n",
    "\n",
    "# Read UBER Data File and store into Pandas data frame. This data Frame will carry million records\n",
    "uber_data_newyork = pd.read_csv(file_to_load)\n",
    "uber_data_newyork = pd.DataFrame(uber_data_newyork, columns= [\"Date/Time\",\"Lat\",\"Lon\"])\n",
    "uber_data=uber_data_newyork.head(1000)\n",
    "uber_data.head()"
   ]
  },
  {
   "cell_type": "code",
   "execution_count": 69,
   "metadata": {},
   "outputs": [
    {
     "name": "stderr",
     "output_type": "stream",
     "text": [
      "//anaconda3/lib/python3.7/site-packages/ipykernel_launcher.py:2: SettingWithCopyWarning: \n",
      "A value is trying to be set on a copy of a slice from a DataFrame.\n",
      "Try using .loc[row_indexer,col_indexer] = value instead\n",
      "\n",
      "See the caveats in the documentation: http://pandas.pydata.org/pandas-docs/stable/indexing.html#indexing-view-versus-copy\n",
      "  \n"
     ]
    },
    {
     "data": {
      "text/html": [
       "<div>\n",
       "<style scoped>\n",
       "    .dataframe tbody tr th:only-of-type {\n",
       "        vertical-align: middle;\n",
       "    }\n",
       "\n",
       "    .dataframe tbody tr th {\n",
       "        vertical-align: top;\n",
       "    }\n",
       "\n",
       "    .dataframe thead th {\n",
       "        text-align: right;\n",
       "    }\n",
       "</style>\n",
       "<table border=\"1\" class=\"dataframe\">\n",
       "  <thead>\n",
       "    <tr style=\"text-align: right;\">\n",
       "      <th></th>\n",
       "      <th>Date/Time</th>\n",
       "      <th>Lat</th>\n",
       "      <th>Lon</th>\n",
       "      <th>Times</th>\n",
       "      <th>Hour</th>\n",
       "      <th>Date</th>\n",
       "    </tr>\n",
       "  </thead>\n",
       "  <tbody>\n",
       "    <tr>\n",
       "      <th>0</th>\n",
       "      <td>9/1/2014 0:01:00</td>\n",
       "      <td>40.2201</td>\n",
       "      <td>-74.0021</td>\n",
       "      <td>00:01:00</td>\n",
       "      <td>0</td>\n",
       "      <td>2014-09-01</td>\n",
       "    </tr>\n",
       "    <tr>\n",
       "      <th>1</th>\n",
       "      <td>9/1/2014 0:01:00</td>\n",
       "      <td>40.7500</td>\n",
       "      <td>-74.0027</td>\n",
       "      <td>00:01:00</td>\n",
       "      <td>0</td>\n",
       "      <td>2014-09-01</td>\n",
       "    </tr>\n",
       "    <tr>\n",
       "      <th>2</th>\n",
       "      <td>9/1/2014 0:03:00</td>\n",
       "      <td>40.7559</td>\n",
       "      <td>-73.9864</td>\n",
       "      <td>00:03:00</td>\n",
       "      <td>0</td>\n",
       "      <td>2014-09-01</td>\n",
       "    </tr>\n",
       "    <tr>\n",
       "      <th>3</th>\n",
       "      <td>9/1/2014 0:06:00</td>\n",
       "      <td>40.7450</td>\n",
       "      <td>-73.9889</td>\n",
       "      <td>00:06:00</td>\n",
       "      <td>0</td>\n",
       "      <td>2014-09-01</td>\n",
       "    </tr>\n",
       "    <tr>\n",
       "      <th>4</th>\n",
       "      <td>9/1/2014 0:11:00</td>\n",
       "      <td>40.8145</td>\n",
       "      <td>-73.9444</td>\n",
       "      <td>00:11:00</td>\n",
       "      <td>0</td>\n",
       "      <td>2014-09-01</td>\n",
       "    </tr>\n",
       "  </tbody>\n",
       "</table>\n",
       "</div>"
      ],
      "text/plain": [
       "          Date/Time      Lat      Lon     Times  Hour        Date\n",
       "0  9/1/2014 0:01:00  40.2201 -74.0021  00:01:00     0  2014-09-01\n",
       "1  9/1/2014 0:01:00  40.7500 -74.0027  00:01:00     0  2014-09-01\n",
       "2  9/1/2014 0:03:00  40.7559 -73.9864  00:03:00     0  2014-09-01\n",
       "3  9/1/2014 0:06:00  40.7450 -73.9889  00:06:00     0  2014-09-01\n",
       "4  9/1/2014 0:11:00  40.8145 -73.9444  00:11:00     0  2014-09-01"
      ]
     },
     "execution_count": 69,
     "metadata": {},
     "output_type": "execute_result"
    }
   ],
   "source": [
    "#Convert The Date time column into Date, Time and Hour Column for detailed analysis\n",
    "uber_data[\"Times\"] = \"\"\n",
    "tripDate = pd.to_datetime(uber_data[\"Date/Time\"])\n",
    "uber_data = uber_data.assign(Times = tripDate)\n",
    "uber_data[\"Hour\"] = uber_data.Times.dt.hour # Split of Hour from Datetime Stamp\n",
    "uber_data[\"Date\"] = uber_data.Times.dt.date # Split of Date from Datetime Stamp\n",
    "uber_data[\"Times\"] = uber_data.Times.dt.time # Split of Time from Datetime Stamp\n",
    "uber_data.head()"
   ]
  },
  {
   "cell_type": "code",
   "execution_count": 70,
   "metadata": {},
   "outputs": [
    {
     "ename": "NameError",
     "evalue": "name 'citipy' is not defined",
     "output_type": "error",
     "traceback": [
      "\u001b[0;31m---------------------------------------------------------------------------\u001b[0m",
      "\u001b[0;31mNameError\u001b[0m                                 Traceback (most recent call last)",
      "\u001b[0;32m<ipython-input-70-dd30e64b0f5a>\u001b[0m in \u001b[0;36m<module>\u001b[0;34m\u001b[0m\n\u001b[1;32m      4\u001b[0m \u001b[0;34m\u001b[0m\u001b[0m\n\u001b[1;32m      5\u001b[0m \u001b[0;32mfor\u001b[0m \u001b[0mrow\u001b[0m \u001b[0;32min\u001b[0m \u001b[0muber_data\u001b[0m\u001b[0;34m.\u001b[0m\u001b[0mitertuples\u001b[0m\u001b[0;34m(\u001b[0m\u001b[0;34m)\u001b[0m\u001b[0;34m:\u001b[0m\u001b[0;34m\u001b[0m\u001b[0;34m\u001b[0m\u001b[0m\n\u001b[0;32m----> 6\u001b[0;31m      \u001b[0muber_data\u001b[0m\u001b[0;34m[\u001b[0m\u001b[0;34m\"CityName\"\u001b[0m\u001b[0;34m]\u001b[0m\u001b[0;34m[\u001b[0m\u001b[0mrow\u001b[0m\u001b[0;34m.\u001b[0m\u001b[0mIndex\u001b[0m\u001b[0;34m]\u001b[0m \u001b[0;34m=\u001b[0m \u001b[0mcitipy\u001b[0m\u001b[0;34m.\u001b[0m\u001b[0mnearest_city\u001b[0m\u001b[0;34m(\u001b[0m\u001b[0mrow\u001b[0m\u001b[0;34m.\u001b[0m\u001b[0mLat\u001b[0m\u001b[0;34m,\u001b[0m\u001b[0mrow\u001b[0m\u001b[0;34m.\u001b[0m\u001b[0mLon\u001b[0m\u001b[0;34m)\u001b[0m\u001b[0;34m.\u001b[0m\u001b[0mcity_name\u001b[0m\u001b[0;34m\u001b[0m\u001b[0;34m\u001b[0m\u001b[0m\n\u001b[0m\u001b[1;32m      7\u001b[0m \u001b[0;34m\u001b[0m\u001b[0m\n\u001b[1;32m      8\u001b[0m \u001b[0muber_data\u001b[0m\u001b[0;34m.\u001b[0m\u001b[0mhead\u001b[0m\u001b[0;34m(\u001b[0m\u001b[0;34m)\u001b[0m\u001b[0;34m\u001b[0m\u001b[0;34m\u001b[0m\u001b[0m\n",
      "\u001b[0;31mNameError\u001b[0m: name 'citipy' is not defined"
     ]
    }
   ],
   "source": [
    "# Calculating the City Name using the latitude and Longitude using CitiPy package\n",
    "# Performance optimisation was perfromed to process 1mn records faster\n",
    "uber_data[\"CityName\"] = \"\"\n",
    "\n",
    "for row in uber_data.itertuples():     \n",
    "     uber_data[\"CityName\"][row.Index] = citipy.nearest_city(row.Lat,row.Lon).city_name    \n",
    "\n",
    "uber_data.head()\n"
   ]
  },
  {
   "cell_type": "code",
   "execution_count": 71,
   "metadata": {},
   "outputs": [
    {
     "data": {
      "image/png": "[encoded data removed]",
      "text/plain": [
       "<Figure size 720x432 with 1 Axes>"
      ]
     },
     "metadata": {},
     "output_type": "display_data"
    }
   ],
   "source": [
    "#Bar Plotting for Top 10 City for Rush City Analysis by count of trips in the city\n",
    "uberTripsByCity = uber_data.groupby([\"CityName\"])[\"CityName\"].count()\n",
    "uberSummaryTrips2DF = pd.DataFrame({ \"Trip Count\": uberTripsByCity })\n",
    "uberSummaryTrips2DF = uberSummaryTrips2DF.sort_values(by=[\"Trip Count\"], ascending = False)\n",
    "uberSummaryTrips2DF = uberSummaryTrips2DF.reset_index()\n",
    "uberSummaryTrips2DF = uberSummaryTrips2DF.head(10)\n",
    "uberSummaryTrips2DF.plot(\"CityName\", \"Trip Count\",kind=\"bar\",figsize=(10,6))\n",
    "plt.show()"
   ]
  },
  {
   "cell_type": "code",
   "execution_count": 72,
   "metadata": {},
   "outputs": [
    {
     "data": {
      "text/html": [
       "<div>\n",
       "<style scoped>\n",
       "    .dataframe tbody tr th:only-of-type {\n",
       "        vertical-align: middle;\n",
       "    }\n",
       "\n",
       "    .dataframe tbody tr th {\n",
       "        vertical-align: top;\n",
       "    }\n",
       "\n",
       "    .dataframe thead th {\n",
       "        text-align: right;\n",
       "    }\n",
       "</style>\n",
       "<table border=\"1\" class=\"dataframe\">\n",
       "  <thead>\n",
       "    <tr style=\"text-align: right;\">\n",
       "      <th></th>\n",
       "      <th>Hour</th>\n",
       "      <th>Trip Count</th>\n",
       "    </tr>\n",
       "  </thead>\n",
       "  <tbody>\n",
       "    <tr>\n",
       "      <th>0</th>\n",
       "      <td>0</td>\n",
       "      <td>27</td>\n",
       "    </tr>\n",
       "    <tr>\n",
       "      <th>1</th>\n",
       "      <td>1</td>\n",
       "      <td>10</td>\n",
       "    </tr>\n",
       "    <tr>\n",
       "      <th>2</th>\n",
       "      <td>2</td>\n",
       "      <td>5</td>\n",
       "    </tr>\n",
       "    <tr>\n",
       "      <th>3</th>\n",
       "      <td>3</td>\n",
       "      <td>11</td>\n",
       "    </tr>\n",
       "    <tr>\n",
       "      <th>4</th>\n",
       "      <td>4</td>\n",
       "      <td>25</td>\n",
       "    </tr>\n",
       "    <tr>\n",
       "      <th>5</th>\n",
       "      <td>5</td>\n",
       "      <td>37</td>\n",
       "    </tr>\n",
       "    <tr>\n",
       "      <th>6</th>\n",
       "      <td>6</td>\n",
       "      <td>50</td>\n",
       "    </tr>\n",
       "    <tr>\n",
       "      <th>7</th>\n",
       "      <td>7</td>\n",
       "      <td>65</td>\n",
       "    </tr>\n",
       "    <tr>\n",
       "      <th>8</th>\n",
       "      <td>8</td>\n",
       "      <td>85</td>\n",
       "    </tr>\n",
       "    <tr>\n",
       "      <th>9</th>\n",
       "      <td>9</td>\n",
       "      <td>80</td>\n",
       "    </tr>\n",
       "  </tbody>\n",
       "</table>\n",
       "</div>"
      ],
      "text/plain": [
       "   Hour  Trip Count\n",
       "0     0          27\n",
       "1     1          10\n",
       "2     2           5\n",
       "3     3          11\n",
       "4     4          25\n",
       "5     5          37\n",
       "6     6          50\n",
       "7     7          65\n",
       "8     8          85\n",
       "9     9          80"
      ]
     },
     "execution_count": 72,
     "metadata": {},
     "output_type": "execute_result"
    }
   ],
   "source": [
    "#This code is to derive trip analysis for all cities of UBER Data processed \n",
    "\n",
    "uberTripsByTime = uber_data.groupby(\"Hour\")[\"Hour\"].count()\n",
    "rush_hour_df = pd.DataFrame({ \"Trip Count\": uberTripsByTime })\n",
    "#rush_hour_df = rush_hour_df.sort_values(by=[\"Trip Count\"], ascending = False)\n",
    "rush_hour_df = rush_hour_df.reset_index()\n",
    "rush_hour_df.head(10)"
   ]
  },
  {
   "cell_type": "code",
   "execution_count": 73,
   "metadata": {},
   "outputs": [
    {
     "data": {
      "image/png": "[encoded data removed]",
      "text/plain": [
       "<Figure size 1440x432 with 1 Axes>"
      ]
     },
     "metadata": {},
     "output_type": "display_data"
    }
   ],
   "source": [
    "# Generate a bar plot showing number of data points for each Hour of Day using pandas to perfrom Rush Hour Analysis\n",
    "rush_hour_df.plot(\"Hour\", \"Trip Count\",kind=\"line\",figsize=(20,6))\n",
    "# Set a title for the chart\n",
    "plt.title(f\"Rush Hour Anlysis\")\n",
    "plt.xlabel(\"Time of Trip\")\n",
    "plt.ylabel(\"Count of Trips\")\n",
    "plt.tight_layout()\n",
    "\n",
    "plt.show()\n"
   ]
  },
  {
   "cell_type": "code",
   "execution_count": 74,
   "metadata": {},
   "outputs": [
    {
     "data": {
      "image/png": "[encoded data removed]",
      "text/plain": [
       "<Figure size 1440x432 with 1 Axes>"
      ]
     },
     "metadata": {},
     "output_type": "display_data"
    }
   ],
   "source": [
    "# Generate a bar plot to show Peak Rush Hour to Lowest Rush Hour using pandas\n",
    "rush_hour_df.plot(\"Hour\", \"Trip Count\",kind=\"bar\",figsize=(20,6))\n",
    "# Set a title for the chart\n",
    "plt.title(f\"Rush Hour Anlysis over 24Hr Daytime\")\n",
    "plt.xlabel(\"Hour of the Day\")\n",
    "plt.ylabel(\"Count of Trips\")\n",
    "plt.tight_layout()\n",
    "\n",
    "plt.show()"
   ]
  },
  {
   "cell_type": "code",
   "execution_count": 75,
   "metadata": {},
   "outputs": [
    {
     "data": {
      "image/png": "[encoded data removed]",
      "text/plain": [
       "<Figure size 432x288 with 1 Axes>"
      ]
     },
     "metadata": {},
     "output_type": "display_data"
    }
   ],
   "source": [
    "# Generate a scatter plot to show count of trips over 24 hour window\n",
    "\n",
    "plt.scatter(rush_hour_df['Hour'],rush_hour_df['Trip Count'])\n",
    "plt.xlabel('Hour of Time')\n",
    "plt.ylabel('Count of Trips')\n",
    "plt.show()"
   ]
  },
  {
   "cell_type": "code",
   "execution_count": 76,
   "metadata": {},
   "outputs": [
    {
     "name": "stdout",
     "output_type": "stream",
     "text": [
      "The correlation coefficient between both factors is 0.08\n",
      "The regression values for each hour of the day as part of linear regression model is:\n",
      "0     38.796667\n",
      "1     39.046232\n",
      "2     39.295797\n",
      "3     39.545362\n",
      "4     39.794928\n",
      "5     40.044493\n",
      "6     40.294058\n",
      "7     40.543623\n",
      "8     40.793188\n",
      "9     41.042754\n",
      "10    41.292319\n",
      "11    41.541884\n",
      "12    41.791449\n",
      "13    42.041014\n",
      "14    42.290580\n",
      "15    42.540145\n",
      "16    42.789710\n",
      "17    43.039275\n",
      "18    43.288841\n",
      "19    43.538406\n",
      "20    43.787971\n",
      "21    44.037536\n",
      "22    44.287101\n",
      "23    44.536667\n",
      "Name: Hour, dtype: float64\n",
      "The r-squared is: 0.08029508785348412\n"
     ]
    },
    {
     "data": {
      "image/png": "[encoded data removed]",
      "text/plain": [
       "<Figure size 432x288 with 1 Axes>"
      ]
     },
     "metadata": {},
     "output_type": "display_data"
    }
   ],
   "source": [
    "# Calculate the correlation coefficient and linear regression model for Hour of day time \n",
    "# and Trip Count for the UBER Data\n",
    "# Coorelation was identified to be pretty good with 0.8 coorelation coefficient.\n",
    "\n",
    "Hour_Time = rush_hour_df['Hour']\n",
    "Trip_Count = rush_hour_df['Trip Count']\n",
    "correlation = st.pearsonr(Hour_Time,Trip_Count)\n",
    "print(f\"The correlation coefficient between both factors is {round(correlation[0],2)}\")\n",
    "\n",
    "# Calculate the linear regression model for for Hour of day time and Trip Count for the UBER Data\n",
    "x_values = rush_hour_df['Hour']\n",
    "y_values = rush_hour_df['Trip Count']\n",
    "(slope, intercept, rvalue, pvalue, stderr) = linregress(x_values, y_values)\n",
    "regress_values = x_values * slope + intercept\n",
    "print(\"The regression values for each hour of the day as part of linear regression model is:\")\n",
    "print(regress_values)\n",
    "\n",
    "# Plot the linear regression model on top of the previous scatter plot.\n",
    "    \n",
    "line_eq = \"y = \" + str(round(slope,2)) + \"x + \" + str(round(intercept,2))\n",
    "plt.scatter(x_values,y_values)\n",
    "plt.plot(x_values,regress_values,\"r-\")\n",
    "plt.annotate(line_eq,(6,10),fontsize=15,color=\"red\")\n",
    "plt.xlabel('Time in Hour')\n",
    "plt.ylabel('Count of Trips')\n",
    "print(f\"The r-squared is: {rvalue}\")\n",
    "plt.show()"
   ]
  },
  {
   "cell_type": "code",
   "execution_count": null,
   "metadata": {},
   "outputs": [],
   "source": []
  },
  {
   "cell_type": "code",
   "execution_count": null,
   "metadata": {},
   "outputs": [],
   "source": []
  }
 ],
 "metadata": {
  "kernelspec": {
   "display_name": "Python 3",
   "language": "python",
   "name": "python3"
  },
  "language_info": {
   "codemirror_mode": {
    "name": "ipython",
    "version": 3
   },
   "file_extension": ".py",
   "mimetype": "text/x-python",
   "name": "python",
   "nbconvert_exporter": "python",
   "pygments_lexer": "ipython3",
   "version": "3.7.3"
  }
 },
 "nbformat": 4,
 "nbformat_minor": 2
}
