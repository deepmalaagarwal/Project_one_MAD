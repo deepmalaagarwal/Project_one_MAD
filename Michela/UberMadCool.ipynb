{
 "cells": [
  {
   "cell_type": "code",
   "execution_count": 58,
   "metadata": {},
   "outputs": [],
   "source": [
    "# Import dependencies\n",
    "import pandas as pd\n",
    "import numpy as np # linear algebra\n",
    "\n",
    "import matplotlib.pyplot as plt\n",
    "from builtins import list\n",
    "import matplotlib\n",
    "matplotlib.style.use('ggplot')\n",
    "import scipy.stats as st\n",
    "import datetime\n",
    "from sklearn import datasets\n",
    "from scipy.stats import linregress\n",
    "\n",
    "%matplotlib inline"
   ]
  },
  {
   "cell_type": "code",
   "execution_count": 59,
   "metadata": {},
   "outputs": [],
   "source": [
    "uber_csv = \"Resources/uber-rides-dataset.csv\""
   ]
  },
  {
   "cell_type": "code",
   "execution_count": 60,
   "metadata": {},
   "outputs": [],
   "source": [
    "uber_df = pd.read_csv(uber_csv)"
   ]
  },
  {
   "cell_type": "code",
   "execution_count": 61,
   "metadata": {},
   "outputs": [
    {
     "data": {
      "text/html": [
       "<div>\n",
       "<style scoped>\n",
       "    .dataframe tbody tr th:only-of-type {\n",
       "        vertical-align: middle;\n",
       "    }\n",
       "\n",
       "    .dataframe tbody tr th {\n",
       "        vertical-align: top;\n",
       "    }\n",
       "\n",
       "    .dataframe thead th {\n",
       "        text-align: right;\n",
       "    }\n",
       "</style>\n",
       "<table border=\"1\" class=\"dataframe\">\n",
       "  <thead>\n",
       "    <tr style=\"text-align: right;\">\n",
       "      <th></th>\n",
       "      <th>trip_completed_at</th>\n",
       "      <th>trip_status</th>\n",
       "      <th>ride_hailing_app</th>\n",
       "      <th>trip_uid</th>\n",
       "      <th>driver_uid</th>\n",
       "      <th>rider_uid</th>\n",
       "      <th>customer</th>\n",
       "      <th>trip_start_time</th>\n",
       "      <th>trip_end_time</th>\n",
       "      <th>trip_time</th>\n",
       "      <th>...</th>\n",
       "      <th>distance_kms</th>\n",
       "      <th>temperature_time</th>\n",
       "      <th>temperature_value</th>\n",
       "      <th>feels_like</th>\n",
       "      <th>humidity</th>\n",
       "      <th>wind_speed</th>\n",
       "      <th>cloudness</th>\n",
       "      <th>weather_main</th>\n",
       "      <th>weather_desc</th>\n",
       "      <th>precipitation</th>\n",
       "    </tr>\n",
       "  </thead>\n",
       "  <tbody>\n",
       "    <tr>\n",
       "      <th>0</th>\n",
       "      <td>May 11, 2015 at 6:55PM</td>\n",
       "      <td>Completed</td>\n",
       "      <td>Uber</td>\n",
       "      <td>ee89076fd9da9bddf5f096b0ca42f8d5</td>\n",
       "      <td>05cfeb269e606247fe9d2b6082942c59</td>\n",
       "      <td>3ffa4a71a5aa791a8bc3409f5b15b936</td>\n",
       "      <td>stantyan</td>\n",
       "      <td>2015-05-11 17:26:00</td>\n",
       "      <td>2015-05-11 17:55:00</td>\n",
       "      <td>00:21:33</td>\n",
       "      <td>...</td>\n",
       "      <td>9.29</td>\n",
       "      <td>2015-05-11T17:26:00</td>\n",
       "      <td>12</td>\n",
       "      <td>12</td>\n",
       "      <td>0.69</td>\n",
       "      <td>4.81</td>\n",
       "      <td>0.78</td>\n",
       "      <td>partly-cloudy-day</td>\n",
       "      <td>Mostly Cloudy</td>\n",
       "      <td>none</td>\n",
       "    </tr>\n",
       "    <tr>\n",
       "      <th>1</th>\n",
       "      <td>May 11, 2015 at 8:12PM</td>\n",
       "      <td>Completed</td>\n",
       "      <td>Uber</td>\n",
       "      <td>518be51d403944a03c47e8d1f2c87311</td>\n",
       "      <td>4a4e248742f9d5ff517c5bbbb48d0e54</td>\n",
       "      <td>3ffa4a71a5aa791a8bc3409f5b15b936</td>\n",
       "      <td>stantyan</td>\n",
       "      <td>2015-05-11 18:46:00</td>\n",
       "      <td>2015-05-11 19:12:00</td>\n",
       "      <td>00:19:27</td>\n",
       "      <td>...</td>\n",
       "      <td>9.93</td>\n",
       "      <td>2015-05-11T18:46:00</td>\n",
       "      <td>10</td>\n",
       "      <td>10</td>\n",
       "      <td>0.70</td>\n",
       "      <td>6.53</td>\n",
       "      <td>0.66</td>\n",
       "      <td>partly-cloudy-day</td>\n",
       "      <td>Mostly Cloudy</td>\n",
       "      <td>none</td>\n",
       "    </tr>\n",
       "    <tr>\n",
       "      <th>2</th>\n",
       "      <td>May 13, 2015 at 11:38AM</td>\n",
       "      <td>Completed</td>\n",
       "      <td>Uber</td>\n",
       "      <td>6e460cc8a12c3c6568d0d4a67ac58393</td>\n",
       "      <td>cb249a2bd807ca78697b4ed0348c37da</td>\n",
       "      <td>3ffa4a71a5aa791a8bc3409f5b15b936</td>\n",
       "      <td>stantyan</td>\n",
       "      <td>2015-05-13 09:15:00</td>\n",
       "      <td>2015-05-13 10:38:00</td>\n",
       "      <td>01:06:53</td>\n",
       "      <td>...</td>\n",
       "      <td>18.01</td>\n",
       "      <td>2015-05-13T09:15:00</td>\n",
       "      <td>14</td>\n",
       "      <td>14</td>\n",
       "      <td>0.61</td>\n",
       "      <td>5.25</td>\n",
       "      <td>0.86</td>\n",
       "      <td>partly-cloudy-day</td>\n",
       "      <td>Mostly Cloudy</td>\n",
       "      <td>none</td>\n",
       "    </tr>\n",
       "    <tr>\n",
       "      <th>3</th>\n",
       "      <td>May 16, 2015 at 1:44AM</td>\n",
       "      <td>Completed</td>\n",
       "      <td>Uber</td>\n",
       "      <td>49613a86a04e6c15d72b51d1a2935d81</td>\n",
       "      <td>d3f73f8151c2e8c34b541f961db7f5fa</td>\n",
       "      <td>3ffa4a71a5aa791a8bc3409f5b15b936</td>\n",
       "      <td>stantyan</td>\n",
       "      <td>2015-05-16 00:24:00</td>\n",
       "      <td>2015-05-16 00:44:00</td>\n",
       "      <td>00:13:37</td>\n",
       "      <td>...</td>\n",
       "      <td>5.10</td>\n",
       "      <td>2015-05-16T00:24:00</td>\n",
       "      <td>3</td>\n",
       "      <td>3</td>\n",
       "      <td>0.84</td>\n",
       "      <td>0.87</td>\n",
       "      <td>0.56</td>\n",
       "      <td>partly-cloudy-night</td>\n",
       "      <td>Partly Cloudy</td>\n",
       "      <td>none</td>\n",
       "    </tr>\n",
       "    <tr>\n",
       "      <th>4</th>\n",
       "      <td>May 16, 2015 at 3:18AM</td>\n",
       "      <td>Completed</td>\n",
       "      <td>Uber</td>\n",
       "      <td>9896148fdecdb4c5d977a8691510bdb6</td>\n",
       "      <td>1287d21e6455ee40d4861f6b91c680f4</td>\n",
       "      <td>3ffa4a71a5aa791a8bc3409f5b15b936</td>\n",
       "      <td>stantyan</td>\n",
       "      <td>2015-05-16 01:29:00</td>\n",
       "      <td>2015-05-16 02:18:00</td>\n",
       "      <td>00:38:54</td>\n",
       "      <td>...</td>\n",
       "      <td>21.92</td>\n",
       "      <td>2015-05-16T01:29:00</td>\n",
       "      <td>3</td>\n",
       "      <td>1</td>\n",
       "      <td>0.90</td>\n",
       "      <td>1.61</td>\n",
       "      <td>0.31</td>\n",
       "      <td>partly-cloudy-night</td>\n",
       "      <td>Partly Cloudy</td>\n",
       "      <td>none</td>\n",
       "    </tr>\n",
       "  </tbody>\n",
       "</table>\n",
       "<p>5 rows × 45 columns</p>\n",
       "</div>"
      ],
      "text/plain": [
       "         trip_completed_at trip_status ride_hailing_app  \\\n",
       "0   May 11, 2015 at 6:55PM   Completed             Uber   \n",
       "1   May 11, 2015 at 8:12PM   Completed             Uber   \n",
       "2  May 13, 2015 at 11:38AM   Completed             Uber   \n",
       "3   May 16, 2015 at 1:44AM   Completed             Uber   \n",
       "4   May 16, 2015 at 3:18AM   Completed             Uber   \n",
       "\n",
       "                           trip_uid                        driver_uid  \\\n",
       "0  ee89076fd9da9bddf5f096b0ca42f8d5  05cfeb269e606247fe9d2b6082942c59   \n",
       "1  518be51d403944a03c47e8d1f2c87311  4a4e248742f9d5ff517c5bbbb48d0e54   \n",
       "2  6e460cc8a12c3c6568d0d4a67ac58393  cb249a2bd807ca78697b4ed0348c37da   \n",
       "3  49613a86a04e6c15d72b51d1a2935d81  d3f73f8151c2e8c34b541f961db7f5fa   \n",
       "4  9896148fdecdb4c5d977a8691510bdb6  1287d21e6455ee40d4861f6b91c680f4   \n",
       "\n",
       "                          rider_uid  customer      trip_start_time  \\\n",
       "0  3ffa4a71a5aa791a8bc3409f5b15b936  stantyan  2015-05-11 17:26:00   \n",
       "1  3ffa4a71a5aa791a8bc3409f5b15b936  stantyan  2015-05-11 18:46:00   \n",
       "2  3ffa4a71a5aa791a8bc3409f5b15b936  stantyan  2015-05-13 09:15:00   \n",
       "3  3ffa4a71a5aa791a8bc3409f5b15b936  stantyan  2015-05-16 00:24:00   \n",
       "4  3ffa4a71a5aa791a8bc3409f5b15b936  stantyan  2015-05-16 01:29:00   \n",
       "\n",
       "         trip_end_time trip_time  ... distance_kms     temperature_time  \\\n",
       "0  2015-05-11 17:55:00  00:21:33  ...         9.29  2015-05-11T17:26:00   \n",
       "1  2015-05-11 19:12:00  00:19:27  ...         9.93  2015-05-11T18:46:00   \n",
       "2  2015-05-13 10:38:00  01:06:53  ...        18.01  2015-05-13T09:15:00   \n",
       "3  2015-05-16 00:44:00  00:13:37  ...         5.10  2015-05-16T00:24:00   \n",
       "4  2015-05-16 02:18:00  00:38:54  ...        21.92  2015-05-16T01:29:00   \n",
       "\n",
       "  temperature_value  feels_like humidity wind_speed cloudness  \\\n",
       "0                12          12     0.69       4.81      0.78   \n",
       "1                10          10     0.70       6.53      0.66   \n",
       "2                14          14     0.61       5.25      0.86   \n",
       "3                 3           3     0.84       0.87      0.56   \n",
       "4                 3           1     0.90       1.61      0.31   \n",
       "\n",
       "          weather_main   weather_desc precipitation  \n",
       "0    partly-cloudy-day  Mostly Cloudy          none  \n",
       "1    partly-cloudy-day  Mostly Cloudy          none  \n",
       "2    partly-cloudy-day  Mostly Cloudy          none  \n",
       "3  partly-cloudy-night  Partly Cloudy          none  \n",
       "4  partly-cloudy-night  Partly Cloudy          none  \n",
       "\n",
       "[5 rows x 45 columns]"
      ]
     },
     "execution_count": 61,
     "metadata": {},
     "output_type": "execute_result"
    }
   ],
   "source": [
    "uber_df.head()"
   ]
  },
  {
   "cell_type": "code",
   "execution_count": 62,
   "metadata": {},
   "outputs": [
    {
     "data": {
      "text/plain": [
       "Index(['trip_completed_at', 'trip_status', 'ride_hailing_app', 'trip_uid',\n",
       "       'driver_uid', 'rider_uid', 'customer', 'trip_start_time',\n",
       "       'trip_end_time', 'trip_time', 'total_time', 'wait_time', 'trip_type',\n",
       "       'surge_multiplier', 'vehicle_make_model', 'vehicle_license_plate',\n",
       "       'driver_name_en', 'vehicle_make', 'vehicle_model', 'driver_gender',\n",
       "       'driver_photo_url', 'driver_phone_number', 'pickup_lat', 'pickup_long',\n",
       "       'dropoff_lat', 'dropoff_long', 'trip_map_image_url',\n",
       "       'trip_path_image_url', 'city', 'country', 'trip_start_address',\n",
       "       'trip_end_address', 'rub_usd_exchange_rate', 'price_rub', 'price_usd',\n",
       "       'distance_kms', 'temperature_time', 'temperature_value', 'feels_like',\n",
       "       'humidity', 'wind_speed', 'cloudness', 'weather_main', 'weather_desc',\n",
       "       'precipitation'],\n",
       "      dtype='object')"
      ]
     },
     "execution_count": 62,
     "metadata": {},
     "output_type": "execute_result"
    }
   ],
   "source": [
    "uber_df.columns"
   ]
  },
  {
   "cell_type": "code",
   "execution_count": 128,
   "metadata": {},
   "outputs": [
    {
     "data": {
      "text/plain": [
       "238    2016-10-08 13:41:00\n",
       "213    2016-09-12 15:44:00\n",
       "37     2015-06-16 11:10:00\n",
       "36     2015-06-16 10:35:00\n",
       "389    2017-08-07 10:26:00\n",
       "121    2015-12-26 12:52:00\n",
       "34     2015-06-15 18:59:00\n",
       "60     2015-09-12 22:03:00\n",
       "538    2018-01-07 16:21:00\n",
       "59     2015-09-12 17:32:00\n",
       "414    2017-09-01 13:17:00\n",
       "206    2016-08-09 14:50:00\n",
       "523    2017-12-24 14:36:00\n",
       "44     2015-06-17 13:32:00\n",
       "207    2016-08-27 18:11:00\n",
       "61     2015-09-13 10:03:00\n",
       "62     2015-09-13 10:42:00\n",
       "177    2016-05-29 10:10:00\n",
       "64     2015-09-13 15:06:00\n",
       "170    2016-05-15 20:22:00\n",
       "57     2015-09-11 21:15:00\n",
       "360    2017-06-17 21:34:00\n",
       "314    2017-01-25 10:51:00\n",
       "53     2015-09-10 15:47:00\n",
       "422    2017-09-24 20:26:00\n",
       "58     2015-09-12 12:26:00\n",
       "322    2017-02-14 07:37:00\n",
       "71     2015-09-17 21:33:00\n",
       "324    2017-03-06 17:43:00\n",
       "359    2017-06-17 16:40:00\n",
       "              ...         \n",
       "45     2015-06-17 15:38:00\n",
       "46     2015-06-29 13:42:00\n",
       "386    2017-07-29 13:30:00\n",
       "179    2016-06-07 18:48:00\n",
       "388    2017-08-03 17:36:00\n",
       "50     2015-09-06 15:21:00\n",
       "178    2016-05-31 17:07:00\n",
       "390    2017-08-08 16:03:00\n",
       "391    2017-08-09 18:19:00\n",
       "392    2017-08-09 22:25:00\n",
       "341    2017-05-26 12:59:00\n",
       "394    2017-08-12 12:09:00\n",
       "39     2015-06-16 20:52:00\n",
       "339    2017-05-24 07:13:00\n",
       "591    2018-02-08 18:10:00\n",
       "590    2018-02-08 10:09:00\n",
       "398    2017-08-14 12:29:00\n",
       "247    2016-10-24 19:33:00\n",
       "399    2017-08-14 20:17:00\n",
       "400    2017-08-15 16:22:00\n",
       "337    2017-05-14 13:32:00\n",
       "584    2018-01-31 20:45:00\n",
       "167    2016-05-14 11:44:00\n",
       "164    2016-05-13 15:01:00\n",
       "406    2017-08-19 13:05:00\n",
       "407    2017-08-19 14:13:00\n",
       "163    2016-05-12 13:15:00\n",
       "409    2017-08-19 19:39:00\n",
       "171    2016-05-17 09:56:00\n",
       "404    2017-08-18 00:18:00\n",
       "Name: trip_start_time, Length: 678, dtype: object"
      ]
     },
     "execution_count": 128,
     "metadata": {},
     "output_type": "execute_result"
    }
   ],
   "source": [
    "uber_df[\"trip_start_time\"]"
   ]
  },
  {
   "cell_type": "code",
   "execution_count": 63,
   "metadata": {},
   "outputs": [
    {
     "data": {
      "text/plain": [
       "Saint Petersburg    640\n",
       "Ekaterinburg         28\n",
       "Moscow               10\n",
       "Name: city, dtype: int64"
      ]
     },
     "execution_count": 63,
     "metadata": {},
     "output_type": "execute_result"
    }
   ],
   "source": [
    "uber_df[\"city\"].value_counts()"
   ]
  },
  {
   "cell_type": "code",
   "execution_count": 139,
   "metadata": {},
   "outputs": [
    {
     "data": {
      "image/png": "[encoded data removed]",
      "text/plain": [
       "<Figure size 720x432 with 1 Axes>"
      ]
     },
     "metadata": {
      "needs_background": "light"
     },
     "output_type": "display_data"
    }
   ],
   "source": [
    "# Plot number of trips for each weather description\n",
    "x = uber_df['weather_desc'].value_counts().plot(kind='bar', figsize = (10,6))\n",
    "plt.tight_layout()\n",
    "plt.savefig('weathercount.png')"
   ]
  },
  {
   "cell_type": "markdown",
   "metadata": {},
   "source": [
    "The above bar chart shows the trip count for each type of weather. We can see that majority of trips were taken during mostly cloudy days."
   ]
  },
  {
   "cell_type": "code",
   "execution_count": 65,
   "metadata": {},
   "outputs": [
    {
     "name": "stdout",
     "output_type": "stream",
     "text": [
      "The correlation between both factors is 0.08\n",
      "The r-squared is: 0.07841863329131452\n"
     ]
    },
    {
     "data": {
      "image/png": "[encoded data removed]",
      "text/plain": [
       "<Figure size 432x288 with 1 Axes>"
      ]
     },
     "metadata": {
      "needs_background": "light"
     },
     "output_type": "display_data"
    }
   ],
   "source": [
    "# Let's see if there is a correlation between temperature value and distance in kms. \n",
    "x_values = uber_df['temperature_value']\n",
    "y_values = uber_df['distance_kms']\n",
    "correlation = st.pearsonr(x_values, y_values)\n",
    "print(f\"The correlation between both factors is {round(correlation[0],2)}\")\n",
    "(slope, intercept, rvalue, pvalue, stderr) = linregress(x_values, y_values)\n",
    "regress_values = x_values * slope + intercept\n",
    "line_eq = \"y = \" + str(round(slope,2)) + \"x + \" + str(round(intercept,2))\n",
    "plt.scatter(x_values,y_values)\n",
    "plt.plot(x_values,regress_values,\"r-\")\n",
    "plt.annotate(line_eq,(6,10),fontsize=15,color=\"black\")\n",
    "plt.xlabel('Temperature')\n",
    "plt.ylabel('Distance(kms)')\n",
    "print(f\"The r-squared is: {rvalue}\")\n",
    "plt.savefig('tempdistancecorr.png')\n",
    "plt.show()"
   ]
  },
  {
   "cell_type": "markdown",
   "metadata": {},
   "source": [
    "Based on the above graph there is no correlation between the temperature value and the distance in kms of Uber trips\n",
    "since the correlation is only 0.08, very close to 0. The r-squared is also near 0 which means that only 7.8% of the\n",
    "variance for the Distance (kms) can be explained by the temperature."
   ]
  },
  {
   "cell_type": "code",
   "execution_count": 66,
   "metadata": {},
   "outputs": [],
   "source": [
    "# sorting the sata by weather_desc\n",
    "uber_df = uber_df.sort_values(by='weather_desc', ascending=True)"
   ]
  },
  {
   "cell_type": "code",
   "execution_count": 67,
   "metadata": {},
   "outputs": [
    {
     "data": {
      "text/plain": [
       "weather_desc\n",
       "Breezy                        2\n",
       "Breezy and Mostly Cloudy     10\n",
       "Breezy and Overcast           1\n",
       "Breezy and Partly Cloudy      2\n",
       "Clear                        69\n",
       "Drizzle                       6\n",
       "Flurries                      8\n",
       "Foggy                        11\n",
       "Light Rain                    8\n",
       "Light Snow                    3\n",
       "Mostly Cloudy               259\n",
       "Overcast                    170\n",
       "Partly Cloudy               129\n",
       "dtype: int64"
      ]
     },
     "execution_count": 67,
     "metadata": {},
     "output_type": "execute_result"
    }
   ],
   "source": [
    "# Value counts for weather description\n",
    "weather_count = uber_df.groupby(['weather_desc']).size()\n",
    "weather_count"
   ]
  },
  {
   "cell_type": "code",
   "execution_count": 68,
   "metadata": {},
   "outputs": [
    {
     "data": {
      "text/plain": [
       "weather_desc\n",
       "Breezy                      12.500000\n",
       "Breezy and Mostly Cloudy    12.300000\n",
       "Breezy and Overcast         -2.000000\n",
       "Breezy and Partly Cloudy    18.000000\n",
       "Clear                       11.579710\n",
       "Drizzle                      9.333333\n",
       "Flurries                    -3.125000\n",
       "Foggy                        0.000000\n",
       "Light Rain                  11.750000\n",
       "Light Snow                  -7.666667\n",
       "Mostly Cloudy                5.471042\n",
       "Overcast                     0.658824\n",
       "Partly Cloudy                7.751938\n",
       "Name: temperature_value, dtype: float64"
      ]
     },
     "execution_count": 68,
     "metadata": {},
     "output_type": "execute_result"
    }
   ],
   "source": [
    "avg_temp = uber_df.groupby(['weather_desc'])[\"temperature_value\"].mean()\n",
    "avg_temp"
   ]
  },
  {
   "cell_type": "code",
   "execution_count": 69,
   "metadata": {},
   "outputs": [
    {
     "name": "stdout",
     "output_type": "stream",
     "text": [
      "The correlation between both factors is -0.05\n",
      "The r-squared is: -0.04999108723490653\n"
     ]
    },
    {
     "data": {
      "image/png": "[encoded data removed]",
      "text/plain": [
       "<Figure size 432x288 with 1 Axes>"
      ]
     },
     "metadata": {
      "needs_background": "light"
     },
     "output_type": "display_data"
    }
   ],
   "source": [
    "# let's then calculate the correlation between the trip frequency and the average temperature value\n",
    "x_values = avg_temp\n",
    "y_values = weather_count\n",
    "correlation = st.pearsonr(x_values, y_values)\n",
    "print(f\"The correlation between both factors is {round(correlation[0],2)}\")\n",
    "(slope, intercept, rvalue, pvalue, stderr) = linregress(x_values, y_values)\n",
    "regress_values = x_values * slope + intercept\n",
    "line_eq = \"y = \" + str(round(slope,2)) + \"x + \" + str(round(intercept,2))\n",
    "plt.scatter(x_values,y_values)\n",
    "plt.plot(x_values,regress_values,\"r-\")\n",
    "plt.annotate(line_eq,(6,10),fontsize=15,color=\"black\")\n",
    "plt.xlabel('Average temperature/type of weather')\n",
    "plt.ylabel('Number of trips/type of weather')\n",
    "print(f\"The r-squared is: {rvalue}\")\n",
    "plt.savefig('avgtempweathercorr.png')\n",
    "plt.show()"
   ]
  },
  {
   "cell_type": "markdown",
   "metadata": {},
   "source": [
    "Based on the above graph there is no correlation between the trip frequency and the average temperature value\n",
    "since the correlation is only -0.05, very close to 0. The r-squared is also near 0 which means that only 5% of the\n",
    "variance for the trip frequency can be explained by the temperature."
   ]
  },
  {
   "cell_type": "code",
   "execution_count": 70,
   "metadata": {},
   "outputs": [
    {
     "name": "stdout",
     "output_type": "stream",
     "text": [
      "The correlation between both factors is 0.73\n",
      "The r-squared is: 0.7256684388953664\n"
     ]
    },
    {
     "data": {
      "image/png": "[encoded data removed]",
      "text/plain": [
       "<Figure size 432x288 with 1 Axes>"
      ]
     },
     "metadata": {
      "needs_background": "light"
     },
     "output_type": "display_data"
    }
   ],
   "source": [
    "# Let's see if there is a correlation between distance and pricing. \n",
    "x_values = uber_df['distance_kms']\n",
    "y_values = uber_df['price_usd']\n",
    "correlation = st.pearsonr(x_values, y_values)\n",
    "print(f\"The correlation between both factors is {round(correlation[0],2)}\")\n",
    "(slope, intercept, rvalue, pvalue, stderr) = linregress(x_values, y_values)\n",
    "regress_values = x_values * slope + intercept\n",
    "line_eq = \"y = \" + str(round(slope,2)) + \"x + \" + str(round(intercept,2))\n",
    "plt.scatter(x_values,y_values)\n",
    "plt.plot(x_values,regress_values,\"r-\")\n",
    "plt.annotate(line_eq,(6,10),fontsize=15,color=\"black\")\n",
    "plt.xlabel('Distance (kms)')\n",
    "plt.ylabel('Trip Price')\n",
    "print(f\"The r-squared is: {rvalue}\")\n",
    "plt.savefig('distanceprice.png')\n",
    "plt.show()"
   ]
  },
  {
   "cell_type": "markdown",
   "metadata": {},
   "source": [
    "Based on the above scatter plot there is a moderate correlation between the distance in kms and the trip fare since the correlation number is 0.73, closer to 1. The r-squared is also near 1 which means that 72.6% of the\n",
    "variance for the trip fare can be explained by the distance in kms. The linear equation shows a positive linear regression line between the 2 variables, which means that an increase in the distance in kms corresponds to an increase in the trip fare."
   ]
  },
  {
   "cell_type": "code",
   "execution_count": 71,
   "metadata": {},
   "outputs": [
    {
     "data": {
      "text/html": [
       "<div>\n",
       "<style scoped>\n",
       "    .dataframe tbody tr th:only-of-type {\n",
       "        vertical-align: middle;\n",
       "    }\n",
       "\n",
       "    .dataframe tbody tr th {\n",
       "        vertical-align: top;\n",
       "    }\n",
       "\n",
       "    .dataframe thead th {\n",
       "        text-align: right;\n",
       "    }\n",
       "</style>\n",
       "<table border=\"1\" class=\"dataframe\">\n",
       "  <thead>\n",
       "    <tr style=\"text-align: right;\">\n",
       "      <th></th>\n",
       "      <th>vehicle_make_model</th>\n",
       "      <th>trip_completed_at</th>\n",
       "      <th>trip_status</th>\n",
       "      <th>ride_hailing_app</th>\n",
       "      <th>trip_uid</th>\n",
       "      <th>driver_uid</th>\n",
       "      <th>rider_uid</th>\n",
       "      <th>customer</th>\n",
       "      <th>trip_start_time</th>\n",
       "      <th>trip_end_time</th>\n",
       "      <th>...</th>\n",
       "      <th>distance_kms</th>\n",
       "      <th>temperature_time</th>\n",
       "      <th>temperature_value</th>\n",
       "      <th>feels_like</th>\n",
       "      <th>humidity</th>\n",
       "      <th>wind_speed</th>\n",
       "      <th>cloudness</th>\n",
       "      <th>weather_main</th>\n",
       "      <th>weather_desc</th>\n",
       "      <th>precipitation</th>\n",
       "    </tr>\n",
       "  </thead>\n",
       "  <tbody>\n",
       "    <tr>\n",
       "      <th>0</th>\n",
       "      <td>Audi A3</td>\n",
       "      <td>2</td>\n",
       "      <td>2</td>\n",
       "      <td>2</td>\n",
       "      <td>2</td>\n",
       "      <td>2</td>\n",
       "      <td>2</td>\n",
       "      <td>2</td>\n",
       "      <td>2</td>\n",
       "      <td>2</td>\n",
       "      <td>...</td>\n",
       "      <td>2</td>\n",
       "      <td>2</td>\n",
       "      <td>2</td>\n",
       "      <td>2</td>\n",
       "      <td>2</td>\n",
       "      <td>2</td>\n",
       "      <td>2</td>\n",
       "      <td>2</td>\n",
       "      <td>2</td>\n",
       "      <td>2</td>\n",
       "    </tr>\n",
       "    <tr>\n",
       "      <th>1</th>\n",
       "      <td>Audi A6</td>\n",
       "      <td>4</td>\n",
       "      <td>4</td>\n",
       "      <td>4</td>\n",
       "      <td>4</td>\n",
       "      <td>4</td>\n",
       "      <td>4</td>\n",
       "      <td>4</td>\n",
       "      <td>4</td>\n",
       "      <td>4</td>\n",
       "      <td>...</td>\n",
       "      <td>4</td>\n",
       "      <td>4</td>\n",
       "      <td>4</td>\n",
       "      <td>4</td>\n",
       "      <td>4</td>\n",
       "      <td>4</td>\n",
       "      <td>4</td>\n",
       "      <td>4</td>\n",
       "      <td>4</td>\n",
       "      <td>4</td>\n",
       "    </tr>\n",
       "    <tr>\n",
       "      <th>2</th>\n",
       "      <td>Audi A7</td>\n",
       "      <td>2</td>\n",
       "      <td>2</td>\n",
       "      <td>2</td>\n",
       "      <td>2</td>\n",
       "      <td>2</td>\n",
       "      <td>2</td>\n",
       "      <td>2</td>\n",
       "      <td>2</td>\n",
       "      <td>2</td>\n",
       "      <td>...</td>\n",
       "      <td>2</td>\n",
       "      <td>2</td>\n",
       "      <td>2</td>\n",
       "      <td>2</td>\n",
       "      <td>2</td>\n",
       "      <td>2</td>\n",
       "      <td>2</td>\n",
       "      <td>2</td>\n",
       "      <td>2</td>\n",
       "      <td>2</td>\n",
       "    </tr>\n",
       "    <tr>\n",
       "      <th>3</th>\n",
       "      <td>Audi Q3</td>\n",
       "      <td>2</td>\n",
       "      <td>2</td>\n",
       "      <td>2</td>\n",
       "      <td>2</td>\n",
       "      <td>2</td>\n",
       "      <td>2</td>\n",
       "      <td>2</td>\n",
       "      <td>2</td>\n",
       "      <td>2</td>\n",
       "      <td>...</td>\n",
       "      <td>2</td>\n",
       "      <td>2</td>\n",
       "      <td>2</td>\n",
       "      <td>2</td>\n",
       "      <td>2</td>\n",
       "      <td>2</td>\n",
       "      <td>2</td>\n",
       "      <td>2</td>\n",
       "      <td>2</td>\n",
       "      <td>2</td>\n",
       "    </tr>\n",
       "    <tr>\n",
       "      <th>4</th>\n",
       "      <td>BMW 5-series</td>\n",
       "      <td>4</td>\n",
       "      <td>4</td>\n",
       "      <td>4</td>\n",
       "      <td>4</td>\n",
       "      <td>4</td>\n",
       "      <td>4</td>\n",
       "      <td>4</td>\n",
       "      <td>4</td>\n",
       "      <td>4</td>\n",
       "      <td>...</td>\n",
       "      <td>4</td>\n",
       "      <td>4</td>\n",
       "      <td>4</td>\n",
       "      <td>4</td>\n",
       "      <td>4</td>\n",
       "      <td>4</td>\n",
       "      <td>4</td>\n",
       "      <td>4</td>\n",
       "      <td>4</td>\n",
       "      <td>4</td>\n",
       "    </tr>\n",
       "  </tbody>\n",
       "</table>\n",
       "<p>5 rows × 45 columns</p>\n",
       "</div>"
      ],
      "text/plain": [
       "  vehicle_make_model  trip_completed_at  trip_status  ride_hailing_app  \\\n",
       "0            Audi A3                  2            2                 2   \n",
       "1            Audi A6                  4            4                 4   \n",
       "2            Audi A7                  2            2                 2   \n",
       "3            Audi Q3                  2            2                 2   \n",
       "4       BMW 5-series                  4            4                 4   \n",
       "\n",
       "   trip_uid  driver_uid  rider_uid  customer  trip_start_time  trip_end_time  \\\n",
       "0         2           2          2         2                2              2   \n",
       "1         4           4          4         4                4              4   \n",
       "2         2           2          2         2                2              2   \n",
       "3         2           2          2         2                2              2   \n",
       "4         4           4          4         4                4              4   \n",
       "\n",
       "   ...  distance_kms  temperature_time  temperature_value  feels_like  \\\n",
       "0  ...             2                 2                  2           2   \n",
       "1  ...             4                 4                  4           4   \n",
       "2  ...             2                 2                  2           2   \n",
       "3  ...             2                 2                  2           2   \n",
       "4  ...             4                 4                  4           4   \n",
       "\n",
       "   humidity  wind_speed  cloudness  weather_main  weather_desc  precipitation  \n",
       "0         2           2          2             2             2              2  \n",
       "1         4           4          4             4             4              4  \n",
       "2         2           2          2             2             2              2  \n",
       "3         2           2          2             2             2              2  \n",
       "4         4           4          4             4             4              4  \n",
       "\n",
       "[5 rows x 45 columns]"
      ]
     },
     "execution_count": 71,
     "metadata": {},
     "output_type": "execute_result"
    }
   ],
   "source": [
    "# Create pie plot for the vehicle make model\n",
    "vehicle_count = pd.DataFrame(uber_df.groupby([\"vehicle_make_model\"]).count()).reset_index()\n",
    "vehicle_count.head()"
   ]
  },
  {
   "cell_type": "code",
   "execution_count": 72,
   "metadata": {},
   "outputs": [
    {
     "data": {
      "text/html": [
       "<div>\n",
       "<style scoped>\n",
       "    .dataframe tbody tr th:only-of-type {\n",
       "        vertical-align: middle;\n",
       "    }\n",
       "\n",
       "    .dataframe tbody tr th {\n",
       "        vertical-align: top;\n",
       "    }\n",
       "\n",
       "    .dataframe thead th {\n",
       "        text-align: right;\n",
       "    }\n",
       "</style>\n",
       "<table border=\"1\" class=\"dataframe\">\n",
       "  <thead>\n",
       "    <tr style=\"text-align: right;\">\n",
       "      <th></th>\n",
       "      <th>vehicle_make_model</th>\n",
       "      <th>Count</th>\n",
       "    </tr>\n",
       "  </thead>\n",
       "  <tbody>\n",
       "    <tr>\n",
       "      <th>0</th>\n",
       "      <td>Audi A3</td>\n",
       "      <td>2</td>\n",
       "    </tr>\n",
       "    <tr>\n",
       "      <th>1</th>\n",
       "      <td>Audi A6</td>\n",
       "      <td>4</td>\n",
       "    </tr>\n",
       "    <tr>\n",
       "      <th>2</th>\n",
       "      <td>Audi A7</td>\n",
       "      <td>2</td>\n",
       "    </tr>\n",
       "    <tr>\n",
       "      <th>3</th>\n",
       "      <td>Audi Q3</td>\n",
       "      <td>2</td>\n",
       "    </tr>\n",
       "    <tr>\n",
       "      <th>4</th>\n",
       "      <td>BMW 5-series</td>\n",
       "      <td>4</td>\n",
       "    </tr>\n",
       "  </tbody>\n",
       "</table>\n",
       "</div>"
      ],
      "text/plain": [
       "  vehicle_make_model  Count\n",
       "0            Audi A3      2\n",
       "1            Audi A6      4\n",
       "2            Audi A7      2\n",
       "3            Audi Q3      2\n",
       "4       BMW 5-series      4"
      ]
     },
     "execution_count": 72,
     "metadata": {},
     "output_type": "execute_result"
    }
   ],
   "source": [
    "# Filter the DataFrame down only to those columns to chart\n",
    "vehicle_count = vehicle_count[[\"vehicle_make_model\",\"driver_uid\"]]\n",
    "vehicle_count = vehicle_count.rename(columns={\"driver_uid\": \"Count\"})\n",
    "vehicle_count.head()"
   ]
  },
  {
   "cell_type": "code",
   "execution_count": 73,
   "metadata": {},
   "outputs": [],
   "source": [
    "# Sort data in descending order\n",
    "vehicle_count = vehicle_count.sort_values('Count', ascending=False)\n"
   ]
  },
  {
   "cell_type": "code",
   "execution_count": 74,
   "metadata": {},
   "outputs": [
    {
     "data": {
      "text/html": [
       "<div>\n",
       "<style scoped>\n",
       "    .dataframe tbody tr th:only-of-type {\n",
       "        vertical-align: middle;\n",
       "    }\n",
       "\n",
       "    .dataframe tbody tr th {\n",
       "        vertical-align: top;\n",
       "    }\n",
       "\n",
       "    .dataframe thead th {\n",
       "        text-align: right;\n",
       "    }\n",
       "</style>\n",
       "<table border=\"1\" class=\"dataframe\">\n",
       "  <thead>\n",
       "    <tr style=\"text-align: right;\">\n",
       "      <th></th>\n",
       "      <th>vehicle_make_model</th>\n",
       "      <th>Count</th>\n",
       "    </tr>\n",
       "  </thead>\n",
       "  <tbody>\n",
       "    <tr>\n",
       "      <th>40</th>\n",
       "      <td>Hyundai Solaris</td>\n",
       "      <td>104</td>\n",
       "    </tr>\n",
       "    <tr>\n",
       "      <th>115</th>\n",
       "      <td>Volkswagen Polo</td>\n",
       "      <td>61</td>\n",
       "    </tr>\n",
       "    <tr>\n",
       "      <th>49</th>\n",
       "      <td>Kia Rio</td>\n",
       "      <td>43</td>\n",
       "    </tr>\n",
       "    <tr>\n",
       "      <th>25</th>\n",
       "      <td>Ford Focus</td>\n",
       "      <td>35</td>\n",
       "    </tr>\n",
       "    <tr>\n",
       "      <th>67</th>\n",
       "      <td>Nissan Almera</td>\n",
       "      <td>33</td>\n",
       "    </tr>\n",
       "  </tbody>\n",
       "</table>\n",
       "</div>"
      ],
      "text/plain": [
       "    vehicle_make_model  Count\n",
       "40     Hyundai Solaris    104\n",
       "115    Volkswagen Polo     61\n",
       "49             Kia Rio     43\n",
       "25          Ford Focus     35\n",
       "67       Nissan Almera     33"
      ]
     },
     "execution_count": 74,
     "metadata": {},
     "output_type": "execute_result"
    }
   ],
   "source": [
    "# the top 5\n",
    "top_five = vehicle_count[:5].copy()\n",
    "top_five"
   ]
  },
  {
   "cell_type": "code",
   "execution_count": 75,
   "metadata": {},
   "outputs": [
    {
     "data": {
      "text/html": [
       "<div>\n",
       "<style scoped>\n",
       "    .dataframe tbody tr th:only-of-type {\n",
       "        vertical-align: middle;\n",
       "    }\n",
       "\n",
       "    .dataframe tbody tr th {\n",
       "        vertical-align: top;\n",
       "    }\n",
       "\n",
       "    .dataframe thead th {\n",
       "        text-align: right;\n",
       "    }\n",
       "</style>\n",
       "<table border=\"1\" class=\"dataframe\">\n",
       "  <thead>\n",
       "    <tr style=\"text-align: right;\">\n",
       "      <th></th>\n",
       "      <th>vehicle_make_model</th>\n",
       "      <th>Count</th>\n",
       "    </tr>\n",
       "  </thead>\n",
       "  <tbody>\n",
       "    <tr>\n",
       "      <th>0</th>\n",
       "      <td>others</td>\n",
       "      <td>402</td>\n",
       "    </tr>\n",
       "  </tbody>\n",
       "</table>\n",
       "</div>"
      ],
      "text/plain": [
       "  vehicle_make_model  Count\n",
       "0             others    402"
      ]
     },
     "execution_count": 75,
     "metadata": {},
     "output_type": "execute_result"
    }
   ],
   "source": [
    "# Other vehicles\n",
    "other_vehicles = pd.DataFrame(data = {\n",
    "    'vehicle_make_model' : ['others'],\n",
    "    'Count' : [vehicle_count['Count'][5:].sum()]\n",
    "})\n",
    "other_vehicles"
   ]
  },
  {
   "cell_type": "code",
   "execution_count": 76,
   "metadata": {},
   "outputs": [
    {
     "data": {
      "text/html": [
       "<div>\n",
       "<style scoped>\n",
       "    .dataframe tbody tr th:only-of-type {\n",
       "        vertical-align: middle;\n",
       "    }\n",
       "\n",
       "    .dataframe tbody tr th {\n",
       "        vertical-align: top;\n",
       "    }\n",
       "\n",
       "    .dataframe thead th {\n",
       "        text-align: right;\n",
       "    }\n",
       "</style>\n",
       "<table border=\"1\" class=\"dataframe\">\n",
       "  <thead>\n",
       "    <tr style=\"text-align: right;\">\n",
       "      <th></th>\n",
       "      <th>vehicle_make_model</th>\n",
       "      <th>Count</th>\n",
       "    </tr>\n",
       "  </thead>\n",
       "  <tbody>\n",
       "    <tr>\n",
       "      <th>40</th>\n",
       "      <td>Hyundai Solaris</td>\n",
       "      <td>104</td>\n",
       "    </tr>\n",
       "    <tr>\n",
       "      <th>115</th>\n",
       "      <td>Volkswagen Polo</td>\n",
       "      <td>61</td>\n",
       "    </tr>\n",
       "    <tr>\n",
       "      <th>49</th>\n",
       "      <td>Kia Rio</td>\n",
       "      <td>43</td>\n",
       "    </tr>\n",
       "    <tr>\n",
       "      <th>25</th>\n",
       "      <td>Ford Focus</td>\n",
       "      <td>35</td>\n",
       "    </tr>\n",
       "    <tr>\n",
       "      <th>67</th>\n",
       "      <td>Nissan Almera</td>\n",
       "      <td>33</td>\n",
       "    </tr>\n",
       "    <tr>\n",
       "      <th>0</th>\n",
       "      <td>others</td>\n",
       "      <td>402</td>\n",
       "    </tr>\n",
       "  </tbody>\n",
       "</table>\n",
       "</div>"
      ],
      "text/plain": [
       "    vehicle_make_model  Count\n",
       "40     Hyundai Solaris    104\n",
       "115    Volkswagen Polo     61\n",
       "49             Kia Rio     43\n",
       "25          Ford Focus     35\n",
       "67       Nissan Almera     33\n",
       "0               others    402"
      ]
     },
     "execution_count": 76,
     "metadata": {},
     "output_type": "execute_result"
    }
   ],
   "source": [
    "# Combining top 5 with others\n",
    "top_five_others = pd.concat([top_five, other_vehicles])\n",
    "top_five_others"
   ]
  },
  {
   "cell_type": "code",
   "execution_count": 77,
   "metadata": {
    "scrolled": true
   },
   "outputs": [
    {
     "data": {
      "image/png": "[encoded data removed]",
      "text/plain": [
       "<Figure size 1008x720 with 1 Axes>"
      ]
     },
     "metadata": {},
     "output_type": "display_data"
    }
   ],
   "source": [
    "#plotting the 5 top vehicles with the others\n",
    "plt.figure(figsize=(14,10))\n",
    "ax1 = plt.subplot(121, aspect='equal')\n",
    "top_five_others.plot(kind='pie', y = \"Count\", ax=ax1, autopct='%1.1f%%', \n",
    " startangle=200, shadow=False, labels=top_five_others['vehicle_make_model'], legend = False, fontsize=16)\n",
    "plt.savefig('vehicletop5.png')"
   ]
  },
  {
   "cell_type": "markdown",
   "metadata": {},
   "source": [
    "The above pie chart shows the top 5 vehicle make models used by UBER drivers in Russia. \n",
    "The 1st one is the Hyunday Solaris, a south Korean car, which is sold as Hyundai Accent in the USA. For the Russian market it is assembled by the TagAZ plant in Taganrog.\n",
    "The 2nd one is the Volkswagen Polo, a car produced by the German manufacturer Volkswagen since 1975.\n",
    "The 3rd one is Kia Rio, another South Korean car."
   ]
  },
  {
   "cell_type": "code",
   "execution_count": 78,
   "metadata": {},
   "outputs": [],
   "source": [
    "# Set Index to vehicle make model\n",
    "top_five = top_five.set_index(\"vehicle_make_model\")\n"
   ]
  },
  {
   "cell_type": "code",
   "execution_count": 79,
   "metadata": {},
   "outputs": [
    {
     "data": {
      "image/png": "[encoded data removed]",
      "text/plain": [
       "<Figure size 720x216 with 1 Axes>"
      ]
     },
     "metadata": {
      "needs_background": "light"
     },
     "output_type": "display_data"
    }
   ],
   "source": [
    "# Plot a bar chart with the same information\n",
    "top_five.plot(kind=\"bar\", figsize=(10,3))\n",
    "\n",
    "# Set a title for the chart\n",
    "plt.title(\"Count per Top 5 Vehicle Make Model\")\n",
    "\n",
    "plt.tight_layout()\n",
    "plt.savefig('vehiclecount.png')\n",
    "plt.show()"
   ]
  },
  {
   "cell_type": "code",
   "execution_count": 129,
   "metadata": {},
   "outputs": [
    {
     "data": {
      "text/html": [
       "<div>\n",
       "<style scoped>\n",
       "    .dataframe tbody tr th:only-of-type {\n",
       "        vertical-align: middle;\n",
       "    }\n",
       "\n",
       "    .dataframe tbody tr th {\n",
       "        vertical-align: top;\n",
       "    }\n",
       "\n",
       "    .dataframe thead th {\n",
       "        text-align: right;\n",
       "    }\n",
       "</style>\n",
       "<table border=\"1\" class=\"dataframe\">\n",
       "  <thead>\n",
       "    <tr style=\"text-align: right;\">\n",
       "      <th></th>\n",
       "      <th>city</th>\n",
       "      <th>price_usd</th>\n",
       "      <th>distance_kms</th>\n",
       "      <th>price/km</th>\n",
       "    </tr>\n",
       "  </thead>\n",
       "  <tbody>\n",
       "    <tr>\n",
       "      <th>238</th>\n",
       "      <td>Saint Petersburg</td>\n",
       "      <td>3.12</td>\n",
       "      <td>6.12</td>\n",
       "      <td>0.509804</td>\n",
       "    </tr>\n",
       "    <tr>\n",
       "      <th>213</th>\n",
       "      <td>Saint Petersburg</td>\n",
       "      <td>2.16</td>\n",
       "      <td>3.22</td>\n",
       "      <td>0.670807</td>\n",
       "    </tr>\n",
       "    <tr>\n",
       "      <th>37</th>\n",
       "      <td>Saint Petersburg</td>\n",
       "      <td>2.59</td>\n",
       "      <td>3.07</td>\n",
       "      <td>0.843648</td>\n",
       "    </tr>\n",
       "    <tr>\n",
       "      <th>36</th>\n",
       "      <td>Saint Petersburg</td>\n",
       "      <td>3.65</td>\n",
       "      <td>3.35</td>\n",
       "      <td>1.089552</td>\n",
       "    </tr>\n",
       "    <tr>\n",
       "      <th>389</th>\n",
       "      <td>Saint Petersburg</td>\n",
       "      <td>10.84</td>\n",
       "      <td>34.13</td>\n",
       "      <td>0.317609</td>\n",
       "    </tr>\n",
       "  </tbody>\n",
       "</table>\n",
       "</div>"
      ],
      "text/plain": [
       "                 city  price_usd  distance_kms  price/km\n",
       "238  Saint Petersburg       3.12          6.12  0.509804\n",
       "213  Saint Petersburg       2.16          3.22  0.670807\n",
       "37   Saint Petersburg       2.59          3.07  0.843648\n",
       "36   Saint Petersburg       3.65          3.35  1.089552\n",
       "389  Saint Petersburg      10.84         34.13  0.317609"
      ]
     },
     "execution_count": 129,
     "metadata": {},
     "output_type": "execute_result"
    }
   ],
   "source": [
    "# Select the columns needed\n",
    "prices_box = uber_df.loc[:, [\"city\", \"price_usd\", \"distance_kms\"]]\n",
    "prices_box[\"price/km\"] = prices_box[\"price_usd\"]/prices_box[\"distance_kms\"]\n",
    "prices_box.head()"
   ]
  },
  {
   "cell_type": "code",
   "execution_count": 130,
   "metadata": {},
   "outputs": [],
   "source": [
    "# Sort data by city\n",
    "df = prices_box.sort_values(['city','price/km'],ascending=True).groupby('city').head().reset_index()"
   ]
  },
  {
   "cell_type": "code",
   "execution_count": 131,
   "metadata": {},
   "outputs": [
    {
     "data": {
      "text/plain": [
       "<bound method NDFrame.describe of     index              city  price_usd  distance_kms  price/km\n",
       "0      53      Ekaterinburg       5.91         23.44  0.252133\n",
       "1      15      Ekaterinburg       2.21          8.40  0.263095\n",
       "2     123      Ekaterinburg       5.54         20.58  0.269193\n",
       "3      64      Ekaterinburg       5.90         17.77  0.332020\n",
       "4      54      Ekaterinburg       5.91         16.38  0.360806\n",
       "5     362            Moscow       4.98         13.33  0.373593\n",
       "6     600            Moscow      14.71         35.79  0.411009\n",
       "7     601            Moscow      20.59         43.15  0.477173\n",
       "8     356            Moscow       7.68         14.18  0.541608\n",
       "9     361            Moscow       3.00          4.73  0.634249\n",
       "10    199  Saint Petersburg       2.63         23.70  0.110970\n",
       "11    339  Saint Petersburg       9.93         44.90  0.221158\n",
       "12     48  Saint Petersburg      10.84         44.22  0.245138\n",
       "13    206  Saint Petersburg       9.38         37.16  0.252422\n",
       "14    175  Saint Petersburg       5.74         20.68  0.277563>"
      ]
     },
     "execution_count": 131,
     "metadata": {},
     "output_type": "execute_result"
    }
   ],
   "source": [
    "df.describe"
   ]
  },
  {
   "cell_type": "code",
   "execution_count": 132,
   "metadata": {},
   "outputs": [
    {
     "data": {
      "image/png": "[encoded data removed]",
      "text/plain": [
       "<Figure size 1440x720 with 1 Axes>"
      ]
     },
     "metadata": {
      "needs_background": "light"
     },
     "output_type": "display_data"
    }
   ],
   "source": [
    "# Create a boxplot to compare prices in the 3 Russian cities\n",
    "df.boxplot(\"price/km\", by=\"city\", figsize=(20, 10))\n",
    "plt.savefig('boxplots.png')"
   ]
  },
  {
   "cell_type": "code",
   "execution_count": 133,
   "metadata": {},
   "outputs": [],
   "source": [
    "# Extract individual groups\n",
    "group1 = prices_box[prices_box[\"city\"] == \"Saint Petersburg\"][\"price_usd\"]\n",
    "group2 = prices_box[prices_box[\"city\"] == \"Moscow\"][\"price_usd\"]\n",
    "group3 = prices_box[prices_box[\"city\"] == \"Ekaterinburg\"][\"price_usd\"]"
   ]
  },
  {
   "cell_type": "code",
   "execution_count": 140,
   "metadata": {},
   "outputs": [
    {
     "data": {
      "text/plain": [
       "F_onewayResult(statistic=4.256612398815152, pvalue=0.014552486743234457)"
      ]
     },
     "execution_count": 140,
     "metadata": {},
     "output_type": "execute_result"
    }
   ],
   "source": [
    "import warnings\n",
    "warnings.filterwarnings('ignore')\n",
    "import scipy.stats as stats\n",
    "# Perform the ANOVA\n",
    "stats.f_oneway(group1, group2, group3)"
   ]
  },
  {
   "cell_type": "markdown",
   "metadata": {},
   "source": [
    "Since the p-value is less than 0.05, there is a significant difference between the mean prices of UBER rides in the 3 Russian cities."
   ]
  },
  {
   "cell_type": "code",
   "execution_count": 135,
   "metadata": {},
   "outputs": [
    {
     "name": "stdout",
     "output_type": "stream",
     "text": [
      "The lower quartile of prices is: 2.78\n",
      "The upper quartile of prices is: 5.620000000000001\n",
      "The interquartile range of prices is: 2.840000000000001\n",
      "The the median of prices is: 3.75 \n",
      "Values below -1.4800000000000018 could be outliers.\n",
      "Values above 9.880000000000003 could be outliers.\n"
     ]
    }
   ],
   "source": [
    "# Calculate IQR of prices in Saint Petersburg\n",
    "quartiles = group1.quantile([.25,.5,.75])\n",
    "lowerq = quartiles[0.25]\n",
    "upperq = quartiles[0.75]\n",
    "iqr = upperq-lowerq\n",
    "\n",
    "print(f\"The lower quartile of prices is: {lowerq}\")\n",
    "print(f\"The upper quartile of prices is: {upperq}\")\n",
    "print(f\"The interquartile range of prices is: {iqr}\")\n",
    "print(f\"The the median of prices is: {quartiles[0.5]} \")\n",
    "\n",
    "lower_bound = lowerq - (1.5*iqr)\n",
    "upper_bound = upperq + (1.5*iqr)\n",
    "print(f\"Values below {lower_bound} could be outliers.\")\n",
    "print(f\"Values above {upper_bound} could be outliers.\")"
   ]
  },
  {
   "cell_type": "code",
   "execution_count": 136,
   "metadata": {},
   "outputs": [
    {
     "name": "stdout",
     "output_type": "stream",
     "text": [
      "The lower quartile of prices is: 4.1775\n",
      "The upper quartile of prices is: 9.555\n",
      "The interquartile range of prices is: 5.3774999999999995\n",
      "The the median of prices is: 6.665 \n",
      "Values below -3.88875 could be outliers.\n",
      "Values above 17.62125 could be outliers.\n"
     ]
    }
   ],
   "source": [
    "# Calculate IQR of prices in Moscow\n",
    "quartiles = group2.quantile([.25,.5,.75])\n",
    "lowerq = quartiles[0.25]\n",
    "upperq = quartiles[0.75]\n",
    "iqr = upperq-lowerq\n",
    "\n",
    "print(f\"The lower quartile of prices is: {lowerq}\")\n",
    "print(f\"The upper quartile of prices is: {upperq}\")\n",
    "print(f\"The interquartile range of prices is: {iqr}\")\n",
    "print(f\"The the median of prices is: {quartiles[0.5]} \")\n",
    "\n",
    "lower_bound = lowerq - (1.5*iqr)\n",
    "upper_bound = upperq + (1.5*iqr)\n",
    "print(f\"Values below {lower_bound} could be outliers.\")\n",
    "print(f\"Values above {upper_bound} could be outliers.\")"
   ]
  },
  {
   "cell_type": "code",
   "execution_count": 137,
   "metadata": {},
   "outputs": [
    {
     "name": "stdout",
     "output_type": "stream",
     "text": [
      "The lower quartile of prices is: 2.1875\n",
      "The upper quartile of prices is: 5.630000000000001\n",
      "The interquartile range of prices is: 3.442500000000001\n",
      "The the median of prices is: 2.665 \n",
      "Values below -2.976250000000001 could be outliers.\n",
      "Values above 10.793750000000003 could be outliers.\n"
     ]
    }
   ],
   "source": [
    "# Calculate IQR of prices in Ekaterinburg\n",
    "quartiles = group3.quantile([.25,.5,.75])\n",
    "lowerq = quartiles[0.25]\n",
    "upperq = quartiles[0.75]\n",
    "iqr = upperq-lowerq\n",
    "\n",
    "print(f\"The lower quartile of prices is: {lowerq}\")\n",
    "print(f\"The upper quartile of prices is: {upperq}\")\n",
    "print(f\"The interquartile range of prices is: {iqr}\")\n",
    "print(f\"The the median of prices is: {quartiles[0.5]} \")\n",
    "\n",
    "lower_bound = lowerq - (1.5*iqr)\n",
    "upper_bound = upperq + (1.5*iqr)\n",
    "print(f\"Values below {lower_bound} could be outliers.\")\n",
    "print(f\"Values above {upper_bound} could be outliers.\")"
   ]
  },
  {
   "cell_type": "code",
   "execution_count": null,
   "metadata": {},
   "outputs": [],
   "source": []
  },
  {
   "cell_type": "code",
   "execution_count": null,
   "metadata": {},
   "outputs": [],
   "source": []
  }
 ],
 "metadata": {
  "kernelspec": {
   "display_name": "Python 3",
   "language": "python",
   "name": "python3"
  },
  "language_info": {
   "codemirror_mode": {
    "name": "ipython",
    "version": 3
   },
   "file_extension": ".py",
   "mimetype": "text/x-python",
   "name": "python",
   "nbconvert_exporter": "python",
   "pygments_lexer": "ipython3",
   "version": "3.7.3"
  }
 },
 "nbformat": 4,
 "nbformat_minor": 2
}
