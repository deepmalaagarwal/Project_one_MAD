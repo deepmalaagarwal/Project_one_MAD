{
 "cells": [
  {
   "cell_type": "code",
   "execution_count": 11,
   "metadata": {},
   "outputs": [],
   "source": [
    "# Import dependencies\n",
    "import pandas as pd\n",
    "import matplotlib.pyplot as plt\n",
    "import numpy as np\n",
    "import scipy.stats as stats\n",
    "\n",
    "from datetime import date, datetime"
   ]
  },
  {
   "cell_type": "code",
   "execution_count": 12,
   "metadata": {},
   "outputs": [
    {
     "data": {
      "text/html": [
       "<div>\n",
       "<style scoped>\n",
       "    .dataframe tbody tr th:only-of-type {\n",
       "        vertical-align: middle;\n",
       "    }\n",
       "\n",
       "    .dataframe tbody tr th {\n",
       "        vertical-align: top;\n",
       "    }\n",
       "\n",
       "    .dataframe thead th {\n",
       "        text-align: right;\n",
       "    }\n",
       "</style>\n",
       "<table border=\"1\" class=\"dataframe\">\n",
       "  <thead>\n",
       "    <tr style=\"text-align: right;\">\n",
       "      <th></th>\n",
       "      <th>trip_completed_at</th>\n",
       "      <th>trip_status</th>\n",
       "      <th>ride_hailing_app</th>\n",
       "      <th>trip_uid</th>\n",
       "      <th>driver_uid</th>\n",
       "      <th>rider_uid</th>\n",
       "      <th>customer</th>\n",
       "      <th>trip_start_time</th>\n",
       "      <th>trip_end_time</th>\n",
       "      <th>trip_time</th>\n",
       "      <th>...</th>\n",
       "      <th>distance_kms</th>\n",
       "      <th>temperature_time</th>\n",
       "      <th>temperature_value</th>\n",
       "      <th>feels_like</th>\n",
       "      <th>humidity</th>\n",
       "      <th>wind_speed</th>\n",
       "      <th>cloudness</th>\n",
       "      <th>weather_main</th>\n",
       "      <th>weather_desc</th>\n",
       "      <th>precipitation</th>\n",
       "    </tr>\n",
       "  </thead>\n",
       "  <tbody>\n",
       "    <tr>\n",
       "      <th>0</th>\n",
       "      <td>September 13, 2015 at 6:54PM</td>\n",
       "      <td>Completed</td>\n",
       "      <td>Uber</td>\n",
       "      <td>cd2550e2ffb0ddd9b928bb45610e64cd</td>\n",
       "      <td>c02023222f4083ee5a28280a8ce65b11</td>\n",
       "      <td>3ffa4a71a5aa791a8bc3409f5b15b936</td>\n",
       "      <td>stantyan</td>\n",
       "      <td>9/13/15 15:06</td>\n",
       "      <td>9/13/15 17:54</td>\n",
       "      <td>0:29:37</td>\n",
       "      <td>...</td>\n",
       "      <td>17.77</td>\n",
       "      <td>2015-09-13T15:06:00</td>\n",
       "      <td>14</td>\n",
       "      <td>14</td>\n",
       "      <td>0.58</td>\n",
       "      <td>5.70</td>\n",
       "      <td>0</td>\n",
       "      <td>clear-day</td>\n",
       "      <td>Clear</td>\n",
       "      <td>rain</td>\n",
       "    </tr>\n",
       "    <tr>\n",
       "      <th>1</th>\n",
       "      <td>September 9, 2015 at 5:00PM</td>\n",
       "      <td>Completed</td>\n",
       "      <td>Uber</td>\n",
       "      <td>54b6a258d6d5cdec9d6e4dd39236af4c</td>\n",
       "      <td>6035b1f913676b3e615126e187be34f2</td>\n",
       "      <td>3ffa4a71a5aa791a8bc3409f5b15b936</td>\n",
       "      <td>stantyan</td>\n",
       "      <td>9/9/15 13:25</td>\n",
       "      <td>9/9/15 16:00</td>\n",
       "      <td>0:23:40</td>\n",
       "      <td>...</td>\n",
       "      <td>8.01</td>\n",
       "      <td>2015-09-09T13:25:00</td>\n",
       "      <td>16</td>\n",
       "      <td>16</td>\n",
       "      <td>0.92</td>\n",
       "      <td>3.34</td>\n",
       "      <td>0.75</td>\n",
       "      <td>partly-cloudy-day</td>\n",
       "      <td>Mostly Cloudy</td>\n",
       "      <td>rain</td>\n",
       "    </tr>\n",
       "    <tr>\n",
       "      <th>2</th>\n",
       "      <td>September 23, 2015 at 12:06AM</td>\n",
       "      <td>Completed</td>\n",
       "      <td>Uber</td>\n",
       "      <td>3eca478c9a479278d2a19ba87069fe0c</td>\n",
       "      <td>a6e8b5316af29c021ff127284d487307</td>\n",
       "      <td>3ffa4a71a5aa791a8bc3409f5b15b936</td>\n",
       "      <td>stantyan</td>\n",
       "      <td>9/22/15 21:39</td>\n",
       "      <td>9/22/15 23:06</td>\n",
       "      <td>0:18:32</td>\n",
       "      <td>...</td>\n",
       "      <td>6.20</td>\n",
       "      <td>2015-09-22T21:39:00</td>\n",
       "      <td>8</td>\n",
       "      <td>8</td>\n",
       "      <td>0.89</td>\n",
       "      <td>0.54</td>\n",
       "      <td>0</td>\n",
       "      <td>clear-night</td>\n",
       "      <td>Clear</td>\n",
       "      <td>rain</td>\n",
       "    </tr>\n",
       "    <tr>\n",
       "      <th>3</th>\n",
       "      <td>June 14, 2015 at 7:44AM</td>\n",
       "      <td>Cancelled</td>\n",
       "      <td>Uber</td>\n",
       "      <td>b970e99cf7d4e163c9808ed945f9e5be</td>\n",
       "      <td>a89bc69e8452fcec3f650b688f6e3473</td>\n",
       "      <td>3ffa4a71a5aa791a8bc3409f5b15b936</td>\n",
       "      <td>stantyan</td>\n",
       "      <td>6/14/15 5:58</td>\n",
       "      <td>6/14/15 6:44</td>\n",
       "      <td>0:01:00</td>\n",
       "      <td>...</td>\n",
       "      <td>0.10</td>\n",
       "      <td>2015-06-14T05:58:00</td>\n",
       "      <td>17</td>\n",
       "      <td>17</td>\n",
       "      <td>0.69</td>\n",
       "      <td>0.88</td>\n",
       "      <td>0.32</td>\n",
       "      <td>partly-cloudy-day</td>\n",
       "      <td>Partly Cloudy</td>\n",
       "      <td>none</td>\n",
       "    </tr>\n",
       "    <tr>\n",
       "      <th>4</th>\n",
       "      <td>November 26, 2017 at 08:59PM</td>\n",
       "      <td>Completed</td>\n",
       "      <td>Uber</td>\n",
       "      <td>c958b6b3f36ff994821c59fe6327cb15</td>\n",
       "      <td>1d2a87b0080f9ccc87296da2f2c58ca2</td>\n",
       "      <td>3ffa4a71a5aa791a8bc3409f5b15b936</td>\n",
       "      <td>stantyan</td>\n",
       "      <td>11/26/17 19:01</td>\n",
       "      <td>11/26/17 19:59</td>\n",
       "      <td>0:18:37</td>\n",
       "      <td>...</td>\n",
       "      <td>13.99</td>\n",
       "      <td>2017-11-26T19:01:00</td>\n",
       "      <td>2</td>\n",
       "      <td>-1</td>\n",
       "      <td>0.90</td>\n",
       "      <td>3.49</td>\n",
       "      <td>1</td>\n",
       "      <td>cloudy</td>\n",
       "      <td>Overcast</td>\n",
       "      <td>none</td>\n",
       "    </tr>\n",
       "  </tbody>\n",
       "</table>\n",
       "<p>5 rows × 45 columns</p>\n",
       "</div>"
      ],
      "text/plain": [
       "               trip_completed_at trip_status ride_hailing_app  \\\n",
       "0   September 13, 2015 at 6:54PM   Completed             Uber   \n",
       "1    September 9, 2015 at 5:00PM   Completed             Uber   \n",
       "2  September 23, 2015 at 12:06AM   Completed             Uber   \n",
       "3        June 14, 2015 at 7:44AM   Cancelled             Uber   \n",
       "4   November 26, 2017 at 08:59PM   Completed             Uber   \n",
       "\n",
       "                           trip_uid                        driver_uid  \\\n",
       "0  cd2550e2ffb0ddd9b928bb45610e64cd  c02023222f4083ee5a28280a8ce65b11   \n",
       "1  54b6a258d6d5cdec9d6e4dd39236af4c  6035b1f913676b3e615126e187be34f2   \n",
       "2  3eca478c9a479278d2a19ba87069fe0c  a6e8b5316af29c021ff127284d487307   \n",
       "3  b970e99cf7d4e163c9808ed945f9e5be  a89bc69e8452fcec3f650b688f6e3473   \n",
       "4  c958b6b3f36ff994821c59fe6327cb15  1d2a87b0080f9ccc87296da2f2c58ca2   \n",
       "\n",
       "                          rider_uid  customer trip_start_time   trip_end_time  \\\n",
       "0  3ffa4a71a5aa791a8bc3409f5b15b936  stantyan   9/13/15 15:06   9/13/15 17:54   \n",
       "1  3ffa4a71a5aa791a8bc3409f5b15b936  stantyan    9/9/15 13:25    9/9/15 16:00   \n",
       "2  3ffa4a71a5aa791a8bc3409f5b15b936  stantyan   9/22/15 21:39   9/22/15 23:06   \n",
       "3  3ffa4a71a5aa791a8bc3409f5b15b936  stantyan    6/14/15 5:58    6/14/15 6:44   \n",
       "4  3ffa4a71a5aa791a8bc3409f5b15b936  stantyan  11/26/17 19:01  11/26/17 19:59   \n",
       "\n",
       "  trip_time  ... distance_kms     temperature_time temperature_value  \\\n",
       "0   0:29:37  ...        17.77  2015-09-13T15:06:00                14   \n",
       "1   0:23:40  ...         8.01  2015-09-09T13:25:00                16   \n",
       "2   0:18:32  ...         6.20  2015-09-22T21:39:00                 8   \n",
       "3   0:01:00  ...         0.10  2015-06-14T05:58:00                17   \n",
       "4   0:18:37  ...        13.99  2017-11-26T19:01:00                 2   \n",
       "\n",
       "   feels_like humidity wind_speed cloudness       weather_main   weather_desc  \\\n",
       "0          14     0.58       5.70         0          clear-day          Clear   \n",
       "1          16     0.92       3.34      0.75  partly-cloudy-day  Mostly Cloudy   \n",
       "2           8     0.89       0.54         0        clear-night          Clear   \n",
       "3          17     0.69       0.88      0.32  partly-cloudy-day  Partly Cloudy   \n",
       "4          -1     0.90       3.49         1             cloudy       Overcast   \n",
       "\n",
       "  precipitation  \n",
       "0          rain  \n",
       "1          rain  \n",
       "2          rain  \n",
       "3          none  \n",
       "4          none  \n",
       "\n",
       "[5 rows x 45 columns]"
      ]
     },
     "execution_count": 12,
     "metadata": {},
     "output_type": "execute_result"
    }
   ],
   "source": [
    "#Preview file\n",
    "csv_path = \"uber-rides-dataset.csv\"\n",
    "\n",
    "# Create dataframe\n",
    "uber_df = pd.read_csv(csv_path)\n",
    "uber_df.head()"
   ]
  },
  {
   "cell_type": "code",
   "execution_count": 13,
   "metadata": {},
   "outputs": [
    {
     "data": {
      "text/plain": [
       "Index(['trip_completed_at', 'trip_status', 'ride_hailing_app', 'trip_uid',\n",
       "       'driver_uid', 'rider_uid', 'customer', 'trip_start_time',\n",
       "       'trip_end_time', 'trip_time', 'total_time', 'wait_time', 'trip_type',\n",
       "       'surge_multiplier', 'vehicle_make_model', 'vehicle_license_plate',\n",
       "       'driver_name_en', 'vehicle_make', 'vehicle_model', 'driver_gender',\n",
       "       'driver_photo_url', 'driver_phone_number', 'pickup_lat', 'pickup_long',\n",
       "       'dropoff_lat', 'dropoff_long', 'trip_map_image_url',\n",
       "       'trip_path_image_url', 'city', 'country', 'trip_start_address',\n",
       "       'trip_end_address', 'rub_usd_exchange_rate', 'price_rub', 'price_usd',\n",
       "       'distance_kms', 'temperature_time', 'temperature_value', 'feels_like',\n",
       "       'humidity', 'wind_speed', 'cloudness', 'weather_main', 'weather_desc',\n",
       "       'precipitation'],\n",
       "      dtype='object')"
      ]
     },
     "execution_count": 13,
     "metadata": {},
     "output_type": "execute_result"
    }
   ],
   "source": [
    "# Preview the columns with the data we can exploit\n",
    "uber_df.columns"
   ]
  },
  {
   "cell_type": "markdown",
   "metadata": {},
   "source": [
    "# DRIVER GENDER 'driver_gender'"
   ]
  },
  {
   "cell_type": "code",
   "execution_count": 14,
   "metadata": {},
   "outputs": [
    {
     "data": {
      "text/html": [
       "<div>\n",
       "<style scoped>\n",
       "    .dataframe tbody tr th:only-of-type {\n",
       "        vertical-align: middle;\n",
       "    }\n",
       "\n",
       "    .dataframe tbody tr th {\n",
       "        vertical-align: top;\n",
       "    }\n",
       "\n",
       "    .dataframe thead th {\n",
       "        text-align: right;\n",
       "    }\n",
       "</style>\n",
       "<table border=\"1\" class=\"dataframe\">\n",
       "  <thead>\n",
       "    <tr style=\"text-align: right;\">\n",
       "      <th></th>\n",
       "      <th>Gender Count</th>\n",
       "      <th>Gender Percentage</th>\n",
       "    </tr>\n",
       "  </thead>\n",
       "  <tbody>\n",
       "    <tr>\n",
       "      <th>Male</th>\n",
       "      <td>659</td>\n",
       "      <td>97.2</td>\n",
       "    </tr>\n",
       "    <tr>\n",
       "      <th>Female</th>\n",
       "      <td>19</td>\n",
       "      <td>2.8</td>\n",
       "    </tr>\n",
       "  </tbody>\n",
       "</table>\n",
       "</div>"
      ],
      "text/plain": [
       "        Gender Count  Gender Percentage\n",
       "Male             659               97.2\n",
       "Female            19                2.8"
      ]
     },
     "execution_count": 14,
     "metadata": {},
     "output_type": "execute_result"
    }
   ],
   "source": [
    "# Calculate the number of male and female drivers\n",
    "gender_count = uber_df[\"driver_gender\"].value_counts()\n",
    "\n",
    "# Calculate the percentage of male and female drivers\n",
    "percent_count = round((gender_count)/len(uber_df['driver_gender'])*100,2)\n",
    "\n",
    "# Create a summary table for genders\n",
    "gender_table = pd.DataFrame({\"Gender Count\": gender_count, \"Gender Percentage\":percent_count})\n",
    "gender_table"
   ]
  },
  {
   "cell_type": "code",
   "execution_count": 15,
   "metadata": {},
   "outputs": [
    {
     "data": {
      "image/png": "[encoded data removed]",
      "text/plain": [
       "<Figure size 432x288 with 1 Axes>"
      ]
     },
     "metadata": {},
     "output_type": "display_data"
    }
   ],
   "source": [
    "# Create a pie chart for genders\n",
    "labels = 'Male', 'Female'\n",
    "sizes = percent_count\n",
    "colors = [\"lightblue\", \"red\"]\n",
    "\n",
    "plt.pie(sizes, labels=labels, colors=colors, shadow=True, autopct='%1.1f%%', startangle=140)\n",
    "plt.title(\"Percentage of Male and Female drivers\")\n",
    "\n",
    "#plt.savefig(\"../Images/percent_gender_pie_chart.png\")\n",
    "plt.show()"
   ]
  },
  {
   "cell_type": "code",
   "execution_count": 16,
   "metadata": {},
   "outputs": [
    {
     "data": {
      "text/html": [
       "<div>\n",
       "<style scoped>\n",
       "    .dataframe tbody tr th:only-of-type {\n",
       "        vertical-align: middle;\n",
       "    }\n",
       "\n",
       "    .dataframe tbody tr th {\n",
       "        vertical-align: top;\n",
       "    }\n",
       "\n",
       "    .dataframe thead th {\n",
       "        text-align: right;\n",
       "    }\n",
       "</style>\n",
       "<table border=\"1\" class=\"dataframe\">\n",
       "  <thead>\n",
       "    <tr style=\"text-align: right;\">\n",
       "      <th></th>\n",
       "      <th>Trip Status</th>\n",
       "      <th>Trip Percent</th>\n",
       "    </tr>\n",
       "  </thead>\n",
       "  <tbody>\n",
       "    <tr>\n",
       "      <th>Completed</th>\n",
       "      <td>668</td>\n",
       "      <td>98.53</td>\n",
       "    </tr>\n",
       "    <tr>\n",
       "      <th>Cancelled</th>\n",
       "      <td>10</td>\n",
       "      <td>1.47</td>\n",
       "    </tr>\n",
       "  </tbody>\n",
       "</table>\n",
       "</div>"
      ],
      "text/plain": [
       "           Trip Status  Trip Percent\n",
       "Completed          668         98.53\n",
       "Cancelled           10          1.47"
      ]
     },
     "execution_count": 16,
     "metadata": {},
     "output_type": "execute_result"
    }
   ],
   "source": [
    "# Calculate the number of trips\n",
    "trip_status = uber_df[\"trip_status\"].value_counts()\n",
    "\n",
    "# Calculate the percentage\n",
    "trip_percent_count = round((trip_status)/len(uber_df['trip_status'])*100,2)\n",
    "\n",
    "# Create a summary table for trip status\n",
    "trip_table = pd.DataFrame({\"Trip Status\": trip_status, \"Trip Percent\":trip_percent_count})\n",
    "trip_table"
   ]
  },
  {
   "cell_type": "code",
   "execution_count": 17,
   "metadata": {},
   "outputs": [
    {
     "data": {
      "image/png": "[encoded data removed]",
      "text/plain": [
       "<Figure size 432x288 with 1 Axes>"
      ]
     },
     "metadata": {},
     "output_type": "display_data"
    }
   ],
   "source": [
    "# Create a pie chart for trip status\n",
    "labels = 'Completed','Cancelled'\n",
    "sizes = trip_percent_count\n",
    "colors = [\"lightgreen\", \"purple\"]\n",
    "\n",
    "plt.pie(sizes, labels=labels, colors=colors, shadow=True, autopct='%1.1f%%', startangle=140)\n",
    "plt.title(\"Trips Status\")\n",
    "\n",
    "\n",
    "plt.savefig(\"percent_status_pie_chart.png\")\n",
    "plt.show()"
   ]
  },
  {
   "cell_type": "code",
   "execution_count": 18,
   "metadata": {},
   "outputs": [
    {
     "ename": "NameError",
     "evalue": "name 'all_wait_df' is not defined",
     "output_type": "error",
     "traceback": [
      "\u001b[0;31m---------------------------------------------------------------------------\u001b[0m",
      "\u001b[0;31mNameError\u001b[0m                                 Traceback (most recent call last)",
      "\u001b[0;32m<ipython-input-18-714c96e529db>\u001b[0m in \u001b[0;36m<module>\u001b[0;34m\u001b[0m\n\u001b[1;32m      3\u001b[0m \u001b[0mpopularity1\u001b[0m \u001b[0;34m=\u001b[0m \u001b[0muber_df\u001b[0m\u001b[0;34m[\u001b[0m\u001b[0;34m'trip_status'\u001b[0m\u001b[0;34m]\u001b[0m\u001b[0;34m\u001b[0m\u001b[0;34m\u001b[0m\u001b[0m\n\u001b[1;32m      4\u001b[0m \u001b[0;34m\u001b[0m\u001b[0m\n\u001b[0;32m----> 5\u001b[0;31m \u001b[0mall_wait_df\u001b[0m\u001b[0;34m.\u001b[0m\u001b[0mplot\u001b[0m\u001b[0;34m(\u001b[0m\u001b[0mstyle\u001b[0m\u001b[0;34m=\u001b[0m\u001b[0;34m'-'\u001b[0m\u001b[0;34m,\u001b[0m \u001b[0mcolor\u001b[0m \u001b[0;34m=\u001b[0m\u001b[0;34m(\u001b[0m\u001b[0;34m'tab:red'\u001b[0m\u001b[0;34m,\u001b[0m \u001b[0;34m'orange'\u001b[0m\u001b[0;34m,\u001b[0m \u001b[0;34m'tab:blue'\u001b[0m\u001b[0;34m)\u001b[0m\u001b[0;34m)\u001b[0m\u001b[0;34m\u001b[0m\u001b[0;34m\u001b[0m\u001b[0m\n\u001b[0m\u001b[1;32m      6\u001b[0m \u001b[0;34m\u001b[0m\u001b[0m\n\u001b[1;32m      7\u001b[0m \u001b[0;34m\u001b[0m\u001b[0m\n",
      "\u001b[0;31mNameError\u001b[0m: name 'all_wait_df' is not defined"
     ]
    }
   ],
   "source": [
    "first_names1 = uber_df['city']\n",
    "total_names1 = np.arange(len(uber_df['trip_status']))\n",
    "popularity1 = uber_df['trip_status'] \n",
    "\n",
    "all_wait_df.plot(style='-', color =('tab:red', 'orange', 'tab:blue'))\n",
    "\n",
    "\n",
    "plt.pie(total_names1, popularity1, align='center', alpha=0.5, color='green')\n",
    "plt.xticks(total_names1, first_names1)\n",
    "plt.ylabel('Popularity')\n",
    "plt.xlabel('Drivers First Name')\n",
    "plt.title(\"Most popular drivers' first name\")\n",
    "plt.xticks(rotation='vertical')\n",
    "\n",
    "plt.show()"
   ]
  },
  {
   "cell_type": "code",
   "execution_count": 19,
   "metadata": {},
   "outputs": [
    {
     "ename": "NameError",
     "evalue": "name 'wait_df_by_max' is not defined",
     "output_type": "error",
     "traceback": [
      "\u001b[0;31m---------------------------------------------------------------------------\u001b[0m",
      "\u001b[0;31mNameError\u001b[0m                                 Traceback (most recent call last)",
      "\u001b[0;32m<ipython-input-19-fca7a9f7b788>\u001b[0m in \u001b[0;36m<module>\u001b[0;34m\u001b[0m\n\u001b[0;32m----> 1\u001b[0;31m all_wait_df = pd.DataFrame({\"Maximum Wait\": (wait_df_by_max), \n\u001b[0m\u001b[1;32m      2\u001b[0m                           \u001b[0;34m\"Average Wait\"\u001b[0m\u001b[0;34m:\u001b[0m \u001b[0;34m(\u001b[0m\u001b[0mwait_df_mean\u001b[0m\u001b[0;34m)\u001b[0m\u001b[0;34m,\u001b[0m\u001b[0;34m\u001b[0m\u001b[0;34m\u001b[0m\u001b[0m\n\u001b[1;32m      3\u001b[0m                             \"Minimum Wait\": (wait_df_by_min)})\n\u001b[1;32m      4\u001b[0m \u001b[0mpd\u001b[0m\u001b[0;34m.\u001b[0m\u001b[0mDataFrame\u001b[0m\u001b[0;34m(\u001b[0m\u001b[0mall_wait_df\u001b[0m\u001b[0;34m)\u001b[0m\u001b[0;34m.\u001b[0m\u001b[0mhead\u001b[0m\u001b[0;34m(\u001b[0m\u001b[0;34m)\u001b[0m\u001b[0;34m\u001b[0m\u001b[0;34m\u001b[0m\u001b[0m\n\u001b[1;32m      5\u001b[0m \u001b[0;34m\u001b[0m\u001b[0m\n",
      "\u001b[0;31mNameError\u001b[0m: name 'wait_df_by_max' is not defined"
     ]
    }
   ],
   "source": [
    "all_wait_df = pd.DataFrame({\"Maximum Wait\": (wait_df_by_max), \n",
    "                          \"Average Wait\": (wait_df_mean), \n",
    "                            \"Minimum Wait\": (wait_df_by_min)})\n",
    "pd.DataFrame(all_wait_df).head()\n",
    "\n",
    "\n",
    "all_wait_df.plot(style='-', color =('tab:red', 'orange', 'tab:blue'))\n",
    "\n",
    "plt.xlabel(\"Years (by month)\")\n",
    "plt.ylabel(\"Wait Time (in minutes)\")\n",
    "plt.legend(loc=\"best\")\n",
    "plt.title(\"Evolution of Waiting Time over the Years\")\n",
    "plt.grid(axis='y')\n",
    "plt.xticks(rotation=45)\n",
    "\n",
    "plt.show()\n"
   ]
  },
  {
   "cell_type": "code",
   "execution_count": 20,
   "metadata": {},
   "outputs": [
    {
     "data": {
      "text/plain": [
       "Completed    98.53\n",
       "Cancelled     1.47\n",
       "Name: Trip Percent, dtype: float64"
      ]
     },
     "execution_count": 20,
     "metadata": {},
     "output_type": "execute_result"
    }
   ],
   "source": [
    "trip_table['Trip Percent']"
   ]
  },
  {
   "cell_type": "code",
   "execution_count": 21,
   "metadata": {},
   "outputs": [
    {
     "name": "stdout",
     "output_type": "stream",
     "text": [
      "The correlation between both factors is 1.0\n",
      "The r-squared is: 1.0\n"
     ]
    },
    {
     "ename": "FileNotFoundError",
     "evalue": "[Errno 2] No such file or directory: 'Images/tempdistancecorr.png'",
     "output_type": "error",
     "traceback": [
      "\u001b[0;31m---------------------------------------------------------------------------\u001b[0m",
      "\u001b[0;31mFileNotFoundError\u001b[0m                         Traceback (most recent call last)",
      "\u001b[0;32m<ipython-input-21-646768cde812>\u001b[0m in \u001b[0;36m<module>\u001b[0;34m\u001b[0m\n\u001b[1;32m     21\u001b[0m \u001b[0mplt\u001b[0m\u001b[0;34m.\u001b[0m\u001b[0mylabel\u001b[0m\u001b[0;34m(\u001b[0m\u001b[0;34m'Gender'\u001b[0m\u001b[0;34m)\u001b[0m\u001b[0;34m\u001b[0m\u001b[0;34m\u001b[0m\u001b[0m\n\u001b[1;32m     22\u001b[0m \u001b[0mprint\u001b[0m\u001b[0;34m(\u001b[0m\u001b[0;34mf\"The r-squared is: {rvalue}\"\u001b[0m\u001b[0;34m)\u001b[0m\u001b[0;34m\u001b[0m\u001b[0;34m\u001b[0m\u001b[0m\n\u001b[0;32m---> 23\u001b[0;31m \u001b[0mplt\u001b[0m\u001b[0;34m.\u001b[0m\u001b[0msavefig\u001b[0m\u001b[0;34m(\u001b[0m\u001b[0;34m'Images/tempdistancecorr.png'\u001b[0m\u001b[0;34m)\u001b[0m\u001b[0;34m\u001b[0m\u001b[0;34m\u001b[0m\u001b[0m\n\u001b[0m\u001b[1;32m     24\u001b[0m \u001b[0mplt\u001b[0m\u001b[0;34m.\u001b[0m\u001b[0mshow\u001b[0m\u001b[0;34m(\u001b[0m\u001b[0;34m)\u001b[0m\u001b[0;34m\u001b[0m\u001b[0;34m\u001b[0m\u001b[0m\n",
      "\u001b[0;32m//anaconda3/lib/python3.7/site-packages/matplotlib/pyplot.py\u001b[0m in \u001b[0;36msavefig\u001b[0;34m(*args, **kwargs)\u001b[0m\n\u001b[1;32m    714\u001b[0m \u001b[0;32mdef\u001b[0m \u001b[0msavefig\u001b[0m\u001b[0;34m(\u001b[0m\u001b[0;34m*\u001b[0m\u001b[0margs\u001b[0m\u001b[0;34m,\u001b[0m \u001b[0;34m**\u001b[0m\u001b[0mkwargs\u001b[0m\u001b[0;34m)\u001b[0m\u001b[0;34m:\u001b[0m\u001b[0;34m\u001b[0m\u001b[0;34m\u001b[0m\u001b[0m\n\u001b[1;32m    715\u001b[0m     \u001b[0mfig\u001b[0m \u001b[0;34m=\u001b[0m \u001b[0mgcf\u001b[0m\u001b[0;34m(\u001b[0m\u001b[0;34m)\u001b[0m\u001b[0;34m\u001b[0m\u001b[0;34m\u001b[0m\u001b[0m\n\u001b[0;32m--> 716\u001b[0;31m     \u001b[0mres\u001b[0m \u001b[0;34m=\u001b[0m \u001b[0mfig\u001b[0m\u001b[0;34m.\u001b[0m\u001b[0msavefig\u001b[0m\u001b[0;34m(\u001b[0m\u001b[0;34m*\u001b[0m\u001b[0margs\u001b[0m\u001b[0;34m,\u001b[0m \u001b[0;34m**\u001b[0m\u001b[0mkwargs\u001b[0m\u001b[0;34m)\u001b[0m\u001b[0;34m\u001b[0m\u001b[0;34m\u001b[0m\u001b[0m\n\u001b[0m\u001b[1;32m    717\u001b[0m     \u001b[0mfig\u001b[0m\u001b[0;34m.\u001b[0m\u001b[0mcanvas\u001b[0m\u001b[0;34m.\u001b[0m\u001b[0mdraw_idle\u001b[0m\u001b[0;34m(\u001b[0m\u001b[0;34m)\u001b[0m   \u001b[0;31m# need this if 'transparent=True' to reset colors\u001b[0m\u001b[0;34m\u001b[0m\u001b[0;34m\u001b[0m\u001b[0m\n\u001b[1;32m    718\u001b[0m     \u001b[0;32mreturn\u001b[0m \u001b[0mres\u001b[0m\u001b[0;34m\u001b[0m\u001b[0;34m\u001b[0m\u001b[0m\n",
      "\u001b[0;32m//anaconda3/lib/python3.7/site-packages/matplotlib/figure.py\u001b[0m in \u001b[0;36msavefig\u001b[0;34m(self, fname, transparent, **kwargs)\u001b[0m\n\u001b[1;32m   2178\u001b[0m             \u001b[0mself\u001b[0m\u001b[0;34m.\u001b[0m\u001b[0mpatch\u001b[0m\u001b[0;34m.\u001b[0m\u001b[0mset_visible\u001b[0m\u001b[0;34m(\u001b[0m\u001b[0mframeon\u001b[0m\u001b[0;34m)\u001b[0m\u001b[0;34m\u001b[0m\u001b[0;34m\u001b[0m\u001b[0m\n\u001b[1;32m   2179\u001b[0m \u001b[0;34m\u001b[0m\u001b[0m\n\u001b[0;32m-> 2180\u001b[0;31m         \u001b[0mself\u001b[0m\u001b[0;34m.\u001b[0m\u001b[0mcanvas\u001b[0m\u001b[0;34m.\u001b[0m\u001b[0mprint_figure\u001b[0m\u001b[0;34m(\u001b[0m\u001b[0mfname\u001b[0m\u001b[0;34m,\u001b[0m \u001b[0;34m**\u001b[0m\u001b[0mkwargs\u001b[0m\u001b[0;34m)\u001b[0m\u001b[0;34m\u001b[0m\u001b[0;34m\u001b[0m\u001b[0m\n\u001b[0m\u001b[1;32m   2181\u001b[0m \u001b[0;34m\u001b[0m\u001b[0m\n\u001b[1;32m   2182\u001b[0m         \u001b[0;32mif\u001b[0m \u001b[0mframeon\u001b[0m\u001b[0;34m:\u001b[0m\u001b[0;34m\u001b[0m\u001b[0;34m\u001b[0m\u001b[0m\n",
      "\u001b[0;32m//anaconda3/lib/python3.7/site-packages/matplotlib/backend_bases.py\u001b[0m in \u001b[0;36mprint_figure\u001b[0;34m(self, filename, dpi, facecolor, edgecolor, orientation, format, bbox_inches, **kwargs)\u001b[0m\n\u001b[1;32m   2080\u001b[0m                     \u001b[0morientation\u001b[0m\u001b[0;34m=\u001b[0m\u001b[0morientation\u001b[0m\u001b[0;34m,\u001b[0m\u001b[0;34m\u001b[0m\u001b[0;34m\u001b[0m\u001b[0m\n\u001b[1;32m   2081\u001b[0m                     \u001b[0mbbox_inches_restore\u001b[0m\u001b[0;34m=\u001b[0m\u001b[0m_bbox_inches_restore\u001b[0m\u001b[0;34m,\u001b[0m\u001b[0;34m\u001b[0m\u001b[0;34m\u001b[0m\u001b[0m\n\u001b[0;32m-> 2082\u001b[0;31m                     **kwargs)\n\u001b[0m\u001b[1;32m   2083\u001b[0m             \u001b[0;32mfinally\u001b[0m\u001b[0;34m:\u001b[0m\u001b[0;34m\u001b[0m\u001b[0;34m\u001b[0m\u001b[0m\n\u001b[1;32m   2084\u001b[0m                 \u001b[0;32mif\u001b[0m \u001b[0mbbox_inches\u001b[0m \u001b[0;32mand\u001b[0m \u001b[0mrestore_bbox\u001b[0m\u001b[0;34m:\u001b[0m\u001b[0;34m\u001b[0m\u001b[0;34m\u001b[0m\u001b[0m\n",
      "\u001b[0;32m//anaconda3/lib/python3.7/site-packages/matplotlib/backends/backend_agg.py\u001b[0m in \u001b[0;36mprint_png\u001b[0;34m(self, filename_or_obj, metadata, pil_kwargs, *args, **kwargs)\u001b[0m\n\u001b[1;32m    528\u001b[0m             \u001b[0mrenderer\u001b[0m \u001b[0;34m=\u001b[0m \u001b[0mself\u001b[0m\u001b[0;34m.\u001b[0m\u001b[0mget_renderer\u001b[0m\u001b[0;34m(\u001b[0m\u001b[0;34m)\u001b[0m\u001b[0;34m\u001b[0m\u001b[0;34m\u001b[0m\u001b[0m\n\u001b[1;32m    529\u001b[0m             \u001b[0;32mwith\u001b[0m \u001b[0mcbook\u001b[0m\u001b[0;34m.\u001b[0m\u001b[0m_setattr_cm\u001b[0m\u001b[0;34m(\u001b[0m\u001b[0mrenderer\u001b[0m\u001b[0;34m,\u001b[0m \u001b[0mdpi\u001b[0m\u001b[0;34m=\u001b[0m\u001b[0mself\u001b[0m\u001b[0;34m.\u001b[0m\u001b[0mfigure\u001b[0m\u001b[0;34m.\u001b[0m\u001b[0mdpi\u001b[0m\u001b[0;34m)\u001b[0m\u001b[0;34m,\u001b[0m\u001b[0;31m \u001b[0m\u001b[0;31m\\\u001b[0m\u001b[0;34m\u001b[0m\u001b[0;34m\u001b[0m\u001b[0m\n\u001b[0;32m--> 530\u001b[0;31m                     \u001b[0mcbook\u001b[0m\u001b[0;34m.\u001b[0m\u001b[0mopen_file_cm\u001b[0m\u001b[0;34m(\u001b[0m\u001b[0mfilename_or_obj\u001b[0m\u001b[0;34m,\u001b[0m \u001b[0;34m\"wb\"\u001b[0m\u001b[0;34m)\u001b[0m \u001b[0;32mas\u001b[0m \u001b[0mfh\u001b[0m\u001b[0;34m:\u001b[0m\u001b[0;34m\u001b[0m\u001b[0;34m\u001b[0m\u001b[0m\n\u001b[0m\u001b[1;32m    531\u001b[0m                 _png.write_png(renderer._renderer, fh,\n\u001b[1;32m    532\u001b[0m                                self.figure.dpi, metadata=metadata)\n",
      "\u001b[0;32m//anaconda3/lib/python3.7/contextlib.py\u001b[0m in \u001b[0;36m__enter__\u001b[0;34m(self)\u001b[0m\n\u001b[1;32m    110\u001b[0m         \u001b[0;32mdel\u001b[0m \u001b[0mself\u001b[0m\u001b[0;34m.\u001b[0m\u001b[0margs\u001b[0m\u001b[0;34m,\u001b[0m \u001b[0mself\u001b[0m\u001b[0;34m.\u001b[0m\u001b[0mkwds\u001b[0m\u001b[0;34m,\u001b[0m \u001b[0mself\u001b[0m\u001b[0;34m.\u001b[0m\u001b[0mfunc\u001b[0m\u001b[0;34m\u001b[0m\u001b[0;34m\u001b[0m\u001b[0m\n\u001b[1;32m    111\u001b[0m         \u001b[0;32mtry\u001b[0m\u001b[0;34m:\u001b[0m\u001b[0;34m\u001b[0m\u001b[0;34m\u001b[0m\u001b[0m\n\u001b[0;32m--> 112\u001b[0;31m             \u001b[0;32mreturn\u001b[0m \u001b[0mnext\u001b[0m\u001b[0;34m(\u001b[0m\u001b[0mself\u001b[0m\u001b[0;34m.\u001b[0m\u001b[0mgen\u001b[0m\u001b[0;34m)\u001b[0m\u001b[0;34m\u001b[0m\u001b[0;34m\u001b[0m\u001b[0m\n\u001b[0m\u001b[1;32m    113\u001b[0m         \u001b[0;32mexcept\u001b[0m \u001b[0mStopIteration\u001b[0m\u001b[0;34m:\u001b[0m\u001b[0;34m\u001b[0m\u001b[0;34m\u001b[0m\u001b[0m\n\u001b[1;32m    114\u001b[0m             \u001b[0;32mraise\u001b[0m \u001b[0mRuntimeError\u001b[0m\u001b[0;34m(\u001b[0m\u001b[0;34m\"generator didn't yield\"\u001b[0m\u001b[0;34m)\u001b[0m \u001b[0;32mfrom\u001b[0m \u001b[0;32mNone\u001b[0m\u001b[0;34m\u001b[0m\u001b[0;34m\u001b[0m\u001b[0m\n",
      "\u001b[0;32m//anaconda3/lib/python3.7/site-packages/matplotlib/cbook/__init__.py\u001b[0m in \u001b[0;36mopen_file_cm\u001b[0;34m(path_or_file, mode, encoding)\u001b[0m\n\u001b[1;32m    445\u001b[0m \u001b[0;32mdef\u001b[0m \u001b[0mopen_file_cm\u001b[0m\u001b[0;34m(\u001b[0m\u001b[0mpath_or_file\u001b[0m\u001b[0;34m,\u001b[0m \u001b[0mmode\u001b[0m\u001b[0;34m=\u001b[0m\u001b[0;34m\"r\"\u001b[0m\u001b[0;34m,\u001b[0m \u001b[0mencoding\u001b[0m\u001b[0;34m=\u001b[0m\u001b[0;32mNone\u001b[0m\u001b[0;34m)\u001b[0m\u001b[0;34m:\u001b[0m\u001b[0;34m\u001b[0m\u001b[0;34m\u001b[0m\u001b[0m\n\u001b[1;32m    446\u001b[0m     \u001b[0;34mr\"\"\"Pass through file objects and context-manage `.PathLike`\\s.\"\"\"\u001b[0m\u001b[0;34m\u001b[0m\u001b[0;34m\u001b[0m\u001b[0m\n\u001b[0;32m--> 447\u001b[0;31m     \u001b[0mfh\u001b[0m\u001b[0;34m,\u001b[0m \u001b[0mopened\u001b[0m \u001b[0;34m=\u001b[0m \u001b[0mto_filehandle\u001b[0m\u001b[0;34m(\u001b[0m\u001b[0mpath_or_file\u001b[0m\u001b[0;34m,\u001b[0m \u001b[0mmode\u001b[0m\u001b[0;34m,\u001b[0m \u001b[0;32mTrue\u001b[0m\u001b[0;34m,\u001b[0m \u001b[0mencoding\u001b[0m\u001b[0;34m)\u001b[0m\u001b[0;34m\u001b[0m\u001b[0;34m\u001b[0m\u001b[0m\n\u001b[0m\u001b[1;32m    448\u001b[0m     \u001b[0;32mif\u001b[0m \u001b[0mopened\u001b[0m\u001b[0;34m:\u001b[0m\u001b[0;34m\u001b[0m\u001b[0;34m\u001b[0m\u001b[0m\n\u001b[1;32m    449\u001b[0m         \u001b[0;32mwith\u001b[0m \u001b[0mfh\u001b[0m\u001b[0;34m:\u001b[0m\u001b[0;34m\u001b[0m\u001b[0;34m\u001b[0m\u001b[0m\n",
      "\u001b[0;32m//anaconda3/lib/python3.7/site-packages/matplotlib/cbook/__init__.py\u001b[0m in \u001b[0;36mto_filehandle\u001b[0;34m(fname, flag, return_opened, encoding)\u001b[0m\n\u001b[1;32m    430\u001b[0m             \u001b[0mfh\u001b[0m \u001b[0;34m=\u001b[0m \u001b[0mbz2\u001b[0m\u001b[0;34m.\u001b[0m\u001b[0mBZ2File\u001b[0m\u001b[0;34m(\u001b[0m\u001b[0mfname\u001b[0m\u001b[0;34m,\u001b[0m \u001b[0mflag\u001b[0m\u001b[0;34m)\u001b[0m\u001b[0;34m\u001b[0m\u001b[0;34m\u001b[0m\u001b[0m\n\u001b[1;32m    431\u001b[0m         \u001b[0;32melse\u001b[0m\u001b[0;34m:\u001b[0m\u001b[0;34m\u001b[0m\u001b[0;34m\u001b[0m\u001b[0m\n\u001b[0;32m--> 432\u001b[0;31m             \u001b[0mfh\u001b[0m \u001b[0;34m=\u001b[0m \u001b[0mopen\u001b[0m\u001b[0;34m(\u001b[0m\u001b[0mfname\u001b[0m\u001b[0;34m,\u001b[0m \u001b[0mflag\u001b[0m\u001b[0;34m,\u001b[0m \u001b[0mencoding\u001b[0m\u001b[0;34m=\u001b[0m\u001b[0mencoding\u001b[0m\u001b[0;34m)\u001b[0m\u001b[0;34m\u001b[0m\u001b[0;34m\u001b[0m\u001b[0m\n\u001b[0m\u001b[1;32m    433\u001b[0m         \u001b[0mopened\u001b[0m \u001b[0;34m=\u001b[0m \u001b[0;32mTrue\u001b[0m\u001b[0;34m\u001b[0m\u001b[0;34m\u001b[0m\u001b[0m\n\u001b[1;32m    434\u001b[0m     \u001b[0;32melif\u001b[0m \u001b[0mhasattr\u001b[0m\u001b[0;34m(\u001b[0m\u001b[0mfname\u001b[0m\u001b[0;34m,\u001b[0m \u001b[0;34m'seek'\u001b[0m\u001b[0;34m)\u001b[0m\u001b[0;34m:\u001b[0m\u001b[0;34m\u001b[0m\u001b[0;34m\u001b[0m\u001b[0m\n",
      "\u001b[0;31mFileNotFoundError\u001b[0m: [Errno 2] No such file or directory: 'Images/tempdistancecorr.png'"
     ]
    },
    {
     "data": {
      "image/png": "[encoded data removed]",
      "text/plain": [
       "<Figure size 432x288 with 1 Axes>"
      ]
     },
     "metadata": {},
     "output_type": "display_data"
    }
   ],
   "source": [
    "import matplotlib.pyplot as plt\n",
    "from builtins import list\n",
    "import matplotlib\n",
    "matplotlib.style.use('ggplot')\n",
    "import scipy.stats as st\n",
    "import datetime\n",
    "from sklearn import datasets\n",
    "from scipy.stats import linregress\n",
    "\n",
    "x_values = trip_table['Trip Percent']\n",
    "y_values = gender_table['Gender Percentage']\n",
    "correlation = st.pearsonr(x_values, y_values)\n",
    "print(f\"The correlation between both factors is {round(correlation[0],2)}\")\n",
    "(slope, intercept, rvalue, pvalue, stderr) = linregress(x_values, y_values)\n",
    "regress_values = x_values * slope + intercept\n",
    "line_eq = \"y = \" + str(round(slope,2)) + \"x + \" + str(round(intercept,2))\n",
    "plt.scatter(x_values,y_values)\n",
    "plt.plot(x_values,regress_values,\"r-\")\n",
    "plt.annotate(line_eq,(6,10),fontsize=15,color=\"black\")\n",
    "plt.xlabel('Trip')\n",
    "plt.ylabel('Gender')\n",
    "print(f\"The r-squared is: {rvalue}\")\n",
    "plt.savefig('Images/tempdistancecorr.png')\n",
    "plt.show()"
   ]
  },
  {
   "cell_type": "markdown",
   "metadata": {},
   "source": [
    "# DRIVER FIRST NAME 'driver_name_en'"
   ]
  },
  {
   "cell_type": "code",
   "execution_count": 22,
   "metadata": {},
   "outputs": [
    {
     "data": {
      "text/html": [
       "<div>\n",
       "<style scoped>\n",
       "    .dataframe tbody tr th:only-of-type {\n",
       "        vertical-align: middle;\n",
       "    }\n",
       "\n",
       "    .dataframe tbody tr th {\n",
       "        vertical-align: top;\n",
       "    }\n",
       "\n",
       "    .dataframe thead th {\n",
       "        text-align: right;\n",
       "    }\n",
       "</style>\n",
       "<table border=\"1\" class=\"dataframe\">\n",
       "  <thead>\n",
       "    <tr style=\"text-align: right;\">\n",
       "      <th></th>\n",
       "      <th>First Name</th>\n",
       "      <th>Name Count</th>\n",
       "    </tr>\n",
       "  </thead>\n",
       "  <tbody>\n",
       "    <tr>\n",
       "      <th>0</th>\n",
       "      <td>Abbos</td>\n",
       "      <td>1</td>\n",
       "    </tr>\n",
       "    <tr>\n",
       "      <th>1</th>\n",
       "      <td>Abdula</td>\n",
       "      <td>1</td>\n",
       "    </tr>\n",
       "    <tr>\n",
       "      <th>2</th>\n",
       "      <td>Abdullo</td>\n",
       "      <td>1</td>\n",
       "    </tr>\n",
       "    <tr>\n",
       "      <th>3</th>\n",
       "      <td>Abuzar</td>\n",
       "      <td>1</td>\n",
       "    </tr>\n",
       "    <tr>\n",
       "      <th>4</th>\n",
       "      <td>Ahmad</td>\n",
       "      <td>1</td>\n",
       "    </tr>\n",
       "  </tbody>\n",
       "</table>\n",
       "</div>"
      ],
      "text/plain": [
       "  First Name  Name Count\n",
       "0      Abbos           1\n",
       "1     Abdula           1\n",
       "2    Abdullo           1\n",
       "3     Abuzar           1\n",
       "4      Ahmad           1"
      ]
     },
     "execution_count": 22,
     "metadata": {},
     "output_type": "execute_result"
    }
   ],
   "source": [
    "# Find drivers first name\n",
    "drivers_names = pd.DataFrame(uber_df['driver_name_en'])\n",
    "\n",
    "# Show duplicates first names\n",
    "drivers_names = drivers_names.groupby(drivers_names.columns.tolist()).size()\n",
    "names_df = pd.DataFrame(drivers_names).reset_index()\n",
    "\n",
    "first_name = names_df['driver_name_en']\n",
    "name_count = names_df[0]\n",
    "\n",
    "# Show table with all the first names\n",
    "names_table = pd.DataFrame({\"First Name\": first_name, \"Name Count\": name_count})\n",
    "names_table.head()"
   ]
  },
  {
   "cell_type": "code",
   "execution_count": 23,
   "metadata": {},
   "outputs": [
    {
     "data": {
      "text/plain": [
       "678"
      ]
     },
     "execution_count": 23,
     "metadata": {},
     "output_type": "execute_result"
    }
   ],
   "source": [
    "uber_df['driver_name_en'].count()"
   ]
  },
  {
   "cell_type": "code",
   "execution_count": 24,
   "metadata": {},
   "outputs": [
    {
     "data": {
      "text/html": [
       "<div>\n",
       "<style scoped>\n",
       "    .dataframe tbody tr th:only-of-type {\n",
       "        vertical-align: middle;\n",
       "    }\n",
       "\n",
       "    .dataframe tbody tr th {\n",
       "        vertical-align: top;\n",
       "    }\n",
       "\n",
       "    .dataframe thead th {\n",
       "        text-align: right;\n",
       "    }\n",
       "</style>\n",
       "<table border=\"1\" class=\"dataframe\">\n",
       "  <thead>\n",
       "    <tr style=\"text-align: right;\">\n",
       "      <th></th>\n",
       "      <th>First Name</th>\n",
       "      <th>Name Count</th>\n",
       "    </tr>\n",
       "  </thead>\n",
       "  <tbody>\n",
       "    <tr>\n",
       "      <th>10</th>\n",
       "      <td>Aleksandr</td>\n",
       "      <td>54</td>\n",
       "    </tr>\n",
       "    <tr>\n",
       "      <th>143</th>\n",
       "      <td>Sergey</td>\n",
       "      <td>40</td>\n",
       "    </tr>\n",
       "    <tr>\n",
       "      <th>11</th>\n",
       "      <td>Aleksey</td>\n",
       "      <td>38</td>\n",
       "    </tr>\n",
       "    <tr>\n",
       "      <th>18</th>\n",
       "      <td>Andrey</td>\n",
       "      <td>37</td>\n",
       "    </tr>\n",
       "    <tr>\n",
       "      <th>51</th>\n",
       "      <td>Dmitriy</td>\n",
       "      <td>29</td>\n",
       "    </tr>\n",
       "  </tbody>\n",
       "</table>\n",
       "</div>"
      ],
      "text/plain": [
       "    First Name  Name Count\n",
       "10   Aleksandr          54\n",
       "143     Sergey          40\n",
       "11     Aleksey          38\n",
       "18      Andrey          37\n",
       "51     Dmitriy          29"
      ]
     },
     "execution_count": 24,
     "metadata": {},
     "output_type": "execute_result"
    }
   ],
   "source": [
    "# Create a table with the 15 most popular first names among Uber drivers \n",
    "top_names = names_table.nlargest(15,['Name Count']) \n",
    "top_names.head()"
   ]
  },
  {
   "cell_type": "code",
   "execution_count": 25,
   "metadata": {},
   "outputs": [
    {
     "data": {
      "image/png": "[encoded data removed]",
      "text/plain": [
       "<Figure size 432x288 with 1 Axes>"
      ]
     },
     "metadata": {},
     "output_type": "display_data"
    }
   ],
   "source": [
    "# Create a bar chart with the 15 most popular drivers first name\n",
    "first_names1 = top_names['First Name']\n",
    "total_names1 = np.arange(len(first_names1))\n",
    "popularity1 = top_names['Name Count']\n",
    "\n",
    "plt.bar(total_names1, popularity1, align='center', alpha=0.5, color='green')\n",
    "plt.xticks(total_names1, first_names1)\n",
    "plt.ylabel('Popularity')\n",
    "plt.xlabel('Drivers First Name')\n",
    "plt.title(\"Most popular drivers' first name\")\n",
    "plt.xticks(rotation='vertical')\n",
    "\n",
    "plt.show()\n",
    "#plt.savefig(\"../Images/popular_names_bar_chart.png\")"
   ]
  },
  {
   "cell_type": "code",
   "execution_count": 26,
   "metadata": {},
   "outputs": [
    {
     "ename": "ValueError",
     "evalue": "Must have equal len keys and value when setting with an iterable",
     "output_type": "error",
     "traceback": [
      "\u001b[0;31m---------------------------------------------------------------------------\u001b[0m",
      "\u001b[0;31mValueError\u001b[0m                                Traceback (most recent call last)",
      "\u001b[0;32m<ipython-input-26-f423bc8f4ce6>\u001b[0m in \u001b[0;36m<module>\u001b[0;34m\u001b[0m\n\u001b[1;32m      1\u001b[0m \u001b[0muber_df\u001b[0m\u001b[0;34m.\u001b[0m\u001b[0mloc\u001b[0m\u001b[0;34m[\u001b[0m\u001b[0muber_df\u001b[0m\u001b[0;34m.\u001b[0m\u001b[0mdriver_name_en\u001b[0m\u001b[0;34m==\u001b[0m \u001b[0;34m'Aleksandr'\u001b[0m\u001b[0;34m,\u001b[0m \u001b[0;34m'name_match'\u001b[0m\u001b[0;34m]\u001b[0m \u001b[0;34m=\u001b[0m \u001b[0muber_df\u001b[0m\u001b[0;34m[\u001b[0m\u001b[0;34m'city'\u001b[0m\u001b[0;34m]\u001b[0m\u001b[0;34m\u001b[0m\u001b[0;34m\u001b[0m\u001b[0m\n\u001b[1;32m      2\u001b[0m \u001b[0muber_df\u001b[0m\u001b[0;34m\u001b[0m\u001b[0;34m\u001b[0m\u001b[0m\n\u001b[0;32m----> 3\u001b[0;31m \u001b[0muber_df\u001b[0m\u001b[0;34m.\u001b[0m\u001b[0mloc\u001b[0m\u001b[0;34m[\u001b[0m\u001b[0muber_df\u001b[0m\u001b[0;34m.\u001b[0m\u001b[0mdriver_name_en\u001b[0m\u001b[0;34m!=\u001b[0m \u001b[0;34m'Aleksandr'\u001b[0m\u001b[0;34m,\u001b[0m \u001b[0;34m'name_match'\u001b[0m\u001b[0;34m]\u001b[0m \u001b[0;34m=\u001b[0m \u001b[0;34m[\u001b[0m\u001b[0;34m]\u001b[0m\u001b[0;34m\u001b[0m\u001b[0;34m\u001b[0m\u001b[0m\n\u001b[0m\u001b[1;32m      4\u001b[0m \u001b[0;34m\u001b[0m\u001b[0m\n\u001b[1;32m      5\u001b[0m \u001b[0mdrivers_names\u001b[0m\u001b[0;34m.\u001b[0m\u001b[0mgroupby\u001b[0m\u001b[0;34m(\u001b[0m\u001b[0muber_df\u001b[0m\u001b[0;34m.\u001b[0m\u001b[0mname_match\u001b[0m\u001b[0;34m.\u001b[0m\u001b[0mtolist\u001b[0m\u001b[0;34m(\u001b[0m\u001b[0;34m)\u001b[0m\u001b[0;34m)\u001b[0m\u001b[0;34m.\u001b[0m\u001b[0msize\u001b[0m\u001b[0;34m(\u001b[0m\u001b[0;34m)\u001b[0m\u001b[0;34m\u001b[0m\u001b[0;34m\u001b[0m\u001b[0m\n",
      "\u001b[0;32m//anaconda3/lib/python3.7/site-packages/pandas/core/indexing.py\u001b[0m in \u001b[0;36m__setitem__\u001b[0;34m(self, key, value)\u001b[0m\n\u001b[1;32m    188\u001b[0m             \u001b[0mkey\u001b[0m \u001b[0;34m=\u001b[0m \u001b[0mcom\u001b[0m\u001b[0;34m.\u001b[0m\u001b[0mapply_if_callable\u001b[0m\u001b[0;34m(\u001b[0m\u001b[0mkey\u001b[0m\u001b[0;34m,\u001b[0m \u001b[0mself\u001b[0m\u001b[0;34m.\u001b[0m\u001b[0mobj\u001b[0m\u001b[0;34m)\u001b[0m\u001b[0;34m\u001b[0m\u001b[0;34m\u001b[0m\u001b[0m\n\u001b[1;32m    189\u001b[0m         \u001b[0mindexer\u001b[0m \u001b[0;34m=\u001b[0m \u001b[0mself\u001b[0m\u001b[0;34m.\u001b[0m\u001b[0m_get_setitem_indexer\u001b[0m\u001b[0;34m(\u001b[0m\u001b[0mkey\u001b[0m\u001b[0;34m)\u001b[0m\u001b[0;34m\u001b[0m\u001b[0;34m\u001b[0m\u001b[0m\n\u001b[0;32m--> 190\u001b[0;31m         \u001b[0mself\u001b[0m\u001b[0;34m.\u001b[0m\u001b[0m_setitem_with_indexer\u001b[0m\u001b[0;34m(\u001b[0m\u001b[0mindexer\u001b[0m\u001b[0;34m,\u001b[0m \u001b[0mvalue\u001b[0m\u001b[0;34m)\u001b[0m\u001b[0;34m\u001b[0m\u001b[0;34m\u001b[0m\u001b[0m\n\u001b[0m\u001b[1;32m    191\u001b[0m \u001b[0;34m\u001b[0m\u001b[0m\n\u001b[1;32m    192\u001b[0m     \u001b[0;32mdef\u001b[0m \u001b[0m_validate_key\u001b[0m\u001b[0;34m(\u001b[0m\u001b[0mself\u001b[0m\u001b[0;34m,\u001b[0m \u001b[0mkey\u001b[0m\u001b[0;34m,\u001b[0m \u001b[0maxis\u001b[0m\u001b[0;34m)\u001b[0m\u001b[0;34m:\u001b[0m\u001b[0;34m\u001b[0m\u001b[0;34m\u001b[0m\u001b[0m\n",
      "\u001b[0;32m//anaconda3/lib/python3.7/site-packages/pandas/core/indexing.py\u001b[0m in \u001b[0;36m_setitem_with_indexer\u001b[0;34m(self, indexer, value)\u001b[0m\n\u001b[1;32m    609\u001b[0m \u001b[0;34m\u001b[0m\u001b[0m\n\u001b[1;32m    610\u001b[0m                     \u001b[0;32mif\u001b[0m \u001b[0mlen\u001b[0m\u001b[0;34m(\u001b[0m\u001b[0mlabels\u001b[0m\u001b[0;34m)\u001b[0m \u001b[0;34m!=\u001b[0m \u001b[0mlen\u001b[0m\u001b[0;34m(\u001b[0m\u001b[0mvalue\u001b[0m\u001b[0;34m)\u001b[0m\u001b[0;34m:\u001b[0m\u001b[0;34m\u001b[0m\u001b[0;34m\u001b[0m\u001b[0m\n\u001b[0;32m--> 611\u001b[0;31m                         raise ValueError('Must have equal len keys and value '\n\u001b[0m\u001b[1;32m    612\u001b[0m                                          'when setting with an iterable')\n\u001b[1;32m    613\u001b[0m \u001b[0;34m\u001b[0m\u001b[0m\n",
      "\u001b[0;31mValueError\u001b[0m: Must have equal len keys and value when setting with an iterable"
     ]
    }
   ],
   "source": [
    "uber_df.loc[uber_df.driver_name_en== 'Aleksandr', 'name_match'] = uber_df['city']\n",
    "uber_df\n",
    "uber_df.loc[uber_df.driver_name_en!= 'Aleksandr', 'name_match'] = []\n",
    "\n",
    "drivers_names.groupby(uber_df.name_match.tolist()).size()\n",
    "\n",
    "\n"
   ]
  },
  {
   "cell_type": "code",
   "execution_count": null,
   "metadata": {},
   "outputs": [],
   "source": []
  },
  {
   "cell_type": "markdown",
   "metadata": {},
   "source": [
    "# WAIT TIME 'wait_time'"
   ]
  },
  {
   "cell_type": "code",
   "execution_count": 27,
   "metadata": {},
   "outputs": [
    {
     "data": {
      "text/html": [
       "<div>\n",
       "<style scoped>\n",
       "    .dataframe tbody tr th:only-of-type {\n",
       "        vertical-align: middle;\n",
       "    }\n",
       "\n",
       "    .dataframe tbody tr th {\n",
       "        vertical-align: top;\n",
       "    }\n",
       "\n",
       "    .dataframe thead th {\n",
       "        text-align: right;\n",
       "    }\n",
       "</style>\n",
       "<table border=\"1\" class=\"dataframe\">\n",
       "  <thead>\n",
       "    <tr style=\"text-align: right;\">\n",
       "      <th></th>\n",
       "      <th>wait_time</th>\n",
       "    </tr>\n",
       "  </thead>\n",
       "  <tbody>\n",
       "    <tr>\n",
       "      <th>0</th>\n",
       "      <td>2019-10-03 02:18:23</td>\n",
       "    </tr>\n",
       "    <tr>\n",
       "      <th>1</th>\n",
       "      <td>2019-10-03 02:11:20</td>\n",
       "    </tr>\n",
       "    <tr>\n",
       "      <th>2</th>\n",
       "      <td>2019-10-03 01:08:28</td>\n",
       "    </tr>\n",
       "    <tr>\n",
       "      <th>3</th>\n",
       "      <td>2019-10-03 00:45:00</td>\n",
       "    </tr>\n",
       "    <tr>\n",
       "      <th>4</th>\n",
       "      <td>2019-10-03 00:39:23</td>\n",
       "    </tr>\n",
       "  </tbody>\n",
       "</table>\n",
       "</div>"
      ],
      "text/plain": [
       "            wait_time\n",
       "0 2019-10-03 02:18:23\n",
       "1 2019-10-03 02:11:20\n",
       "2 2019-10-03 01:08:28\n",
       "3 2019-10-03 00:45:00\n",
       "4 2019-10-03 00:39:23"
      ]
     },
     "execution_count": 27,
     "metadata": {},
     "output_type": "execute_result"
    }
   ],
   "source": [
    "# Show wait time and convert to time format \n",
    "wait_df = uber_df['wait_time']\n",
    "wait_df = pd.to_datetime(uber_df['wait_time'])\n",
    "pd.DataFrame(wait_df).head()"
   ]
  },
  {
   "cell_type": "code",
   "execution_count": 28,
   "metadata": {},
   "outputs": [
    {
     "data": {
      "text/html": [
       "<div>\n",
       "<style scoped>\n",
       "    .dataframe tbody tr th:only-of-type {\n",
       "        vertical-align: middle;\n",
       "    }\n",
       "\n",
       "    .dataframe tbody tr th {\n",
       "        vertical-align: top;\n",
       "    }\n",
       "\n",
       "    .dataframe thead th {\n",
       "        text-align: right;\n",
       "    }\n",
       "</style>\n",
       "<table border=\"1\" class=\"dataframe\">\n",
       "  <thead>\n",
       "    <tr style=\"text-align: right;\">\n",
       "      <th></th>\n",
       "      <th>Trip Number</th>\n",
       "      <th>Trip Date</th>\n",
       "    </tr>\n",
       "  </thead>\n",
       "  <tbody>\n",
       "    <tr>\n",
       "      <th>0</th>\n",
       "      <td>0</td>\n",
       "      <td>2015-09-13 15:06:00</td>\n",
       "    </tr>\n",
       "    <tr>\n",
       "      <th>1</th>\n",
       "      <td>1</td>\n",
       "      <td>2015-09-09 13:25:00</td>\n",
       "    </tr>\n",
       "    <tr>\n",
       "      <th>2</th>\n",
       "      <td>2</td>\n",
       "      <td>2015-09-22 21:39:00</td>\n",
       "    </tr>\n",
       "    <tr>\n",
       "      <th>3</th>\n",
       "      <td>3</td>\n",
       "      <td>2015-06-14 05:58:00</td>\n",
       "    </tr>\n",
       "    <tr>\n",
       "      <th>4</th>\n",
       "      <td>4</td>\n",
       "      <td>2017-11-26 19:01:00</td>\n",
       "    </tr>\n",
       "  </tbody>\n",
       "</table>\n",
       "</div>"
      ],
      "text/plain": [
       "   Trip Number           Trip Date\n",
       "0            0 2015-09-13 15:06:00\n",
       "1            1 2015-09-09 13:25:00\n",
       "2            2 2015-09-22 21:39:00\n",
       "3            3 2015-06-14 05:58:00\n",
       "4            4 2017-11-26 19:01:00"
      ]
     },
     "execution_count": 28,
     "metadata": {},
     "output_type": "execute_result"
    }
   ],
   "source": [
    "# Find all the trips dates \n",
    "start_df = uber_df['trip_start_time']\n",
    "start_df = pd.to_datetime(start_df).reset_index()\n",
    "start_df\n",
    "\n",
    "trip_number = start_df['index']\n",
    "trip_date = start_df['trip_start_time']\n",
    "\n",
    "# Show table with all the trips and dates\n",
    "trip_dates_df = pd.DataFrame({\"Trip Number\": trip_number, \"Trip Date\": trip_date})\n",
    "trip_dates_df.head()"
   ]
  },
  {
   "cell_type": "code",
   "execution_count": 29,
   "metadata": {},
   "outputs": [
    {
     "data": {
      "text/html": [
       "<div>\n",
       "<style scoped>\n",
       "    .dataframe tbody tr th:only-of-type {\n",
       "        vertical-align: middle;\n",
       "    }\n",
       "\n",
       "    .dataframe tbody tr th {\n",
       "        vertical-align: top;\n",
       "    }\n",
       "\n",
       "    .dataframe thead th {\n",
       "        text-align: right;\n",
       "    }\n",
       "</style>\n",
       "<table border=\"1\" class=\"dataframe\">\n",
       "  <thead>\n",
       "    <tr style=\"text-align: right;\">\n",
       "      <th></th>\n",
       "      <th>Trip Number</th>\n",
       "      <th>Trip Date</th>\n",
       "      <th>Month</th>\n",
       "      <th>Year</th>\n",
       "      <th>Wait Time by Minutes</th>\n",
       "    </tr>\n",
       "  </thead>\n",
       "  <tbody>\n",
       "    <tr>\n",
       "      <th>0</th>\n",
       "      <td>0</td>\n",
       "      <td>2015-09-13 15:06:00</td>\n",
       "      <td>9</td>\n",
       "      <td>2015</td>\n",
       "      <td>18</td>\n",
       "    </tr>\n",
       "    <tr>\n",
       "      <th>1</th>\n",
       "      <td>1</td>\n",
       "      <td>2015-09-09 13:25:00</td>\n",
       "      <td>9</td>\n",
       "      <td>2015</td>\n",
       "      <td>11</td>\n",
       "    </tr>\n",
       "    <tr>\n",
       "      <th>2</th>\n",
       "      <td>2</td>\n",
       "      <td>2015-09-22 21:39:00</td>\n",
       "      <td>9</td>\n",
       "      <td>2015</td>\n",
       "      <td>8</td>\n",
       "    </tr>\n",
       "    <tr>\n",
       "      <th>3</th>\n",
       "      <td>3</td>\n",
       "      <td>2015-06-14 05:58:00</td>\n",
       "      <td>6</td>\n",
       "      <td>2015</td>\n",
       "      <td>45</td>\n",
       "    </tr>\n",
       "    <tr>\n",
       "      <th>4</th>\n",
       "      <td>4</td>\n",
       "      <td>2017-11-26 19:01:00</td>\n",
       "      <td>11</td>\n",
       "      <td>2017</td>\n",
       "      <td>39</td>\n",
       "    </tr>\n",
       "  </tbody>\n",
       "</table>\n",
       "</div>"
      ],
      "text/plain": [
       "   Trip Number           Trip Date Month  Year  Wait Time by Minutes\n",
       "0            0 2015-09-13 15:06:00     9  2015                    18\n",
       "1            1 2015-09-09 13:25:00     9  2015                    11\n",
       "2            2 2015-09-22 21:39:00     9  2015                     8\n",
       "3            3 2015-06-14 05:58:00     6  2015                    45\n",
       "4            4 2017-11-26 19:01:00    11  2017                    39"
      ]
     },
     "execution_count": 29,
     "metadata": {},
     "output_type": "execute_result"
    }
   ],
   "source": [
    "# Show the year and month for each trip \n",
    "trip_dates_df['Year'] = trip_dates_df['Trip Date'].apply(lambda line:  str(line.year))\n",
    "trip_dates_df['Month'] = trip_dates_df['Trip Date'].apply(lambda line:  str(line.month))\n",
    "\n",
    "new_trip_table = pd.DataFrame({\"Trip Number\": trip_number, \n",
    "                               \"Trip Date\": trip_date, \n",
    "                               \"Month\": (trip_dates_df['Month']), \n",
    "                               \"Year\": (trip_dates_df['Year']), \n",
    "                               \"Wait Time by Minutes\": (wait_df.dt.minute)})\n",
    "\n",
    "new_trip_table.head()\n"
   ]
  },
  {
   "cell_type": "code",
   "execution_count": 85,
   "metadata": {},
   "outputs": [
    {
     "data": {
      "text/html": [
       "<div>\n",
       "<style scoped>\n",
       "    .dataframe tbody tr th:only-of-type {\n",
       "        vertical-align: middle;\n",
       "    }\n",
       "\n",
       "    .dataframe tbody tr th {\n",
       "        vertical-align: top;\n",
       "    }\n",
       "\n",
       "    .dataframe thead th {\n",
       "        text-align: right;\n",
       "    }\n",
       "</style>\n",
       "<table border=\"1\" class=\"dataframe\">\n",
       "  <thead>\n",
       "    <tr style=\"text-align: right;\">\n",
       "      <th></th>\n",
       "      <th>Wait Time by Minutes</th>\n",
       "      <th>City</th>\n",
       "    </tr>\n",
       "  </thead>\n",
       "  <tbody>\n",
       "    <tr>\n",
       "      <th>0</th>\n",
       "      <td>18</td>\n",
       "      <td>Ekaterinburg</td>\n",
       "    </tr>\n",
       "    <tr>\n",
       "      <th>1</th>\n",
       "      <td>11</td>\n",
       "      <td>Ekaterinburg</td>\n",
       "    </tr>\n",
       "    <tr>\n",
       "      <th>2</th>\n",
       "      <td>8</td>\n",
       "      <td>Ekaterinburg</td>\n",
       "    </tr>\n",
       "    <tr>\n",
       "      <th>3</th>\n",
       "      <td>45</td>\n",
       "      <td>Saint Petersburg</td>\n",
       "    </tr>\n",
       "    <tr>\n",
       "      <th>4</th>\n",
       "      <td>39</td>\n",
       "      <td>Saint Petersburg</td>\n",
       "    </tr>\n",
       "    <tr>\n",
       "      <th>5</th>\n",
       "      <td>34</td>\n",
       "      <td>Saint Petersburg</td>\n",
       "    </tr>\n",
       "    <tr>\n",
       "      <th>6</th>\n",
       "      <td>29</td>\n",
       "      <td>Saint Petersburg</td>\n",
       "    </tr>\n",
       "    <tr>\n",
       "      <th>7</th>\n",
       "      <td>24</td>\n",
       "      <td>Ekaterinburg</td>\n",
       "    </tr>\n",
       "    <tr>\n",
       "      <th>8</th>\n",
       "      <td>23</td>\n",
       "      <td>Saint Petersburg</td>\n",
       "    </tr>\n",
       "    <tr>\n",
       "      <th>9</th>\n",
       "      <td>22</td>\n",
       "      <td>Ekaterinburg</td>\n",
       "    </tr>\n",
       "    <tr>\n",
       "      <th>10</th>\n",
       "      <td>21</td>\n",
       "      <td>Saint Petersburg</td>\n",
       "    </tr>\n",
       "    <tr>\n",
       "      <th>11</th>\n",
       "      <td>21</td>\n",
       "      <td>Saint Petersburg</td>\n",
       "    </tr>\n",
       "    <tr>\n",
       "      <th>12</th>\n",
       "      <td>21</td>\n",
       "      <td>Saint Petersburg</td>\n",
       "    </tr>\n",
       "    <tr>\n",
       "      <th>13</th>\n",
       "      <td>19</td>\n",
       "      <td>Saint Petersburg</td>\n",
       "    </tr>\n",
       "    <tr>\n",
       "      <th>14</th>\n",
       "      <td>19</td>\n",
       "      <td>Ekaterinburg</td>\n",
       "    </tr>\n",
       "    <tr>\n",
       "      <th>15</th>\n",
       "      <td>19</td>\n",
       "      <td>Saint Petersburg</td>\n",
       "    </tr>\n",
       "    <tr>\n",
       "      <th>16</th>\n",
       "      <td>18</td>\n",
       "      <td>Saint Petersburg</td>\n",
       "    </tr>\n",
       "    <tr>\n",
       "      <th>17</th>\n",
       "      <td>18</td>\n",
       "      <td>Saint Petersburg</td>\n",
       "    </tr>\n",
       "    <tr>\n",
       "      <th>18</th>\n",
       "      <td>18</td>\n",
       "      <td>Saint Petersburg</td>\n",
       "    </tr>\n",
       "    <tr>\n",
       "      <th>19</th>\n",
       "      <td>17</td>\n",
       "      <td>Saint Petersburg</td>\n",
       "    </tr>\n",
       "    <tr>\n",
       "      <th>20</th>\n",
       "      <td>17</td>\n",
       "      <td>Saint Petersburg</td>\n",
       "    </tr>\n",
       "    <tr>\n",
       "      <th>21</th>\n",
       "      <td>17</td>\n",
       "      <td>Ekaterinburg</td>\n",
       "    </tr>\n",
       "    <tr>\n",
       "      <th>22</th>\n",
       "      <td>17</td>\n",
       "      <td>Saint Petersburg</td>\n",
       "    </tr>\n",
       "    <tr>\n",
       "      <th>23</th>\n",
       "      <td>17</td>\n",
       "      <td>Saint Petersburg</td>\n",
       "    </tr>\n",
       "    <tr>\n",
       "      <th>24</th>\n",
       "      <td>17</td>\n",
       "      <td>Saint Petersburg</td>\n",
       "    </tr>\n",
       "    <tr>\n",
       "      <th>25</th>\n",
       "      <td>17</td>\n",
       "      <td>Saint Petersburg</td>\n",
       "    </tr>\n",
       "    <tr>\n",
       "      <th>26</th>\n",
       "      <td>17</td>\n",
       "      <td>Saint Petersburg</td>\n",
       "    </tr>\n",
       "    <tr>\n",
       "      <th>27</th>\n",
       "      <td>17</td>\n",
       "      <td>Saint Petersburg</td>\n",
       "    </tr>\n",
       "    <tr>\n",
       "      <th>28</th>\n",
       "      <td>17</td>\n",
       "      <td>Saint Petersburg</td>\n",
       "    </tr>\n",
       "    <tr>\n",
       "      <th>29</th>\n",
       "      <td>17</td>\n",
       "      <td>Saint Petersburg</td>\n",
       "    </tr>\n",
       "    <tr>\n",
       "      <th>...</th>\n",
       "      <td>...</td>\n",
       "      <td>...</td>\n",
       "    </tr>\n",
       "    <tr>\n",
       "      <th>648</th>\n",
       "      <td>2</td>\n",
       "      <td>Saint Petersburg</td>\n",
       "    </tr>\n",
       "    <tr>\n",
       "      <th>649</th>\n",
       "      <td>2</td>\n",
       "      <td>Saint Petersburg</td>\n",
       "    </tr>\n",
       "    <tr>\n",
       "      <th>650</th>\n",
       "      <td>1</td>\n",
       "      <td>Saint Petersburg</td>\n",
       "    </tr>\n",
       "    <tr>\n",
       "      <th>651</th>\n",
       "      <td>1</td>\n",
       "      <td>Saint Petersburg</td>\n",
       "    </tr>\n",
       "    <tr>\n",
       "      <th>652</th>\n",
       "      <td>1</td>\n",
       "      <td>Saint Petersburg</td>\n",
       "    </tr>\n",
       "    <tr>\n",
       "      <th>653</th>\n",
       "      <td>1</td>\n",
       "      <td>Saint Petersburg</td>\n",
       "    </tr>\n",
       "    <tr>\n",
       "      <th>654</th>\n",
       "      <td>1</td>\n",
       "      <td>Saint Petersburg</td>\n",
       "    </tr>\n",
       "    <tr>\n",
       "      <th>655</th>\n",
       "      <td>1</td>\n",
       "      <td>Saint Petersburg</td>\n",
       "    </tr>\n",
       "    <tr>\n",
       "      <th>656</th>\n",
       "      <td>1</td>\n",
       "      <td>Saint Petersburg</td>\n",
       "    </tr>\n",
       "    <tr>\n",
       "      <th>657</th>\n",
       "      <td>1</td>\n",
       "      <td>Saint Petersburg</td>\n",
       "    </tr>\n",
       "    <tr>\n",
       "      <th>658</th>\n",
       "      <td>1</td>\n",
       "      <td>Saint Petersburg</td>\n",
       "    </tr>\n",
       "    <tr>\n",
       "      <th>659</th>\n",
       "      <td>1</td>\n",
       "      <td>Saint Petersburg</td>\n",
       "    </tr>\n",
       "    <tr>\n",
       "      <th>660</th>\n",
       "      <td>1</td>\n",
       "      <td>Saint Petersburg</td>\n",
       "    </tr>\n",
       "    <tr>\n",
       "      <th>661</th>\n",
       "      <td>1</td>\n",
       "      <td>Saint Petersburg</td>\n",
       "    </tr>\n",
       "    <tr>\n",
       "      <th>662</th>\n",
       "      <td>1</td>\n",
       "      <td>Saint Petersburg</td>\n",
       "    </tr>\n",
       "    <tr>\n",
       "      <th>663</th>\n",
       "      <td>1</td>\n",
       "      <td>Saint Petersburg</td>\n",
       "    </tr>\n",
       "    <tr>\n",
       "      <th>664</th>\n",
       "      <td>1</td>\n",
       "      <td>Saint Petersburg</td>\n",
       "    </tr>\n",
       "    <tr>\n",
       "      <th>665</th>\n",
       "      <td>1</td>\n",
       "      <td>Saint Petersburg</td>\n",
       "    </tr>\n",
       "    <tr>\n",
       "      <th>666</th>\n",
       "      <td>1</td>\n",
       "      <td>Saint Petersburg</td>\n",
       "    </tr>\n",
       "    <tr>\n",
       "      <th>667</th>\n",
       "      <td>1</td>\n",
       "      <td>Saint Petersburg</td>\n",
       "    </tr>\n",
       "    <tr>\n",
       "      <th>668</th>\n",
       "      <td>1</td>\n",
       "      <td>Saint Petersburg</td>\n",
       "    </tr>\n",
       "    <tr>\n",
       "      <th>669</th>\n",
       "      <td>1</td>\n",
       "      <td>Saint Petersburg</td>\n",
       "    </tr>\n",
       "    <tr>\n",
       "      <th>670</th>\n",
       "      <td>0</td>\n",
       "      <td>Saint Petersburg</td>\n",
       "    </tr>\n",
       "    <tr>\n",
       "      <th>671</th>\n",
       "      <td>0</td>\n",
       "      <td>Saint Petersburg</td>\n",
       "    </tr>\n",
       "    <tr>\n",
       "      <th>672</th>\n",
       "      <td>0</td>\n",
       "      <td>Saint Petersburg</td>\n",
       "    </tr>\n",
       "    <tr>\n",
       "      <th>673</th>\n",
       "      <td>0</td>\n",
       "      <td>Saint Petersburg</td>\n",
       "    </tr>\n",
       "    <tr>\n",
       "      <th>674</th>\n",
       "      <td>0</td>\n",
       "      <td>Saint Petersburg</td>\n",
       "    </tr>\n",
       "    <tr>\n",
       "      <th>675</th>\n",
       "      <td>0</td>\n",
       "      <td>Saint Petersburg</td>\n",
       "    </tr>\n",
       "    <tr>\n",
       "      <th>676</th>\n",
       "      <td>0</td>\n",
       "      <td>Saint Petersburg</td>\n",
       "    </tr>\n",
       "    <tr>\n",
       "      <th>677</th>\n",
       "      <td>0</td>\n",
       "      <td>Ekaterinburg</td>\n",
       "    </tr>\n",
       "  </tbody>\n",
       "</table>\n",
       "<p>678 rows × 2 columns</p>\n",
       "</div>"
      ],
      "text/plain": [
       "     Wait Time by Minutes              City\n",
       "0                      18      Ekaterinburg\n",
       "1                      11      Ekaterinburg\n",
       "2                       8      Ekaterinburg\n",
       "3                      45  Saint Petersburg\n",
       "4                      39  Saint Petersburg\n",
       "5                      34  Saint Petersburg\n",
       "6                      29  Saint Petersburg\n",
       "7                      24      Ekaterinburg\n",
       "8                      23  Saint Petersburg\n",
       "9                      22      Ekaterinburg\n",
       "10                     21  Saint Petersburg\n",
       "11                     21  Saint Petersburg\n",
       "12                     21  Saint Petersburg\n",
       "13                     19  Saint Petersburg\n",
       "14                     19      Ekaterinburg\n",
       "15                     19  Saint Petersburg\n",
       "16                     18  Saint Petersburg\n",
       "17                     18  Saint Petersburg\n",
       "18                     18  Saint Petersburg\n",
       "19                     17  Saint Petersburg\n",
       "20                     17  Saint Petersburg\n",
       "21                     17      Ekaterinburg\n",
       "22                     17  Saint Petersburg\n",
       "23                     17  Saint Petersburg\n",
       "24                     17  Saint Petersburg\n",
       "25                     17  Saint Petersburg\n",
       "26                     17  Saint Petersburg\n",
       "27                     17  Saint Petersburg\n",
       "28                     17  Saint Petersburg\n",
       "29                     17  Saint Petersburg\n",
       "..                    ...               ...\n",
       "648                     2  Saint Petersburg\n",
       "649                     2  Saint Petersburg\n",
       "650                     1  Saint Petersburg\n",
       "651                     1  Saint Petersburg\n",
       "652                     1  Saint Petersburg\n",
       "653                     1  Saint Petersburg\n",
       "654                     1  Saint Petersburg\n",
       "655                     1  Saint Petersburg\n",
       "656                     1  Saint Petersburg\n",
       "657                     1  Saint Petersburg\n",
       "658                     1  Saint Petersburg\n",
       "659                     1  Saint Petersburg\n",
       "660                     1  Saint Petersburg\n",
       "661                     1  Saint Petersburg\n",
       "662                     1  Saint Petersburg\n",
       "663                     1  Saint Petersburg\n",
       "664                     1  Saint Petersburg\n",
       "665                     1  Saint Petersburg\n",
       "666                     1  Saint Petersburg\n",
       "667                     1  Saint Petersburg\n",
       "668                     1  Saint Petersburg\n",
       "669                     1  Saint Petersburg\n",
       "670                     0  Saint Petersburg\n",
       "671                     0  Saint Petersburg\n",
       "672                     0  Saint Petersburg\n",
       "673                     0  Saint Petersburg\n",
       "674                     0  Saint Petersburg\n",
       "675                     0  Saint Petersburg\n",
       "676                     0  Saint Petersburg\n",
       "677                     0      Ekaterinburg\n",
       "\n",
       "[678 rows x 2 columns]"
      ]
     },
     "execution_count": 85,
     "metadata": {},
     "output_type": "execute_result"
    }
   ],
   "source": [
    "new_trip_table2 = pd.DataFrame({\"Wait Time by Minutes\": (wait_df.dt.minute), \"City\": (uber_df['city'])})\n",
    "new_trip_table2"
   ]
  },
  {
   "cell_type": "code",
   "execution_count": 86,
   "metadata": {},
   "outputs": [
    {
     "data": {
      "text/html": [
       "<div>\n",
       "<style scoped>\n",
       "    .dataframe tbody tr th:only-of-type {\n",
       "        vertical-align: middle;\n",
       "    }\n",
       "\n",
       "    .dataframe tbody tr th {\n",
       "        vertical-align: top;\n",
       "    }\n",
       "\n",
       "    .dataframe thead th {\n",
       "        text-align: right;\n",
       "    }\n",
       "</style>\n",
       "<table border=\"1\" class=\"dataframe\">\n",
       "  <thead>\n",
       "    <tr style=\"text-align: right;\">\n",
       "      <th></th>\n",
       "      <th>City</th>\n",
       "      <th>Wait Time by Minutes</th>\n",
       "    </tr>\n",
       "  </thead>\n",
       "  <tbody>\n",
       "    <tr>\n",
       "      <th>0</th>\n",
       "      <td>Ekaterinburg</td>\n",
       "      <td>11.535714</td>\n",
       "    </tr>\n",
       "    <tr>\n",
       "      <th>1</th>\n",
       "      <td>Moscow</td>\n",
       "      <td>6.600000</td>\n",
       "    </tr>\n",
       "    <tr>\n",
       "      <th>2</th>\n",
       "      <td>Saint Petersburg</td>\n",
       "      <td>7.734375</td>\n",
       "    </tr>\n",
       "  </tbody>\n",
       "</table>\n",
       "</div>"
      ],
      "text/plain": [
       "               City  Wait Time by Minutes\n",
       "0      Ekaterinburg             11.535714\n",
       "1            Moscow              6.600000\n",
       "2  Saint Petersburg              7.734375"
      ]
     },
     "execution_count": 86,
     "metadata": {},
     "output_type": "execute_result"
    }
   ],
   "source": [
    "new_trip_table2 = new_trip_table2.groupby(['City'])['Wait Time by Minutes'].mean().reset_index()\n",
    "pd.DataFrame(new_trip_table2).head()"
   ]
  },
  {
   "cell_type": "code",
   "execution_count": 87,
   "metadata": {},
   "outputs": [
    {
     "data": {
      "text/plain": [
       "0        Ekaterinburg\n",
       "1              Moscow\n",
       "2    Saint Petersburg\n",
       "Name: City, dtype: object"
      ]
     },
     "execution_count": 87,
     "metadata": {},
     "output_type": "execute_result"
    }
   ],
   "source": [
    "new_trip_table2['City']"
   ]
  },
  {
   "cell_type": "code",
   "execution_count": 96,
   "metadata": {},
   "outputs": [
    {
     "data": {
      "image/png": "[encoded data removed]",
      "text/plain": [
       "<Figure size 432x288 with 1 Axes>"
      ]
     },
     "metadata": {},
     "output_type": "display_data"
    }
   ],
   "source": [
    "first_names12 = new_trip_table2['City']\n",
    "total_names12 = np.arange(len(first_names12))\n",
    "popularity12 = new_trip_table2['Wait Time by Minutes']\n",
    "\n",
    "plt.bar(total_names12, popularity12, align='center', alpha=0.5, color='green')\n",
    "plt.xticks(total_names12, first_names12)\n",
    "plt.ylabel('Wait Time')\n",
    "plt.xlabel('City')\n",
    "plt.title(\"Wait time per city\")\n",
    "\n",
    "\n",
    "plt.savefig(\"wait_time_bar.png\")\n",
    "plt.show()\n"
   ]
  },
  {
   "cell_type": "code",
   "execution_count": 30,
   "metadata": {},
   "outputs": [
    {
     "data": {
      "text/html": [
       "<div>\n",
       "<style scoped>\n",
       "    .dataframe tbody tr th:only-of-type {\n",
       "        vertical-align: middle;\n",
       "    }\n",
       "\n",
       "    .dataframe tbody tr th {\n",
       "        vertical-align: top;\n",
       "    }\n",
       "\n",
       "    .dataframe thead th {\n",
       "        text-align: right;\n",
       "    }\n",
       "</style>\n",
       "<table border=\"1\" class=\"dataframe\">\n",
       "  <thead>\n",
       "    <tr style=\"text-align: right;\">\n",
       "      <th></th>\n",
       "      <th></th>\n",
       "      <th>Wait Time by Minutes</th>\n",
       "    </tr>\n",
       "    <tr>\n",
       "      <th>Year</th>\n",
       "      <th>Month</th>\n",
       "      <th></th>\n",
       "    </tr>\n",
       "  </thead>\n",
       "  <tbody>\n",
       "    <tr>\n",
       "      <th rowspan=\"5\" valign=\"top\">2015</th>\n",
       "      <th>10</th>\n",
       "      <td>7.750000</td>\n",
       "    </tr>\n",
       "    <tr>\n",
       "      <th>11</th>\n",
       "      <td>12.600000</td>\n",
       "    </tr>\n",
       "    <tr>\n",
       "      <th>12</th>\n",
       "      <td>11.142857</td>\n",
       "    </tr>\n",
       "    <tr>\n",
       "      <th>5</th>\n",
       "      <td>9.333333</td>\n",
       "    </tr>\n",
       "    <tr>\n",
       "      <th>6</th>\n",
       "      <td>11.714286</td>\n",
       "    </tr>\n",
       "  </tbody>\n",
       "</table>\n",
       "</div>"
      ],
      "text/plain": [
       "            Wait Time by Minutes\n",
       "Year Month                      \n",
       "2015 10                 7.750000\n",
       "     11                12.600000\n",
       "     12                11.142857\n",
       "     5                  9.333333\n",
       "     6                 11.714286"
      ]
     },
     "execution_count": 30,
     "metadata": {},
     "output_type": "execute_result"
    }
   ],
   "source": [
    "# Find the average wait time per month\n",
    "wait_df_mean = new_trip_table.groupby(['Year','Month'])[\"Wait Time by Minutes\"].mean()\n",
    "pd.DataFrame(wait_df_mean).head()"
   ]
  },
  {
   "cell_type": "code",
   "execution_count": 31,
   "metadata": {},
   "outputs": [
    {
     "data": {
      "text/html": [
       "<div>\n",
       "<style scoped>\n",
       "    .dataframe tbody tr th:only-of-type {\n",
       "        vertical-align: middle;\n",
       "    }\n",
       "\n",
       "    .dataframe tbody tr th {\n",
       "        vertical-align: top;\n",
       "    }\n",
       "\n",
       "    .dataframe thead th {\n",
       "        text-align: right;\n",
       "    }\n",
       "</style>\n",
       "<table border=\"1\" class=\"dataframe\">\n",
       "  <thead>\n",
       "    <tr style=\"text-align: right;\">\n",
       "      <th></th>\n",
       "      <th></th>\n",
       "      <th>Wait Time by Minutes</th>\n",
       "    </tr>\n",
       "    <tr>\n",
       "      <th>Year</th>\n",
       "      <th>Month</th>\n",
       "      <th></th>\n",
       "    </tr>\n",
       "  </thead>\n",
       "  <tbody>\n",
       "    <tr>\n",
       "      <th rowspan=\"5\" valign=\"top\">2015</th>\n",
       "      <th>10</th>\n",
       "      <td>17</td>\n",
       "    </tr>\n",
       "    <tr>\n",
       "      <th>11</th>\n",
       "      <td>17</td>\n",
       "    </tr>\n",
       "    <tr>\n",
       "      <th>12</th>\n",
       "      <td>21</td>\n",
       "    </tr>\n",
       "    <tr>\n",
       "      <th>5</th>\n",
       "      <td>17</td>\n",
       "    </tr>\n",
       "    <tr>\n",
       "      <th>6</th>\n",
       "      <td>45</td>\n",
       "    </tr>\n",
       "  </tbody>\n",
       "</table>\n",
       "</div>"
      ],
      "text/plain": [
       "            Wait Time by Minutes\n",
       "Year Month                      \n",
       "2015 10                       17\n",
       "     11                       17\n",
       "     12                       21\n",
       "     5                        17\n",
       "     6                        45"
      ]
     },
     "execution_count": 31,
     "metadata": {},
     "output_type": "execute_result"
    }
   ],
   "source": [
    "# Find the maximum wait time per month\n",
    "wait_df_by_max = new_trip_table.groupby(['Year','Month'])[\"Wait Time by Minutes\"].max()\n",
    "pd.DataFrame(wait_df_by_max).head()"
   ]
  },
  {
   "cell_type": "code",
   "execution_count": 32,
   "metadata": {},
   "outputs": [
    {
     "data": {
      "text/html": [
       "<div>\n",
       "<style scoped>\n",
       "    .dataframe tbody tr th:only-of-type {\n",
       "        vertical-align: middle;\n",
       "    }\n",
       "\n",
       "    .dataframe tbody tr th {\n",
       "        vertical-align: top;\n",
       "    }\n",
       "\n",
       "    .dataframe thead th {\n",
       "        text-align: right;\n",
       "    }\n",
       "</style>\n",
       "<table border=\"1\" class=\"dataframe\">\n",
       "  <thead>\n",
       "    <tr style=\"text-align: right;\">\n",
       "      <th></th>\n",
       "      <th></th>\n",
       "      <th>Wait Time by Minutes</th>\n",
       "    </tr>\n",
       "    <tr>\n",
       "      <th>Year</th>\n",
       "      <th>Month</th>\n",
       "      <th></th>\n",
       "    </tr>\n",
       "  </thead>\n",
       "  <tbody>\n",
       "    <tr>\n",
       "      <th rowspan=\"5\" valign=\"top\">2015</th>\n",
       "      <th>10</th>\n",
       "      <td>4</td>\n",
       "    </tr>\n",
       "    <tr>\n",
       "      <th>11</th>\n",
       "      <td>6</td>\n",
       "    </tr>\n",
       "    <tr>\n",
       "      <th>12</th>\n",
       "      <td>6</td>\n",
       "    </tr>\n",
       "    <tr>\n",
       "      <th>5</th>\n",
       "      <td>3</td>\n",
       "    </tr>\n",
       "    <tr>\n",
       "      <th>6</th>\n",
       "      <td>1</td>\n",
       "    </tr>\n",
       "  </tbody>\n",
       "</table>\n",
       "</div>"
      ],
      "text/plain": [
       "            Wait Time by Minutes\n",
       "Year Month                      \n",
       "2015 10                        4\n",
       "     11                        6\n",
       "     12                        6\n",
       "     5                         3\n",
       "     6                         1"
      ]
     },
     "execution_count": 32,
     "metadata": {},
     "output_type": "execute_result"
    }
   ],
   "source": [
    "# Find the minimum wait time per month\n",
    "wait_df_by_min = new_trip_table.groupby(['Year','Month'])[\"Wait Time by Minutes\"].min()\n",
    "pd.DataFrame(wait_df_by_min).head()"
   ]
  },
  {
   "cell_type": "code",
   "execution_count": null,
   "metadata": {},
   "outputs": [],
   "source": []
  },
  {
   "cell_type": "code",
   "execution_count": 33,
   "metadata": {},
   "outputs": [
    {
     "data": {
      "text/html": [
       "<div>\n",
       "<style scoped>\n",
       "    .dataframe tbody tr th:only-of-type {\n",
       "        vertical-align: middle;\n",
       "    }\n",
       "\n",
       "    .dataframe tbody tr th {\n",
       "        vertical-align: top;\n",
       "    }\n",
       "\n",
       "    .dataframe thead th {\n",
       "        text-align: right;\n",
       "    }\n",
       "</style>\n",
       "<table border=\"1\" class=\"dataframe\">\n",
       "  <thead>\n",
       "    <tr style=\"text-align: right;\">\n",
       "      <th></th>\n",
       "      <th></th>\n",
       "      <th>Maximum Wait</th>\n",
       "      <th>Average Wait</th>\n",
       "      <th>Minimum Wait</th>\n",
       "    </tr>\n",
       "    <tr>\n",
       "      <th>Year</th>\n",
       "      <th>Month</th>\n",
       "      <th></th>\n",
       "      <th></th>\n",
       "      <th></th>\n",
       "    </tr>\n",
       "  </thead>\n",
       "  <tbody>\n",
       "    <tr>\n",
       "      <th rowspan=\"5\" valign=\"top\">2015</th>\n",
       "      <th>10</th>\n",
       "      <td>17</td>\n",
       "      <td>7.750000</td>\n",
       "      <td>4</td>\n",
       "    </tr>\n",
       "    <tr>\n",
       "      <th>11</th>\n",
       "      <td>17</td>\n",
       "      <td>12.600000</td>\n",
       "      <td>6</td>\n",
       "    </tr>\n",
       "    <tr>\n",
       "      <th>12</th>\n",
       "      <td>21</td>\n",
       "      <td>11.142857</td>\n",
       "      <td>6</td>\n",
       "    </tr>\n",
       "    <tr>\n",
       "      <th>5</th>\n",
       "      <td>17</td>\n",
       "      <td>9.333333</td>\n",
       "      <td>3</td>\n",
       "    </tr>\n",
       "    <tr>\n",
       "      <th>6</th>\n",
       "      <td>45</td>\n",
       "      <td>11.714286</td>\n",
       "      <td>1</td>\n",
       "    </tr>\n",
       "  </tbody>\n",
       "</table>\n",
       "</div>"
      ],
      "text/plain": [
       "            Maximum Wait  Average Wait  Minimum Wait\n",
       "Year Month                                          \n",
       "2015 10               17      7.750000             4\n",
       "     11               17     12.600000             6\n",
       "     12               21     11.142857             6\n",
       "     5                17      9.333333             3\n",
       "     6                45     11.714286             1"
      ]
     },
     "execution_count": 33,
     "metadata": {},
     "output_type": "execute_result"
    }
   ],
   "source": [
    "all_wait_df = pd.DataFrame({\"Maximum Wait\": (wait_df_by_max), \n",
    "                          \"Average Wait\": (wait_df_mean), \n",
    "                            \"Minimum Wait\": (wait_df_by_min)})\n",
    "pd.DataFrame(all_wait_df).head()"
   ]
  },
  {
   "cell_type": "code",
   "execution_count": 34,
   "metadata": {},
   "outputs": [
    {
     "data": {
      "image/png": "[encoded data removed]",
      "text/plain": [
       "<Figure size 432x288 with 1 Axes>"
      ]
     },
     "metadata": {},
     "output_type": "display_data"
    }
   ],
   "source": [
    "# Create a line graph showing the average, minimum and maximum wait time for each month\n",
    "all_wait_df.plot(style='-', color =('tab:red', 'orange', 'tab:blue'))\n",
    "\n",
    "plt.xlabel(\"Years (by month)\")\n",
    "plt.ylabel(\"Wait Time (in minutes)\")\n",
    "plt.legend(loc=\"best\")\n",
    "plt.title(\"Evolution of Waiting Time over the Years\")\n",
    "plt.grid(axis='y')\n",
    "plt.xticks(rotation=45)\n",
    "\n",
    "plt.show()\n",
    "#plt.savefig(\"../Images/wait_time_line_chart.png\")"
   ]
  },
  {
   "cell_type": "code",
   "execution_count": 57,
   "metadata": {},
   "outputs": [
    {
     "ename": "AttributeError",
     "evalue": "'function' object has no attribute 'DataFrameGroupBy'",
     "output_type": "error",
     "traceback": [
      "\u001b[0;31m---------------------------------------------------------------------------\u001b[0m",
      "\u001b[0;31mAttributeError\u001b[0m                            Traceback (most recent call last)",
      "\u001b[0;32m<ipython-input-57-42ff4b89117d>\u001b[0m in \u001b[0;36m<module>\u001b[0;34m\u001b[0m\n\u001b[0;32m----> 1\u001b[0;31m \u001b[0mnew\u001b[0m \u001b[0;34m=\u001b[0m \u001b[0mall_wait_df\u001b[0m\u001b[0;34m.\u001b[0m\u001b[0mgroupby\u001b[0m\u001b[0;34m.\u001b[0m\u001b[0mDataFrameGroupBy\u001b[0m\u001b[0;34m.\u001b[0m\u001b[0mdescribe\u001b[0m\u001b[0;34m(\u001b[0m\u001b[0muber_df\u001b[0m\u001b[0;34m[\u001b[0m\u001b[0;34m'city'\u001b[0m\u001b[0;34m]\u001b[0m\u001b[0;34m)\u001b[0m\u001b[0;34m\u001b[0m\u001b[0;34m\u001b[0m\u001b[0m\n\u001b[0m\u001b[1;32m      2\u001b[0m \u001b[0mnew\u001b[0m\u001b[0;34m\u001b[0m\u001b[0;34m\u001b[0m\u001b[0m\n",
      "\u001b[0;31mAttributeError\u001b[0m: 'function' object has no attribute 'DataFrameGroupBy'"
     ]
    }
   ],
   "source": [
    "new = all_wait_df.groupby.DataFrameGroupBy.describe(uber_df['city'])\n",
    "new"
   ]
  },
  {
   "cell_type": "code",
   "execution_count": 48,
   "metadata": {},
   "outputs": [
    {
     "ename": "NameError",
     "evalue": "name 'self' is not defined",
     "output_type": "error",
     "traceback": [
      "\u001b[0;31m---------------------------------------------------------------------------\u001b[0m",
      "\u001b[0;31mNameError\u001b[0m                                 Traceback (most recent call last)",
      "\u001b[0;32m<ipython-input-48-c6a6073f95b4>\u001b[0m in \u001b[0;36m<module>\u001b[0;34m\u001b[0m\n\u001b[0;32m----> 1\u001b[0;31m \u001b[0mall_wait_df\u001b[0m\u001b[0;34m.\u001b[0m\u001b[0mdivide\u001b[0m\u001b[0;34m(\u001b[0m\u001b[0mself\u001b[0m\u001b[0;34m,\u001b[0m \u001b[0mother\u001b[0m\u001b[0;34m,\u001b[0m \u001b[0maxis\u001b[0m\u001b[0;34m=\u001b[0m\u001b[0muber_df\u001b[0m\u001b[0;34m[\u001b[0m\u001b[0;34m'city'\u001b[0m\u001b[0;34m]\u001b[0m\u001b[0;34m,\u001b[0m \u001b[0mlevel\u001b[0m\u001b[0;34m=\u001b[0m\u001b[0;32mNone\u001b[0m\u001b[0;34m,\u001b[0m \u001b[0mfill_value\u001b[0m\u001b[0;34m=\u001b[0m\u001b[0;32mNone\u001b[0m\u001b[0;34m)\u001b[0m\u001b[0;34m\u001b[0m\u001b[0;34m\u001b[0m\u001b[0m\n\u001b[0m",
      "\u001b[0;31mNameError\u001b[0m: name 'self' is not defined"
     ]
    }
   ],
   "source": [
    "all_wait_df.divide(self, other, axis=uber_df['city'], level=None, fill_value=None)"
   ]
  },
  {
   "cell_type": "code",
   "execution_count": 47,
   "metadata": {},
   "outputs": [
    {
     "ename": "ValueError",
     "evalue": "Must pass DataFrame with boolean values only",
     "output_type": "error",
     "traceback": [
      "\u001b[0;31m---------------------------------------------------------------------------\u001b[0m",
      "\u001b[0;31mValueError\u001b[0m                                Traceback (most recent call last)",
      "\u001b[0;32m<ipython-input-47-25aaf03e299c>\u001b[0m in \u001b[0;36m<module>\u001b[0;34m\u001b[0m\n\u001b[1;32m      1\u001b[0m uber_df.pivot(index=all_wait_df, \n\u001b[1;32m      2\u001b[0m                   \u001b[0mcolumns\u001b[0m\u001b[0;34m=\u001b[0m\u001b[0muber_df\u001b[0m\u001b[0;34m[\u001b[0m\u001b[0;34m'city'\u001b[0m\u001b[0;34m]\u001b[0m\u001b[0;34m,\u001b[0m\u001b[0;34m\u001b[0m\u001b[0;34m\u001b[0m\u001b[0m\n\u001b[0;32m----> 3\u001b[0;31m                   values=uber_df['wait_time']).plot(kind='bar')\n\u001b[0m",
      "\u001b[0;32m//anaconda3/lib/python3.7/site-packages/pandas/core/frame.py\u001b[0m in \u001b[0;36mpivot\u001b[0;34m(self, index, columns, values)\u001b[0m\n\u001b[1;32m   5626\u001b[0m     \u001b[0;32mdef\u001b[0m \u001b[0mpivot\u001b[0m\u001b[0;34m(\u001b[0m\u001b[0mself\u001b[0m\u001b[0;34m,\u001b[0m \u001b[0mindex\u001b[0m\u001b[0;34m=\u001b[0m\u001b[0;32mNone\u001b[0m\u001b[0;34m,\u001b[0m \u001b[0mcolumns\u001b[0m\u001b[0;34m=\u001b[0m\u001b[0;32mNone\u001b[0m\u001b[0;34m,\u001b[0m \u001b[0mvalues\u001b[0m\u001b[0;34m=\u001b[0m\u001b[0;32mNone\u001b[0m\u001b[0;34m)\u001b[0m\u001b[0;34m:\u001b[0m\u001b[0;34m\u001b[0m\u001b[0;34m\u001b[0m\u001b[0m\n\u001b[1;32m   5627\u001b[0m         \u001b[0;32mfrom\u001b[0m \u001b[0mpandas\u001b[0m\u001b[0;34m.\u001b[0m\u001b[0mcore\u001b[0m\u001b[0;34m.\u001b[0m\u001b[0mreshape\u001b[0m\u001b[0;34m.\u001b[0m\u001b[0mpivot\u001b[0m \u001b[0;32mimport\u001b[0m \u001b[0mpivot\u001b[0m\u001b[0;34m\u001b[0m\u001b[0;34m\u001b[0m\u001b[0m\n\u001b[0;32m-> 5628\u001b[0;31m         \u001b[0;32mreturn\u001b[0m \u001b[0mpivot\u001b[0m\u001b[0;34m(\u001b[0m\u001b[0mself\u001b[0m\u001b[0;34m,\u001b[0m \u001b[0mindex\u001b[0m\u001b[0;34m=\u001b[0m\u001b[0mindex\u001b[0m\u001b[0;34m,\u001b[0m \u001b[0mcolumns\u001b[0m\u001b[0;34m=\u001b[0m\u001b[0mcolumns\u001b[0m\u001b[0;34m,\u001b[0m \u001b[0mvalues\u001b[0m\u001b[0;34m=\u001b[0m\u001b[0mvalues\u001b[0m\u001b[0;34m)\u001b[0m\u001b[0;34m\u001b[0m\u001b[0;34m\u001b[0m\u001b[0m\n\u001b[0m\u001b[1;32m   5629\u001b[0m \u001b[0;34m\u001b[0m\u001b[0m\n\u001b[1;32m   5630\u001b[0m     _shared_docs['pivot_table'] = \"\"\"\n",
      "\u001b[0;32m//anaconda3/lib/python3.7/site-packages/pandas/core/reshape/pivot.py\u001b[0m in \u001b[0;36mpivot\u001b[0;34m(data, index, columns, values)\u001b[0m\n\u001b[1;32m    376\u001b[0m             \u001b[0mindex\u001b[0m \u001b[0;34m=\u001b[0m \u001b[0mdata\u001b[0m\u001b[0;34m.\u001b[0m\u001b[0mindex\u001b[0m\u001b[0;34m\u001b[0m\u001b[0;34m\u001b[0m\u001b[0m\n\u001b[1;32m    377\u001b[0m         \u001b[0;32melse\u001b[0m\u001b[0;34m:\u001b[0m\u001b[0;34m\u001b[0m\u001b[0;34m\u001b[0m\u001b[0m\n\u001b[0;32m--> 378\u001b[0;31m             \u001b[0mindex\u001b[0m \u001b[0;34m=\u001b[0m \u001b[0mdata\u001b[0m\u001b[0;34m[\u001b[0m\u001b[0mindex\u001b[0m\u001b[0;34m]\u001b[0m\u001b[0;34m\u001b[0m\u001b[0;34m\u001b[0m\u001b[0m\n\u001b[0m\u001b[1;32m    379\u001b[0m         \u001b[0mindex\u001b[0m \u001b[0;34m=\u001b[0m \u001b[0mMultiIndex\u001b[0m\u001b[0;34m.\u001b[0m\u001b[0mfrom_arrays\u001b[0m\u001b[0;34m(\u001b[0m\u001b[0;34m[\u001b[0m\u001b[0mindex\u001b[0m\u001b[0;34m,\u001b[0m \u001b[0mdata\u001b[0m\u001b[0;34m[\u001b[0m\u001b[0mcolumns\u001b[0m\u001b[0;34m]\u001b[0m\u001b[0;34m]\u001b[0m\u001b[0;34m)\u001b[0m\u001b[0;34m\u001b[0m\u001b[0;34m\u001b[0m\u001b[0m\n\u001b[1;32m    380\u001b[0m \u001b[0;34m\u001b[0m\u001b[0m\n",
      "\u001b[0;32m//anaconda3/lib/python3.7/site-packages/pandas/core/frame.py\u001b[0m in \u001b[0;36m__getitem__\u001b[0;34m(self, key)\u001b[0m\n\u001b[1;32m   2912\u001b[0m         \u001b[0;31m# Do we have a (boolean) DataFrame?\u001b[0m\u001b[0;34m\u001b[0m\u001b[0;34m\u001b[0m\u001b[0;34m\u001b[0m\u001b[0m\n\u001b[1;32m   2913\u001b[0m         \u001b[0;32mif\u001b[0m \u001b[0misinstance\u001b[0m\u001b[0;34m(\u001b[0m\u001b[0mkey\u001b[0m\u001b[0;34m,\u001b[0m \u001b[0mDataFrame\u001b[0m\u001b[0;34m)\u001b[0m\u001b[0;34m:\u001b[0m\u001b[0;34m\u001b[0m\u001b[0;34m\u001b[0m\u001b[0m\n\u001b[0;32m-> 2914\u001b[0;31m             \u001b[0;32mreturn\u001b[0m \u001b[0mself\u001b[0m\u001b[0;34m.\u001b[0m\u001b[0m_getitem_frame\u001b[0m\u001b[0;34m(\u001b[0m\u001b[0mkey\u001b[0m\u001b[0;34m)\u001b[0m\u001b[0;34m\u001b[0m\u001b[0;34m\u001b[0m\u001b[0m\n\u001b[0m\u001b[1;32m   2915\u001b[0m \u001b[0;34m\u001b[0m\u001b[0m\n\u001b[1;32m   2916\u001b[0m         \u001b[0;31m# Do we have a (boolean) 1d indexer?\u001b[0m\u001b[0;34m\u001b[0m\u001b[0;34m\u001b[0m\u001b[0;34m\u001b[0m\u001b[0m\n",
      "\u001b[0;32m//anaconda3/lib/python3.7/site-packages/pandas/core/frame.py\u001b[0m in \u001b[0;36m_getitem_frame\u001b[0;34m(self, key)\u001b[0m\n\u001b[1;32m   3007\u001b[0m     \u001b[0;32mdef\u001b[0m \u001b[0m_getitem_frame\u001b[0m\u001b[0;34m(\u001b[0m\u001b[0mself\u001b[0m\u001b[0;34m,\u001b[0m \u001b[0mkey\u001b[0m\u001b[0;34m)\u001b[0m\u001b[0;34m:\u001b[0m\u001b[0;34m\u001b[0m\u001b[0;34m\u001b[0m\u001b[0m\n\u001b[1;32m   3008\u001b[0m         \u001b[0;32mif\u001b[0m \u001b[0mkey\u001b[0m\u001b[0;34m.\u001b[0m\u001b[0mvalues\u001b[0m\u001b[0;34m.\u001b[0m\u001b[0msize\u001b[0m \u001b[0;32mand\u001b[0m \u001b[0;32mnot\u001b[0m \u001b[0mis_bool_dtype\u001b[0m\u001b[0;34m(\u001b[0m\u001b[0mkey\u001b[0m\u001b[0;34m.\u001b[0m\u001b[0mvalues\u001b[0m\u001b[0;34m)\u001b[0m\u001b[0;34m:\u001b[0m\u001b[0;34m\u001b[0m\u001b[0;34m\u001b[0m\u001b[0m\n\u001b[0;32m-> 3009\u001b[0;31m             \u001b[0;32mraise\u001b[0m \u001b[0mValueError\u001b[0m\u001b[0;34m(\u001b[0m\u001b[0;34m'Must pass DataFrame with boolean values only'\u001b[0m\u001b[0;34m)\u001b[0m\u001b[0;34m\u001b[0m\u001b[0;34m\u001b[0m\u001b[0m\n\u001b[0m\u001b[1;32m   3010\u001b[0m         \u001b[0;32mreturn\u001b[0m \u001b[0mself\u001b[0m\u001b[0;34m.\u001b[0m\u001b[0mwhere\u001b[0m\u001b[0;34m(\u001b[0m\u001b[0mkey\u001b[0m\u001b[0;34m)\u001b[0m\u001b[0;34m\u001b[0m\u001b[0;34m\u001b[0m\u001b[0m\n\u001b[1;32m   3011\u001b[0m \u001b[0;34m\u001b[0m\u001b[0m\n",
      "\u001b[0;31mValueError\u001b[0m: Must pass DataFrame with boolean values only"
     ]
    }
   ],
   "source": [
    "uber_df.pivot(index=all_wait_df, \n",
    "                  columns=uber_df['city'], \n",
    "                  values=uber_df['wait_time']).plot(kind='bar')"
   ]
  },
  {
   "cell_type": "code",
   "execution_count": 27,
   "metadata": {},
   "outputs": [
    {
     "data": {
      "text/plain": [
       "7.8522439426245"
      ]
     },
     "execution_count": 27,
     "metadata": {},
     "output_type": "execute_result"
    }
   ],
   "source": [
    "all_wait_df['Average Wait'].mean()"
   ]
  },
  {
   "cell_type": "code",
   "execution_count": 28,
   "metadata": {},
   "outputs": [
    {
     "data": {
      "text/plain": [
       "2.2"
      ]
     },
     "execution_count": 28,
     "metadata": {},
     "output_type": "execute_result"
    }
   ],
   "source": [
    "all_wait_df['Minimum Wait'].mean()"
   ]
  },
  {
   "cell_type": "code",
   "execution_count": 29,
   "metadata": {},
   "outputs": [
    {
     "data": {
      "text/plain": [
       "17.085714285714285"
      ]
     },
     "execution_count": 29,
     "metadata": {},
     "output_type": "execute_result"
    }
   ],
   "source": [
    "all_wait_df['Maximum Wait'].mean()"
   ]
  },
  {
   "cell_type": "code",
   "execution_count": 40,
   "metadata": {},
   "outputs": [
    {
     "data": {
      "text/plain": [
       "'02:18:23'"
      ]
     },
     "execution_count": 40,
     "metadata": {},
     "output_type": "execute_result"
    }
   ],
   "source": [
    "uber_df['wait_time'].max()"
   ]
  },
  {
   "cell_type": "code",
   "execution_count": 35,
   "metadata": {},
   "outputs": [
    {
     "ename": "NameError",
     "evalue": "name 'trip_dates_df' is not defined",
     "output_type": "error",
     "traceback": [
      "\u001b[0;31m---------------------------------------------------------------------------\u001b[0m",
      "\u001b[0;31mNameError\u001b[0m                                 Traceback (most recent call last)",
      "\u001b[0;32m<ipython-input-35-334b0ce5853f>\u001b[0m in \u001b[0;36m<module>\u001b[0;34m\u001b[0m\n\u001b[1;32m      1\u001b[0m \u001b[0;31m#Find the first trip date\u001b[0m\u001b[0;34m\u001b[0m\u001b[0;34m\u001b[0m\u001b[0;34m\u001b[0m\u001b[0m\n\u001b[0;32m----> 2\u001b[0;31m \u001b[0mfirst_trip\u001b[0m \u001b[0;34m=\u001b[0m \u001b[0mtrip_dates_df\u001b[0m\u001b[0;34m[\u001b[0m\u001b[0;34m'Trip Date'\u001b[0m\u001b[0;34m]\u001b[0m\u001b[0;34m[\u001b[0m\u001b[0mtrip_dates_df\u001b[0m\u001b[0;34m.\u001b[0m\u001b[0mindex\u001b[0m\u001b[0;34m[\u001b[0m\u001b[0;36m0\u001b[0m\u001b[0;34m]\u001b[0m\u001b[0;34m]\u001b[0m\u001b[0;34m\u001b[0m\u001b[0;34m\u001b[0m\u001b[0m\n\u001b[0m\u001b[1;32m      3\u001b[0m \u001b[0;34m\u001b[0m\u001b[0m\n\u001b[1;32m      4\u001b[0m \u001b[0;31m# Find the last trip date\u001b[0m\u001b[0;34m\u001b[0m\u001b[0;34m\u001b[0m\u001b[0;34m\u001b[0m\u001b[0m\n\u001b[1;32m      5\u001b[0m \u001b[0mlast_trip\u001b[0m \u001b[0;34m=\u001b[0m \u001b[0mtrip_dates_df\u001b[0m\u001b[0;34m[\u001b[0m\u001b[0;34m'Trip Date'\u001b[0m\u001b[0;34m]\u001b[0m\u001b[0;34m[\u001b[0m\u001b[0mtrip_dates_df\u001b[0m\u001b[0;34m.\u001b[0m\u001b[0mindex\u001b[0m\u001b[0;34m[\u001b[0m\u001b[0;34m-\u001b[0m\u001b[0;36m1\u001b[0m\u001b[0;34m]\u001b[0m\u001b[0;34m]\u001b[0m\u001b[0;34m\u001b[0m\u001b[0;34m\u001b[0m\u001b[0m\n",
      "\u001b[0;31mNameError\u001b[0m: name 'trip_dates_df' is not defined"
     ]
    }
   ],
   "source": [
    "#Find the first trip date\n",
    "first_trip = trip_dates_df['Trip Date'][trip_dates_df.index[0]]\n",
    "\n",
    "# Find the last trip date\n",
    "last_trip = trip_dates_df['Trip Date'][trip_dates_df.index[-1]]\n",
    "\n",
    "print (\"The first trip recorded was on:\", first_trip, \"and the last trip was on:\", last_trip)"
   ]
  },
  {
   "cell_type": "code",
   "execution_count": 72,
   "metadata": {},
   "outputs": [
    {
     "ename": "ValueError",
     "evalue": "('Unknown string format:', 'wait_time')",
     "output_type": "error",
     "traceback": [
      "\u001b[0;31m---------------------------------------------------------------------------\u001b[0m",
      "\u001b[0;31mTypeError\u001b[0m                                 Traceback (most recent call last)",
      "\u001b[0;32m//anaconda3/lib/python3.7/site-packages/pandas/core/arrays/datetimes.py\u001b[0m in \u001b[0;36mobjects_to_datetime64ns\u001b[0;34m(data, dayfirst, yearfirst, utc, errors, require_iso8601, allow_object)\u001b[0m\n\u001b[1;32m   1860\u001b[0m         \u001b[0;32mtry\u001b[0m\u001b[0;34m:\u001b[0m\u001b[0;34m\u001b[0m\u001b[0;34m\u001b[0m\u001b[0m\n\u001b[0;32m-> 1861\u001b[0;31m             \u001b[0mvalues\u001b[0m\u001b[0;34m,\u001b[0m \u001b[0mtz_parsed\u001b[0m \u001b[0;34m=\u001b[0m \u001b[0mconversion\u001b[0m\u001b[0;34m.\u001b[0m\u001b[0mdatetime_to_datetime64\u001b[0m\u001b[0;34m(\u001b[0m\u001b[0mdata\u001b[0m\u001b[0;34m)\u001b[0m\u001b[0;34m\u001b[0m\u001b[0;34m\u001b[0m\u001b[0m\n\u001b[0m\u001b[1;32m   1862\u001b[0m             \u001b[0;31m# If tzaware, these values represent unix timestamps, so we\u001b[0m\u001b[0;34m\u001b[0m\u001b[0;34m\u001b[0m\u001b[0;34m\u001b[0m\u001b[0m\n",
      "\u001b[0;32mpandas/_libs/tslibs/conversion.pyx\u001b[0m in \u001b[0;36mpandas._libs.tslibs.conversion.datetime_to_datetime64\u001b[0;34m()\u001b[0m\n",
      "\u001b[0;31mTypeError\u001b[0m: Unrecognized value type: <class 'str'>",
      "\nDuring handling of the above exception, another exception occurred:\n",
      "\u001b[0;31mValueError\u001b[0m                                Traceback (most recent call last)",
      "\u001b[0;32m<ipython-input-72-c27a153625f4>\u001b[0m in \u001b[0;36m<module>\u001b[0;34m\u001b[0m\n\u001b[1;32m      5\u001b[0m \u001b[0;34m\u001b[0m\u001b[0m\n\u001b[1;32m      6\u001b[0m \u001b[0mwait_duration\u001b[0m \u001b[0;34m=\u001b[0m \u001b[0muber_df\u001b[0m\u001b[0;34m[\u001b[0m\u001b[0;34m'wait_time'\u001b[0m\u001b[0;34m]\u001b[0m\u001b[0;34m\u001b[0m\u001b[0;34m\u001b[0m\u001b[0m\n\u001b[0;32m----> 7\u001b[0;31m \u001b[0mwait_duration\u001b[0m \u001b[0;34m=\u001b[0m \u001b[0mpd\u001b[0m\u001b[0;34m.\u001b[0m\u001b[0mto_datetime\u001b[0m\u001b[0;34m(\u001b[0m\u001b[0mwait_duration\u001b[0m\u001b[0;34m)\u001b[0m\u001b[0;34m\u001b[0m\u001b[0;34m\u001b[0m\u001b[0m\n\u001b[0m\u001b[1;32m      8\u001b[0m \u001b[0;34m\u001b[0m\u001b[0m\n\u001b[1;32m      9\u001b[0m \u001b[0;34m\u001b[0m\u001b[0m\n",
      "\u001b[0;32m//anaconda3/lib/python3.7/site-packages/pandas/core/tools/datetimes.py\u001b[0m in \u001b[0;36mto_datetime\u001b[0;34m(arg, errors, dayfirst, yearfirst, utc, box, format, exact, unit, infer_datetime_format, origin, cache)\u001b[0m\n\u001b[1;32m    590\u001b[0m         \u001b[0;32melse\u001b[0m\u001b[0;34m:\u001b[0m\u001b[0;34m\u001b[0m\u001b[0;34m\u001b[0m\u001b[0m\n\u001b[1;32m    591\u001b[0m             \u001b[0;32mfrom\u001b[0m \u001b[0mpandas\u001b[0m \u001b[0;32mimport\u001b[0m \u001b[0mSeries\u001b[0m\u001b[0;34m\u001b[0m\u001b[0;34m\u001b[0m\u001b[0m\n\u001b[0;32m--> 592\u001b[0;31m             \u001b[0mvalues\u001b[0m \u001b[0;34m=\u001b[0m \u001b[0mconvert_listlike\u001b[0m\u001b[0;34m(\u001b[0m\u001b[0marg\u001b[0m\u001b[0;34m.\u001b[0m\u001b[0m_values\u001b[0m\u001b[0;34m,\u001b[0m \u001b[0;32mTrue\u001b[0m\u001b[0;34m,\u001b[0m \u001b[0mformat\u001b[0m\u001b[0;34m)\u001b[0m\u001b[0;34m\u001b[0m\u001b[0;34m\u001b[0m\u001b[0m\n\u001b[0m\u001b[1;32m    593\u001b[0m             \u001b[0mresult\u001b[0m \u001b[0;34m=\u001b[0m \u001b[0mSeries\u001b[0m\u001b[0;34m(\u001b[0m\u001b[0mvalues\u001b[0m\u001b[0;34m,\u001b[0m \u001b[0mindex\u001b[0m\u001b[0;34m=\u001b[0m\u001b[0marg\u001b[0m\u001b[0;34m.\u001b[0m\u001b[0mindex\u001b[0m\u001b[0;34m,\u001b[0m \u001b[0mname\u001b[0m\u001b[0;34m=\u001b[0m\u001b[0marg\u001b[0m\u001b[0;34m.\u001b[0m\u001b[0mname\u001b[0m\u001b[0;34m)\u001b[0m\u001b[0;34m\u001b[0m\u001b[0;34m\u001b[0m\u001b[0m\n\u001b[1;32m    594\u001b[0m     \u001b[0;32melif\u001b[0m \u001b[0misinstance\u001b[0m\u001b[0;34m(\u001b[0m\u001b[0marg\u001b[0m\u001b[0;34m,\u001b[0m \u001b[0;34m(\u001b[0m\u001b[0mABCDataFrame\u001b[0m\u001b[0;34m,\u001b[0m \u001b[0mcompat\u001b[0m\u001b[0;34m.\u001b[0m\u001b[0mMutableMapping\u001b[0m\u001b[0;34m)\u001b[0m\u001b[0;34m)\u001b[0m\u001b[0;34m:\u001b[0m\u001b[0;34m\u001b[0m\u001b[0;34m\u001b[0m\u001b[0m\n",
      "\u001b[0;32m//anaconda3/lib/python3.7/site-packages/pandas/core/tools/datetimes.py\u001b[0m in \u001b[0;36m_convert_listlike_datetimes\u001b[0;34m(arg, box, format, name, tz, unit, errors, infer_datetime_format, dayfirst, yearfirst, exact)\u001b[0m\n\u001b[1;32m    300\u001b[0m             \u001b[0marg\u001b[0m\u001b[0;34m,\u001b[0m \u001b[0mdayfirst\u001b[0m\u001b[0;34m=\u001b[0m\u001b[0mdayfirst\u001b[0m\u001b[0;34m,\u001b[0m \u001b[0myearfirst\u001b[0m\u001b[0;34m=\u001b[0m\u001b[0myearfirst\u001b[0m\u001b[0;34m,\u001b[0m\u001b[0;34m\u001b[0m\u001b[0;34m\u001b[0m\u001b[0m\n\u001b[1;32m    301\u001b[0m             \u001b[0mutc\u001b[0m\u001b[0;34m=\u001b[0m\u001b[0mutc\u001b[0m\u001b[0;34m,\u001b[0m \u001b[0merrors\u001b[0m\u001b[0;34m=\u001b[0m\u001b[0merrors\u001b[0m\u001b[0;34m,\u001b[0m \u001b[0mrequire_iso8601\u001b[0m\u001b[0;34m=\u001b[0m\u001b[0mrequire_iso8601\u001b[0m\u001b[0;34m,\u001b[0m\u001b[0;34m\u001b[0m\u001b[0;34m\u001b[0m\u001b[0m\n\u001b[0;32m--> 302\u001b[0;31m             allow_object=True)\n\u001b[0m\u001b[1;32m    303\u001b[0m \u001b[0;34m\u001b[0m\u001b[0m\n\u001b[1;32m    304\u001b[0m     \u001b[0;32mif\u001b[0m \u001b[0mtz_parsed\u001b[0m \u001b[0;32mis\u001b[0m \u001b[0;32mnot\u001b[0m \u001b[0;32mNone\u001b[0m\u001b[0;34m:\u001b[0m\u001b[0;34m\u001b[0m\u001b[0;34m\u001b[0m\u001b[0m\n",
      "\u001b[0;32m//anaconda3/lib/python3.7/site-packages/pandas/core/arrays/datetimes.py\u001b[0m in \u001b[0;36mobjects_to_datetime64ns\u001b[0;34m(data, dayfirst, yearfirst, utc, errors, require_iso8601, allow_object)\u001b[0m\n\u001b[1;32m   1864\u001b[0m             \u001b[0;32mreturn\u001b[0m \u001b[0mvalues\u001b[0m\u001b[0;34m.\u001b[0m\u001b[0mview\u001b[0m\u001b[0;34m(\u001b[0m\u001b[0;34m'i8'\u001b[0m\u001b[0;34m)\u001b[0m\u001b[0;34m,\u001b[0m \u001b[0mtz_parsed\u001b[0m\u001b[0;34m\u001b[0m\u001b[0;34m\u001b[0m\u001b[0m\n\u001b[1;32m   1865\u001b[0m         \u001b[0;32mexcept\u001b[0m \u001b[0;34m(\u001b[0m\u001b[0mValueError\u001b[0m\u001b[0;34m,\u001b[0m \u001b[0mTypeError\u001b[0m\u001b[0;34m)\u001b[0m\u001b[0;34m:\u001b[0m\u001b[0;34m\u001b[0m\u001b[0;34m\u001b[0m\u001b[0m\n\u001b[0;32m-> 1866\u001b[0;31m             \u001b[0;32mraise\u001b[0m \u001b[0me\u001b[0m\u001b[0;34m\u001b[0m\u001b[0;34m\u001b[0m\u001b[0m\n\u001b[0m\u001b[1;32m   1867\u001b[0m \u001b[0;34m\u001b[0m\u001b[0m\n\u001b[1;32m   1868\u001b[0m     \u001b[0;32mif\u001b[0m \u001b[0mtz_parsed\u001b[0m \u001b[0;32mis\u001b[0m \u001b[0;32mnot\u001b[0m \u001b[0;32mNone\u001b[0m\u001b[0;34m:\u001b[0m\u001b[0;34m\u001b[0m\u001b[0;34m\u001b[0m\u001b[0m\n",
      "\u001b[0;32m//anaconda3/lib/python3.7/site-packages/pandas/core/arrays/datetimes.py\u001b[0m in \u001b[0;36mobjects_to_datetime64ns\u001b[0;34m(data, dayfirst, yearfirst, utc, errors, require_iso8601, allow_object)\u001b[0m\n\u001b[1;32m   1855\u001b[0m             \u001b[0mdayfirst\u001b[0m\u001b[0;34m=\u001b[0m\u001b[0mdayfirst\u001b[0m\u001b[0;34m,\u001b[0m\u001b[0;34m\u001b[0m\u001b[0;34m\u001b[0m\u001b[0m\n\u001b[1;32m   1856\u001b[0m             \u001b[0myearfirst\u001b[0m\u001b[0;34m=\u001b[0m\u001b[0myearfirst\u001b[0m\u001b[0;34m,\u001b[0m\u001b[0;34m\u001b[0m\u001b[0;34m\u001b[0m\u001b[0m\n\u001b[0;32m-> 1857\u001b[0;31m             \u001b[0mrequire_iso8601\u001b[0m\u001b[0;34m=\u001b[0m\u001b[0mrequire_iso8601\u001b[0m\u001b[0;34m\u001b[0m\u001b[0;34m\u001b[0m\u001b[0m\n\u001b[0m\u001b[1;32m   1858\u001b[0m         )\n\u001b[1;32m   1859\u001b[0m     \u001b[0;32mexcept\u001b[0m \u001b[0mValueError\u001b[0m \u001b[0;32mas\u001b[0m \u001b[0me\u001b[0m\u001b[0;34m:\u001b[0m\u001b[0;34m\u001b[0m\u001b[0;34m\u001b[0m\u001b[0m\n",
      "\u001b[0;32mpandas/_libs/tslib.pyx\u001b[0m in \u001b[0;36mpandas._libs.tslib.array_to_datetime\u001b[0;34m()\u001b[0m\n",
      "\u001b[0;32mpandas/_libs/tslib.pyx\u001b[0m in \u001b[0;36mpandas._libs.tslib.array_to_datetime\u001b[0;34m()\u001b[0m\n",
      "\u001b[0;32mpandas/_libs/tslib.pyx\u001b[0m in \u001b[0;36mpandas._libs.tslib.array_to_datetime_object\u001b[0;34m()\u001b[0m\n",
      "\u001b[0;32mpandas/_libs/tslib.pyx\u001b[0m in \u001b[0;36mpandas._libs.tslib.array_to_datetime_object\u001b[0;34m()\u001b[0m\n",
      "\u001b[0;32mpandas/_libs/tslibs/parsing.pyx\u001b[0m in \u001b[0;36mpandas._libs.tslibs.parsing.parse_datetime_string\u001b[0;34m()\u001b[0m\n",
      "\u001b[0;32m//anaconda3/lib/python3.7/site-packages/dateutil/parser/_parser.py\u001b[0m in \u001b[0;36mparse\u001b[0;34m(timestr, parserinfo, **kwargs)\u001b[0m\n\u001b[1;32m   1356\u001b[0m         \u001b[0;32mreturn\u001b[0m \u001b[0mparser\u001b[0m\u001b[0;34m(\u001b[0m\u001b[0mparserinfo\u001b[0m\u001b[0;34m)\u001b[0m\u001b[0;34m.\u001b[0m\u001b[0mparse\u001b[0m\u001b[0;34m(\u001b[0m\u001b[0mtimestr\u001b[0m\u001b[0;34m,\u001b[0m \u001b[0;34m**\u001b[0m\u001b[0mkwargs\u001b[0m\u001b[0;34m)\u001b[0m\u001b[0;34m\u001b[0m\u001b[0;34m\u001b[0m\u001b[0m\n\u001b[1;32m   1357\u001b[0m     \u001b[0;32melse\u001b[0m\u001b[0;34m:\u001b[0m\u001b[0;34m\u001b[0m\u001b[0;34m\u001b[0m\u001b[0m\n\u001b[0;32m-> 1358\u001b[0;31m         \u001b[0;32mreturn\u001b[0m \u001b[0mDEFAULTPARSER\u001b[0m\u001b[0;34m.\u001b[0m\u001b[0mparse\u001b[0m\u001b[0;34m(\u001b[0m\u001b[0mtimestr\u001b[0m\u001b[0;34m,\u001b[0m \u001b[0;34m**\u001b[0m\u001b[0mkwargs\u001b[0m\u001b[0;34m)\u001b[0m\u001b[0;34m\u001b[0m\u001b[0;34m\u001b[0m\u001b[0m\n\u001b[0m\u001b[1;32m   1359\u001b[0m \u001b[0;34m\u001b[0m\u001b[0m\n\u001b[1;32m   1360\u001b[0m \u001b[0;34m\u001b[0m\u001b[0m\n",
      "\u001b[0;32m//anaconda3/lib/python3.7/site-packages/dateutil/parser/_parser.py\u001b[0m in \u001b[0;36mparse\u001b[0;34m(self, timestr, default, ignoretz, tzinfos, **kwargs)\u001b[0m\n\u001b[1;32m    647\u001b[0m \u001b[0;34m\u001b[0m\u001b[0m\n\u001b[1;32m    648\u001b[0m         \u001b[0;32mif\u001b[0m \u001b[0mres\u001b[0m \u001b[0;32mis\u001b[0m \u001b[0;32mNone\u001b[0m\u001b[0;34m:\u001b[0m\u001b[0;34m\u001b[0m\u001b[0;34m\u001b[0m\u001b[0m\n\u001b[0;32m--> 649\u001b[0;31m             \u001b[0;32mraise\u001b[0m \u001b[0mValueError\u001b[0m\u001b[0;34m(\u001b[0m\u001b[0;34m\"Unknown string format:\"\u001b[0m\u001b[0;34m,\u001b[0m \u001b[0mtimestr\u001b[0m\u001b[0;34m)\u001b[0m\u001b[0;34m\u001b[0m\u001b[0;34m\u001b[0m\u001b[0m\n\u001b[0m\u001b[1;32m    650\u001b[0m \u001b[0;34m\u001b[0m\u001b[0m\n\u001b[1;32m    651\u001b[0m         \u001b[0;32mif\u001b[0m \u001b[0mlen\u001b[0m\u001b[0;34m(\u001b[0m\u001b[0mres\u001b[0m\u001b[0;34m)\u001b[0m \u001b[0;34m==\u001b[0m \u001b[0;36m0\u001b[0m\u001b[0;34m:\u001b[0m\u001b[0;34m\u001b[0m\u001b[0;34m\u001b[0m\u001b[0m\n",
      "\u001b[0;31mValueError\u001b[0m: ('Unknown string format:', 'wait_time')"
     ]
    }
   ],
   "source": [
    "# Find percentage of wait time in total trip time \n",
    "\n",
    "ride_duration = uber_df['trip_time']\n",
    "ride_duration = pd.to_datetime(ride_duration)\n",
    "\n",
    "wait_duration = uber_df['wait_time']\n",
    "wait_duration = pd.to_datetime(wait_duration)\n",
    "\n",
    "\n",
    "\n",
    "percent_wait_of_total = (((wait_duration.dt.minute)*100) / ride_duration.dt.minute)\n",
    "percent_wait_of_total\n",
    "\n",
    "percent_wait_of_total[0]"
   ]
  },
  {
   "cell_type": "code",
   "execution_count": 57,
   "metadata": {},
   "outputs": [
    {
     "data": {
      "text/plain": [
       "dtype('<M8[ns]')"
      ]
     },
     "execution_count": 57,
     "metadata": {},
     "output_type": "execute_result"
    }
   ],
   "source": [
    "#ride_duration = pd.to_datetime(ride_duration)\n",
    "ride_duration.dtypes\n",
    "#avg_ride_duration = pd.to_datetime.ride_duration.mean()\n",
    "\n",
    "\n",
    "#start_df = pd.to_datetime(start_df).reset_index()"
   ]
  },
  {
   "cell_type": "code",
   "execution_count": 51,
   "metadata": {},
   "outputs": [
    {
     "ename": "TypeError",
     "evalue": "DatetimeIndex cannot perform the operation mean",
     "output_type": "error",
     "traceback": [
      "\u001b[0;31m---------------------------------------------------------------------------\u001b[0m",
      "\u001b[0;31mTypeError\u001b[0m                                 Traceback (most recent call last)",
      "\u001b[0;32m<ipython-input-51-1bd8a56df067>\u001b[0m in \u001b[0;36m<module>\u001b[0;34m\u001b[0m\n\u001b[0;32m----> 1\u001b[0;31m \u001b[0mavg_ride_duration\u001b[0m \u001b[0;34m=\u001b[0m \u001b[0mride_duration\u001b[0m\u001b[0;34m.\u001b[0m\u001b[0mmean\u001b[0m\u001b[0;34m(\u001b[0m\u001b[0;34m)\u001b[0m\u001b[0;34m\u001b[0m\u001b[0;34m\u001b[0m\u001b[0m\n\u001b[0m\u001b[1;32m      2\u001b[0m \u001b[0;34m\u001b[0m\u001b[0m\n\u001b[1;32m      3\u001b[0m \u001b[0mlabels\u001b[0m \u001b[0;34m=\u001b[0m \u001b[0;34m'ride_duration'\u001b[0m\u001b[0;34m,\u001b[0m \u001b[0;34m'wait_duration'\u001b[0m\u001b[0;34m\u001b[0m\u001b[0;34m\u001b[0m\u001b[0m\n\u001b[1;32m      4\u001b[0m \u001b[0msizes\u001b[0m \u001b[0;34m=\u001b[0m \u001b[0;34m'percent_wait_of_total'\u001b[0m\u001b[0;34m\u001b[0m\u001b[0;34m\u001b[0m\u001b[0m\n\u001b[1;32m      5\u001b[0m \u001b[0mcolors\u001b[0m \u001b[0;34m=\u001b[0m \u001b[0;34m[\u001b[0m\u001b[0;34m\"lightblue\"\u001b[0m\u001b[0;34m,\u001b[0m \u001b[0;34m\"red\"\u001b[0m\u001b[0;34m]\u001b[0m\u001b[0;34m\u001b[0m\u001b[0;34m\u001b[0m\u001b[0m\n",
      "\u001b[0;32m//anaconda3/lib/python3.7/site-packages/pandas/core/generic.py\u001b[0m in \u001b[0;36mstat_func\u001b[0;34m(self, axis, skipna, level, numeric_only, **kwargs)\u001b[0m\n\u001b[1;32m  10954\u001b[0m                                       skipna=skipna)\n\u001b[1;32m  10955\u001b[0m         return self._reduce(f, name, axis=axis, skipna=skipna,\n\u001b[0;32m> 10956\u001b[0;31m                             numeric_only=numeric_only)\n\u001b[0m\u001b[1;32m  10957\u001b[0m \u001b[0;34m\u001b[0m\u001b[0m\n\u001b[1;32m  10958\u001b[0m     \u001b[0;32mreturn\u001b[0m \u001b[0mset_function_name\u001b[0m\u001b[0;34m(\u001b[0m\u001b[0mstat_func\u001b[0m\u001b[0;34m,\u001b[0m \u001b[0mname\u001b[0m\u001b[0;34m,\u001b[0m \u001b[0mcls\u001b[0m\u001b[0;34m)\u001b[0m\u001b[0;34m\u001b[0m\u001b[0;34m\u001b[0m\u001b[0m\n",
      "\u001b[0;32m//anaconda3/lib/python3.7/site-packages/pandas/core/series.py\u001b[0m in \u001b[0;36m_reduce\u001b[0;34m(self, op, name, axis, skipna, numeric_only, filter_type, **kwds)\u001b[0m\n\u001b[1;32m   3635\u001b[0m         return delegate._reduce(op=op, name=name, axis=axis, skipna=skipna,\n\u001b[1;32m   3636\u001b[0m                                 \u001b[0mnumeric_only\u001b[0m\u001b[0;34m=\u001b[0m\u001b[0mnumeric_only\u001b[0m\u001b[0;34m,\u001b[0m\u001b[0;34m\u001b[0m\u001b[0;34m\u001b[0m\u001b[0m\n\u001b[0;32m-> 3637\u001b[0;31m                                 filter_type=filter_type, **kwds)\n\u001b[0m\u001b[1;32m   3638\u001b[0m \u001b[0;34m\u001b[0m\u001b[0m\n\u001b[1;32m   3639\u001b[0m     \u001b[0;32mdef\u001b[0m \u001b[0m_reindex_indexer\u001b[0m\u001b[0;34m(\u001b[0m\u001b[0mself\u001b[0m\u001b[0;34m,\u001b[0m \u001b[0mnew_index\u001b[0m\u001b[0;34m,\u001b[0m \u001b[0mindexer\u001b[0m\u001b[0;34m,\u001b[0m \u001b[0mcopy\u001b[0m\u001b[0;34m)\u001b[0m\u001b[0;34m:\u001b[0m\u001b[0;34m\u001b[0m\u001b[0;34m\u001b[0m\u001b[0m\n",
      "\u001b[0;32m//anaconda3/lib/python3.7/site-packages/pandas/core/base.py\u001b[0m in \u001b[0;36m_reduce\u001b[0;34m(self, op, name, axis, skipna, numeric_only, filter_type, **kwds)\u001b[0m\n\u001b[1;32m   1144\u001b[0m         \u001b[0;32mif\u001b[0m \u001b[0mfunc\u001b[0m \u001b[0;32mis\u001b[0m \u001b[0;32mNone\u001b[0m\u001b[0;34m:\u001b[0m\u001b[0;34m\u001b[0m\u001b[0;34m\u001b[0m\u001b[0m\n\u001b[1;32m   1145\u001b[0m             raise TypeError(\"{klass} cannot perform the operation {op}\".format(\n\u001b[0;32m-> 1146\u001b[0;31m                             klass=self.__class__.__name__, op=name))\n\u001b[0m\u001b[1;32m   1147\u001b[0m         \u001b[0;32mreturn\u001b[0m \u001b[0mfunc\u001b[0m\u001b[0;34m(\u001b[0m\u001b[0mskipna\u001b[0m\u001b[0;34m=\u001b[0m\u001b[0mskipna\u001b[0m\u001b[0;34m,\u001b[0m \u001b[0;34m**\u001b[0m\u001b[0mkwds\u001b[0m\u001b[0;34m)\u001b[0m\u001b[0;34m\u001b[0m\u001b[0;34m\u001b[0m\u001b[0m\n\u001b[1;32m   1148\u001b[0m \u001b[0;34m\u001b[0m\u001b[0m\n",
      "\u001b[0;31mTypeError\u001b[0m: DatetimeIndex cannot perform the operation mean"
     ]
    }
   ],
   "source": [
    "\n",
    "\n",
    "labels = 'ride_duration', 'wait_duration'\n",
    "sizes = 'percent_wait_of_total'\n",
    "colors = [\"lightblue\", \"red\"]\n",
    "\n",
    "plt.pie(sizes, labels=labels, colors=colors, shadow=True, autopct='%1.1f%%', startangle=140)\n",
    "plt.title(\"Percentage of Male and Female drivers\")\n",
    "\n",
    "#plt.savefig(\"../Images/percent_gender_pie_chart.png\")\n",
    "plt.show()\n"
   ]
  },
  {
   "cell_type": "code",
   "execution_count": null,
   "metadata": {},
   "outputs": [],
   "source": [
    "x_values = uber_df['wait_time']\n",
    "y_values = uber_df['city']\n",
    "\n",
    "\n"
   ]
  },
  {
   "cell_type": "code",
   "execution_count": 71,
   "metadata": {},
   "outputs": [
    {
     "ename": "TypeError",
     "evalue": "unsupported operand type(s) for +: 'float' and 'str'",
     "output_type": "error",
     "traceback": [
      "\u001b[0;31m---------------------------------------------------------------------------\u001b[0m",
      "\u001b[0;31mTypeError\u001b[0m                                 Traceback (most recent call last)",
      "\u001b[0;32m<ipython-input-71-ef213c6c7fe3>\u001b[0m in \u001b[0;36m<module>\u001b[0;34m\u001b[0m\n\u001b[1;32m     10\u001b[0m \u001b[0mx_values\u001b[0m \u001b[0;34m=\u001b[0m \u001b[0muber_df\u001b[0m\u001b[0;34m[\u001b[0m\u001b[0;34m'wait_time'\u001b[0m\u001b[0;34m]\u001b[0m\u001b[0;34m\u001b[0m\u001b[0;34m\u001b[0m\u001b[0m\n\u001b[1;32m     11\u001b[0m \u001b[0my_values\u001b[0m \u001b[0;34m=\u001b[0m \u001b[0muber_df\u001b[0m\u001b[0;34m[\u001b[0m\u001b[0;34m'city'\u001b[0m\u001b[0;34m]\u001b[0m\u001b[0;34m\u001b[0m\u001b[0;34m\u001b[0m\u001b[0m\n\u001b[0;32m---> 12\u001b[0;31m \u001b[0mcorrelation\u001b[0m \u001b[0;34m=\u001b[0m \u001b[0mst\u001b[0m\u001b[0;34m.\u001b[0m\u001b[0mpearsonr\u001b[0m\u001b[0;34m(\u001b[0m\u001b[0mx_values\u001b[0m\u001b[0;34m,\u001b[0m \u001b[0my_values\u001b[0m\u001b[0;34m)\u001b[0m\u001b[0;34m\u001b[0m\u001b[0;34m\u001b[0m\u001b[0m\n\u001b[0m\u001b[1;32m     13\u001b[0m \u001b[0mprint\u001b[0m\u001b[0;34m(\u001b[0m\u001b[0;34mf\"The correlation between both factors is {round(correlation[0],2)}\"\u001b[0m\u001b[0;34m)\u001b[0m\u001b[0;34m\u001b[0m\u001b[0;34m\u001b[0m\u001b[0m\n\u001b[1;32m     14\u001b[0m \u001b[0;34m\u001b[0m\u001b[0m\n",
      "\u001b[0;32m//anaconda3/lib/python3.7/site-packages/scipy/stats/stats.py\u001b[0m in \u001b[0;36mpearsonr\u001b[0;34m(x, y)\u001b[0m\n\u001b[1;32m   3403\u001b[0m     \u001b[0;31m# that the data type is at least 64 bit floating point.  It might have\u001b[0m\u001b[0;34m\u001b[0m\u001b[0;34m\u001b[0m\u001b[0;34m\u001b[0m\u001b[0m\n\u001b[1;32m   3404\u001b[0m     \u001b[0;31m# more precision if the input is, for example, np.longdouble.\u001b[0m\u001b[0;34m\u001b[0m\u001b[0;34m\u001b[0m\u001b[0;34m\u001b[0m\u001b[0m\n\u001b[0;32m-> 3405\u001b[0;31m     \u001b[0mdtype\u001b[0m \u001b[0;34m=\u001b[0m \u001b[0mtype\u001b[0m\u001b[0;34m(\u001b[0m\u001b[0;36m1.0\u001b[0m \u001b[0;34m+\u001b[0m \u001b[0mx\u001b[0m\u001b[0;34m[\u001b[0m\u001b[0;36m0\u001b[0m\u001b[0;34m]\u001b[0m \u001b[0;34m+\u001b[0m \u001b[0my\u001b[0m\u001b[0;34m[\u001b[0m\u001b[0;36m0\u001b[0m\u001b[0;34m]\u001b[0m\u001b[0;34m)\u001b[0m\u001b[0;34m\u001b[0m\u001b[0;34m\u001b[0m\u001b[0m\n\u001b[0m\u001b[1;32m   3406\u001b[0m \u001b[0;34m\u001b[0m\u001b[0m\n\u001b[1;32m   3407\u001b[0m     \u001b[0;32mif\u001b[0m \u001b[0mn\u001b[0m \u001b[0;34m==\u001b[0m \u001b[0;36m2\u001b[0m\u001b[0;34m:\u001b[0m\u001b[0;34m\u001b[0m\u001b[0;34m\u001b[0m\u001b[0m\n",
      "\u001b[0;31mTypeError\u001b[0m: unsupported operand type(s) for +: 'float' and 'str'"
     ]
    }
   ],
   "source": [
    "import matplotlib.pyplot as plt\n",
    "from builtins import list\n",
    "import matplotlib\n",
    "matplotlib.style.use('ggplot')\n",
    "import scipy.stats as st\n",
    "import datetime\n",
    "from sklearn import datasets\n",
    "from scipy.stats import linregress\n",
    "\n",
    "x_values = uber_df['wait_time']\n",
    "y_values = uber_df['city']\n",
    "correlation = st.pearsonr(x_values, y_values)\n",
    "print(f\"The correlation between both factors is {round(correlation[0],2)}\")\n",
    "\n",
    "(slope, intercept, rvalue, pvalue, stderr) = linregress(x_values, y_values)\n",
    "regress_values = x_values * slope + intercept\n",
    "line_eq = \"y = \" + str(round(slope,2)) + \"x + \" + str(round(intercept,2))\n",
    "plt.scatter(x_values,y_values)\n",
    "plt.plot(x_values,regress_values,\"r-\")\n",
    "plt.annotate(line_eq,(6,10),fontsize=15,color=\"black\")\n",
    "plt.xlabel('Wait time')\n",
    "plt.ylabel('City')\n",
    "print(f\"The r-squared is: {rvalue}\")\n",
    "#plt.savefig('Images/distanceprice.png')\n",
    "plt.show()\n"
   ]
  },
  {
   "cell_type": "code",
   "execution_count": 152,
   "metadata": {},
   "outputs": [
    {
     "ename": "TypeError",
     "evalue": "Could not convert 2:18:232:11:201:08:28wait_timewait_timewait_timewait_time0:24:21wait_time0:22:00wait_timewait_timewait_timewait_time0:19:31wait_timewait_timewait_timewait_timewait_timewait_time0:17:42wait_timewait_timewait_timewait_timewait_timewait_timewait_timewait_timewait_timewait_timewait_timewait_timewait_timewait_timewait_timewait_timewait_timewait_timewait_timewait_timewait_timewait_time0:15:37wait_time0:15:29wait_time0:15:23wait_timewait_timewait_timewait_timewait_timewait_timewait_timewait_timewait_timewait_timewait_timewait_timewait_timewait_timewait_timewait_timewait_timewait_timewait_timewait_timewait_timewait_timewait_time0:13:47wait_timewait_timewait_timewait_timewait_timewait_time0:13:33wait_timewait_timewait_timewait_time0:13:21wait_timewait_timewait_timewait_timewait_timewait_timewait_timewait_timewait_timewait_timewait_timewait_timewait_time0:12:41wait_timewait_time0:12:32wait_timewait_timewait_timewait_timewait_timewait_timewait_timewait_timewait_timewait_timewait_timewait_timewait_time0:11:58wait_timewait_timewait_timewait_timewait_timewait_timewait_timewait_timewait_time0:11:35wait_timewait_timewait_timewait_timewait_timewait_timewait_timewait_timewait_timewait_timewait_timewait_time0:11:18wait_timewait_timewait_timewait_timewait_timewait_timewait_timewait_timewait_timewait_timewait_timewait_timewait_timewait_timewait_timewait_timewait_timewait_timewait_timewait_time0:10:36wait_timewait_time0:10:32wait_timewait_timewait_timewait_timewait_timewait_timewait_timewait_timewait_timewait_time0:10:21wait_timewait_timewait_timewait_timewait_timewait_timewait_timewait_timewait_timewait_timewait_timewait_timewait_timewait_timewait_timewait_timewait_timewait_timewait_timewait_timewait_timewait_timewait_timewait_timewait_timewait_timewait_timewait_timewait_timewait_timewait_timewait_timewait_timewait_timewait_timewait_timewait_timewait_timewait_timewait_timewait_timewait_timewait_timewait_timewait_timewait_timewait_time0:09:30wait_timewait_timewait_timewait_timewait_timewait_timewait_timewait_timewait_timewait_timewait_timewait_timewait_timewait_timewait_timewait_timewait_timewait_time0:09:15wait_timewait_timewait_time0:09:07wait_timewait_timewait_timewait_timewait_timewait_timewait_timewait_timewait_timewait_timewait_timewait_timewait_timewait_timewait_timewait_timewait_timewait_timewait_timewait_timewait_timewait_timewait_timewait_timewait_timewait_timewait_timewait_timewait_timewait_timewait_timewait_timewait_timewait_timewait_timewait_timewait_timewait_timewait_timewait_timewait_timewait_timewait_timewait_timewait_timewait_timewait_timewait_time0:08:18wait_timewait_timewait_timewait_timewait_timewait_timewait_timewait_timewait_timewait_timewait_timewait_timewait_timewait_timewait_time0:08:07wait_timewait_timewait_timewait_timewait_timewait_timewait_timewait_timewait_timewait_timewait_timewait_timewait_timewait_timewait_timewait_timewait_timewait_timewait_timewait_timewait_timewait_timewait_timewait_timewait_timewait_timewait_timewait_timewait_time0:07:43wait_timewait_timewait_timewait_timewait_timewait_timewait_timewait_timewait_timewait_timewait_time0:07:33wait_timewait_timewait_timewait_timewait_timewait_timewait_timewait_timewait_timewait_timewait_timewait_timewait_timewait_timewait_timewait_timewait_timewait_timewait_timewait_timewait_timewait_timewait_timewait_timewait_timewait_timewait_timewait_timewait_timewait_timewait_timewait_timewait_timewait_timewait_timewait_timewait_timewait_timewait_timewait_timewait_timewait_timewait_timewait_timewait_timewait_timewait_timewait_timewait_timewait_timewait_timewait_timewait_timewait_timewait_timewait_timewait_timewait_timewait_timewait_timewait_timewait_timewait_timewait_timewait_timewait_timewait_timewait_timewait_timewait_time0:06:45wait_timewait_timewait_timewait_timewait_timewait_timewait_timewait_timewait_timewait_timewait_timewait_timewait_time0:06:36wait_timewait_timewait_timewait_timewait_timewait_timewait_time0:06:29wait_timewait_timewait_timewait_timewait_timewait_timewait_timewait_timewait_timewait_timewait_timewait_timewait_timewait_time0:06:19wait_timewait_timewait_timewait_timewait_timewait_timewait_timewait_timewait_time0:06:02wait_timewait_timewait_timewait_timewait_timewait_timewait_timewait_timewait_timewait_timewait_timewait_timewait_timewait_timewait_timewait_timewait_timewait_timewait_timewait_timewait_timewait_timewait_timewait_timewait_timewait_timewait_timewait_timewait_timewait_timewait_timewait_timewait_timewait_timewait_timewait_timewait_timewait_timewait_timewait_timewait_timewait_timewait_timewait_timewait_timewait_timewait_timewait_timewait_timewait_timewait_timewait_timewait_timewait_timewait_timewait_timewait_timewait_timewait_timewait_timewait_timewait_timewait_timewait_timewait_timewait_timewait_timewait_timewait_timewait_timewait_timewait_timewait_timewait_timewait_timewait_timewait_timewait_timewait_timewait_timewait_timewait_timewait_timewait_timewait_timewait_timewait_timewait_timewait_timewait_timewait_timewait_timewait_timewait_timewait_timewait_timewait_timewait_timewait_time0:04:08wait_timewait_timewait_timewait_timewait_timewait_timewait_timewait_timewait_time0:03:54wait_timewait_timewait_timewait_timewait_timewait_timewait_timewait_timewait_timewait_timewait_timewait_timewait_timewait_timewait_timewait_timewait_timewait_timewait_timewait_timewait_timewait_timewait_timewait_timewait_timewait_timewait_timewait_timewait_time0:03:28wait_timewait_timewait_timewait_timewait_timewait_timewait_timewait_timewait_timewait_timewait_timewait_timewait_timewait_timewait_timewait_timewait_timewait_time0:02:56wait_timewait_timewait_timewait_timewait_timewait_timewait_timewait_timewait_timewait_timewait_timewait_timewait_timewait_timewait_timewait_timewait_timewait_timewait_timewait_timewait_timewait_timewait_timewait_timewait_timewait_timewait_timewait_timewait_timewait_timewait_timewait_timewait_timewait_timewait_timewait_timewait_timewait_timewait_timewait_timewait_timewait_timewait_timewait_timewait_timewait_timewait_timewait_time0:00:25 to numeric",
     "output_type": "error",
     "traceback": [
      "\u001b[0;31m---------------------------------------------------------------------------\u001b[0m",
      "\u001b[0;31mValueError\u001b[0m                                Traceback (most recent call last)",
      "\u001b[0;32m//anaconda3/lib/python3.7/site-packages/pandas/core/nanops.py\u001b[0m in \u001b[0;36m_ensure_numeric\u001b[0;34m(x)\u001b[0m\n\u001b[1;32m   1163\u001b[0m         \u001b[0;32mtry\u001b[0m\u001b[0;34m:\u001b[0m\u001b[0;34m\u001b[0m\u001b[0;34m\u001b[0m\u001b[0m\n\u001b[0;32m-> 1164\u001b[0;31m             \u001b[0mx\u001b[0m \u001b[0;34m=\u001b[0m \u001b[0mfloat\u001b[0m\u001b[0;34m(\u001b[0m\u001b[0mx\u001b[0m\u001b[0;34m)\u001b[0m\u001b[0;34m\u001b[0m\u001b[0;34m\u001b[0m\u001b[0m\n\u001b[0m\u001b[1;32m   1165\u001b[0m         \u001b[0;32mexcept\u001b[0m \u001b[0mException\u001b[0m\u001b[0;34m:\u001b[0m\u001b[0;34m\u001b[0m\u001b[0;34m\u001b[0m\u001b[0m\n",
      "\u001b[0;31mValueError\u001b[0m: could not convert string to float: '2:18:232:11:201:08:28wait_timewait_timewait_timewait_time0:24:21wait_time0:22:00wait_timewait_timewait_timewait_time0:19:31wait_timewait_timewait_timewait_timewait_timewait_time0:17:42wait_timewait_timewait_timewait_timewait_timewait_timewait_timewait_timewait_timewait_timewait_timewait_timewait_timewait_timewait_timewait_timewait_timewait_timewait_timewait_timewait_timewait_time0:15:37wait_time0:15:29wait_time0:15:23wait_timewait_timewait_timewait_timewait_timewait_timewait_timewait_timewait_timewait_timewait_timewait_timewait_timewait_timewait_timewait_timewait_timewait_timewait_timewait_timewait_timewait_timewait_time0:13:47wait_timewait_timewait_timewait_timewait_timewait_time0:13:33wait_timewait_timewait_timewait_time0:13:21wait_timewait_timewait_timewait_timewait_timewait_timewait_timewait_timewait_timewait_timewait_timewait_timewait_time0:12:41wait_timewait_time0:12:32wait_timewait_timewait_timewait_timewait_timewait_timewait_timewait_timewait_timewait_timewait_timewait_timewait_time0:11:58wait_timewait_timewait_timewait_timewait_timewait_timewait_timewait_timewait_time0:11:35wait_timewait_timewait_timewait_timewait_timewait_timewait_timewait_timewait_timewait_timewait_timewait_time0:11:18wait_timewait_timewait_timewait_timewait_timewait_timewait_timewait_timewait_timewait_timewait_timewait_timewait_timewait_timewait_timewait_timewait_timewait_timewait_timewait_time0:10:36wait_timewait_time0:10:32wait_timewait_timewait_timewait_timewait_timewait_timewait_timewait_timewait_timewait_time0:10:21wait_timewait_timewait_timewait_timewait_timewait_timewait_timewait_timewait_timewait_timewait_timewait_timewait_timewait_timewait_timewait_timewait_timewait_timewait_timewait_timewait_timewait_timewait_timewait_timewait_timewait_timewait_timewait_timewait_timewait_timewait_timewait_timewait_timewait_timewait_timewait_timewait_timewait_timewait_timewait_timewait_timewait_timewait_timewait_timewait_timewait_timewait_time0:09:30wait_timewait_timewait_timewait_timewait_timewait_timewait_timewait_timewait_timewait_timewait_timewait_timewait_timewait_timewait_timewait_timewait_timewait_time0:09:15wait_timewait_timewait_time0:09:07wait_timewait_timewait_timewait_timewait_timewait_timewait_timewait_timewait_timewait_timewait_timewait_timewait_timewait_timewait_timewait_timewait_timewait_timewait_timewait_timewait_timewait_timewait_timewait_timewait_timewait_timewait_timewait_timewait_timewait_timewait_timewait_timewait_timewait_timewait_timewait_timewait_timewait_timewait_timewait_timewait_timewait_timewait_timewait_timewait_timewait_timewait_timewait_time0:08:18wait_timewait_timewait_timewait_timewait_timewait_timewait_timewait_timewait_timewait_timewait_timewait_timewait_timewait_timewait_time0:08:07wait_timewait_timewait_timewait_timewait_timewait_timewait_timewait_timewait_timewait_timewait_timewait_timewait_timewait_timewait_timewait_timewait_timewait_timewait_timewait_timewait_timewait_timewait_timewait_timewait_timewait_timewait_timewait_timewait_time0:07:43wait_timewait_timewait_timewait_timewait_timewait_timewait_timewait_timewait_timewait_timewait_time0:07:33wait_timewait_timewait_timewait_timewait_timewait_timewait_timewait_timewait_timewait_timewait_timewait_timewait_timewait_timewait_timewait_timewait_timewait_timewait_timewait_timewait_timewait_timewait_timewait_timewait_timewait_timewait_timewait_timewait_timewait_timewait_timewait_timewait_timewait_timewait_timewait_timewait_timewait_timewait_timewait_timewait_timewait_timewait_timewait_timewait_timewait_timewait_timewait_timewait_timewait_timewait_timewait_timewait_timewait_timewait_timewait_timewait_timewait_timewait_timewait_timewait_timewait_timewait_timewait_timewait_timewait_timewait_timewait_timewait_timewait_time0:06:45wait_timewait_timewait_timewait_timewait_timewait_timewait_timewait_timewait_timewait_timewait_timewait_timewait_time0:06:36wait_timewait_timewait_timewait_timewait_timewait_timewait_time0:06:29wait_timewait_timewait_timewait_timewait_timewait_timewait_timewait_timewait_timewait_timewait_timewait_timewait_timewait_time0:06:19wait_timewait_timewait_timewait_timewait_timewait_timewait_timewait_timewait_time0:06:02wait_timewait_timewait_timewait_timewait_timewait_timewait_timewait_timewait_timewait_timewait_timewait_timewait_timewait_timewait_timewait_timewait_timewait_timewait_timewait_timewait_timewait_timewait_timewait_timewait_timewait_timewait_timewait_timewait_timewait_timewait_timewait_timewait_timewait_timewait_timewait_timewait_timewait_timewait_timewait_timewait_timewait_timewait_timewait_timewait_timewait_timewait_timewait_timewait_timewait_timewait_timewait_timewait_timewait_timewait_timewait_timewait_timewait_timewait_timewait_timewait_timewait_timewait_timewait_timewait_timewait_timewait_timewait_timewait_timewait_timewait_timewait_timewait_timewait_timewait_timewait_timewait_timewait_timewait_timewait_timewait_timewait_timewait_timewait_timewait_timewait_timewait_timewait_timewait_timewait_timewait_timewait_timewait_timewait_timewait_timewait_timewait_timewait_timewait_time0:04:08wait_timewait_timewait_timewait_timewait_timewait_timewait_timewait_timewait_time0:03:54wait_timewait_timewait_timewait_timewait_timewait_timewait_timewait_timewait_timewait_timewait_timewait_timewait_timewait_timewait_timewait_timewait_timewait_timewait_timewait_timewait_timewait_timewait_timewait_timewait_timewait_timewait_timewait_timewait_time0:03:28wait_timewait_timewait_timewait_timewait_timewait_timewait_timewait_timewait_timewait_timewait_timewait_timewait_timewait_timewait_timewait_timewait_timewait_time0:02:56wait_timewait_timewait_timewait_timewait_timewait_timewait_timewait_timewait_timewait_timewait_timewait_timewait_timewait_timewait_timewait_timewait_timewait_timewait_timewait_timewait_timewait_timewait_timewait_timewait_timewait_timewait_timewait_timewait_timewait_timewait_timewait_timewait_timewait_timewait_timewait_timewait_timewait_timewait_timewait_timewait_timewait_timewait_timewait_timewait_timewait_timewait_timewait_time0:00:25'",
      "\nDuring handling of the above exception, another exception occurred:\n",
      "\u001b[0;31mValueError\u001b[0m                                Traceback (most recent call last)",
      "\u001b[0;32m//anaconda3/lib/python3.7/site-packages/pandas/core/nanops.py\u001b[0m in \u001b[0;36m_ensure_numeric\u001b[0;34m(x)\u001b[0m\n\u001b[1;32m   1166\u001b[0m             \u001b[0;32mtry\u001b[0m\u001b[0;34m:\u001b[0m\u001b[0;34m\u001b[0m\u001b[0;34m\u001b[0m\u001b[0m\n\u001b[0;32m-> 1167\u001b[0;31m                 \u001b[0mx\u001b[0m \u001b[0;34m=\u001b[0m \u001b[0mcomplex\u001b[0m\u001b[0;34m(\u001b[0m\u001b[0mx\u001b[0m\u001b[0;34m)\u001b[0m\u001b[0;34m\u001b[0m\u001b[0;34m\u001b[0m\u001b[0m\n\u001b[0m\u001b[1;32m   1168\u001b[0m             \u001b[0;32mexcept\u001b[0m \u001b[0mException\u001b[0m\u001b[0;34m:\u001b[0m\u001b[0;34m\u001b[0m\u001b[0;34m\u001b[0m\u001b[0m\n",
      "\u001b[0;31mValueError\u001b[0m: could not convert string to complex: '2:18:232:11:201:08:28wait_timewait_timewait_timewait_time0:24:21wait_time0:22:00wait_timewait_timewait_timewait_time0:19:31wait_timewait_timewait_timewait_timewait_timewait_time0:17:42wait_timewait_timewait_timewait_timewait_timewait_timewait_timewait_timewait_timewait_timewait_timewait_timewait_timewait_timewait_timewait_timewait_timewait_timewait_timewait_timewait_timewait_time0:15:37wait_time0:15:29wait_time0:15:23wait_timewait_timewait_timewait_timewait_timewait_timewait_timewait_timewait_timewait_timewait_timewait_timewait_timewait_timewait_timewait_timewait_timewait_timewait_timewait_timewait_timewait_timewait_time0:13:47wait_timewait_timewait_timewait_timewait_timewait_time0:13:33wait_timewait_timewait_timewait_time0:13:21wait_timewait_timewait_timewait_timewait_timewait_timewait_timewait_timewait_timewait_timewait_timewait_timewait_time0:12:41wait_timewait_time0:12:32wait_timewait_timewait_timewait_timewait_timewait_timewait_timewait_timewait_timewait_timewait_timewait_timewait_time0:11:58wait_timewait_timewait_timewait_timewait_timewait_timewait_timewait_timewait_time0:11:35wait_timewait_timewait_timewait_timewait_timewait_timewait_timewait_timewait_timewait_timewait_timewait_time0:11:18wait_timewait_timewait_timewait_timewait_timewait_timewait_timewait_timewait_timewait_timewait_timewait_timewait_timewait_timewait_timewait_timewait_timewait_timewait_timewait_time0:10:36wait_timewait_time0:10:32wait_timewait_timewait_timewait_timewait_timewait_timewait_timewait_timewait_timewait_time0:10:21wait_timewait_timewait_timewait_timewait_timewait_timewait_timewait_timewait_timewait_timewait_timewait_timewait_timewait_timewait_timewait_timewait_timewait_timewait_timewait_timewait_timewait_timewait_timewait_timewait_timewait_timewait_timewait_timewait_timewait_timewait_timewait_timewait_timewait_timewait_timewait_timewait_timewait_timewait_timewait_timewait_timewait_timewait_timewait_timewait_timewait_timewait_time0:09:30wait_timewait_timewait_timewait_timewait_timewait_timewait_timewait_timewait_timewait_timewait_timewait_timewait_timewait_timewait_timewait_timewait_timewait_time0:09:15wait_timewait_timewait_time0:09:07wait_timewait_timewait_timewait_timewait_timewait_timewait_timewait_timewait_timewait_timewait_timewait_timewait_timewait_timewait_timewait_timewait_timewait_timewait_timewait_timewait_timewait_timewait_timewait_timewait_timewait_timewait_timewait_timewait_timewait_timewait_timewait_timewait_timewait_timewait_timewait_timewait_timewait_timewait_timewait_timewait_timewait_timewait_timewait_timewait_timewait_timewait_timewait_time0:08:18wait_timewait_timewait_timewait_timewait_timewait_timewait_timewait_timewait_timewait_timewait_timewait_timewait_timewait_timewait_time0:08:07wait_timewait_timewait_timewait_timewait_timewait_timewait_timewait_timewait_timewait_timewait_timewait_timewait_timewait_timewait_timewait_timewait_timewait_timewait_timewait_timewait_timewait_timewait_timewait_timewait_timewait_timewait_timewait_timewait_time0:07:43wait_timewait_timewait_timewait_timewait_timewait_timewait_timewait_timewait_timewait_timewait_time0:07:33wait_timewait_timewait_timewait_timewait_timewait_timewait_timewait_timewait_timewait_timewait_timewait_timewait_timewait_timewait_timewait_timewait_timewait_timewait_timewait_timewait_timewait_timewait_timewait_timewait_timewait_timewait_timewait_timewait_timewait_timewait_timewait_timewait_timewait_timewait_timewait_timewait_timewait_timewait_timewait_timewait_timewait_timewait_timewait_timewait_timewait_timewait_timewait_timewait_timewait_timewait_timewait_timewait_timewait_timewait_timewait_timewait_timewait_timewait_timewait_timewait_timewait_timewait_timewait_timewait_timewait_timewait_timewait_timewait_timewait_time0:06:45wait_timewait_timewait_timewait_timewait_timewait_timewait_timewait_timewait_timewait_timewait_timewait_timewait_time0:06:36wait_timewait_timewait_timewait_timewait_timewait_timewait_time0:06:29wait_timewait_timewait_timewait_timewait_timewait_timewait_timewait_timewait_timewait_timewait_timewait_timewait_timewait_time0:06:19wait_timewait_timewait_timewait_timewait_timewait_timewait_timewait_timewait_time0:06:02wait_timewait_timewait_timewait_timewait_timewait_timewait_timewait_timewait_timewait_timewait_timewait_timewait_timewait_timewait_timewait_timewait_timewait_timewait_timewait_timewait_timewait_timewait_timewait_timewait_timewait_timewait_timewait_timewait_timewait_timewait_timewait_timewait_timewait_timewait_timewait_timewait_timewait_timewait_timewait_timewait_timewait_timewait_timewait_timewait_timewait_timewait_timewait_timewait_timewait_timewait_timewait_timewait_timewait_timewait_timewait_timewait_timewait_timewait_timewait_timewait_timewait_timewait_timewait_timewait_timewait_timewait_timewait_timewait_timewait_timewait_timewait_timewait_timewait_timewait_timewait_timewait_timewait_timewait_timewait_timewait_timewait_timewait_timewait_timewait_timewait_timewait_timewait_timewait_timewait_timewait_timewait_timewait_timewait_timewait_timewait_timewait_timewait_timewait_time0:04:08wait_timewait_timewait_timewait_timewait_timewait_timewait_timewait_timewait_time0:03:54wait_timewait_timewait_timewait_timewait_timewait_timewait_timewait_timewait_timewait_timewait_timewait_timewait_timewait_timewait_timewait_timewait_timewait_timewait_timewait_timewait_timewait_timewait_timewait_timewait_timewait_timewait_timewait_timewait_time0:03:28wait_timewait_timewait_timewait_timewait_timewait_timewait_timewait_timewait_timewait_timewait_timewait_timewait_timewait_timewait_timewait_timewait_timewait_time0:02:56wait_timewait_timewait_timewait_timewait_timewait_timewait_timewait_timewait_timewait_timewait_timewait_timewait_timewait_timewait_timewait_timewait_timewait_timewait_timewait_timewait_timewait_timewait_timewait_timewait_timewait_timewait_timewait_timewait_timewait_timewait_timewait_timewait_timewait_timewait_timewait_timewait_timewait_timewait_timewait_timewait_timewait_timewait_timewait_timewait_timewait_timewait_timewait_time0:00:25'",
      "\nDuring handling of the above exception, another exception occurred:\n",
      "\u001b[0;31mTypeError\u001b[0m                                 Traceback (most recent call last)",
      "\u001b[0;32m//anaconda3/lib/python3.7/site-packages/pandas/core/nanops.py\u001b[0m in \u001b[0;36mf\u001b[0;34m(values, axis, skipna, **kwds)\u001b[0m\n\u001b[1;32m    126\u001b[0m                 \u001b[0;32melse\u001b[0m\u001b[0;34m:\u001b[0m\u001b[0;34m\u001b[0m\u001b[0;34m\u001b[0m\u001b[0m\n\u001b[0;32m--> 127\u001b[0;31m                     \u001b[0mresult\u001b[0m \u001b[0;34m=\u001b[0m \u001b[0malt\u001b[0m\u001b[0;34m(\u001b[0m\u001b[0mvalues\u001b[0m\u001b[0;34m,\u001b[0m \u001b[0maxis\u001b[0m\u001b[0;34m=\u001b[0m\u001b[0maxis\u001b[0m\u001b[0;34m,\u001b[0m \u001b[0mskipna\u001b[0m\u001b[0;34m=\u001b[0m\u001b[0mskipna\u001b[0m\u001b[0;34m,\u001b[0m \u001b[0;34m**\u001b[0m\u001b[0mkwds\u001b[0m\u001b[0;34m)\u001b[0m\u001b[0;34m\u001b[0m\u001b[0;34m\u001b[0m\u001b[0m\n\u001b[0m\u001b[1;32m    128\u001b[0m             \u001b[0;32mexcept\u001b[0m \u001b[0mException\u001b[0m\u001b[0;34m:\u001b[0m\u001b[0;34m\u001b[0m\u001b[0;34m\u001b[0m\u001b[0m\n",
      "\u001b[0;32m//anaconda3/lib/python3.7/site-packages/pandas/core/nanops.py\u001b[0m in \u001b[0;36mnanmean\u001b[0;34m(values, axis, skipna, mask)\u001b[0m\n\u001b[1;32m    478\u001b[0m     \u001b[0mcount\u001b[0m \u001b[0;34m=\u001b[0m \u001b[0m_get_counts\u001b[0m\u001b[0;34m(\u001b[0m\u001b[0mmask\u001b[0m\u001b[0;34m,\u001b[0m \u001b[0maxis\u001b[0m\u001b[0;34m,\u001b[0m \u001b[0mdtype\u001b[0m\u001b[0;34m=\u001b[0m\u001b[0mdtype_count\u001b[0m\u001b[0;34m)\u001b[0m\u001b[0;34m\u001b[0m\u001b[0;34m\u001b[0m\u001b[0m\n\u001b[0;32m--> 479\u001b[0;31m     \u001b[0mthe_sum\u001b[0m \u001b[0;34m=\u001b[0m \u001b[0m_ensure_numeric\u001b[0m\u001b[0;34m(\u001b[0m\u001b[0mvalues\u001b[0m\u001b[0;34m.\u001b[0m\u001b[0msum\u001b[0m\u001b[0;34m(\u001b[0m\u001b[0maxis\u001b[0m\u001b[0;34m,\u001b[0m \u001b[0mdtype\u001b[0m\u001b[0;34m=\u001b[0m\u001b[0mdtype_sum\u001b[0m\u001b[0;34m)\u001b[0m\u001b[0;34m)\u001b[0m\u001b[0;34m\u001b[0m\u001b[0;34m\u001b[0m\u001b[0m\n\u001b[0m\u001b[1;32m    480\u001b[0m \u001b[0;34m\u001b[0m\u001b[0m\n",
      "\u001b[0;32m//anaconda3/lib/python3.7/site-packages/pandas/core/nanops.py\u001b[0m in \u001b[0;36m_ensure_numeric\u001b[0;34m(x)\u001b[0m\n\u001b[1;32m   1169\u001b[0m                 raise TypeError('Could not convert {value!s} to numeric'\n\u001b[0;32m-> 1170\u001b[0;31m                                 .format(value=x))\n\u001b[0m\u001b[1;32m   1171\u001b[0m     \u001b[0;32mreturn\u001b[0m \u001b[0mx\u001b[0m\u001b[0;34m\u001b[0m\u001b[0;34m\u001b[0m\u001b[0m\n",
      "\u001b[0;31mTypeError\u001b[0m: Could not convert 2:18:232:11:201:08:28wait_timewait_timewait_timewait_time0:24:21wait_time0:22:00wait_timewait_timewait_timewait_time0:19:31wait_timewait_timewait_timewait_timewait_timewait_time0:17:42wait_timewait_timewait_timewait_timewait_timewait_timewait_timewait_timewait_timewait_timewait_timewait_timewait_timewait_timewait_timewait_timewait_timewait_timewait_timewait_timewait_timewait_time0:15:37wait_time0:15:29wait_time0:15:23wait_timewait_timewait_timewait_timewait_timewait_timewait_timewait_timewait_timewait_timewait_timewait_timewait_timewait_timewait_timewait_timewait_timewait_timewait_timewait_timewait_timewait_timewait_time0:13:47wait_timewait_timewait_timewait_timewait_timewait_time0:13:33wait_timewait_timewait_timewait_time0:13:21wait_timewait_timewait_timewait_timewait_timewait_timewait_timewait_timewait_timewait_timewait_timewait_timewait_time0:12:41wait_timewait_time0:12:32wait_timewait_timewait_timewait_timewait_timewait_timewait_timewait_timewait_timewait_timewait_timewait_timewait_time0:11:58wait_timewait_timewait_timewait_timewait_timewait_timewait_timewait_timewait_time0:11:35wait_timewait_timewait_timewait_timewait_timewait_timewait_timewait_timewait_timewait_timewait_timewait_time0:11:18wait_timewait_timewait_timewait_timewait_timewait_timewait_timewait_timewait_timewait_timewait_timewait_timewait_timewait_timewait_timewait_timewait_timewait_timewait_timewait_time0:10:36wait_timewait_time0:10:32wait_timewait_timewait_timewait_timewait_timewait_timewait_timewait_timewait_timewait_time0:10:21wait_timewait_timewait_timewait_timewait_timewait_timewait_timewait_timewait_timewait_timewait_timewait_timewait_timewait_timewait_timewait_timewait_timewait_timewait_timewait_timewait_timewait_timewait_timewait_timewait_timewait_timewait_timewait_timewait_timewait_timewait_timewait_timewait_timewait_timewait_timewait_timewait_timewait_timewait_timewait_timewait_timewait_timewait_timewait_timewait_timewait_timewait_time0:09:30wait_timewait_timewait_timewait_timewait_timewait_timewait_timewait_timewait_timewait_timewait_timewait_timewait_timewait_timewait_timewait_timewait_timewait_time0:09:15wait_timewait_timewait_time0:09:07wait_timewait_timewait_timewait_timewait_timewait_timewait_timewait_timewait_timewait_timewait_timewait_timewait_timewait_timewait_timewait_timewait_timewait_timewait_timewait_timewait_timewait_timewait_timewait_timewait_timewait_timewait_timewait_timewait_timewait_timewait_timewait_timewait_timewait_timewait_timewait_timewait_timewait_timewait_timewait_timewait_timewait_timewait_timewait_timewait_timewait_timewait_timewait_time0:08:18wait_timewait_timewait_timewait_timewait_timewait_timewait_timewait_timewait_timewait_timewait_timewait_timewait_timewait_timewait_time0:08:07wait_timewait_timewait_timewait_timewait_timewait_timewait_timewait_timewait_timewait_timewait_timewait_timewait_timewait_timewait_timewait_timewait_timewait_timewait_timewait_timewait_timewait_timewait_timewait_timewait_timewait_timewait_timewait_timewait_time0:07:43wait_timewait_timewait_timewait_timewait_timewait_timewait_timewait_timewait_timewait_timewait_time0:07:33wait_timewait_timewait_timewait_timewait_timewait_timewait_timewait_timewait_timewait_timewait_timewait_timewait_timewait_timewait_timewait_timewait_timewait_timewait_timewait_timewait_timewait_timewait_timewait_timewait_timewait_timewait_timewait_timewait_timewait_timewait_timewait_timewait_timewait_timewait_timewait_timewait_timewait_timewait_timewait_timewait_timewait_timewait_timewait_timewait_timewait_timewait_timewait_timewait_timewait_timewait_timewait_timewait_timewait_timewait_timewait_timewait_timewait_timewait_timewait_timewait_timewait_timewait_timewait_timewait_timewait_timewait_timewait_timewait_timewait_time0:06:45wait_timewait_timewait_timewait_timewait_timewait_timewait_timewait_timewait_timewait_timewait_timewait_timewait_time0:06:36wait_timewait_timewait_timewait_timewait_timewait_timewait_time0:06:29wait_timewait_timewait_timewait_timewait_timewait_timewait_timewait_timewait_timewait_timewait_timewait_timewait_timewait_time0:06:19wait_timewait_timewait_timewait_timewait_timewait_timewait_timewait_timewait_time0:06:02wait_timewait_timewait_timewait_timewait_timewait_timewait_timewait_timewait_timewait_timewait_timewait_timewait_timewait_timewait_timewait_timewait_timewait_timewait_timewait_timewait_timewait_timewait_timewait_timewait_timewait_timewait_timewait_timewait_timewait_timewait_timewait_timewait_timewait_timewait_timewait_timewait_timewait_timewait_timewait_timewait_timewait_timewait_timewait_timewait_timewait_timewait_timewait_timewait_timewait_timewait_timewait_timewait_timewait_timewait_timewait_timewait_timewait_timewait_timewait_timewait_timewait_timewait_timewait_timewait_timewait_timewait_timewait_timewait_timewait_timewait_timewait_timewait_timewait_timewait_timewait_timewait_timewait_timewait_timewait_timewait_timewait_timewait_timewait_timewait_timewait_timewait_timewait_timewait_timewait_timewait_timewait_timewait_timewait_timewait_timewait_timewait_timewait_timewait_time0:04:08wait_timewait_timewait_timewait_timewait_timewait_timewait_timewait_timewait_time0:03:54wait_timewait_timewait_timewait_timewait_timewait_timewait_timewait_timewait_timewait_timewait_timewait_timewait_timewait_timewait_timewait_timewait_timewait_timewait_timewait_timewait_timewait_timewait_timewait_timewait_timewait_timewait_timewait_timewait_time0:03:28wait_timewait_timewait_timewait_timewait_timewait_timewait_timewait_timewait_timewait_timewait_timewait_timewait_timewait_timewait_timewait_timewait_timewait_time0:02:56wait_timewait_timewait_timewait_timewait_timewait_timewait_timewait_timewait_timewait_timewait_timewait_timewait_timewait_timewait_timewait_timewait_timewait_timewait_timewait_timewait_timewait_timewait_timewait_timewait_timewait_timewait_timewait_timewait_timewait_timewait_timewait_timewait_timewait_timewait_timewait_timewait_timewait_timewait_timewait_timewait_timewait_timewait_timewait_timewait_timewait_timewait_timewait_time0:00:25 to numeric",
      "\nDuring handling of the above exception, another exception occurred:\n",
      "\u001b[0;31mValueError\u001b[0m                                Traceback (most recent call last)",
      "\u001b[0;32m//anaconda3/lib/python3.7/site-packages/pandas/core/nanops.py\u001b[0m in \u001b[0;36m_ensure_numeric\u001b[0;34m(x)\u001b[0m\n\u001b[1;32m   1163\u001b[0m         \u001b[0;32mtry\u001b[0m\u001b[0;34m:\u001b[0m\u001b[0;34m\u001b[0m\u001b[0;34m\u001b[0m\u001b[0m\n\u001b[0;32m-> 1164\u001b[0;31m             \u001b[0mx\u001b[0m \u001b[0;34m=\u001b[0m \u001b[0mfloat\u001b[0m\u001b[0;34m(\u001b[0m\u001b[0mx\u001b[0m\u001b[0;34m)\u001b[0m\u001b[0;34m\u001b[0m\u001b[0;34m\u001b[0m\u001b[0m\n\u001b[0m\u001b[1;32m   1165\u001b[0m         \u001b[0;32mexcept\u001b[0m \u001b[0mException\u001b[0m\u001b[0;34m:\u001b[0m\u001b[0;34m\u001b[0m\u001b[0;34m\u001b[0m\u001b[0m\n",
      "\u001b[0;31mValueError\u001b[0m: could not convert string to float: '2:18:232:11:201:08:28wait_timewait_timewait_timewait_time0:24:21wait_time0:22:00wait_timewait_timewait_timewait_time0:19:31wait_timewait_timewait_timewait_timewait_timewait_time0:17:42wait_timewait_timewait_timewait_timewait_timewait_timewait_timewait_timewait_timewait_timewait_timewait_timewait_timewait_timewait_timewait_timewait_timewait_timewait_timewait_timewait_timewait_time0:15:37wait_time0:15:29wait_time0:15:23wait_timewait_timewait_timewait_timewait_timewait_timewait_timewait_timewait_timewait_timewait_timewait_timewait_timewait_timewait_timewait_timewait_timewait_timewait_timewait_timewait_timewait_timewait_time0:13:47wait_timewait_timewait_timewait_timewait_timewait_time0:13:33wait_timewait_timewait_timewait_time0:13:21wait_timewait_timewait_timewait_timewait_timewait_timewait_timewait_timewait_timewait_timewait_timewait_timewait_time0:12:41wait_timewait_time0:12:32wait_timewait_timewait_timewait_timewait_timewait_timewait_timewait_timewait_timewait_timewait_timewait_timewait_time0:11:58wait_timewait_timewait_timewait_timewait_timewait_timewait_timewait_timewait_time0:11:35wait_timewait_timewait_timewait_timewait_timewait_timewait_timewait_timewait_timewait_timewait_timewait_time0:11:18wait_timewait_timewait_timewait_timewait_timewait_timewait_timewait_timewait_timewait_timewait_timewait_timewait_timewait_timewait_timewait_timewait_timewait_timewait_timewait_time0:10:36wait_timewait_time0:10:32wait_timewait_timewait_timewait_timewait_timewait_timewait_timewait_timewait_timewait_time0:10:21wait_timewait_timewait_timewait_timewait_timewait_timewait_timewait_timewait_timewait_timewait_timewait_timewait_timewait_timewait_timewait_timewait_timewait_timewait_timewait_timewait_timewait_timewait_timewait_timewait_timewait_timewait_timewait_timewait_timewait_timewait_timewait_timewait_timewait_timewait_timewait_timewait_timewait_timewait_timewait_timewait_timewait_timewait_timewait_timewait_timewait_timewait_time0:09:30wait_timewait_timewait_timewait_timewait_timewait_timewait_timewait_timewait_timewait_timewait_timewait_timewait_timewait_timewait_timewait_timewait_timewait_time0:09:15wait_timewait_timewait_time0:09:07wait_timewait_timewait_timewait_timewait_timewait_timewait_timewait_timewait_timewait_timewait_timewait_timewait_timewait_timewait_timewait_timewait_timewait_timewait_timewait_timewait_timewait_timewait_timewait_timewait_timewait_timewait_timewait_timewait_timewait_timewait_timewait_timewait_timewait_timewait_timewait_timewait_timewait_timewait_timewait_timewait_timewait_timewait_timewait_timewait_timewait_timewait_timewait_time0:08:18wait_timewait_timewait_timewait_timewait_timewait_timewait_timewait_timewait_timewait_timewait_timewait_timewait_timewait_timewait_time0:08:07wait_timewait_timewait_timewait_timewait_timewait_timewait_timewait_timewait_timewait_timewait_timewait_timewait_timewait_timewait_timewait_timewait_timewait_timewait_timewait_timewait_timewait_timewait_timewait_timewait_timewait_timewait_timewait_timewait_time0:07:43wait_timewait_timewait_timewait_timewait_timewait_timewait_timewait_timewait_timewait_timewait_time0:07:33wait_timewait_timewait_timewait_timewait_timewait_timewait_timewait_timewait_timewait_timewait_timewait_timewait_timewait_timewait_timewait_timewait_timewait_timewait_timewait_timewait_timewait_timewait_timewait_timewait_timewait_timewait_timewait_timewait_timewait_timewait_timewait_timewait_timewait_timewait_timewait_timewait_timewait_timewait_timewait_timewait_timewait_timewait_timewait_timewait_timewait_timewait_timewait_timewait_timewait_timewait_timewait_timewait_timewait_timewait_timewait_timewait_timewait_timewait_timewait_timewait_timewait_timewait_timewait_timewait_timewait_timewait_timewait_timewait_timewait_time0:06:45wait_timewait_timewait_timewait_timewait_timewait_timewait_timewait_timewait_timewait_timewait_timewait_timewait_time0:06:36wait_timewait_timewait_timewait_timewait_timewait_timewait_time0:06:29wait_timewait_timewait_timewait_timewait_timewait_timewait_timewait_timewait_timewait_timewait_timewait_timewait_timewait_time0:06:19wait_timewait_timewait_timewait_timewait_timewait_timewait_timewait_timewait_time0:06:02wait_timewait_timewait_timewait_timewait_timewait_timewait_timewait_timewait_timewait_timewait_timewait_timewait_timewait_timewait_timewait_timewait_timewait_timewait_timewait_timewait_timewait_timewait_timewait_timewait_timewait_timewait_timewait_timewait_timewait_timewait_timewait_timewait_timewait_timewait_timewait_timewait_timewait_timewait_timewait_timewait_timewait_timewait_timewait_timewait_timewait_timewait_timewait_timewait_timewait_timewait_timewait_timewait_timewait_timewait_timewait_timewait_timewait_timewait_timewait_timewait_timewait_timewait_timewait_timewait_timewait_timewait_timewait_timewait_timewait_timewait_timewait_timewait_timewait_timewait_timewait_timewait_timewait_timewait_timewait_timewait_timewait_timewait_timewait_timewait_timewait_timewait_timewait_timewait_timewait_timewait_timewait_timewait_timewait_timewait_timewait_timewait_timewait_timewait_time0:04:08wait_timewait_timewait_timewait_timewait_timewait_timewait_timewait_timewait_time0:03:54wait_timewait_timewait_timewait_timewait_timewait_timewait_timewait_timewait_timewait_timewait_timewait_timewait_timewait_timewait_timewait_timewait_timewait_timewait_timewait_timewait_timewait_timewait_timewait_timewait_timewait_timewait_timewait_timewait_time0:03:28wait_timewait_timewait_timewait_timewait_timewait_timewait_timewait_timewait_timewait_timewait_timewait_timewait_timewait_timewait_timewait_timewait_timewait_time0:02:56wait_timewait_timewait_timewait_timewait_timewait_timewait_timewait_timewait_timewait_timewait_timewait_timewait_timewait_timewait_timewait_timewait_timewait_timewait_timewait_timewait_timewait_timewait_timewait_timewait_timewait_timewait_timewait_timewait_timewait_timewait_timewait_timewait_timewait_timewait_timewait_timewait_timewait_timewait_timewait_timewait_timewait_timewait_timewait_timewait_timewait_timewait_timewait_time0:00:25'",
      "\nDuring handling of the above exception, another exception occurred:\n",
      "\u001b[0;31mValueError\u001b[0m                                Traceback (most recent call last)",
      "\u001b[0;32m//anaconda3/lib/python3.7/site-packages/pandas/core/nanops.py\u001b[0m in \u001b[0;36m_ensure_numeric\u001b[0;34m(x)\u001b[0m\n\u001b[1;32m   1166\u001b[0m             \u001b[0;32mtry\u001b[0m\u001b[0;34m:\u001b[0m\u001b[0;34m\u001b[0m\u001b[0;34m\u001b[0m\u001b[0m\n\u001b[0;32m-> 1167\u001b[0;31m                 \u001b[0mx\u001b[0m \u001b[0;34m=\u001b[0m \u001b[0mcomplex\u001b[0m\u001b[0;34m(\u001b[0m\u001b[0mx\u001b[0m\u001b[0;34m)\u001b[0m\u001b[0;34m\u001b[0m\u001b[0;34m\u001b[0m\u001b[0m\n\u001b[0m\u001b[1;32m   1168\u001b[0m             \u001b[0;32mexcept\u001b[0m \u001b[0mException\u001b[0m\u001b[0;34m:\u001b[0m\u001b[0;34m\u001b[0m\u001b[0;34m\u001b[0m\u001b[0m\n",
      "\u001b[0;31mValueError\u001b[0m: could not convert string to complex: '2:18:232:11:201:08:28wait_timewait_timewait_timewait_time0:24:21wait_time0:22:00wait_timewait_timewait_timewait_time0:19:31wait_timewait_timewait_timewait_timewait_timewait_time0:17:42wait_timewait_timewait_timewait_timewait_timewait_timewait_timewait_timewait_timewait_timewait_timewait_timewait_timewait_timewait_timewait_timewait_timewait_timewait_timewait_timewait_timewait_time0:15:37wait_time0:15:29wait_time0:15:23wait_timewait_timewait_timewait_timewait_timewait_timewait_timewait_timewait_timewait_timewait_timewait_timewait_timewait_timewait_timewait_timewait_timewait_timewait_timewait_timewait_timewait_timewait_time0:13:47wait_timewait_timewait_timewait_timewait_timewait_time0:13:33wait_timewait_timewait_timewait_time0:13:21wait_timewait_timewait_timewait_timewait_timewait_timewait_timewait_timewait_timewait_timewait_timewait_timewait_time0:12:41wait_timewait_time0:12:32wait_timewait_timewait_timewait_timewait_timewait_timewait_timewait_timewait_timewait_timewait_timewait_timewait_time0:11:58wait_timewait_timewait_timewait_timewait_timewait_timewait_timewait_timewait_time0:11:35wait_timewait_timewait_timewait_timewait_timewait_timewait_timewait_timewait_timewait_timewait_timewait_time0:11:18wait_timewait_timewait_timewait_timewait_timewait_timewait_timewait_timewait_timewait_timewait_timewait_timewait_timewait_timewait_timewait_timewait_timewait_timewait_timewait_time0:10:36wait_timewait_time0:10:32wait_timewait_timewait_timewait_timewait_timewait_timewait_timewait_timewait_timewait_time0:10:21wait_timewait_timewait_timewait_timewait_timewait_timewait_timewait_timewait_timewait_timewait_timewait_timewait_timewait_timewait_timewait_timewait_timewait_timewait_timewait_timewait_timewait_timewait_timewait_timewait_timewait_timewait_timewait_timewait_timewait_timewait_timewait_timewait_timewait_timewait_timewait_timewait_timewait_timewait_timewait_timewait_timewait_timewait_timewait_timewait_timewait_timewait_time0:09:30wait_timewait_timewait_timewait_timewait_timewait_timewait_timewait_timewait_timewait_timewait_timewait_timewait_timewait_timewait_timewait_timewait_timewait_time0:09:15wait_timewait_timewait_time0:09:07wait_timewait_timewait_timewait_timewait_timewait_timewait_timewait_timewait_timewait_timewait_timewait_timewait_timewait_timewait_timewait_timewait_timewait_timewait_timewait_timewait_timewait_timewait_timewait_timewait_timewait_timewait_timewait_timewait_timewait_timewait_timewait_timewait_timewait_timewait_timewait_timewait_timewait_timewait_timewait_timewait_timewait_timewait_timewait_timewait_timewait_timewait_timewait_time0:08:18wait_timewait_timewait_timewait_timewait_timewait_timewait_timewait_timewait_timewait_timewait_timewait_timewait_timewait_timewait_time0:08:07wait_timewait_timewait_timewait_timewait_timewait_timewait_timewait_timewait_timewait_timewait_timewait_timewait_timewait_timewait_timewait_timewait_timewait_timewait_timewait_timewait_timewait_timewait_timewait_timewait_timewait_timewait_timewait_timewait_time0:07:43wait_timewait_timewait_timewait_timewait_timewait_timewait_timewait_timewait_timewait_timewait_time0:07:33wait_timewait_timewait_timewait_timewait_timewait_timewait_timewait_timewait_timewait_timewait_timewait_timewait_timewait_timewait_timewait_timewait_timewait_timewait_timewait_timewait_timewait_timewait_timewait_timewait_timewait_timewait_timewait_timewait_timewait_timewait_timewait_timewait_timewait_timewait_timewait_timewait_timewait_timewait_timewait_timewait_timewait_timewait_timewait_timewait_timewait_timewait_timewait_timewait_timewait_timewait_timewait_timewait_timewait_timewait_timewait_timewait_timewait_timewait_timewait_timewait_timewait_timewait_timewait_timewait_timewait_timewait_timewait_timewait_timewait_time0:06:45wait_timewait_timewait_timewait_timewait_timewait_timewait_timewait_timewait_timewait_timewait_timewait_timewait_time0:06:36wait_timewait_timewait_timewait_timewait_timewait_timewait_time0:06:29wait_timewait_timewait_timewait_timewait_timewait_timewait_timewait_timewait_timewait_timewait_timewait_timewait_timewait_time0:06:19wait_timewait_timewait_timewait_timewait_timewait_timewait_timewait_timewait_time0:06:02wait_timewait_timewait_timewait_timewait_timewait_timewait_timewait_timewait_timewait_timewait_timewait_timewait_timewait_timewait_timewait_timewait_timewait_timewait_timewait_timewait_timewait_timewait_timewait_timewait_timewait_timewait_timewait_timewait_timewait_timewait_timewait_timewait_timewait_timewait_timewait_timewait_timewait_timewait_timewait_timewait_timewait_timewait_timewait_timewait_timewait_timewait_timewait_timewait_timewait_timewait_timewait_timewait_timewait_timewait_timewait_timewait_timewait_timewait_timewait_timewait_timewait_timewait_timewait_timewait_timewait_timewait_timewait_timewait_timewait_timewait_timewait_timewait_timewait_timewait_timewait_timewait_timewait_timewait_timewait_timewait_timewait_timewait_timewait_timewait_timewait_timewait_timewait_timewait_timewait_timewait_timewait_timewait_timewait_timewait_timewait_timewait_timewait_timewait_time0:04:08wait_timewait_timewait_timewait_timewait_timewait_timewait_timewait_timewait_time0:03:54wait_timewait_timewait_timewait_timewait_timewait_timewait_timewait_timewait_timewait_timewait_timewait_timewait_timewait_timewait_timewait_timewait_timewait_timewait_timewait_timewait_timewait_timewait_timewait_timewait_timewait_timewait_timewait_timewait_time0:03:28wait_timewait_timewait_timewait_timewait_timewait_timewait_timewait_timewait_timewait_timewait_timewait_timewait_timewait_timewait_timewait_timewait_timewait_time0:02:56wait_timewait_timewait_timewait_timewait_timewait_timewait_timewait_timewait_timewait_timewait_timewait_timewait_timewait_timewait_timewait_timewait_timewait_timewait_timewait_timewait_timewait_timewait_timewait_timewait_timewait_timewait_timewait_timewait_timewait_timewait_timewait_timewait_timewait_timewait_timewait_timewait_timewait_timewait_timewait_timewait_timewait_timewait_timewait_timewait_timewait_timewait_timewait_time0:00:25'",
      "\nDuring handling of the above exception, another exception occurred:\n",
      "\u001b[0;31mTypeError\u001b[0m                                 Traceback (most recent call last)",
      "\u001b[0;32m<ipython-input-152-4571feddd8f0>\u001b[0m in \u001b[0;36m<module>\u001b[0;34m\u001b[0m\n\u001b[1;32m      1\u001b[0m \u001b[0;32mimport\u001b[0m \u001b[0mpandas\u001b[0m\u001b[0;34m\u001b[0m\u001b[0;34m\u001b[0m\u001b[0m\n\u001b[1;32m      2\u001b[0m \u001b[0muber_df\u001b[0m\u001b[0;34m\u001b[0m\u001b[0;34m\u001b[0m\u001b[0m\n\u001b[0;32m----> 3\u001b[0;31m \u001b[0muber_df\u001b[0m\u001b[0;34m.\u001b[0m\u001b[0mloc\u001b[0m\u001b[0;34m[\u001b[0m\u001b[0muber_df\u001b[0m\u001b[0;34m.\u001b[0m\u001b[0mcity\u001b[0m \u001b[0;34m==\u001b[0m \u001b[0;34m\"Saint Petersburg\"\u001b[0m\u001b[0;34m,\u001b[0m \u001b[0muber_df\u001b[0m\u001b[0;34m[\u001b[0m\u001b[0;34m'wait_time'\u001b[0m\u001b[0;34m]\u001b[0m\u001b[0;34m.\u001b[0m\u001b[0mmean\u001b[0m\u001b[0;34m(\u001b[0m\u001b[0;34m)\u001b[0m\u001b[0;34m]\u001b[0m \u001b[0;34m=\u001b[0m \u001b[0;34m\"wait_time\"\u001b[0m\u001b[0;34m\u001b[0m\u001b[0;34m\u001b[0m\u001b[0m\n\u001b[0m\u001b[1;32m      4\u001b[0m \u001b[0muber_df\u001b[0m\u001b[0;34m\u001b[0m\u001b[0;34m\u001b[0m\u001b[0m\n\u001b[1;32m      5\u001b[0m \u001b[0;34m\u001b[0m\u001b[0m\n",
      "\u001b[0;32m//anaconda3/lib/python3.7/site-packages/pandas/core/generic.py\u001b[0m in \u001b[0;36mstat_func\u001b[0;34m(self, axis, skipna, level, numeric_only, **kwargs)\u001b[0m\n\u001b[1;32m  10954\u001b[0m                                       skipna=skipna)\n\u001b[1;32m  10955\u001b[0m         return self._reduce(f, name, axis=axis, skipna=skipna,\n\u001b[0;32m> 10956\u001b[0;31m                             numeric_only=numeric_only)\n\u001b[0m\u001b[1;32m  10957\u001b[0m \u001b[0;34m\u001b[0m\u001b[0m\n\u001b[1;32m  10958\u001b[0m     \u001b[0;32mreturn\u001b[0m \u001b[0mset_function_name\u001b[0m\u001b[0;34m(\u001b[0m\u001b[0mstat_func\u001b[0m\u001b[0;34m,\u001b[0m \u001b[0mname\u001b[0m\u001b[0;34m,\u001b[0m \u001b[0mcls\u001b[0m\u001b[0;34m)\u001b[0m\u001b[0;34m\u001b[0m\u001b[0;34m\u001b[0m\u001b[0m\n",
      "\u001b[0;32m//anaconda3/lib/python3.7/site-packages/pandas/core/series.py\u001b[0m in \u001b[0;36m_reduce\u001b[0;34m(self, op, name, axis, skipna, numeric_only, filter_type, **kwds)\u001b[0m\n\u001b[1;32m   3628\u001b[0m                                           'numeric_only.'.format(name))\n\u001b[1;32m   3629\u001b[0m             \u001b[0;32mwith\u001b[0m \u001b[0mnp\u001b[0m\u001b[0;34m.\u001b[0m\u001b[0merrstate\u001b[0m\u001b[0;34m(\u001b[0m\u001b[0mall\u001b[0m\u001b[0;34m=\u001b[0m\u001b[0;34m'ignore'\u001b[0m\u001b[0;34m)\u001b[0m\u001b[0;34m:\u001b[0m\u001b[0;34m\u001b[0m\u001b[0;34m\u001b[0m\u001b[0m\n\u001b[0;32m-> 3630\u001b[0;31m                 \u001b[0;32mreturn\u001b[0m \u001b[0mop\u001b[0m\u001b[0;34m(\u001b[0m\u001b[0mdelegate\u001b[0m\u001b[0;34m,\u001b[0m \u001b[0mskipna\u001b[0m\u001b[0;34m=\u001b[0m\u001b[0mskipna\u001b[0m\u001b[0;34m,\u001b[0m \u001b[0;34m**\u001b[0m\u001b[0mkwds\u001b[0m\u001b[0;34m)\u001b[0m\u001b[0;34m\u001b[0m\u001b[0;34m\u001b[0m\u001b[0m\n\u001b[0m\u001b[1;32m   3631\u001b[0m \u001b[0;34m\u001b[0m\u001b[0m\n\u001b[1;32m   3632\u001b[0m         \u001b[0;31m# TODO(EA) dispatch to Index\u001b[0m\u001b[0;34m\u001b[0m\u001b[0;34m\u001b[0m\u001b[0;34m\u001b[0m\u001b[0m\n",
      "\u001b[0;32m//anaconda3/lib/python3.7/site-packages/pandas/core/nanops.py\u001b[0m in \u001b[0;36m_f\u001b[0;34m(*args, **kwargs)\u001b[0m\n\u001b[1;32m     74\u001b[0m             \u001b[0;32mtry\u001b[0m\u001b[0;34m:\u001b[0m\u001b[0;34m\u001b[0m\u001b[0;34m\u001b[0m\u001b[0m\n\u001b[1;32m     75\u001b[0m                 \u001b[0;32mwith\u001b[0m \u001b[0mnp\u001b[0m\u001b[0;34m.\u001b[0m\u001b[0merrstate\u001b[0m\u001b[0;34m(\u001b[0m\u001b[0minvalid\u001b[0m\u001b[0;34m=\u001b[0m\u001b[0;34m'ignore'\u001b[0m\u001b[0;34m)\u001b[0m\u001b[0;34m:\u001b[0m\u001b[0;34m\u001b[0m\u001b[0;34m\u001b[0m\u001b[0m\n\u001b[0;32m---> 76\u001b[0;31m                     \u001b[0;32mreturn\u001b[0m \u001b[0mf\u001b[0m\u001b[0;34m(\u001b[0m\u001b[0;34m*\u001b[0m\u001b[0margs\u001b[0m\u001b[0;34m,\u001b[0m \u001b[0;34m**\u001b[0m\u001b[0mkwargs\u001b[0m\u001b[0;34m)\u001b[0m\u001b[0;34m\u001b[0m\u001b[0;34m\u001b[0m\u001b[0m\n\u001b[0m\u001b[1;32m     77\u001b[0m             \u001b[0;32mexcept\u001b[0m \u001b[0mValueError\u001b[0m \u001b[0;32mas\u001b[0m \u001b[0me\u001b[0m\u001b[0;34m:\u001b[0m\u001b[0;34m\u001b[0m\u001b[0;34m\u001b[0m\u001b[0m\n\u001b[1;32m     78\u001b[0m                 \u001b[0;31m# we want to transform an object array\u001b[0m\u001b[0;34m\u001b[0m\u001b[0;34m\u001b[0m\u001b[0;34m\u001b[0m\u001b[0m\n",
      "\u001b[0;32m//anaconda3/lib/python3.7/site-packages/pandas/core/nanops.py\u001b[0m in \u001b[0;36mf\u001b[0;34m(values, axis, skipna, **kwds)\u001b[0m\n\u001b[1;32m    128\u001b[0m             \u001b[0;32mexcept\u001b[0m \u001b[0mException\u001b[0m\u001b[0;34m:\u001b[0m\u001b[0;34m\u001b[0m\u001b[0;34m\u001b[0m\u001b[0m\n\u001b[1;32m    129\u001b[0m                 \u001b[0;32mtry\u001b[0m\u001b[0;34m:\u001b[0m\u001b[0;34m\u001b[0m\u001b[0;34m\u001b[0m\u001b[0m\n\u001b[0;32m--> 130\u001b[0;31m                     \u001b[0mresult\u001b[0m \u001b[0;34m=\u001b[0m \u001b[0malt\u001b[0m\u001b[0;34m(\u001b[0m\u001b[0mvalues\u001b[0m\u001b[0;34m,\u001b[0m \u001b[0maxis\u001b[0m\u001b[0;34m=\u001b[0m\u001b[0maxis\u001b[0m\u001b[0;34m,\u001b[0m \u001b[0mskipna\u001b[0m\u001b[0;34m=\u001b[0m\u001b[0mskipna\u001b[0m\u001b[0;34m,\u001b[0m \u001b[0;34m**\u001b[0m\u001b[0mkwds\u001b[0m\u001b[0;34m)\u001b[0m\u001b[0;34m\u001b[0m\u001b[0;34m\u001b[0m\u001b[0m\n\u001b[0m\u001b[1;32m    131\u001b[0m                 \u001b[0;32mexcept\u001b[0m \u001b[0mValueError\u001b[0m \u001b[0;32mas\u001b[0m \u001b[0me\u001b[0m\u001b[0;34m:\u001b[0m\u001b[0;34m\u001b[0m\u001b[0;34m\u001b[0m\u001b[0m\n\u001b[1;32m    132\u001b[0m                     \u001b[0;31m# we want to transform an object array\u001b[0m\u001b[0;34m\u001b[0m\u001b[0;34m\u001b[0m\u001b[0;34m\u001b[0m\u001b[0m\n",
      "\u001b[0;32m//anaconda3/lib/python3.7/site-packages/pandas/core/nanops.py\u001b[0m in \u001b[0;36mnanmean\u001b[0;34m(values, axis, skipna, mask)\u001b[0m\n\u001b[1;32m    477\u001b[0m         \u001b[0mdtype_count\u001b[0m \u001b[0;34m=\u001b[0m \u001b[0mdtype\u001b[0m\u001b[0;34m\u001b[0m\u001b[0;34m\u001b[0m\u001b[0m\n\u001b[1;32m    478\u001b[0m     \u001b[0mcount\u001b[0m \u001b[0;34m=\u001b[0m \u001b[0m_get_counts\u001b[0m\u001b[0;34m(\u001b[0m\u001b[0mmask\u001b[0m\u001b[0;34m,\u001b[0m \u001b[0maxis\u001b[0m\u001b[0;34m,\u001b[0m \u001b[0mdtype\u001b[0m\u001b[0;34m=\u001b[0m\u001b[0mdtype_count\u001b[0m\u001b[0;34m)\u001b[0m\u001b[0;34m\u001b[0m\u001b[0;34m\u001b[0m\u001b[0m\n\u001b[0;32m--> 479\u001b[0;31m     \u001b[0mthe_sum\u001b[0m \u001b[0;34m=\u001b[0m \u001b[0m_ensure_numeric\u001b[0m\u001b[0;34m(\u001b[0m\u001b[0mvalues\u001b[0m\u001b[0;34m.\u001b[0m\u001b[0msum\u001b[0m\u001b[0;34m(\u001b[0m\u001b[0maxis\u001b[0m\u001b[0;34m,\u001b[0m \u001b[0mdtype\u001b[0m\u001b[0;34m=\u001b[0m\u001b[0mdtype_sum\u001b[0m\u001b[0;34m)\u001b[0m\u001b[0;34m)\u001b[0m\u001b[0;34m\u001b[0m\u001b[0;34m\u001b[0m\u001b[0m\n\u001b[0m\u001b[1;32m    480\u001b[0m \u001b[0;34m\u001b[0m\u001b[0m\n\u001b[1;32m    481\u001b[0m     \u001b[0;32mif\u001b[0m \u001b[0maxis\u001b[0m \u001b[0;32mis\u001b[0m \u001b[0;32mnot\u001b[0m \u001b[0;32mNone\u001b[0m \u001b[0;32mand\u001b[0m \u001b[0mgetattr\u001b[0m\u001b[0;34m(\u001b[0m\u001b[0mthe_sum\u001b[0m\u001b[0;34m,\u001b[0m \u001b[0;34m'ndim'\u001b[0m\u001b[0;34m,\u001b[0m \u001b[0;32mFalse\u001b[0m\u001b[0;34m)\u001b[0m\u001b[0;34m:\u001b[0m\u001b[0;34m\u001b[0m\u001b[0;34m\u001b[0m\u001b[0m\n",
      "\u001b[0;32m//anaconda3/lib/python3.7/site-packages/pandas/core/nanops.py\u001b[0m in \u001b[0;36m_ensure_numeric\u001b[0;34m(x)\u001b[0m\n\u001b[1;32m   1168\u001b[0m             \u001b[0;32mexcept\u001b[0m \u001b[0mException\u001b[0m\u001b[0;34m:\u001b[0m\u001b[0;34m\u001b[0m\u001b[0;34m\u001b[0m\u001b[0m\n\u001b[1;32m   1169\u001b[0m                 raise TypeError('Could not convert {value!s} to numeric'\n\u001b[0;32m-> 1170\u001b[0;31m                                 .format(value=x))\n\u001b[0m\u001b[1;32m   1171\u001b[0m     \u001b[0;32mreturn\u001b[0m \u001b[0mx\u001b[0m\u001b[0;34m\u001b[0m\u001b[0;34m\u001b[0m\u001b[0m\n\u001b[1;32m   1172\u001b[0m \u001b[0;34m\u001b[0m\u001b[0m\n",
      "\u001b[0;31mTypeError\u001b[0m: Could not convert 2:18:232:11:201:08:28wait_timewait_timewait_timewait_time0:24:21wait_time0:22:00wait_timewait_timewait_timewait_time0:19:31wait_timewait_timewait_timewait_timewait_timewait_time0:17:42wait_timewait_timewait_timewait_timewait_timewait_timewait_timewait_timewait_timewait_timewait_timewait_timewait_timewait_timewait_timewait_timewait_timewait_timewait_timewait_timewait_timewait_time0:15:37wait_time0:15:29wait_time0:15:23wait_timewait_timewait_timewait_timewait_timewait_timewait_timewait_timewait_timewait_timewait_timewait_timewait_timewait_timewait_timewait_timewait_timewait_timewait_timewait_timewait_timewait_timewait_time0:13:47wait_timewait_timewait_timewait_timewait_timewait_time0:13:33wait_timewait_timewait_timewait_time0:13:21wait_timewait_timewait_timewait_timewait_timewait_timewait_timewait_timewait_timewait_timewait_timewait_timewait_time0:12:41wait_timewait_time0:12:32wait_timewait_timewait_timewait_timewait_timewait_timewait_timewait_timewait_timewait_timewait_timewait_timewait_time0:11:58wait_timewait_timewait_timewait_timewait_timewait_timewait_timewait_timewait_time0:11:35wait_timewait_timewait_timewait_timewait_timewait_timewait_timewait_timewait_timewait_timewait_timewait_time0:11:18wait_timewait_timewait_timewait_timewait_timewait_timewait_timewait_timewait_timewait_timewait_timewait_timewait_timewait_timewait_timewait_timewait_timewait_timewait_timewait_time0:10:36wait_timewait_time0:10:32wait_timewait_timewait_timewait_timewait_timewait_timewait_timewait_timewait_timewait_time0:10:21wait_timewait_timewait_timewait_timewait_timewait_timewait_timewait_timewait_timewait_timewait_timewait_timewait_timewait_timewait_timewait_timewait_timewait_timewait_timewait_timewait_timewait_timewait_timewait_timewait_timewait_timewait_timewait_timewait_timewait_timewait_timewait_timewait_timewait_timewait_timewait_timewait_timewait_timewait_timewait_timewait_timewait_timewait_timewait_timewait_timewait_timewait_time0:09:30wait_timewait_timewait_timewait_timewait_timewait_timewait_timewait_timewait_timewait_timewait_timewait_timewait_timewait_timewait_timewait_timewait_timewait_time0:09:15wait_timewait_timewait_time0:09:07wait_timewait_timewait_timewait_timewait_timewait_timewait_timewait_timewait_timewait_timewait_timewait_timewait_timewait_timewait_timewait_timewait_timewait_timewait_timewait_timewait_timewait_timewait_timewait_timewait_timewait_timewait_timewait_timewait_timewait_timewait_timewait_timewait_timewait_timewait_timewait_timewait_timewait_timewait_timewait_timewait_timewait_timewait_timewait_timewait_timewait_timewait_timewait_time0:08:18wait_timewait_timewait_timewait_timewait_timewait_timewait_timewait_timewait_timewait_timewait_timewait_timewait_timewait_timewait_time0:08:07wait_timewait_timewait_timewait_timewait_timewait_timewait_timewait_timewait_timewait_timewait_timewait_timewait_timewait_timewait_timewait_timewait_timewait_timewait_timewait_timewait_timewait_timewait_timewait_timewait_timewait_timewait_timewait_timewait_time0:07:43wait_timewait_timewait_timewait_timewait_timewait_timewait_timewait_timewait_timewait_timewait_time0:07:33wait_timewait_timewait_timewait_timewait_timewait_timewait_timewait_timewait_timewait_timewait_timewait_timewait_timewait_timewait_timewait_timewait_timewait_timewait_timewait_timewait_timewait_timewait_timewait_timewait_timewait_timewait_timewait_timewait_timewait_timewait_timewait_timewait_timewait_timewait_timewait_timewait_timewait_timewait_timewait_timewait_timewait_timewait_timewait_timewait_timewait_timewait_timewait_timewait_timewait_timewait_timewait_timewait_timewait_timewait_timewait_timewait_timewait_timewait_timewait_timewait_timewait_timewait_timewait_timewait_timewait_timewait_timewait_timewait_timewait_time0:06:45wait_timewait_timewait_timewait_timewait_timewait_timewait_timewait_timewait_timewait_timewait_timewait_timewait_time0:06:36wait_timewait_timewait_timewait_timewait_timewait_timewait_time0:06:29wait_timewait_timewait_timewait_timewait_timewait_timewait_timewait_timewait_timewait_timewait_timewait_timewait_timewait_time0:06:19wait_timewait_timewait_timewait_timewait_timewait_timewait_timewait_timewait_time0:06:02wait_timewait_timewait_timewait_timewait_timewait_timewait_timewait_timewait_timewait_timewait_timewait_timewait_timewait_timewait_timewait_timewait_timewait_timewait_timewait_timewait_timewait_timewait_timewait_timewait_timewait_timewait_timewait_timewait_timewait_timewait_timewait_timewait_timewait_timewait_timewait_timewait_timewait_timewait_timewait_timewait_timewait_timewait_timewait_timewait_timewait_timewait_timewait_timewait_timewait_timewait_timewait_timewait_timewait_timewait_timewait_timewait_timewait_timewait_timewait_timewait_timewait_timewait_timewait_timewait_timewait_timewait_timewait_timewait_timewait_timewait_timewait_timewait_timewait_timewait_timewait_timewait_timewait_timewait_timewait_timewait_timewait_timewait_timewait_timewait_timewait_timewait_timewait_timewait_timewait_timewait_timewait_timewait_timewait_timewait_timewait_timewait_timewait_timewait_time0:04:08wait_timewait_timewait_timewait_timewait_timewait_timewait_timewait_timewait_time0:03:54wait_timewait_timewait_timewait_timewait_timewait_timewait_timewait_timewait_timewait_timewait_timewait_timewait_timewait_timewait_timewait_timewait_timewait_timewait_timewait_timewait_timewait_timewait_timewait_timewait_timewait_timewait_timewait_timewait_time0:03:28wait_timewait_timewait_timewait_timewait_timewait_timewait_timewait_timewait_timewait_timewait_timewait_timewait_timewait_timewait_timewait_timewait_timewait_time0:02:56wait_timewait_timewait_timewait_timewait_timewait_timewait_timewait_timewait_timewait_timewait_timewait_timewait_timewait_timewait_timewait_timewait_timewait_timewait_timewait_timewait_timewait_timewait_timewait_timewait_timewait_timewait_timewait_timewait_timewait_timewait_timewait_timewait_timewait_timewait_timewait_timewait_timewait_timewait_timewait_timewait_timewait_timewait_timewait_timewait_timewait_timewait_timewait_time0:00:25 to numeric"
     ]
    }
   ],
   "source": [
    "import pandas\n",
    "uber_df\n",
    "uber_df.loc[uber_df.city == \"Saint Petersburg\", uber_df['wait_time'].mean()] = \"wait_time\"\n",
    "uber_df\n",
    "\n",
    "\n",
    "#ubeuber_dfr_df.loc[uber_df.ID == 103, 'LastName'] = \"Jones\"\n",
    "\n"
   ]
  },
  {
   "cell_type": "code",
   "execution_count": 63,
   "metadata": {},
   "outputs": [
    {
     "ename": "TypeError",
     "evalue": "('<lambda>() takes 0 positional arguments but 1 was given', 'occurred at index trip_completed_at')",
     "output_type": "error",
     "traceback": [
      "\u001b[0;31m---------------------------------------------------------------------------\u001b[0m",
      "\u001b[0;31mTypeError\u001b[0m                                 Traceback (most recent call last)",
      "\u001b[0;32m<ipython-input-63-bbf25260b53b>\u001b[0m in \u001b[0;36m<module>\u001b[0;34m\u001b[0m\n\u001b[1;32m      1\u001b[0m \u001b[0;31m#df.apply(lambda row: row.a + row.b, axis=1)\u001b[0m\u001b[0;34m\u001b[0m\u001b[0;34m\u001b[0m\u001b[0;34m\u001b[0m\u001b[0m\n\u001b[1;32m      2\u001b[0m \u001b[0;34m\u001b[0m\u001b[0m\n\u001b[0;32m----> 3\u001b[0;31m \u001b[0muber_df\u001b[0m\u001b[0;34m.\u001b[0m\u001b[0mapply\u001b[0m\u001b[0;34m(\u001b[0m\u001b[0;32mlambda\u001b[0m\u001b[0;34m:\u001b[0m \u001b[0muber_df\u001b[0m\u001b[0;34m[\u001b[0m\u001b[0;34m'city'\u001b[0m\u001b[0;34m]\u001b[0m \u001b[0;34m+\u001b[0m \u001b[0muber_df\u001b[0m\u001b[0;34m[\u001b[0m\u001b[0;34m'city'\u001b[0m\u001b[0;34m]\u001b[0m\u001b[0;34m>\u001b[0m\u001b[0;36m5\u001b[0m\u001b[0;34m,\u001b[0m \u001b[0maxis\u001b[0m\u001b[0;34m=\u001b[0m\u001b[0;36m0\u001b[0m\u001b[0;34m)\u001b[0m \u001b[0;31m#.apply(lambda line:  str(line.year))\u001b[0m\u001b[0;34m\u001b[0m\u001b[0;34m\u001b[0m\u001b[0m\n\u001b[0m\u001b[1;32m      4\u001b[0m \u001b[0;31m#trip_dates_df['Month'] = trip_dates_df['Trip Date'].apply(lambda line:  str(line.month))\u001b[0m\u001b[0;34m\u001b[0m\u001b[0;34m\u001b[0m\u001b[0;34m\u001b[0m\u001b[0m\n",
      "\u001b[0;32m//anaconda3/lib/python3.7/site-packages/pandas/core/frame.py\u001b[0m in \u001b[0;36mapply\u001b[0;34m(self, func, axis, broadcast, raw, reduce, result_type, args, **kwds)\u001b[0m\n\u001b[1;32m   6485\u001b[0m                          \u001b[0margs\u001b[0m\u001b[0;34m=\u001b[0m\u001b[0margs\u001b[0m\u001b[0;34m,\u001b[0m\u001b[0;34m\u001b[0m\u001b[0;34m\u001b[0m\u001b[0m\n\u001b[1;32m   6486\u001b[0m                          kwds=kwds)\n\u001b[0;32m-> 6487\u001b[0;31m         \u001b[0;32mreturn\u001b[0m \u001b[0mop\u001b[0m\u001b[0;34m.\u001b[0m\u001b[0mget_result\u001b[0m\u001b[0;34m(\u001b[0m\u001b[0;34m)\u001b[0m\u001b[0;34m\u001b[0m\u001b[0;34m\u001b[0m\u001b[0m\n\u001b[0m\u001b[1;32m   6488\u001b[0m \u001b[0;34m\u001b[0m\u001b[0m\n\u001b[1;32m   6489\u001b[0m     \u001b[0;32mdef\u001b[0m \u001b[0mapplymap\u001b[0m\u001b[0;34m(\u001b[0m\u001b[0mself\u001b[0m\u001b[0;34m,\u001b[0m \u001b[0mfunc\u001b[0m\u001b[0;34m)\u001b[0m\u001b[0;34m:\u001b[0m\u001b[0;34m\u001b[0m\u001b[0;34m\u001b[0m\u001b[0m\n",
      "\u001b[0;32m//anaconda3/lib/python3.7/site-packages/pandas/core/apply.py\u001b[0m in \u001b[0;36mget_result\u001b[0;34m(self)\u001b[0m\n\u001b[1;32m    149\u001b[0m             \u001b[0;32mreturn\u001b[0m \u001b[0mself\u001b[0m\u001b[0;34m.\u001b[0m\u001b[0mapply_raw\u001b[0m\u001b[0;34m(\u001b[0m\u001b[0;34m)\u001b[0m\u001b[0;34m\u001b[0m\u001b[0;34m\u001b[0m\u001b[0m\n\u001b[1;32m    150\u001b[0m \u001b[0;34m\u001b[0m\u001b[0m\n\u001b[0;32m--> 151\u001b[0;31m         \u001b[0;32mreturn\u001b[0m \u001b[0mself\u001b[0m\u001b[0;34m.\u001b[0m\u001b[0mapply_standard\u001b[0m\u001b[0;34m(\u001b[0m\u001b[0;34m)\u001b[0m\u001b[0;34m\u001b[0m\u001b[0;34m\u001b[0m\u001b[0m\n\u001b[0m\u001b[1;32m    152\u001b[0m \u001b[0;34m\u001b[0m\u001b[0m\n\u001b[1;32m    153\u001b[0m     \u001b[0;32mdef\u001b[0m \u001b[0mapply_empty_result\u001b[0m\u001b[0;34m(\u001b[0m\u001b[0mself\u001b[0m\u001b[0;34m)\u001b[0m\u001b[0;34m:\u001b[0m\u001b[0;34m\u001b[0m\u001b[0;34m\u001b[0m\u001b[0m\n",
      "\u001b[0;32m//anaconda3/lib/python3.7/site-packages/pandas/core/apply.py\u001b[0m in \u001b[0;36mapply_standard\u001b[0;34m(self)\u001b[0m\n\u001b[1;32m    255\u001b[0m \u001b[0;34m\u001b[0m\u001b[0m\n\u001b[1;32m    256\u001b[0m         \u001b[0;31m# compute the result using the series generator\u001b[0m\u001b[0;34m\u001b[0m\u001b[0;34m\u001b[0m\u001b[0;34m\u001b[0m\u001b[0m\n\u001b[0;32m--> 257\u001b[0;31m         \u001b[0mself\u001b[0m\u001b[0;34m.\u001b[0m\u001b[0mapply_series_generator\u001b[0m\u001b[0;34m(\u001b[0m\u001b[0;34m)\u001b[0m\u001b[0;34m\u001b[0m\u001b[0;34m\u001b[0m\u001b[0m\n\u001b[0m\u001b[1;32m    258\u001b[0m \u001b[0;34m\u001b[0m\u001b[0m\n\u001b[1;32m    259\u001b[0m         \u001b[0;31m# wrap results\u001b[0m\u001b[0;34m\u001b[0m\u001b[0;34m\u001b[0m\u001b[0;34m\u001b[0m\u001b[0m\n",
      "\u001b[0;32m//anaconda3/lib/python3.7/site-packages/pandas/core/apply.py\u001b[0m in \u001b[0;36mapply_series_generator\u001b[0;34m(self)\u001b[0m\n\u001b[1;32m    284\u001b[0m             \u001b[0;32mtry\u001b[0m\u001b[0;34m:\u001b[0m\u001b[0;34m\u001b[0m\u001b[0;34m\u001b[0m\u001b[0m\n\u001b[1;32m    285\u001b[0m                 \u001b[0;32mfor\u001b[0m \u001b[0mi\u001b[0m\u001b[0;34m,\u001b[0m \u001b[0mv\u001b[0m \u001b[0;32min\u001b[0m \u001b[0menumerate\u001b[0m\u001b[0;34m(\u001b[0m\u001b[0mseries_gen\u001b[0m\u001b[0;34m)\u001b[0m\u001b[0;34m:\u001b[0m\u001b[0;34m\u001b[0m\u001b[0;34m\u001b[0m\u001b[0m\n\u001b[0;32m--> 286\u001b[0;31m                     \u001b[0mresults\u001b[0m\u001b[0;34m[\u001b[0m\u001b[0mi\u001b[0m\u001b[0;34m]\u001b[0m \u001b[0;34m=\u001b[0m \u001b[0mself\u001b[0m\u001b[0;34m.\u001b[0m\u001b[0mf\u001b[0m\u001b[0;34m(\u001b[0m\u001b[0mv\u001b[0m\u001b[0;34m)\u001b[0m\u001b[0;34m\u001b[0m\u001b[0;34m\u001b[0m\u001b[0m\n\u001b[0m\u001b[1;32m    287\u001b[0m                     \u001b[0mkeys\u001b[0m\u001b[0;34m.\u001b[0m\u001b[0mappend\u001b[0m\u001b[0;34m(\u001b[0m\u001b[0mv\u001b[0m\u001b[0;34m.\u001b[0m\u001b[0mname\u001b[0m\u001b[0;34m)\u001b[0m\u001b[0;34m\u001b[0m\u001b[0;34m\u001b[0m\u001b[0m\n\u001b[1;32m    288\u001b[0m             \u001b[0;32mexcept\u001b[0m \u001b[0mException\u001b[0m \u001b[0;32mas\u001b[0m \u001b[0me\u001b[0m\u001b[0;34m:\u001b[0m\u001b[0;34m\u001b[0m\u001b[0;34m\u001b[0m\u001b[0m\n",
      "\u001b[0;31mTypeError\u001b[0m: ('<lambda>() takes 0 positional arguments but 1 was given', 'occurred at index trip_completed_at')"
     ]
    }
   ],
   "source": [
    "#df.apply(lambda row: row.a + row.b, axis=1) \n",
    "\n",
    "uber_df.apply(lambda: uber_df['city'] + uber_df['city']>5, axis=0) #.apply(lambda line:  str(line.year))\n",
    "#trip_dates_df['Month'] = trip_dates_df['Trip Date'].apply(lambda line:  str(line.month))"
   ]
  },
  {
   "cell_type": "code",
   "execution_count": null,
   "metadata": {},
   "outputs": [],
   "source": []
  },
  {
   "cell_type": "code",
   "execution_count": 21,
   "metadata": {},
   "outputs": [],
   "source": [
    "#### 4) START TIME 'trip_start_time' not sure #####"
   ]
  },
  {
   "cell_type": "code",
   "execution_count": 22,
   "metadata": {},
   "outputs": [
    {
     "ename": "SyntaxError",
     "evalue": "invalid syntax (<ipython-input-22-2e81c37cfd13>, line 1)",
     "output_type": "error",
     "traceback": [
      "\u001b[0;36m  File \u001b[0;32m\"<ipython-input-22-2e81c37cfd13>\"\u001b[0;36m, line \u001b[0;32m1\u001b[0m\n\u001b[0;31m    percent_wait =\u001b[0m\n\u001b[0m                   ^\u001b[0m\n\u001b[0;31mSyntaxError\u001b[0m\u001b[0;31m:\u001b[0m invalid syntax\n"
     ]
    }
   ],
   "source": [
    "percent_wait = "
   ]
  },
  {
   "cell_type": "code",
   "execution_count": 25,
   "metadata": {},
   "outputs": [
    {
     "ename": "AttributeError",
     "evalue": "'Series' object has no attribute 'len'",
     "output_type": "error",
     "traceback": [
      "\u001b[0;31m---------------------------------------------------------------------------\u001b[0m",
      "\u001b[0;31mAttributeError\u001b[0m                            Traceback (most recent call last)",
      "\u001b[0;32m<ipython-input-25-dc448897f3df>\u001b[0m in \u001b[0;36m<module>\u001b[0;34m\u001b[0m\n\u001b[1;32m      3\u001b[0m \u001b[0;34m\u001b[0m\u001b[0m\n\u001b[1;32m      4\u001b[0m \u001b[0;34m\u001b[0m\u001b[0m\n\u001b[0;32m----> 5\u001b[0;31m \u001b[0mstart_time_lst\u001b[0m \u001b[0;34m=\u001b[0m \u001b[0muber_df\u001b[0m\u001b[0;34m[\u001b[0m\u001b[0;34m'trip_start_time'\u001b[0m\u001b[0;34m]\u001b[0m\u001b[0;34m.\u001b[0m\u001b[0mlen\u001b[0m\u001b[0;34m(\u001b[0m\u001b[0;34m)\u001b[0m\u001b[0;34m\u001b[0m\u001b[0;34m\u001b[0m\u001b[0m\n\u001b[0m\u001b[1;32m      6\u001b[0m \u001b[0mstart_time_lst\u001b[0m\u001b[0;34m\u001b[0m\u001b[0;34m\u001b[0m\u001b[0m\n\u001b[1;32m      7\u001b[0m \u001b[0;34m\u001b[0m\u001b[0m\n",
      "\u001b[0;32m//anaconda3/lib/python3.7/site-packages/pandas/core/generic.py\u001b[0m in \u001b[0;36m__getattr__\u001b[0;34m(self, name)\u001b[0m\n\u001b[1;32m   5065\u001b[0m             \u001b[0;32mif\u001b[0m \u001b[0mself\u001b[0m\u001b[0;34m.\u001b[0m\u001b[0m_info_axis\u001b[0m\u001b[0;34m.\u001b[0m\u001b[0m_can_hold_identifiers_and_holds_name\u001b[0m\u001b[0;34m(\u001b[0m\u001b[0mname\u001b[0m\u001b[0;34m)\u001b[0m\u001b[0;34m:\u001b[0m\u001b[0;34m\u001b[0m\u001b[0;34m\u001b[0m\u001b[0m\n\u001b[1;32m   5066\u001b[0m                 \u001b[0;32mreturn\u001b[0m \u001b[0mself\u001b[0m\u001b[0;34m[\u001b[0m\u001b[0mname\u001b[0m\u001b[0;34m]\u001b[0m\u001b[0;34m\u001b[0m\u001b[0;34m\u001b[0m\u001b[0m\n\u001b[0;32m-> 5067\u001b[0;31m             \u001b[0;32mreturn\u001b[0m \u001b[0mobject\u001b[0m\u001b[0;34m.\u001b[0m\u001b[0m__getattribute__\u001b[0m\u001b[0;34m(\u001b[0m\u001b[0mself\u001b[0m\u001b[0;34m,\u001b[0m \u001b[0mname\u001b[0m\u001b[0;34m)\u001b[0m\u001b[0;34m\u001b[0m\u001b[0;34m\u001b[0m\u001b[0m\n\u001b[0m\u001b[1;32m   5068\u001b[0m \u001b[0;34m\u001b[0m\u001b[0m\n\u001b[1;32m   5069\u001b[0m     \u001b[0;32mdef\u001b[0m \u001b[0m__setattr__\u001b[0m\u001b[0;34m(\u001b[0m\u001b[0mself\u001b[0m\u001b[0;34m,\u001b[0m \u001b[0mname\u001b[0m\u001b[0;34m,\u001b[0m \u001b[0mvalue\u001b[0m\u001b[0;34m)\u001b[0m\u001b[0;34m:\u001b[0m\u001b[0;34m\u001b[0m\u001b[0;34m\u001b[0m\u001b[0m\n",
      "\u001b[0;31mAttributeError\u001b[0m: 'Series' object has no attribute 'len'"
     ]
    }
   ],
   "source": [
    "# Find time of the day the trip started 'trip_start_time'\n",
    "#start_time = uber_df['trip_start_time']\n",
    "\n",
    "\n",
    "start_time_lst = uber_df['trip_start_time'].len()\n",
    "start_time_lst\n",
    "\n",
    "# Find average time of the day 'trip_start_time'\n",
    "#avg_start = start_time_lst.mean()\n",
    "#avg_start\n",
    "\n",
    "# Find correlation between time of the day and gender 'trip_start_time'"
   ]
  },
  {
   "cell_type": "code",
   "execution_count": 89,
   "metadata": {},
   "outputs": [
    {
     "data": {
      "text/html": [
       "<div>\n",
       "<style scoped>\n",
       "    .dataframe tbody tr th:only-of-type {\n",
       "        vertical-align: middle;\n",
       "    }\n",
       "\n",
       "    .dataframe tbody tr th {\n",
       "        vertical-align: top;\n",
       "    }\n",
       "\n",
       "    .dataframe thead th {\n",
       "        text-align: right;\n",
       "    }\n",
       "</style>\n",
       "<table border=\"1\" class=\"dataframe\">\n",
       "  <thead>\n",
       "    <tr style=\"text-align: right;\">\n",
       "      <th></th>\n",
       "      <th>index</th>\n",
       "      <th>trip_status</th>\n",
       "      <th>index</th>\n",
       "      <th>trip_status</th>\n",
       "    </tr>\n",
       "    <tr>\n",
       "      <th>trip_status</th>\n",
       "      <th></th>\n",
       "      <th></th>\n",
       "      <th></th>\n",
       "      <th></th>\n",
       "    </tr>\n",
       "  </thead>\n",
       "  <tbody>\n",
       "    <tr>\n",
       "      <th>False</th>\n",
       "      <td>False</td>\n",
       "      <td>False</td>\n",
       "      <td>False</td>\n",
       "      <td>False</td>\n",
       "    </tr>\n",
       "    <tr>\n",
       "      <th>True</th>\n",
       "      <td>False</td>\n",
       "      <td>False</td>\n",
       "      <td>False</td>\n",
       "      <td>False</td>\n",
       "    </tr>\n",
       "  </tbody>\n",
       "</table>\n",
       "</div>"
      ],
      "text/plain": [
       "             index  trip_status  index  trip_status\n",
       "trip_status                                        \n",
       "False        False        False  False        False\n",
       "True         False        False  False        False"
      ]
     },
     "execution_count": 89,
     "metadata": {},
     "output_type": "execute_result"
    }
   ],
   "source": [
    "# Find number of cancelled trips 'trip_status' \n",
    "status_trip = uber_df['trip_status']\n",
    "status_trip\n",
    "\n",
    "\n",
    "status_trip_df = pd.DataFrame(status_trip).reset_index()\n",
    "status_trip_df\n",
    "\n",
    "#df = pd.DataFrame({\"Years\": years, \"Wait time\": wait_df })\n",
    "#df = pd.to_datetime(df)\n",
    "\n",
    "cancel = status_trip_df.groupby(status_trip == 'Cancelled').count()\n",
    "cancel\n",
    "\n",
    "trip_complete = cancel == 'False'\n",
    "trip_complete\n",
    "trip_cancelled = cancel == 'True'\n",
    "trip_cancelled\n",
    "\n",
    "#status_df = pd.DataFrame({\"Complete\": (trip_complete), \n",
    "#                          \"Cancelled\": (trip_cancelled)}, index=[\"Complete\"])\n",
    "\n",
    "status_df = pd.concat([trip_complete, trip_cancelled], axis=1)\n",
    "status_df\n",
    "#cancel_trip = status_trip == 'Cancelled'\n",
    "#nb_cancel_trip = cancel_trip.count()\n",
    "\n",
    "#status_trip = pd.DataFrame({'Cancelled':list('status_trip')})\n",
    "#status_trip.groupby('Cancelled').count()\n",
    "#uber_df['trip_status'].groupby('Cancelled').count()\n",
    "\n",
    "# Find number of completed rides 'trip_status' \n",
    "#completed_trip = status_trip == 'Completed'\n",
    "#completed_trip.count()\n",
    "\n",
    "# Find correlation between ride status and time of the day 'trip_status' "
   ]
  },
  {
   "cell_type": "code",
   "execution_count": 24,
   "metadata": {},
   "outputs": [
    {
     "data": {
      "text/plain": [
       "0     2019-10-02 00:21:33\n",
       "1     2019-10-02 00:19:27\n",
       "2     2019-10-02 01:06:53\n",
       "3     2019-10-02 00:13:37\n",
       "4     2019-10-02 00:38:54\n",
       "5     2019-10-02 00:16:38\n",
       "6     2019-10-02 00:40:24\n",
       "7     2019-10-02 00:41:56\n",
       "8     2019-10-02 00:10:06\n",
       "9     2019-10-02 00:25:30\n",
       "10    2019-10-02 00:17:47\n",
       "11    2019-10-02 00:14:28\n",
       "12    2019-10-02 00:15:19\n",
       "13    2019-10-02 00:50:13\n",
       "14    2019-10-02 00:12:39\n",
       "15    2019-10-02 00:16:18\n",
       "16    2019-10-02 00:11:27\n",
       "17    2019-10-02 00:16:39\n",
       "18    2019-10-02 00:16:28\n",
       "19    2019-10-02 00:14:13\n",
       "20    2019-10-02 00:21:12\n",
       "21    2019-10-02 00:01:00\n",
       "22    2019-10-02 00:45:40\n",
       "23    2019-10-02 00:30:44\n",
       "24    2019-10-02 00:25:18\n",
       "25    2019-10-02 00:30:18\n",
       "26    2019-10-02 00:09:33\n",
       "27    2019-10-02 00:22:31\n",
       "28    2019-10-02 00:45:00\n",
       "29    2019-10-02 01:08:04\n",
       "              ...        \n",
       "648   2019-10-02 00:21:35\n",
       "649   2019-10-02 00:19:54\n",
       "650   2019-10-02 00:17:57\n",
       "651   2019-10-02 00:19:12\n",
       "652   2019-10-02 00:23:49\n",
       "653   2019-10-02 00:14:42\n",
       "654   2019-10-02 00:13:13\n",
       "655   2019-10-02 00:28:00\n",
       "656   2019-10-02 00:16:19\n",
       "657   2019-10-02 00:16:19\n",
       "658   2019-10-02 00:21:19\n",
       "659   2019-10-02 00:25:50\n",
       "660   2019-10-02 00:36:37\n",
       "661   2019-10-02 00:14:21\n",
       "662   2019-10-02 00:21:43\n",
       "663   2019-10-02 00:40:23\n",
       "664   2019-10-02 00:17:10\n",
       "665   2019-10-02 00:23:24\n",
       "666   2019-10-02 00:31:13\n",
       "667   2019-10-02 00:20:37\n",
       "668   2019-10-02 00:26:54\n",
       "669   2019-10-02 00:26:44\n",
       "670   2019-10-02 00:16:42\n",
       "671   2019-10-02 00:18:41\n",
       "672   2019-10-02 00:10:39\n",
       "673   2019-10-02 00:10:37\n",
       "674   2019-10-02 00:23:41\n",
       "675   2019-10-02 00:16:20\n",
       "676   2019-10-02 00:19:19\n",
       "677   2019-10-02 00:32:46\n",
       "Name: trip_time, Length: 678, dtype: datetime64[ns]"
      ]
     },
     "execution_count": 24,
     "metadata": {},
     "output_type": "execute_result"
    }
   ],
   "source": [
    "# Find ride durations (only riding) 'trip_time'\n",
    "\n",
    "\n",
    "\n",
    "\n",
    "#avg_duration = ride_duration.mean()\n",
    "#avg_duration\n",
    "\n",
    "# Find average ride durations ''trip_time'\n",
    "\n",
    "#print (\"The average duration time of a trip is:\", avg_duration)\n"
   ]
  },
  {
   "cell_type": "code",
   "execution_count": null,
   "metadata": {},
   "outputs": [],
   "source": []
  },
  {
   "cell_type": "code",
   "execution_count": null,
   "metadata": {},
   "outputs": [],
   "source": [
    "# Find the percentage of wait in each trip total duration 'wait_time' 'total_time'\n",
    "\n",
    "# Find the average percentage of wait time in total duration 'wait_time' 'total_time'\n",
    "\n",
    "# Find correlation between wait time percentage and gender ''wait_time' total_time'"
   ]
  },
  {
   "cell_type": "code",
   "execution_count": null,
   "metadata": {},
   "outputs": [],
   "source": [
    "# Find how often a trip was booked during surge hours\n",
    "\n",
    "# Find correlation between time of the day the trip started and surge mulitplier 'trip_start_time' 'surge_multiplier'"
   ]
  },
  {
   "cell_type": "code",
   "execution_count": null,
   "metadata": {},
   "outputs": [],
   "source": [
    "#correlation between total trip time and waiting time "
   ]
  },
  {
   "cell_type": "code",
   "execution_count": null,
   "metadata": {},
   "outputs": [],
   "source": [
    "# Calculate the sum of all the waiting times over the years \n",
    "sum_wait = wait_df.sum()\n",
    "\n",
    "print (\"The sum of all the waiting times over the years is:\", sum_wait)"
   ]
  },
  {
   "cell_type": "code",
   "execution_count": 1,
   "metadata": {},
   "outputs": [
    {
     "ename": "NameError",
     "evalue": "name 'wait_df' is not defined",
     "output_type": "error",
     "traceback": [
      "\u001b[0;31m---------------------------------------------------------------------------\u001b[0m",
      "\u001b[0;31mNameError\u001b[0m                                 Traceback (most recent call last)",
      "\u001b[0;32m<ipython-input-1-563ec1a0fd58>\u001b[0m in \u001b[0;36m<module>\u001b[0;34m\u001b[0m\n\u001b[1;32m      1\u001b[0m \u001b[0;31m# Calculate average wait time\u001b[0m\u001b[0;34m\u001b[0m\u001b[0;34m\u001b[0m\u001b[0;34m\u001b[0m\u001b[0m\n\u001b[0;32m----> 2\u001b[0;31m \u001b[0mavg_wait\u001b[0m \u001b[0;34m=\u001b[0m \u001b[0mwait_df\u001b[0m\u001b[0;34m.\u001b[0m\u001b[0mmean\u001b[0m\u001b[0;34m(\u001b[0m\u001b[0;34m)\u001b[0m\u001b[0;34m\u001b[0m\u001b[0;34m\u001b[0m\u001b[0m\n\u001b[0m\u001b[1;32m      3\u001b[0m \u001b[0mavg_wait\u001b[0m \u001b[0;34m=\u001b[0m \u001b[0mavg_wait\u001b[0m\u001b[0;34m\u001b[0m\u001b[0;34m\u001b[0m\u001b[0m\n\u001b[1;32m      4\u001b[0m \u001b[0;34m\u001b[0m\u001b[0m\n\u001b[1;32m      5\u001b[0m \u001b[0mprint\u001b[0m \u001b[0;34m(\u001b[0m\u001b[0;34m\"The average waiting time is:\"\u001b[0m\u001b[0;34m,\u001b[0m \u001b[0mavg_wait\u001b[0m\u001b[0;34m)\u001b[0m\u001b[0;34m\u001b[0m\u001b[0;34m\u001b[0m\u001b[0m\n",
      "\u001b[0;31mNameError\u001b[0m: name 'wait_df' is not defined"
     ]
    }
   ],
   "source": [
    "# Calculate average wait time\n",
    "avg_wait = wait_df.mean()\n",
    "avg_wait = avg_wait\n",
    "      \n",
    "print (\"The average waiting time is:\", avg_wait)\n"
   ]
  },
  {
   "cell_type": "code",
   "execution_count": 9,
   "metadata": {},
   "outputs": [
    {
     "data": {
      "text/html": [
       "<div>\n",
       "<style scoped>\n",
       "    .dataframe tbody tr th:only-of-type {\n",
       "        vertical-align: middle;\n",
       "    }\n",
       "\n",
       "    .dataframe tbody tr th {\n",
       "        vertical-align: top;\n",
       "    }\n",
       "\n",
       "    .dataframe thead th {\n",
       "        text-align: right;\n",
       "    }\n",
       "</style>\n",
       "<table border=\"1\" class=\"dataframe\">\n",
       "  <thead>\n",
       "    <tr style=\"text-align: right;\">\n",
       "      <th></th>\n",
       "      <th>wait_time</th>\n",
       "    </tr>\n",
       "  </thead>\n",
       "  <tbody>\n",
       "    <tr>\n",
       "      <th>0</th>\n",
       "      <td>2019-10-03 02:18:23</td>\n",
       "    </tr>\n",
       "    <tr>\n",
       "      <th>1</th>\n",
       "      <td>2019-10-03 02:11:20</td>\n",
       "    </tr>\n",
       "    <tr>\n",
       "      <th>2</th>\n",
       "      <td>2019-10-03 01:08:28</td>\n",
       "    </tr>\n",
       "    <tr>\n",
       "      <th>3</th>\n",
       "      <td>2019-10-03 00:45:00</td>\n",
       "    </tr>\n",
       "    <tr>\n",
       "      <th>4</th>\n",
       "      <td>2019-10-03 00:39:23</td>\n",
       "    </tr>\n",
       "  </tbody>\n",
       "</table>\n",
       "</div>"
      ],
      "text/plain": [
       "            wait_time\n",
       "0 2019-10-03 02:18:23\n",
       "1 2019-10-03 02:11:20\n",
       "2 2019-10-03 01:08:28\n",
       "3 2019-10-03 00:45:00\n",
       "4 2019-10-03 00:39:23"
      ]
     },
     "execution_count": 9,
     "metadata": {},
     "output_type": "execute_result"
    }
   ],
   "source": [
    "wait_df = uber_df['wait_time']\n",
    "wait_df = pd.to_datetime(uber_df['wait_time'])\n",
    "pd.DataFrame(wait_df).head()\n"
   ]
  },
  {
   "cell_type": "code",
   "execution_count": 52,
   "metadata": {},
   "outputs": [
    {
     "data": {
      "text/plain": [
       "0          Ekaterinburg\n",
       "1          Ekaterinburg\n",
       "2          Ekaterinburg\n",
       "3      Saint Petersburg\n",
       "4      Saint Petersburg\n",
       "5      Saint Petersburg\n",
       "6      Saint Petersburg\n",
       "7          Ekaterinburg\n",
       "8      Saint Petersburg\n",
       "9          Ekaterinburg\n",
       "10     Saint Petersburg\n",
       "11     Saint Petersburg\n",
       "12     Saint Petersburg\n",
       "13     Saint Petersburg\n",
       "14         Ekaterinburg\n",
       "15     Saint Petersburg\n",
       "16     Saint Petersburg\n",
       "17     Saint Petersburg\n",
       "18     Saint Petersburg\n",
       "19     Saint Petersburg\n",
       "20     Saint Petersburg\n",
       "21         Ekaterinburg\n",
       "22     Saint Petersburg\n",
       "23     Saint Petersburg\n",
       "24     Saint Petersburg\n",
       "25     Saint Petersburg\n",
       "26     Saint Petersburg\n",
       "27     Saint Petersburg\n",
       "28     Saint Petersburg\n",
       "29     Saint Petersburg\n",
       "             ...       \n",
       "648    Saint Petersburg\n",
       "649    Saint Petersburg\n",
       "650    Saint Petersburg\n",
       "651    Saint Petersburg\n",
       "652    Saint Petersburg\n",
       "653    Saint Petersburg\n",
       "654    Saint Petersburg\n",
       "655    Saint Petersburg\n",
       "656    Saint Petersburg\n",
       "657    Saint Petersburg\n",
       "658    Saint Petersburg\n",
       "659    Saint Petersburg\n",
       "660    Saint Petersburg\n",
       "661    Saint Petersburg\n",
       "662    Saint Petersburg\n",
       "663    Saint Petersburg\n",
       "664    Saint Petersburg\n",
       "665    Saint Petersburg\n",
       "666    Saint Petersburg\n",
       "667    Saint Petersburg\n",
       "668    Saint Petersburg\n",
       "669    Saint Petersburg\n",
       "670    Saint Petersburg\n",
       "671    Saint Petersburg\n",
       "672    Saint Petersburg\n",
       "673    Saint Petersburg\n",
       "674    Saint Petersburg\n",
       "675    Saint Petersburg\n",
       "676    Saint Petersburg\n",
       "677        Ekaterinburg\n",
       "Name: city, Length: 678, dtype: object"
      ]
     },
     "execution_count": 52,
     "metadata": {},
     "output_type": "execute_result"
    }
   ],
   "source": [
    "uber_df['city']"
   ]
  },
  {
   "cell_type": "code",
   "execution_count": 53,
   "metadata": {},
   "outputs": [
    {
     "data": {
      "text/plain": [
       "<pandas.core.groupby.generic.DataFrameGroupBy object at 0x1a25503748>"
      ]
     },
     "execution_count": 53,
     "metadata": {},
     "output_type": "execute_result"
    }
   ],
   "source": [
    "uber_df.groupby(uber_df['city'])"
   ]
  },
  {
   "cell_type": "code",
   "execution_count": null,
   "metadata": {},
   "outputs": [],
   "source": []
  },
  {
   "cell_type": "code",
   "execution_count": null,
   "metadata": {},
   "outputs": [],
   "source": []
  },
  {
   "cell_type": "code",
   "execution_count": null,
   "metadata": {},
   "outputs": [],
   "source": []
  },
  {
   "cell_type": "code",
   "execution_count": null,
   "metadata": {},
   "outputs": [],
   "source": [
    "\n"
   ]
  }
 ],
 "metadata": {
  "kernelspec": {
   "display_name": "Python 3",
   "language": "python",
   "name": "python3"
  },
  "language_info": {
   "codemirror_mode": {
    "name": "ipython",
    "version": 3
   },
   "file_extension": ".py",
   "mimetype": "text/x-python",
   "name": "python",
   "nbconvert_exporter": "python",
   "pygments_lexer": "ipython3",
   "version": "3.7.3"
  }
 },
 "nbformat": 4,
 "nbformat_minor": 2
}
