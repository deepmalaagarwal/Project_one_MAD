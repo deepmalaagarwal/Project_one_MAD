{
 "cells": [
  {
   "cell_type": "code",
   "execution_count": 1,
   "metadata": {},
   "outputs": [],
   "source": [
    "# Load packages\n",
    "from citipy import citipy\n",
    "import pandas as pd\n",
    "import numpy as np \n",
    "import matplotlib.pyplot as plt\n",
    "import scipy.stats as st\n",
    "from scipy.stats import linregress"
   ]
  },
  {
   "cell_type": "code",
   "execution_count": 2,
   "metadata": {},
   "outputs": [
    {
     "data": {
      "text/html": [
       "<div>\n",
       "<style scoped>\n",
       "    .dataframe tbody tr th:only-of-type {\n",
       "        vertical-align: middle;\n",
       "    }\n",
       "\n",
       "    .dataframe tbody tr th {\n",
       "        vertical-align: top;\n",
       "    }\n",
       "\n",
       "    .dataframe thead th {\n",
       "        text-align: right;\n",
       "    }\n",
       "</style>\n",
       "<table border=\"1\" class=\"dataframe\">\n",
       "  <thead>\n",
       "    <tr style=\"text-align: right;\">\n",
       "      <th></th>\n",
       "      <th>Date/Time</th>\n",
       "      <th>Lat</th>\n",
       "      <th>Lon</th>\n",
       "    </tr>\n",
       "  </thead>\n",
       "  <tbody>\n",
       "    <tr>\n",
       "      <th>0</th>\n",
       "      <td>9/1/2014 0:01:00</td>\n",
       "      <td>40.2201</td>\n",
       "      <td>-74.0021</td>\n",
       "    </tr>\n",
       "    <tr>\n",
       "      <th>1</th>\n",
       "      <td>9/1/2014 0:01:00</td>\n",
       "      <td>40.7500</td>\n",
       "      <td>-74.0027</td>\n",
       "    </tr>\n",
       "    <tr>\n",
       "      <th>2</th>\n",
       "      <td>9/1/2014 0:03:00</td>\n",
       "      <td>40.7559</td>\n",
       "      <td>-73.9864</td>\n",
       "    </tr>\n",
       "    <tr>\n",
       "      <th>3</th>\n",
       "      <td>9/1/2014 0:06:00</td>\n",
       "      <td>40.7450</td>\n",
       "      <td>-73.9889</td>\n",
       "    </tr>\n",
       "    <tr>\n",
       "      <th>4</th>\n",
       "      <td>9/1/2014 0:11:00</td>\n",
       "      <td>40.8145</td>\n",
       "      <td>-73.9444</td>\n",
       "    </tr>\n",
       "  </tbody>\n",
       "</table>\n",
       "</div>"
      ],
      "text/plain": [
       "          Date/Time      Lat      Lon\n",
       "0  9/1/2014 0:01:00  40.2201 -74.0021\n",
       "1  9/1/2014 0:01:00  40.7500 -74.0027\n",
       "2  9/1/2014 0:03:00  40.7559 -73.9864\n",
       "3  9/1/2014 0:06:00  40.7450 -73.9889\n",
       "4  9/1/2014 0:11:00  40.8145 -73.9444"
      ]
     },
     "execution_count": 2,
     "metadata": {},
     "output_type": "execute_result"
    }
   ],
   "source": [
    "# File to Load Uber Raw Data from Sep 2014 (1 million records) and Create a dictionary of raw data\n",
    "file_to_load = \"Resources/uber-raw-data-sep14.csv\"\n",
    "\n",
    "# Read UBER Data File and store into Pandas data frame. This data Frame will carry million records\n",
    "uber_data = pd.read_csv(file_to_load)\n",
    "uber_data = pd.DataFrame(uber_data, columns= [\"Date/Time\",\"Lat\",\"Lon\"])\n",
    "uber_data.head()"
   ]
  },
  {
   "cell_type": "code",
   "execution_count": 3,
   "metadata": {},
   "outputs": [
    {
     "data": {
      "text/html": [
       "<div>\n",
       "<style scoped>\n",
       "    .dataframe tbody tr th:only-of-type {\n",
       "        vertical-align: middle;\n",
       "    }\n",
       "\n",
       "    .dataframe tbody tr th {\n",
       "        vertical-align: top;\n",
       "    }\n",
       "\n",
       "    .dataframe thead th {\n",
       "        text-align: right;\n",
       "    }\n",
       "</style>\n",
       "<table border=\"1\" class=\"dataframe\">\n",
       "  <thead>\n",
       "    <tr style=\"text-align: right;\">\n",
       "      <th></th>\n",
       "      <th>Date/Time</th>\n",
       "      <th>Lat</th>\n",
       "      <th>Lon</th>\n",
       "      <th>Times</th>\n",
       "      <th>Hour</th>\n",
       "      <th>Date</th>\n",
       "    </tr>\n",
       "  </thead>\n",
       "  <tbody>\n",
       "    <tr>\n",
       "      <th>0</th>\n",
       "      <td>9/1/2014 0:01:00</td>\n",
       "      <td>40.2201</td>\n",
       "      <td>-74.0021</td>\n",
       "      <td>00:01:00</td>\n",
       "      <td>0</td>\n",
       "      <td>2014-09-01</td>\n",
       "    </tr>\n",
       "    <tr>\n",
       "      <th>1</th>\n",
       "      <td>9/1/2014 0:01:00</td>\n",
       "      <td>40.7500</td>\n",
       "      <td>-74.0027</td>\n",
       "      <td>00:01:00</td>\n",
       "      <td>0</td>\n",
       "      <td>2014-09-01</td>\n",
       "    </tr>\n",
       "    <tr>\n",
       "      <th>2</th>\n",
       "      <td>9/1/2014 0:03:00</td>\n",
       "      <td>40.7559</td>\n",
       "      <td>-73.9864</td>\n",
       "      <td>00:03:00</td>\n",
       "      <td>0</td>\n",
       "      <td>2014-09-01</td>\n",
       "    </tr>\n",
       "    <tr>\n",
       "      <th>3</th>\n",
       "      <td>9/1/2014 0:06:00</td>\n",
       "      <td>40.7450</td>\n",
       "      <td>-73.9889</td>\n",
       "      <td>00:06:00</td>\n",
       "      <td>0</td>\n",
       "      <td>2014-09-01</td>\n",
       "    </tr>\n",
       "    <tr>\n",
       "      <th>4</th>\n",
       "      <td>9/1/2014 0:11:00</td>\n",
       "      <td>40.8145</td>\n",
       "      <td>-73.9444</td>\n",
       "      <td>00:11:00</td>\n",
       "      <td>0</td>\n",
       "      <td>2014-09-01</td>\n",
       "    </tr>\n",
       "  </tbody>\n",
       "</table>\n",
       "</div>"
      ],
      "text/plain": [
       "          Date/Time      Lat      Lon     Times  Hour        Date\n",
       "0  9/1/2014 0:01:00  40.2201 -74.0021  00:01:00     0  2014-09-01\n",
       "1  9/1/2014 0:01:00  40.7500 -74.0027  00:01:00     0  2014-09-01\n",
       "2  9/1/2014 0:03:00  40.7559 -73.9864  00:03:00     0  2014-09-01\n",
       "3  9/1/2014 0:06:00  40.7450 -73.9889  00:06:00     0  2014-09-01\n",
       "4  9/1/2014 0:11:00  40.8145 -73.9444  00:11:00     0  2014-09-01"
      ]
     },
     "execution_count": 3,
     "metadata": {},
     "output_type": "execute_result"
    }
   ],
   "source": [
    "#Convert The Date time column into Date, Time and Hour Column for detailed analysis\n",
    "uber_data[\"Times\"] = \"\"\n",
    "tripDate = pd.to_datetime(uber_data[\"Date/Time\"])\n",
    "uber_data = uber_data.assign(Times = tripDate)\n",
    "uber_data[\"Hour\"] = uber_data.Times.dt.hour # Split of Hour from Datetime Stamp\n",
    "uber_data[\"Date\"] = uber_data.Times.dt.date # Split of Date from Datetime Stamp\n",
    "uber_data[\"Times\"] = uber_data.Times.dt.time # Split of Time from Datetime Stamp\n",
    "uber_data.head()"
   ]
  },
  {
   "cell_type": "code",
   "execution_count": 4,
   "metadata": {
    "scrolled": true
   },
   "outputs": [
    {
     "name": "stderr",
     "output_type": "stream",
     "text": [
      "C:\\Users\\aga641\\AppData\\Local\\Continuum\\anaconda3\\envs\\PythonData\\lib\\site-packages\\ipykernel_launcher.py:5: SettingWithCopyWarning: \n",
      "A value is trying to be set on a copy of a slice from a DataFrame\n",
      "\n",
      "See the caveats in the documentation: http://pandas.pydata.org/pandas-docs/stable/user_guide/indexing.html#returning-a-view-versus-a-copy\n",
      "  \"\"\"\n"
     ]
    },
    {
     "data": {
      "text/html": [
       "<div>\n",
       "<style scoped>\n",
       "    .dataframe tbody tr th:only-of-type {\n",
       "        vertical-align: middle;\n",
       "    }\n",
       "\n",
       "    .dataframe tbody tr th {\n",
       "        vertical-align: top;\n",
       "    }\n",
       "\n",
       "    .dataframe thead th {\n",
       "        text-align: right;\n",
       "    }\n",
       "</style>\n",
       "<table border=\"1\" class=\"dataframe\">\n",
       "  <thead>\n",
       "    <tr style=\"text-align: right;\">\n",
       "      <th></th>\n",
       "      <th>Date/Time</th>\n",
       "      <th>Lat</th>\n",
       "      <th>Lon</th>\n",
       "      <th>Times</th>\n",
       "      <th>Hour</th>\n",
       "      <th>Date</th>\n",
       "      <th>CityName</th>\n",
       "    </tr>\n",
       "  </thead>\n",
       "  <tbody>\n",
       "    <tr>\n",
       "      <th>0</th>\n",
       "      <td>9/1/2014 0:01:00</td>\n",
       "      <td>40.2201</td>\n",
       "      <td>-74.0021</td>\n",
       "      <td>00:01:00</td>\n",
       "      <td>0</td>\n",
       "      <td>2014-09-01</td>\n",
       "      <td>asbury park</td>\n",
       "    </tr>\n",
       "    <tr>\n",
       "      <th>1</th>\n",
       "      <td>9/1/2014 0:01:00</td>\n",
       "      <td>40.7500</td>\n",
       "      <td>-74.0027</td>\n",
       "      <td>00:01:00</td>\n",
       "      <td>0</td>\n",
       "      <td>2014-09-01</td>\n",
       "      <td>weehawken</td>\n",
       "    </tr>\n",
       "    <tr>\n",
       "      <th>2</th>\n",
       "      <td>9/1/2014 0:03:00</td>\n",
       "      <td>40.7559</td>\n",
       "      <td>-73.9864</td>\n",
       "      <td>00:03:00</td>\n",
       "      <td>0</td>\n",
       "      <td>2014-09-01</td>\n",
       "      <td>weehawken</td>\n",
       "    </tr>\n",
       "    <tr>\n",
       "      <th>3</th>\n",
       "      <td>9/1/2014 0:06:00</td>\n",
       "      <td>40.7450</td>\n",
       "      <td>-73.9889</td>\n",
       "      <td>00:06:00</td>\n",
       "      <td>0</td>\n",
       "      <td>2014-09-01</td>\n",
       "      <td>new york</td>\n",
       "    </tr>\n",
       "    <tr>\n",
       "      <th>4</th>\n",
       "      <td>9/1/2014 0:11:00</td>\n",
       "      <td>40.8145</td>\n",
       "      <td>-73.9444</td>\n",
       "      <td>00:11:00</td>\n",
       "      <td>0</td>\n",
       "      <td>2014-09-01</td>\n",
       "      <td>edgewater</td>\n",
       "    </tr>\n",
       "  </tbody>\n",
       "</table>\n",
       "</div>"
      ],
      "text/plain": [
       "          Date/Time      Lat      Lon     Times  Hour        Date     CityName\n",
       "0  9/1/2014 0:01:00  40.2201 -74.0021  00:01:00     0  2014-09-01  asbury park\n",
       "1  9/1/2014 0:01:00  40.7500 -74.0027  00:01:00     0  2014-09-01    weehawken\n",
       "2  9/1/2014 0:03:00  40.7559 -73.9864  00:03:00     0  2014-09-01    weehawken\n",
       "3  9/1/2014 0:06:00  40.7450 -73.9889  00:06:00     0  2014-09-01     new york\n",
       "4  9/1/2014 0:11:00  40.8145 -73.9444  00:11:00     0  2014-09-01    edgewater"
      ]
     },
     "execution_count": 4,
     "metadata": {},
     "output_type": "execute_result"
    }
   ],
   "source": [
    "# Calculating the City Name using the latitude and Longitude using CitiPy package\n",
    "# Performance optimisation was perfromed to process 1mn records faster\n",
    "uber_data[\"CityName\"] = \"\"\n",
    "for row in uber_data.itertuples():     \n",
    "     uber_data[\"CityName\"][row.Index] = citipy.nearest_city(row.Lat,row.Lon).city_name    \n",
    "\n",
    "uber_data.head()\n"
   ]
  },
  {
   "cell_type": "code",
   "execution_count": 11,
   "metadata": {},
   "outputs": [
    {
     "data": {
      "image/png": "[encoded data removed]",
      "text/plain": [
       "<Figure size 720x432 with 1 Axes>"
      ]
     },
     "metadata": {
      "needs_background": "light"
     },
     "output_type": "display_data"
    }
   ],
   "source": [
    "#Bar Plotting for Top 10 City for Rush City Analysis by count of trips in the city\n",
    "uberTripsByCity = uber_data.groupby([\"CityName\"])[\"CityName\"].count()\n",
    "uberSummaryTrips2DF = pd.DataFrame({ \"Trip Count\": uberTripsByCity })\n",
    "uberSummaryTrips2DF = uberSummaryTrips2DF.sort_values(by=[\"Trip Count\"], ascending = False)\n",
    "uberSummaryTrips2DF = uberSummaryTrips2DF.reset_index()\n",
    "uberSummaryTrips2DF = uberSummaryTrips2DF.head(10)\n",
    "uberSummaryTrips2DF.plot(\"CityName\", \"Trip Count\",kind=\"bar\",figsize=(10,6))\n",
    "plt.show()"
   ]
  },
  {
   "cell_type": "code",
   "execution_count": 6,
   "metadata": {},
   "outputs": [
    {
     "data": {
      "text/html": [
       "<div>\n",
       "<style scoped>\n",
       "    .dataframe tbody tr th:only-of-type {\n",
       "        vertical-align: middle;\n",
       "    }\n",
       "\n",
       "    .dataframe tbody tr th {\n",
       "        vertical-align: top;\n",
       "    }\n",
       "\n",
       "    .dataframe thead th {\n",
       "        text-align: right;\n",
       "    }\n",
       "</style>\n",
       "<table border=\"1\" class=\"dataframe\">\n",
       "  <thead>\n",
       "    <tr style=\"text-align: right;\">\n",
       "      <th></th>\n",
       "      <th>Hour</th>\n",
       "      <th>Trip Count</th>\n",
       "    </tr>\n",
       "  </thead>\n",
       "  <tbody>\n",
       "    <tr>\n",
       "      <th>0</th>\n",
       "      <td>18</td>\n",
       "      <td>75040</td>\n",
       "    </tr>\n",
       "    <tr>\n",
       "      <th>1</th>\n",
       "      <td>17</td>\n",
       "      <td>73373</td>\n",
       "    </tr>\n",
       "    <tr>\n",
       "      <th>2</th>\n",
       "      <td>19</td>\n",
       "      <td>69660</td>\n",
       "    </tr>\n",
       "    <tr>\n",
       "      <th>3</th>\n",
       "      <td>16</td>\n",
       "      <td>68224</td>\n",
       "    </tr>\n",
       "    <tr>\n",
       "      <th>4</th>\n",
       "      <td>20</td>\n",
       "      <td>63988</td>\n",
       "    </tr>\n",
       "    <tr>\n",
       "      <th>5</th>\n",
       "      <td>15</td>\n",
       "      <td>61219</td>\n",
       "    </tr>\n",
       "    <tr>\n",
       "      <th>6</th>\n",
       "      <td>21</td>\n",
       "      <td>60606</td>\n",
       "    </tr>\n",
       "    <tr>\n",
       "      <th>7</th>\n",
       "      <td>14</td>\n",
       "      <td>52643</td>\n",
       "    </tr>\n",
       "    <tr>\n",
       "      <th>8</th>\n",
       "      <td>22</td>\n",
       "      <td>51817</td>\n",
       "    </tr>\n",
       "    <tr>\n",
       "      <th>9</th>\n",
       "      <td>13</td>\n",
       "      <td>45042</td>\n",
       "    </tr>\n",
       "  </tbody>\n",
       "</table>\n",
       "</div>"
      ],
      "text/plain": [
       "   Hour  Trip Count\n",
       "0    18       75040\n",
       "1    17       73373\n",
       "2    19       69660\n",
       "3    16       68224\n",
       "4    20       63988\n",
       "5    15       61219\n",
       "6    21       60606\n",
       "7    14       52643\n",
       "8    22       51817\n",
       "9    13       45042"
      ]
     },
     "execution_count": 6,
     "metadata": {},
     "output_type": "execute_result"
    }
   ],
   "source": [
    "#This code is to derive trip analysis for all cities of UBER Data processed \n",
    "\n",
    "uberTripsByTime = uber_data.groupby(\"Hour\")[\"Hour\"].count()\n",
    "rush_hour_df = pd.DataFrame({ \"Trip Count\": uberTripsByTime })\n",
    "rush_hour_df = rush_hour_df.sort_values(by=[\"Trip Count\"], ascending = False)\n",
    "rush_hour_df = rush_hour_df.reset_index()\n",
    "rush_hour_df.head(10)"
   ]
  },
  {
   "cell_type": "code",
   "execution_count": 7,
   "metadata": {
    "scrolled": true
   },
   "outputs": [
    {
     "data": {
      "image/png": "[encoded data removed]",
      "text/plain": [
       "<Figure size 1440x432 with 1 Axes>"
      ]
     },
     "metadata": {
      "needs_background": "light"
     },
     "output_type": "display_data"
    }
   ],
   "source": [
    "# Generate a bar plot showing number of data points for each Hour of Day using pandas to perfrom Rush Hour Analysis\n",
    "rush_hour_df.plot(\"Hour\", \"Trip Count\",kind=\"line\",figsize=(20,6))\n",
    "# Set a title for the chart\n",
    "plt.title(f\"Rush Hour Anlysis\")\n",
    "plt.xlabel(\"Time of Trip\")\n",
    "plt.ylabel(\"Count of Trips\")\n",
    "plt.tight_layout()\n",
    "\n",
    "plt.show()\n",
    "\n"
   ]
  },
  {
   "cell_type": "code",
   "execution_count": 8,
   "metadata": {},
   "outputs": [
    {
     "data": {
      "image/png": "[encoded data removed]",
      "text/plain": [
       "<Figure size 1440x432 with 1 Axes>"
      ]
     },
     "metadata": {
      "needs_background": "light"
     },
     "output_type": "display_data"
    }
   ],
   "source": [
    "# Generate a bar plot to show Peak Rush Hour to Lowest Rush Hour using pandas\n",
    "rush_hour_df.plot(\"Hour\", \"Trip Count\",kind=\"bar\",figsize=(20,6))\n",
    "# Set a title for the chart\n",
    "plt.title(f\"Rush Hour Anlysis over 24Hr Daytime\")\n",
    "plt.xlabel(\"Hour of the Day\")\n",
    "plt.ylabel(\"Count of Trips\")\n",
    "plt.tight_layout()\n",
    "\n",
    "plt.show()\n"
   ]
  },
  {
   "cell_type": "code",
   "execution_count": 9,
   "metadata": {},
   "outputs": [
    {
     "data": {
      "image/png": "[encoded data removed]",
      "text/plain": [
       "<Figure size 432x288 with 1 Axes>"
      ]
     },
     "metadata": {
      "needs_background": "light"
     },
     "output_type": "display_data"
    }
   ],
   "source": [
    "# Generate a scatter plot to show count of trips over 24 hour window\n",
    "\n",
    "plt.scatter(rush_hour_df['Hour'],rush_hour_df['Trip Count'])\n",
    "plt.xlabel('Hour of Time')\n",
    "plt.ylabel('Count of Trips')\n",
    "plt.show()"
   ]
  },
  {
   "cell_type": "code",
   "execution_count": 10,
   "metadata": {},
   "outputs": [
    {
     "name": "stdout",
     "output_type": "stream",
     "text": [
      "The correlation coefficient between both factors is 0.81\n",
      "The regression values for each hour of the day as part of linear regression model is:\n",
      "0     57903.665652\n",
      "1     55586.024783\n",
      "2     60221.306522\n",
      "3     53268.383913\n",
      "4     62538.947391\n",
      "5     50950.743043\n",
      "6     64856.588261\n",
      "7     48633.102174\n",
      "8     67174.229130\n",
      "9     46315.461304\n",
      "10    34727.256957\n",
      "11    32409.616087\n",
      "12    43997.820435\n",
      "13    41680.179565\n",
      "14    37044.897826\n",
      "15    39362.538696\n",
      "16    69491.870000\n",
      "17    30091.975217\n",
      "18    16186.130000\n",
      "19    27774.334348\n",
      "20    18503.770870\n",
      "21    25456.693478\n",
      "22    23139.052609\n",
      "23    20821.411739\n",
      "Name: Hour, dtype: float64\n",
      "The r-squared is: 0.8120499898440173\n"
     ]
    },
    {
     "data": {
      "image/png": "[encoded data removed]",
      "text/plain": [
       "<Figure size 432x288 with 1 Axes>"
      ]
     },
     "metadata": {
      "needs_background": "light"
     },
     "output_type": "display_data"
    }
   ],
   "source": [
    "# Calculate the correlation coefficient and linear regression model for Hour of day time \n",
    "# and Trip Count for the UBER Data\n",
    "# Coorelation was identified to be pretty good with 0.8 coorelation coefficient.\n",
    "\n",
    "Hour_Time = rush_hour_df['Hour']\n",
    "Trip_Count = rush_hour_df['Trip Count']\n",
    "correlation = st.pearsonr(Hour_Time,Trip_Count)\n",
    "print(f\"The correlation coefficient between both factors is {round(correlation[0],2)}\")\n",
    "\n",
    "# Calculate the linear regression model for for Hour of day time and Trip Count for the UBER Data\n",
    "x_values = rush_hour_df['Hour']\n",
    "y_values = rush_hour_df['Trip Count']\n",
    "(slope, intercept, rvalue, pvalue, stderr) = linregress(x_values, y_values)\n",
    "regress_values = x_values * slope + intercept\n",
    "print(\"The regression values for each hour of the day as part of linear regression model is:\")\n",
    "print(regress_values)\n",
    "\n",
    "# Plot the linear regression model on top of the previous scatter plot.\n",
    "    \n",
    "line_eq = \"y = \" + str(round(slope,2)) + \"x + \" + str(round(intercept,2))\n",
    "plt.scatter(x_values,y_values)\n",
    "plt.plot(x_values,regress_values,\"r-\")\n",
    "plt.annotate(line_eq,(6,10),fontsize=15,color=\"red\")\n",
    "plt.xlabel('Time in Hour')\n",
    "plt.ylabel('Count of Trips')\n",
    "print(f\"The r-squared is: {rvalue}\")\n",
    "plt.show()"
   ]
  },
  {
   "cell_type": "code",
   "execution_count": null,
   "metadata": {},
   "outputs": [],
   "source": []
  }
 ],
 "metadata": {
  "kernelspec": {
   "display_name": "Python 3",
   "language": "python",
   "name": "python3"
  },
  "language_info": {
   "codemirror_mode": {
    "name": "ipython",
    "version": 3
   },
   "file_extension": ".py",
   "mimetype": "text/x-python",
   "name": "python",
   "nbconvert_exporter": "python",
   "pygments_lexer": "ipython3",
   "version": "3.6.9"
  }
 },
 "nbformat": 4,
 "nbformat_minor": 2
}
