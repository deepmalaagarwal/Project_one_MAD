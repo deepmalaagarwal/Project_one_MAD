{
 "cells": [
  {
   "cell_type": "code",
   "execution_count": 78,
   "metadata": {},
   "outputs": [],
   "source": [
    "# Load packages\n",
    "from citipy import citipy\n",
    "import pandas as pd\n",
    "import numpy as np \n",
    "import matplotlib.pyplot as plt\n",
    "import scipy.stats as st\n",
    "from scipy.stats import linregress"
   ]
  },
  {
   "cell_type": "code",
   "execution_count": 79,
   "metadata": {},
   "outputs": [
    {
     "data": {
      "text/html": [
       "<div>\n",
       "<style scoped>\n",
       "    .dataframe tbody tr th:only-of-type {\n",
       "        vertical-align: middle;\n",
       "    }\n",
       "\n",
       "    .dataframe tbody tr th {\n",
       "        vertical-align: top;\n",
       "    }\n",
       "\n",
       "    .dataframe thead th {\n",
       "        text-align: right;\n",
       "    }\n",
       "</style>\n",
       "<table border=\"1\" class=\"dataframe\">\n",
       "  <thead>\n",
       "    <tr style=\"text-align: right;\">\n",
       "      <th></th>\n",
       "      <th>Date/Time</th>\n",
       "      <th>lat</th>\n",
       "      <th>long</th>\n",
       "      <th>wait_time</th>\n",
       "    </tr>\n",
       "  </thead>\n",
       "  <tbody>\n",
       "    <tr>\n",
       "      <th>0</th>\n",
       "      <td>2015-05-11 17:26:00</td>\n",
       "      <td>60.031438</td>\n",
       "      <td>30.329826</td>\n",
       "      <td>00:07:27</td>\n",
       "    </tr>\n",
       "    <tr>\n",
       "      <th>1</th>\n",
       "      <td>2015-05-11 18:46:00</td>\n",
       "      <td>59.963014</td>\n",
       "      <td>30.307313</td>\n",
       "      <td>00:06:33</td>\n",
       "    </tr>\n",
       "    <tr>\n",
       "      <th>2</th>\n",
       "      <td>2015-05-13 09:15:00</td>\n",
       "      <td>60.031529</td>\n",
       "      <td>30.329416</td>\n",
       "      <td>00:16:07</td>\n",
       "    </tr>\n",
       "    <tr>\n",
       "      <th>3</th>\n",
       "      <td>2015-05-16 00:24:00</td>\n",
       "      <td>59.959883</td>\n",
       "      <td>30.311159</td>\n",
       "      <td>00:06:23</td>\n",
       "    </tr>\n",
       "    <tr>\n",
       "      <th>4</th>\n",
       "      <td>2015-05-16 01:29:00</td>\n",
       "      <td>59.934813</td>\n",
       "      <td>30.308553</td>\n",
       "      <td>00:10:06</td>\n",
       "    </tr>\n",
       "  </tbody>\n",
       "</table>\n",
       "</div>"
      ],
      "text/plain": [
       "             Date/Time        lat       long wait_time\n",
       "0  2015-05-11 17:26:00  60.031438  30.329826  00:07:27\n",
       "1  2015-05-11 18:46:00  59.963014  30.307313  00:06:33\n",
       "2  2015-05-13 09:15:00  60.031529  30.329416  00:16:07\n",
       "3  2015-05-16 00:24:00  59.959883  30.311159  00:06:23\n",
       "4  2015-05-16 01:29:00  59.934813  30.308553  00:10:06"
      ]
     },
     "execution_count": 79,
     "metadata": {},
     "output_type": "execute_result"
    }
   ],
   "source": [
    "# File to Load Uber Raw Data from Sep 2014 (1 million records) and Create a dictionary of raw data\n",
    "file_to_load = \"Resources/uber-rides-dataset_russia.csv\"\n",
    "\n",
    "# Read UBER Data File and store into Pandas data frame. This data Frame will carry million records\n",
    "uber_data = pd.read_csv(file_to_load)\n",
    "uber_data = pd.DataFrame(uber_data, columns= [\"trip_start_time\",\"pickup_lat\",\"pickup_long\",\"wait_time\"])\n",
    "\n",
    "uber_data = uber_data.rename(columns={\"trip_start_time\": \"Date/Time\", \"pickup_lat\": \"lat\",\"pickup_long\": \"long\" })\n",
    "uber_data.head()"
   ]
  },
  {
   "cell_type": "raw",
   "metadata": {},
   "source": []
  },
  {
   "cell_type": "code",
   "execution_count": 80,
   "metadata": {},
   "outputs": [
    {
     "data": {
      "text/html": [
       "<div>\n",
       "<style scoped>\n",
       "    .dataframe tbody tr th:only-of-type {\n",
       "        vertical-align: middle;\n",
       "    }\n",
       "\n",
       "    .dataframe tbody tr th {\n",
       "        vertical-align: top;\n",
       "    }\n",
       "\n",
       "    .dataframe thead th {\n",
       "        text-align: right;\n",
       "    }\n",
       "</style>\n",
       "<table border=\"1\" class=\"dataframe\">\n",
       "  <thead>\n",
       "    <tr style=\"text-align: right;\">\n",
       "      <th></th>\n",
       "      <th>Date/Time</th>\n",
       "      <th>lat</th>\n",
       "      <th>long</th>\n",
       "      <th>wait_time</th>\n",
       "      <th>Times</th>\n",
       "      <th>Hour</th>\n",
       "      <th>Date</th>\n",
       "      <th>WaitTimeInMinutes</th>\n",
       "      <th>Year</th>\n",
       "    </tr>\n",
       "  </thead>\n",
       "  <tbody>\n",
       "    <tr>\n",
       "      <th>0</th>\n",
       "      <td>2015-05-11 17:26:00</td>\n",
       "      <td>60.031438</td>\n",
       "      <td>30.329826</td>\n",
       "      <td>00:07:27</td>\n",
       "      <td>17:26:00</td>\n",
       "      <td>17</td>\n",
       "      <td>2015-05-11</td>\n",
       "      <td>7</td>\n",
       "      <td>2015</td>\n",
       "    </tr>\n",
       "    <tr>\n",
       "      <th>1</th>\n",
       "      <td>2015-05-11 18:46:00</td>\n",
       "      <td>59.963014</td>\n",
       "      <td>30.307313</td>\n",
       "      <td>00:06:33</td>\n",
       "      <td>18:46:00</td>\n",
       "      <td>18</td>\n",
       "      <td>2015-05-11</td>\n",
       "      <td>6</td>\n",
       "      <td>2015</td>\n",
       "    </tr>\n",
       "    <tr>\n",
       "      <th>2</th>\n",
       "      <td>2015-05-13 09:15:00</td>\n",
       "      <td>60.031529</td>\n",
       "      <td>30.329416</td>\n",
       "      <td>00:16:07</td>\n",
       "      <td>09:15:00</td>\n",
       "      <td>9</td>\n",
       "      <td>2015-05-13</td>\n",
       "      <td>16</td>\n",
       "      <td>2015</td>\n",
       "    </tr>\n",
       "    <tr>\n",
       "      <th>3</th>\n",
       "      <td>2015-05-16 00:24:00</td>\n",
       "      <td>59.959883</td>\n",
       "      <td>30.311159</td>\n",
       "      <td>00:06:23</td>\n",
       "      <td>00:24:00</td>\n",
       "      <td>0</td>\n",
       "      <td>2015-05-16</td>\n",
       "      <td>6</td>\n",
       "      <td>2015</td>\n",
       "    </tr>\n",
       "    <tr>\n",
       "      <th>4</th>\n",
       "      <td>2015-05-16 01:29:00</td>\n",
       "      <td>59.934813</td>\n",
       "      <td>30.308553</td>\n",
       "      <td>00:10:06</td>\n",
       "      <td>01:29:00</td>\n",
       "      <td>1</td>\n",
       "      <td>2015-05-16</td>\n",
       "      <td>10</td>\n",
       "      <td>2015</td>\n",
       "    </tr>\n",
       "  </tbody>\n",
       "</table>\n",
       "</div>"
      ],
      "text/plain": [
       "             Date/Time        lat       long wait_time     Times  Hour  \\\n",
       "0  2015-05-11 17:26:00  60.031438  30.329826  00:07:27  17:26:00    17   \n",
       "1  2015-05-11 18:46:00  59.963014  30.307313  00:06:33  18:46:00    18   \n",
       "2  2015-05-13 09:15:00  60.031529  30.329416  00:16:07  09:15:00     9   \n",
       "3  2015-05-16 00:24:00  59.959883  30.311159  00:06:23  00:24:00     0   \n",
       "4  2015-05-16 01:29:00  59.934813  30.308553  00:10:06  01:29:00     1   \n",
       "\n",
       "         Date  WaitTimeInMinutes  Year  \n",
       "0  2015-05-11                  7  2015  \n",
       "1  2015-05-11                  6  2015  \n",
       "2  2015-05-13                 16  2015  \n",
       "3  2015-05-16                  6  2015  \n",
       "4  2015-05-16                 10  2015  "
      ]
     },
     "execution_count": 80,
     "metadata": {},
     "output_type": "execute_result"
    }
   ],
   "source": [
    "#Convert The Date time column into Date, Time and Hour Column for detailed analysis\n",
    "uber_data[\"Times\"] = \"\"\n",
    "tripDate = pd.to_datetime(uber_data[\"Date/Time\"])\n",
    "uber_data = uber_data.assign(Times = tripDate)\n",
    "uber_data[\"Hour\"] = uber_data.Times.dt.hour # Split of Hour from Datetime Stamp\n",
    "uber_data[\"Date\"] = uber_data.Times.dt.date # Split of Date from Datetime Stamp\n",
    "uber_data[\"Times\"] = uber_data.Times.dt.time # Split of Time from Datetime Stamp\n",
    "uber_data[\"WaitTimeInMinutes\"] = pd.DatetimeIndex(uber_data[\"wait_time\"]).minute # Split of Time from Datetime Stamp\n",
    "uber_data[\"Year\"] = pd.DatetimeIndex(uber_data[\"Date\"]).year\n",
    "uber_data.head()"
   ]
  },
  {
   "cell_type": "code",
   "execution_count": 81,
   "metadata": {
    "scrolled": true
   },
   "outputs": [
    {
     "name": "stderr",
     "output_type": "stream",
     "text": [
      "C:\\Users\\aga641\\AppData\\Local\\Continuum\\anaconda3\\envs\\PythonData\\lib\\site-packages\\ipykernel_launcher.py:5: SettingWithCopyWarning: \n",
      "A value is trying to be set on a copy of a slice from a DataFrame\n",
      "\n",
      "See the caveats in the documentation: http://pandas.pydata.org/pandas-docs/stable/user_guide/indexing.html#returning-a-view-versus-a-copy\n",
      "  \"\"\"\n"
     ]
    },
    {
     "data": {
      "text/html": [
       "<div>\n",
       "<style scoped>\n",
       "    .dataframe tbody tr th:only-of-type {\n",
       "        vertical-align: middle;\n",
       "    }\n",
       "\n",
       "    .dataframe tbody tr th {\n",
       "        vertical-align: top;\n",
       "    }\n",
       "\n",
       "    .dataframe thead th {\n",
       "        text-align: right;\n",
       "    }\n",
       "</style>\n",
       "<table border=\"1\" class=\"dataframe\">\n",
       "  <thead>\n",
       "    <tr style=\"text-align: right;\">\n",
       "      <th></th>\n",
       "      <th>Date/Time</th>\n",
       "      <th>lat</th>\n",
       "      <th>long</th>\n",
       "      <th>wait_time</th>\n",
       "      <th>Times</th>\n",
       "      <th>Hour</th>\n",
       "      <th>Date</th>\n",
       "      <th>WaitTimeInMinutes</th>\n",
       "      <th>Year</th>\n",
       "      <th>CityName</th>\n",
       "    </tr>\n",
       "  </thead>\n",
       "  <tbody>\n",
       "    <tr>\n",
       "      <th>0</th>\n",
       "      <td>2015-05-11 17:26:00</td>\n",
       "      <td>60.031438</td>\n",
       "      <td>30.329826</td>\n",
       "      <td>00:07:27</td>\n",
       "      <td>17:26:00</td>\n",
       "      <td>17</td>\n",
       "      <td>2015-05-11</td>\n",
       "      <td>7</td>\n",
       "      <td>2015</td>\n",
       "      <td>pargolovo</td>\n",
       "    </tr>\n",
       "    <tr>\n",
       "      <th>1</th>\n",
       "      <td>2015-05-11 18:46:00</td>\n",
       "      <td>59.963014</td>\n",
       "      <td>30.307313</td>\n",
       "      <td>00:06:33</td>\n",
       "      <td>18:46:00</td>\n",
       "      <td>18</td>\n",
       "      <td>2015-05-11</td>\n",
       "      <td>6</td>\n",
       "      <td>2015</td>\n",
       "      <td>saint petersburg</td>\n",
       "    </tr>\n",
       "    <tr>\n",
       "      <th>2</th>\n",
       "      <td>2015-05-13 09:15:00</td>\n",
       "      <td>60.031529</td>\n",
       "      <td>30.329416</td>\n",
       "      <td>00:16:07</td>\n",
       "      <td>09:15:00</td>\n",
       "      <td>9</td>\n",
       "      <td>2015-05-13</td>\n",
       "      <td>16</td>\n",
       "      <td>2015</td>\n",
       "      <td>pargolovo</td>\n",
       "    </tr>\n",
       "    <tr>\n",
       "      <th>3</th>\n",
       "      <td>2015-05-16 00:24:00</td>\n",
       "      <td>59.959883</td>\n",
       "      <td>30.311159</td>\n",
       "      <td>00:06:23</td>\n",
       "      <td>00:24:00</td>\n",
       "      <td>0</td>\n",
       "      <td>2015-05-16</td>\n",
       "      <td>6</td>\n",
       "      <td>2015</td>\n",
       "      <td>saint petersburg</td>\n",
       "    </tr>\n",
       "    <tr>\n",
       "      <th>4</th>\n",
       "      <td>2015-05-16 01:29:00</td>\n",
       "      <td>59.934813</td>\n",
       "      <td>30.308553</td>\n",
       "      <td>00:10:06</td>\n",
       "      <td>01:29:00</td>\n",
       "      <td>1</td>\n",
       "      <td>2015-05-16</td>\n",
       "      <td>10</td>\n",
       "      <td>2015</td>\n",
       "      <td>saint petersburg</td>\n",
       "    </tr>\n",
       "  </tbody>\n",
       "</table>\n",
       "</div>"
      ],
      "text/plain": [
       "             Date/Time        lat       long wait_time     Times  Hour  \\\n",
       "0  2015-05-11 17:26:00  60.031438  30.329826  00:07:27  17:26:00    17   \n",
       "1  2015-05-11 18:46:00  59.963014  30.307313  00:06:33  18:46:00    18   \n",
       "2  2015-05-13 09:15:00  60.031529  30.329416  00:16:07  09:15:00     9   \n",
       "3  2015-05-16 00:24:00  59.959883  30.311159  00:06:23  00:24:00     0   \n",
       "4  2015-05-16 01:29:00  59.934813  30.308553  00:10:06  01:29:00     1   \n",
       "\n",
       "         Date  WaitTimeInMinutes  Year          CityName  \n",
       "0  2015-05-11                  7  2015         pargolovo  \n",
       "1  2015-05-11                  6  2015  saint petersburg  \n",
       "2  2015-05-13                 16  2015         pargolovo  \n",
       "3  2015-05-16                  6  2015  saint petersburg  \n",
       "4  2015-05-16                 10  2015  saint petersburg  "
      ]
     },
     "execution_count": 81,
     "metadata": {},
     "output_type": "execute_result"
    }
   ],
   "source": [
    "# Calculating the City Name using the latitude and Longitude using CitiPy package\n",
    "# Performance optimisation was perfromed to process 1mn records faster\n",
    "uber_data[\"CityName\"] = \"\"\n",
    "for row in uber_data.itertuples():     \n",
    "     uber_data[\"CityName\"][row.Index] = citipy.nearest_city(row.lat,row.long).city_name    \n",
    "\n",
    "uber_data.head()\n"
   ]
  },
  {
   "cell_type": "code",
   "execution_count": 82,
   "metadata": {},
   "outputs": [
    {
     "data": {
      "image/png": "[encoded data removed]",
      "text/plain": [
       "<Figure size 720x432 with 1 Axes>"
      ]
     },
     "metadata": {
      "needs_background": "light"
     },
     "output_type": "display_data"
    }
   ],
   "source": [
    "#Bar Plotting for Top 10 City for Rush City Analysis by count of trips in the city\n",
    "uberTripsByCity = uber_data.groupby([\"CityName\"])[\"CityName\"].count()\n",
    "uberSummaryTrips2DF = pd.DataFrame({ \"Trip Count\": uberTripsByCity })\n",
    "uberSummaryTrips2DF = uberSummaryTrips2DF.sort_values(by=[\"Trip Count\"], ascending = False)\n",
    "uberSummaryTrips2DF = uberSummaryTrips2DF.reset_index()\n",
    "uberSummaryTrips2DF = uberSummaryTrips2DF.head(10)\n",
    "uberSummaryTrips2DF.plot(\"CityName\", \"Trip Count\",kind=\"bar\",figsize=(10,6))\n",
    "plt.savefig('Top 10 City for Rush City Analysis.png')\n",
    "plt.show()"
   ]
  },
  {
   "cell_type": "code",
   "execution_count": 83,
   "metadata": {},
   "outputs": [
    {
     "data": {
      "text/html": [
       "<div>\n",
       "<style scoped>\n",
       "    .dataframe tbody tr th:only-of-type {\n",
       "        vertical-align: middle;\n",
       "    }\n",
       "\n",
       "    .dataframe tbody tr th {\n",
       "        vertical-align: top;\n",
       "    }\n",
       "\n",
       "    .dataframe thead th {\n",
       "        text-align: right;\n",
       "    }\n",
       "</style>\n",
       "<table border=\"1\" class=\"dataframe\">\n",
       "  <thead>\n",
       "    <tr style=\"text-align: right;\">\n",
       "      <th></th>\n",
       "      <th>Hour</th>\n",
       "      <th>Trip Count</th>\n",
       "    </tr>\n",
       "  </thead>\n",
       "  <tbody>\n",
       "    <tr>\n",
       "      <th>0</th>\n",
       "      <td>0</td>\n",
       "      <td>9</td>\n",
       "    </tr>\n",
       "    <tr>\n",
       "      <th>1</th>\n",
       "      <td>1</td>\n",
       "      <td>3</td>\n",
       "    </tr>\n",
       "    <tr>\n",
       "      <th>2</th>\n",
       "      <td>3</td>\n",
       "      <td>4</td>\n",
       "    </tr>\n",
       "    <tr>\n",
       "      <th>3</th>\n",
       "      <td>4</td>\n",
       "      <td>3</td>\n",
       "    </tr>\n",
       "    <tr>\n",
       "      <th>4</th>\n",
       "      <td>5</td>\n",
       "      <td>9</td>\n",
       "    </tr>\n",
       "    <tr>\n",
       "      <th>5</th>\n",
       "      <td>7</td>\n",
       "      <td>13</td>\n",
       "    </tr>\n",
       "    <tr>\n",
       "      <th>6</th>\n",
       "      <td>8</td>\n",
       "      <td>16</td>\n",
       "    </tr>\n",
       "    <tr>\n",
       "      <th>7</th>\n",
       "      <td>9</td>\n",
       "      <td>37</td>\n",
       "    </tr>\n",
       "    <tr>\n",
       "      <th>8</th>\n",
       "      <td>10</td>\n",
       "      <td>61</td>\n",
       "    </tr>\n",
       "    <tr>\n",
       "      <th>9</th>\n",
       "      <td>11</td>\n",
       "      <td>58</td>\n",
       "    </tr>\n",
       "  </tbody>\n",
       "</table>\n",
       "</div>"
      ],
      "text/plain": [
       "   Hour  Trip Count\n",
       "0     0           9\n",
       "1     1           3\n",
       "2     3           4\n",
       "3     4           3\n",
       "4     5           9\n",
       "5     7          13\n",
       "6     8          16\n",
       "7     9          37\n",
       "8    10          61\n",
       "9    11          58"
      ]
     },
     "execution_count": 83,
     "metadata": {},
     "output_type": "execute_result"
    }
   ],
   "source": [
    "#This code is to derive trip analysis for all cities of UBER Data processed \n",
    "\n",
    "uberTripsByTime = uber_data.groupby(\"Hour\")[\"Hour\"].count()\n",
    "rush_hour_df = pd.DataFrame({ \"Trip Count\": uberTripsByTime })\n",
    "#rush_hour_df = rush_hour_df.sort_values(by=[\"Trip Count\"], ascending = False)\n",
    "rush_hour_df = rush_hour_df.reset_index()\n",
    "rush_hour_df.head(10)"
   ]
  },
  {
   "cell_type": "code",
   "execution_count": 84,
   "metadata": {},
   "outputs": [
    {
     "data": {
      "image/png": "[encoded data removed]",
      "text/plain": [
       "<Figure size 1440x432 with 1 Axes>"
      ]
     },
     "metadata": {
      "needs_background": "light"
     },
     "output_type": "display_data"
    }
   ],
   "source": [
    "# Generate a bar plot showing number of data points for each Hour of Day using pandas to perfrom Rush Hour Analysis\n",
    "rush_hour_df.plot(\"Hour\", \"Trip Count\",kind=\"line\",figsize=(20,6))\n",
    "# Set a title for the chart\n",
    "plt.title(f\"Rush Hour Anlysis\")\n",
    "plt.xlabel(\"Time of Trip\")\n",
    "plt.ylabel(\"Count of Trips\")\n",
    "plt.tight_layout()\n",
    "\n",
    "plt.show()\n",
    "\n"
   ]
  },
  {
   "cell_type": "code",
   "execution_count": 85,
   "metadata": {},
   "outputs": [
    {
     "data": {
      "image/png": "[encoded data removed]",
      "text/plain": [
       "<Figure size 1440x432 with 1 Axes>"
      ]
     },
     "metadata": {
      "needs_background": "light"
     },
     "output_type": "display_data"
    }
   ],
   "source": [
    "# Generate a bar plot to show Peak Rush Hour to Lowest Rush Hour using pandas\n",
    "rush_hour_df.plot(\"Hour\", \"Trip Count\",kind=\"bar\",figsize=(20,6))\n",
    "# Set a title for the chart\n",
    "plt.title(f\"Rush Hour Anlysis over 24Hr Daytime\")\n",
    "plt.xlabel(\"Hour of the Day\")\n",
    "plt.ylabel(\"Count of Trips\")\n",
    "plt.tight_layout()\n",
    "\n",
    "plt.show()\n"
   ]
  },
  {
   "cell_type": "code",
   "execution_count": 86,
   "metadata": {},
   "outputs": [
    {
     "data": {
      "image/png": "[encoded data removed]",
      "text/plain": [
       "<Figure size 720x432 with 1 Axes>"
      ]
     },
     "metadata": {
      "needs_background": "light"
     },
     "output_type": "display_data"
    }
   ],
   "source": [
    "#Bar Plotting for Rush Hour Analysis based on wait time in each Hour of Day \n",
    "uberTripsByCity = uber_data.groupby(\"Hour\")[\"WaitTimeInMinutes\"].mean()\n",
    "uberTripsByCity = uberTripsByCity.reset_index()\n",
    "uberSummaryTrips2DF = pd.DataFrame(uberTripsByCity,columns=[\"Hour\",\"WaitTimeInMinutes\"])\n",
    "#uberSummaryTrips2DF = uberSummaryTrips2DF.reset_index()\n",
    "# uberSummaryTrips2DF = uberSummaryTrips2DF.head(10)\n",
    "uberSummaryTrips2DF.plot(\"Hour\",\"WaitTimeInMinutes\",kind=\"bar\",figsize=(10,6))\n",
    "plt.savefig('Top 10 City for Rush City Analysis.png')\n",
    "plt.show()"
   ]
  },
  {
   "cell_type": "code",
   "execution_count": 30,
   "metadata": {},
   "outputs": [
    {
     "data": {
      "image/png": "[encoded data removed]",
      "text/plain": [
       "<Figure size 432x288 with 1 Axes>"
      ]
     },
     "metadata": {
      "needs_background": "light"
     },
     "output_type": "display_data"
    }
   ],
   "source": [
    "# Generate a scatter plot to show count of trips over 24 hour window\n",
    "\n",
    "plt.scatter(rush_hour_df['Hour'],rush_hour_df['Trip Count'])\n",
    "plt.xlabel('Hour of Time')\n",
    "plt.ylabel('Count of Trips')\n",
    "plt.show()"
   ]
  },
  {
   "cell_type": "code",
   "execution_count": 31,
   "metadata": {},
   "outputs": [
    {
     "name": "stdout",
     "output_type": "stream",
     "text": [
      "The correlation coefficient between both factors is 0.42\n",
      "The regression values for each hour of the day as part of linear regression model is:\n",
      "0     28.151623\n",
      "1     29.373796\n",
      "2     34.262487\n",
      "3     33.040314\n",
      "4     35.484659\n",
      "5     30.595969\n",
      "6     31.818141\n",
      "7     36.706832\n",
      "8     41.595523\n",
      "9     26.929451\n",
      "10    37.929005\n",
      "11    40.373350\n",
      "12    39.151177\n",
      "13    42.817695\n",
      "14    25.707278\n",
      "15    24.485105\n",
      "16    15.929897\n",
      "17    22.040760\n",
      "18    44.039868\n",
      "19    19.596415\n",
      "20    17.152069\n",
      "21    20.818587\n",
      "Name: Hour, dtype: float64\n",
      "The r-squared is: 0.42057648646894985\n"
     ]
    },
    {
     "data": {
      "image/png": "[encoded data removed]",
      "text/plain": [
       "<Figure size 432x288 with 1 Axes>"
      ]
     },
     "metadata": {
      "needs_background": "light"
     },
     "output_type": "display_data"
    }
   ],
   "source": [
    "# Calculate the correlation coefficient and linear regression model for Hour of day time \n",
    "# and Trip Count for the UBER Data\n",
    "# Coorelation was identified to be pretty good with 0.8 coorelation coefficient.\n",
    "\n",
    "Hour_Time = rush_hour_df['Hour']\n",
    "Trip_Count = rush_hour_df['Trip Count']\n",
    "correlation = st.pearsonr(Hour_Time,Trip_Count)\n",
    "print(f\"The correlation coefficient between both factors is {round(correlation[0],2)}\")\n",
    "\n",
    "# Calculate the linear regression model for for Hour of day time and Trip Count for the UBER Data\n",
    "x_values = rush_hour_df['Hour']\n",
    "y_values = rush_hour_df['Trip Count']\n",
    "(slope, intercept, rvalue, pvalue, stderr) = linregress(x_values, y_values)\n",
    "regress_values = x_values * slope + intercept\n",
    "print(\"The regression values for each hour of the day as part of linear regression model is:\")\n",
    "print(regress_values)\n",
    "\n",
    "# Plot the linear regression model on top of the previous scatter plot.\n",
    "    \n",
    "line_eq = \"y = \" + str(round(slope,2)) + \"x + \" + str(round(intercept,2))\n",
    "plt.scatter(x_values,y_values)\n",
    "plt.plot(x_values,regress_values,\"r-\")\n",
    "plt.annotate(line_eq,(6,10),fontsize=15,color=\"red\")\n",
    "plt.xlabel('Time in Hour')\n",
    "plt.ylabel('Count of Trips')\n",
    "print(f\"The r-squared is: {rvalue}\")\n",
    "plt.show()"
   ]
  },
  {
   "cell_type": "code",
   "execution_count": null,
   "metadata": {},
   "outputs": [],
   "source": []
  }
 ],
 "metadata": {
  "kernelspec": {
   "display_name": "Python 3",
   "language": "python",
   "name": "python3"
  },
  "language_info": {
   "codemirror_mode": {
    "name": "ipython",
    "version": 3
   },
   "file_extension": ".py",
   "mimetype": "text/x-python",
   "name": "python",
   "nbconvert_exporter": "python",
   "pygments_lexer": "ipython3",
   "version": "3.6.9"
  }
 },
 "nbformat": 4,
 "nbformat_minor": 2
}
